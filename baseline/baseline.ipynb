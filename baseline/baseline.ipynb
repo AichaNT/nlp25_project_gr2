{
 "cells": [
  {
   "cell_type": "code",
   "execution_count": 14,
   "id": "1184f4e0",
   "metadata": {},
   "outputs": [],
   "source": [
    "# imports\n",
    "import sys\n",
    "sys.path.append(\"../\")\n",
    "\n",
    "from scripts.load_data import readNlu, mapping, read_tsv_file, extract_labeled_tokens\n",
    "from transformers import AutoModelForTokenClassification, TrainingArguments, Trainer, AutoConfig, AutoTokenizer, DataCollatorForTokenClassification\n",
    "from datasets import Dataset\n",
    "import torch\n",
    "import numpy as np\n",
    "from evaluate import load "
   ]
  },
  {
   "cell_type": "code",
   "execution_count": 3,
   "id": "8997c410",
   "metadata": {},
   "outputs": [],
   "source": [
    "# path to the data files\n",
    "path_train = \"../new_data/new_da_news_train.tsv\"\n",
    "path_dev = \"../new_data/new_da_news_dev.tsv\"\n",
    "path_test = \"../new_data/new_da_news_test.tsv\""
   ]
  },
  {
   "cell_type": "code",
   "execution_count": 4,
   "id": "e744dc00",
   "metadata": {},
   "outputs": [],
   "source": [
    "# saving model name\n",
    "model_name = \"Maltehb/danskbert\""
   ]
  },
  {
   "cell_type": "code",
   "execution_count": 5,
   "id": "e2ab3984",
   "metadata": {},
   "outputs": [],
   "source": [
    "# creating the label to id mapping \n",
    "label2id, id2label = mapping(path_train)"
   ]
  },
  {
   "cell_type": "code",
   "execution_count": 8,
   "id": "d41f7381",
   "metadata": {},
   "outputs": [],
   "source": [
    "# reading in the data\n",
    "train_data = read_tsv_file(path_train, label2id=label2id)\n",
    "dev_data = read_tsv_file(path_dev, label2id=label2id)\n",
    "test_data = read_tsv_file(path_test, label2id=label2id)"
   ]
  },
  {
   "cell_type": "code",
   "execution_count": 9,
   "id": "389b37e9",
   "metadata": {},
   "outputs": [],
   "source": [
    "# convert to huggingface format\n",
    "train_dataset = Dataset.from_list(train_data)\n",
    "dev_dataset = Dataset.from_list(dev_data)\n",
    "test_dataset = Dataset.from_list(test_data)"
   ]
  },
  {
   "cell_type": "code",
   "execution_count": null,
   "id": "d2886eb7",
   "metadata": {},
   "outputs": [
    {
     "data": {
      "text/plain": [
       "Dataset({\n",
       "    features: ['tokens', 'ner_tags', 'tag_ids'],\n",
       "    num_rows: 278\n",
       "})"
      ]
     },
     "execution_count": 13,
     "metadata": {},
     "output_type": "execute_result"
    }
   ],
   "source": [
    "# save the tokenizer\n",
    "tokenizer = AutoTokenizer.from_pretrained(\"Maltehb/danskbert\")"
   ]
  },
  {
   "cell_type": "code",
   "execution_count": null,
   "id": "05502c5c",
   "metadata": {},
   "outputs": [],
   "source": []
  }
 ],
 "metadata": {
  "kernelspec": {
   "display_name": "NLP",
   "language": "python",
   "name": "python3"
  },
  "language_info": {
   "codemirror_mode": {
    "name": "ipython",
    "version": 3
   },
   "file_extension": ".py",
   "mimetype": "text/x-python",
   "name": "python",
   "nbconvert_exporter": "python",
   "pygments_lexer": "ipython3",
   "version": "3.9.21"
  }
 },
 "nbformat": 4,
 "nbformat_minor": 5
}
