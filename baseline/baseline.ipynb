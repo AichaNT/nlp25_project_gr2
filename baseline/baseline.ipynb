{
 "cells": [
  {
   "cell_type": "code",
   "execution_count": null,
   "id": "1184f4e0",
   "metadata": {},
   "outputs": [],
   "source": [
    "# imports\n",
    "import sys\n",
    "sys.path.append(\"../\")\n",
    "\n",
    "from scripts.load_data import readNlu, mapping, read_tsv_file, extract_labeled_tokens\n",
    "from transformers import AutoModelForTokenClassification, TrainingArguments, Trainer, AutoConfig, RobertaTokenizerFast, DataCollatorForTokenClassification\n",
    "from datasets import Dataset\n",
    "import torch\n",
    "import numpy as np\n",
    "from evaluate import load "
   ]
  },
  {
   "cell_type": "code",
   "execution_count": 3,
   "id": "8997c410",
   "metadata": {},
   "outputs": [],
   "source": [
    "# path to the data files\n",
    "path_train = \"../new_data/new_da_news_train.tsv\"\n",
    "path_dev = \"../new_data/new_da_news_dev.tsv\"\n",
    "path_test = \"../new_data/new_da_news_test.tsv\""
   ]
  },
  {
   "cell_type": "code",
   "execution_count": null,
   "id": "e744dc00",
   "metadata": {},
   "outputs": [],
   "source": [
    "# saving model name\n",
    "model_name = \"Maltehb/danskbert\""
   ]
  }
 ],
 "metadata": {
  "kernelspec": {
   "display_name": "NLP",
   "language": "python",
   "name": "python3"
  },
  "language_info": {
   "codemirror_mode": {
    "name": "ipython",
    "version": 3
   },
   "file_extension": ".py",
   "mimetype": "text/x-python",
   "name": "python",
   "nbconvert_exporter": "python",
   "pygments_lexer": "ipython3",
   "version": "3.9.21"
  }
 },
 "nbformat": 4,
 "nbformat_minor": 5
}
