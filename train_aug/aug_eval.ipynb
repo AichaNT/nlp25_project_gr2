{
 "cells": [
  {
   "cell_type": "code",
   "execution_count": null,
   "id": "51d43439",
   "metadata": {},
   "outputs": [],
   "source": [
    "import re"
   ]
  },
  {
   "cell_type": "markdown",
   "id": "f9a136da",
   "metadata": {},
   "source": [
    "# Non-augmented dev data"
   ]
  },
  {
   "cell_type": "code",
   "execution_count": 10,
   "id": "8981f726",
   "metadata": {},
   "outputs": [
    {
     "name": "stdout",
     "output_type": "stream",
     "text": [
      "All slot-f1 scores: [0.7247386759581882, 0.7026086956521739, 0.7145359019264449, 0.7240773286467486, 0.7097902097902098, 0.7085514834205934, 0.6956521739130433]\n"
     ]
    }
   ],
   "source": [
    "slot_f1_list = []\n",
    "\n",
    "for i in range(7):  # Adjust range as needed\n",
    "    pred_file = f\"train_preds/{i}dev_pred.iob2\"\n",
    "    \n",
    "    # Run the script and save output\n",
    "    !python ../scripts/span_f1.py ../data/no_overlap_da_news/da_news_dev.iob2 {pred_file} > output.txt\n",
    "    \n",
    "    # Read the third line and extract slot-f1\n",
    "    with open(\"output.txt\") as f:\n",
    "        lines = f.readlines()\n",
    "        slot_f1_line = lines[2].strip()  # Assumes consistent format\n",
    "        slot_f1 = float(slot_f1_line.split()[-1])\n",
    "        slot_f1_list.append(slot_f1)\n",
    "\n",
    "print(\"All slot-f1 scores:\", slot_f1_list)"
   ]
  },
  {
   "cell_type": "markdown",
   "id": "a8c8c919",
   "metadata": {},
   "source": [
    "# Augmented dev data"
   ]
  },
  {
   "cell_type": "code",
   "execution_count": 11,
   "id": "ef6dc313",
   "metadata": {},
   "outputs": [
    {
     "name": "stdout",
     "output_type": "stream",
     "text": [
      "All slot-f1 scores: [0.6666666666666667, 0.7220338983050847, 0.7054794520547945, 0.7386172006745363, 0.7643097643097644, 0.7403685092127303, 0.7345575959933223]\n"
     ]
    }
   ],
   "source": [
    "me_slot_f1_list = []\n",
    "\n",
    "for i in range(7):  # Adjust range as needed\n",
    "    pred_file = f\"train_preds/{i}me_dev_pred.iob2\"\n",
    "    \n",
    "    # Run the script and save output\n",
    "    !python ../scripts/span_f1.py ../data/me_data/middle_eastern_dev.iob2 {pred_file} > output.txt\n",
    "    \n",
    "    # Read the third line and extract slot-f1\n",
    "    with open(\"output.txt\") as f:\n",
    "        lines = f.readlines()\n",
    "        slot_f1_line = lines[2].strip()  # Assumes consistent format\n",
    "        slot_f1 = float(slot_f1_line.split()[-1])\n",
    "        me_slot_f1_list.append(slot_f1)\n",
    "\n",
    "print(\"All slot-f1 scores:\", me_slot_f1_list)"
   ]
  }
 ],
 "metadata": {
  "kernelspec": {
   "display_name": "NLP",
   "language": "python",
   "name": "python3"
  },
  "language_info": {
   "codemirror_mode": {
    "name": "ipython",
    "version": 3
   },
   "file_extension": ".py",
   "mimetype": "text/x-python",
   "name": "python",
   "nbconvert_exporter": "python",
   "pygments_lexer": "ipython3",
   "version": "3.9.21"
  }
 },
 "nbformat": 4,
 "nbformat_minor": 5
}
