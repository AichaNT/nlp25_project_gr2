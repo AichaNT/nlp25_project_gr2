{
 "cells": [
  {
   "cell_type": "markdown",
   "id": "70c7971d",
   "metadata": {},
   "source": [
    "Intended structure\n",
    "1. imports\n",
    "2. get data\n",
    "    - define path\n",
    "    - create label mapping\n",
    "    - read in DaN+ data\n",
    "    - check set sizes (?)\n",
    "    - get tokens (?)\n",
    "    - check num tokens in sets (?)\n",
    "    - check overlap (sanity check instead?)\n",
    "\n",
    "3. fix overlap\n",
    "    - check set sizes (?)\n",
    "    - check overlap (sanity check instead?)\n",
    "\n"
   ]
  },
  {
   "cell_type": "code",
   "execution_count": 9,
   "id": "e95adf37",
   "metadata": {},
   "outputs": [],
   "source": [
    "# imports\n",
    "import sys\n",
    "sys.path.append('.')  # add the project root to the path\n",
    "\n",
    "from scripts.load_data import (\n",
    "    label_mapping, extract_labeled_tokens,\n",
    "    read_tsv_file, write_tsv_file,\n",
    "    write_iob2_file, modified_readNlu,\n",
    "    read_iob2_file\n",
    ")\n",
    "\n",
    "from scripts.preprocess import (\n",
    "    fix_overlap\n",
    ")\n",
    "\n",
    "import random\n",
    "random.seed(20)"
   ]
  },
  {
   "cell_type": "code",
   "execution_count": 10,
   "id": "ee8b547b",
   "metadata": {},
   "outputs": [],
   "source": [
    "# path to the data files\n",
    "path_train = \"data/da_news/da_news_train.tsv\"\n",
    "path_dev = \"data/da_news/da_news_dev.tsv\"\n",
    "path_test = \"data/da_news/da_news_test.tsv\""
   ]
  },
  {
   "cell_type": "code",
   "execution_count": 11,
   "id": "2f004af9",
   "metadata": {},
   "outputs": [],
   "source": [
    "# create label mapping\n",
    "label2id, id2label = label_mapping(path_train)"
   ]
  },
  {
   "cell_type": "code",
   "execution_count": 12,
   "id": "571ee32f",
   "metadata": {},
   "outputs": [],
   "source": [
    "# read in the DaN+ data\n",
    "train_data = read_tsv_file(path_train, label2id)\n",
    "dev_data = read_tsv_file(path_dev, label2id)\n",
    "test_data = read_tsv_file(path_test, label2id)"
   ]
  },
  {
   "cell_type": "code",
   "execution_count": 13,
   "id": "0ee2e75b",
   "metadata": {},
   "outputs": [],
   "source": [
    "# extract tokens with non-\"O\" labels from each split\n",
    "train_tokens = extract_labeled_tokens(train_data)\n",
    "dev_tokens = extract_labeled_tokens(dev_data)\n",
    "test_tokens = extract_labeled_tokens(test_data)"
   ]
  },
  {
   "cell_type": "markdown",
   "id": "acabd15e",
   "metadata": {},
   "source": [
    "Fix"
   ]
  },
  {
   "cell_type": "code",
   "execution_count": 14,
   "id": "6b02c503",
   "metadata": {},
   "outputs": [],
   "source": [
    "# fix overlap\n",
    "clean_train_data, clean_dev_data, clean_test_data = fix_overlap(train_data, dev_data, test_data)"
   ]
  },
  {
   "cell_type": "code",
   "execution_count": 15,
   "id": "372ff425",
   "metadata": {},
   "outputs": [],
   "source": [
    "write_tsv_file(clean_train_data, 'data/no_overlap_da_news/da_news_train.tsv')\n",
    "write_tsv_file(clean_dev_data, 'data/no_overlap_da_news/da_news_dev.tsv')\n",
    "write_tsv_file(clean_test_data, 'data/no_overlap_da_news/da_news_test.tsv')"
   ]
  },
  {
   "cell_type": "code",
   "execution_count": 16,
   "id": "0f658952",
   "metadata": {},
   "outputs": [],
   "source": [
    "write_iob2_file(clean_dev_data, path=\"data/no_overlap_da_news/da_news_dev.iob2\", gold=True)\n",
    "write_iob2_file(clean_test_data, path=\"data/no_overlap_da_news/da_news_test.iob2\", gold=True)"
   ]
  }
 ],
 "metadata": {
  "kernelspec": {
   "display_name": "NLP",
   "language": "python",
   "name": "python3"
  },
  "language_info": {
   "codemirror_mode": {
    "name": "ipython",
    "version": 3
   },
   "file_extension": ".py",
   "mimetype": "text/x-python",
   "name": "python",
   "nbconvert_exporter": "python",
   "pygments_lexer": "ipython3",
   "version": "3.9.21"
  }
 },
 "nbformat": 4,
 "nbformat_minor": 5
}
