{
 "cells": [
  {
   "cell_type": "code",
   "execution_count": 280,
   "id": "3068c444",
   "metadata": {},
   "outputs": [],
   "source": [
    "# imports\n",
    "#import numpy as np"
   ]
  },
  {
   "cell_type": "code",
   "execution_count": 281,
   "id": "041067cf",
   "metadata": {},
   "outputs": [],
   "source": [
    "# path to the data files\n",
    "path_train = \"../data/da_news_train.tsv\"\n",
    "path_dev = \"../data/da_news_dev.tsv\"\n",
    "path_test = \"../data/da_news_test.tsv\""
   ]
  },
  {
   "cell_type": "code",
   "execution_count": 282,
   "id": "8873a50a",
   "metadata": {},
   "outputs": [],
   "source": [
    "# taken from span_f1.py (modified)\n",
    "def readNlu(path, target_column = 1): # default to index 1 (thats where DaN+ labels are)\n",
    "\n",
    "    # reads labels from target_column, assumes conll-like file\n",
    "    # with 1 word per line, tab separation, and empty lines\n",
    "    # for sentence splits. \n",
    "    \n",
    "    annotations = []\n",
    "    cur_annotation = []\n",
    "    for line in open(path, encoding='utf-8'):\n",
    "        line = line.strip()\n",
    "        if line == '':\n",
    "            annotations.append(cur_annotation)\n",
    "            cur_annotation = []\n",
    "        elif line[0] == '#' and len(line.split('\\t')) == 1:\n",
    "            continue\n",
    "        else:\n",
    "            cur_annotation.append(line.split('\\t')[target_column])\n",
    "    return annotations"
   ]
  },
  {
   "cell_type": "code",
   "execution_count": 283,
   "id": "52f9661b",
   "metadata": {},
   "outputs": [],
   "source": [
    "data_labels = readNlu(path_train) # reads in label column"
   ]
  },
  {
   "cell_type": "code",
   "execution_count": 284,
   "id": "59588ebc",
   "metadata": {},
   "outputs": [
    {
     "name": "stdout",
     "output_type": "stream",
     "text": [
      "4382\n",
      "['O', 'O', 'O', 'B-ORG', 'O', 'O', 'O', 'O', 'B-ORGpart', 'O', 'O', 'O', 'O', 'O', 'B-PER', 'I-PER', 'O', 'O', 'O', 'O', 'O', 'O', 'O']\n"
     ]
    }
   ],
   "source": [
    "print(len(data_labels)) # number of sentences\n",
    "print(data_labels[0]) # tags in first sentence"
   ]
  },
  {
   "cell_type": "code",
   "execution_count": 285,
   "id": "5b632389",
   "metadata": {},
   "outputs": [],
   "source": [
    "# mapping funciton \n",
    "def mapping(path):\n",
    "    '''\n",
    "    \n",
    "    '''\n",
    "    data_labels = readNlu(path) \n",
    "\n",
    "    label_set = set()\n",
    "\n",
    "    # filtering out labels with \"part\" or \"deriv\"\n",
    "    for labels in data_labels:\n",
    "        filtered = [label for label in labels if 'part' not in label.lower() and 'deriv' not in label.lower()]\n",
    "        label_set.update(filtered)\n",
    "\n",
    "    num_labels = len(label_set)\n",
    "\n",
    "    label2id = {label: id for id, label in enumerate(label_set)}\n",
    "\n",
    "    id2label = {id: label for label, id in label2id.items()}\n",
    "\n",
    "    return label2id, id2label\n",
    "    "
   ]
  },
  {
   "cell_type": "code",
   "execution_count": 286,
   "id": "d03927a4",
   "metadata": {},
   "outputs": [
    {
     "name": "stdout",
     "output_type": "stream",
     "text": [
      "{'I-LOC': 0, 'B-PER': 1, 'B-LOC': 2, 'I-ORG': 3, 'O': 4, 'B-ORG': 5, 'I-MISC': 6, 'B-MISC': 7, 'I-PER': 8}\n",
      "{0: 'I-LOC', 1: 'B-PER', 2: 'B-LOC', 3: 'I-ORG', 4: 'O', 5: 'B-ORG', 6: 'I-MISC', 7: 'B-MISC', 8: 'I-PER'}\n"
     ]
    }
   ],
   "source": [
    "label2id, id2label = mapping(path_train)\n",
    "print(label2id)\n",
    "print(id2label)"
   ]
  },
  {
   "cell_type": "code",
   "execution_count": 287,
   "id": "80cb564f",
   "metadata": {},
   "outputs": [],
   "source": [
    "# load data function\n",
    "# function for loading iob2 data (from solution for assignment 5)\n",
    "def read_tsv_file(path):\n",
    "    '''\n",
    "    This function reads tsv files\n",
    "    \n",
    "    Parameters:\n",
    "    - path: path to read from\n",
    "\n",
    "    Returns:\n",
    "    - list with dictionaries for each sentence where the keys are 'tokens', 'ner_tags', and 'tag_ids' and \n",
    "      the values are lists that hold the tokens, ner_tags, and tag_ids.\n",
    "    '''\n",
    "\n",
    "    data = []\n",
    "    current_words = []\n",
    "    current_tags = []\n",
    "    current_tag_ids = []\n",
    "\n",
    "    #counter = 0\n",
    "\n",
    "    for line in open(path, encoding='utf-8'):\n",
    "\n",
    "        line = line.strip() # removes any leading and trailing whitespaces from the line\n",
    "\n",
    "        if line:\n",
    "            if line[0] == '#': \n",
    "                continue # skip comments\n",
    "\n",
    "            # splitting at 'tab', as the data is tab separated \n",
    "            tok = line.split('\\t')\n",
    "\n",
    "            word = tok[0]\n",
    "            tag = tok[1]\n",
    "\n",
    "            # add the entry in the second colun (the word) to current_words\n",
    "            current_words.append(word) \n",
    "\n",
    "            if tag in label2id:\n",
    "                current_tags.append(tag) # add the current tag \n",
    "                current_tag_ids.append(label2id[tag]) # add the current tag mapped to the corresponding id (int)\n",
    "\n",
    "            else: # if it contains \"part\" or \"deriv\" add \"O\"\n",
    "                current_tags.append(\"O\")\n",
    "                current_tag_ids.append(label2id[\"O\"])\n",
    "        \n",
    "        else: # skip empty lines\n",
    "            if current_words: # if current_words is not empty\n",
    "\n",
    "                # add entry to dict where tokens and ner_tags are keys and the values are lists\n",
    "                data.append({\"tokens\": current_words, \"ner_tags\": current_tags, \"tag_ids\": current_tag_ids})\n",
    "\n",
    "            # start over  \n",
    "            current_words = []\n",
    "            current_tags = []\n",
    "            current_tag_ids = []\n",
    "\n",
    "           # counter += 1\n",
    "           \n",
    "    # check for last one\n",
    "    if current_tags != []:\n",
    "        data.append({\"tokens\": current_words, \"ner_tags\": current_tags, \"tag_ids\": current_tag_ids})\n",
    "    \n",
    "    #if counter < 5:\n",
    "           # print(f\"\\n--- Example {counter + 1} (Final) ---\")\n",
    "           # print(\"Tokens:   \", current_words)\n",
    "           # print(\"NER Tags: \", current_tags)\n",
    "           # print(\"Tag IDs:  \", current_tag_ids)\n",
    "           \n",
    "    return data"
   ]
  },
  {
   "cell_type": "code",
   "execution_count": 288,
   "id": "0b918b37",
   "metadata": {},
   "outputs": [],
   "source": [
    "# reading in the data\n",
    "train_data = read_tsv_file(path_train)\n",
    "dev_data = read_tsv_file(path_dev)\n",
    "test_data = read_tsv_file(path_test)"
   ]
  },
  {
   "cell_type": "code",
   "execution_count": 289,
   "id": "4f9ba4d8",
   "metadata": {},
   "outputs": [
    {
     "name": "stdout",
     "output_type": "stream",
     "text": [
      "4383\n",
      "['På', 'fredag', 'har', 'SID', 'inviteret', 'til', 'reception', 'i', 'SID-huset', 'i', 'anledning', 'af', 'at', 'formanden', 'Kjeld', 'Christensen', 'går', 'ind', 'i', 'de', 'glade', 'tressere', '.']\n",
      "['O', 'O', 'O', 'B-ORG', 'O', 'O', 'O', 'O', 'O', 'O', 'O', 'O', 'O', 'O', 'B-PER', 'I-PER', 'O', 'O', 'O', 'O', 'O', 'O', 'O']\n",
      "[4, 4, 4, 5, 4, 4, 4, 4, 4, 4, 4, 4, 4, 4, 1, 8, 4, 4, 4, 4, 4, 4, 4]\n"
     ]
    }
   ],
   "source": [
    "print(len(train_data)) # no. of sentences\n",
    "\n",
    "# first sentence\n",
    "print(train_data[0][\"tokens\"])\n",
    "print(train_data[0][\"ner_tags\"])\n",
    "print(train_data[0][\"tag_ids\"])"
   ]
  },
  {
   "cell_type": "code",
   "execution_count": 290,
   "id": "3d3373f3",
   "metadata": {},
   "outputs": [
    {
     "name": "stdout",
     "output_type": "stream",
     "text": [
      "Unique NER Tags: ['B-LOC', 'B-MISC', 'B-ORG', 'B-PER', 'I-LOC', 'I-MISC', 'I-ORG', 'I-PER', 'O']\n"
     ]
    }
   ],
   "source": [
    "# collecting all unique tags\n",
    "all_tags = set()\n",
    "\n",
    "for sent in train_data:\n",
    "    all_tags.update(sent[\"ner_tags\"])\n",
    "\n",
    "print(\"Unique NER Tags:\", sorted(all_tags))"
   ]
  },
  {
   "cell_type": "code",
   "execution_count": 291,
   "id": "777b4b0a",
   "metadata": {},
   "outputs": [],
   "source": [
    "# checking if all sequences are alligned\n",
    "for i, sent in enumerate(train_data):\n",
    "    tokens = sent[\"tokens\"]\n",
    "    tags = sent[\"ner_tags\"]\n",
    "    tag_ids = sent[\"tag_ids\"]\n",
    "    \n",
    "    if not (len(tokens) == len(tags) == len(tag_ids)):\n",
    "        print(f\"Mismatch found in sentence {i}:\")\n",
    "        print(f\"  Tokens ({len(tokens)}): {tokens}\")\n",
    "        print(f\"  Tags   ({len(tags)}): {tags}\")\n",
    "        print(f\"  IDs    ({len(tag_ids)}): {tag_ids}\")"
   ]
  },
  {
   "cell_type": "code",
   "execution_count": 292,
   "id": "fad49e82",
   "metadata": {},
   "outputs": [],
   "source": [
    "def extract_entities(dataset, exclude_label = \"O\", include_label_pair=False):\n",
    "    '''\n",
    "    This function extracts tokens from a dataset that have a string label different from `exclude_label`.\n",
    "    Optionally, it can return the (token, label) pairs instead of just tokens.\n",
    "\n",
    "    Parameters:\n",
    "        dataset (List[dict]): The token-tagged dataset.\n",
    "        exclude_label (str): The label to ignore (default is 'O').\n",
    "        include_label_pair (bool): Whether to include the (token, label) pairs in the result (default is False).\n",
    "        \n",
    "    Returns:\n",
    "         Set[str] or Set[Tuple[str, str]]: \n",
    "            - A set of tokens with meaningful (non-O) labels if `include_label_pair` is False.\n",
    "            - A set of (token, label) pairs if `include_label_pair` is True.\n",
    "    '''\n",
    "\n",
    "    # create empty set to store the unique tokens\n",
    "    labeled_tokens = set()\n",
    "    \n",
    "    for sentence in dataset:\n",
    "        # iterate over each token and its corresponding tag ID\n",
    "        for token, label in zip(sentence[\"tokens\"], sentence[\"ner_tags\"]):\n",
    "            if label != exclude_label and label in label2id:                      # check if the tag is not the excluded one\n",
    "                if include_label_pair:\n",
    "                    labeled_tokens.add((token, label))      # add (token, label) pair if the flag is True\n",
    "                else:\n",
    "                    labeled_tokens.add(token)               # add just the token if the flag is False\n",
    "    \n",
    "    return labeled_tokens"
   ]
  },
  {
   "cell_type": "code",
   "execution_count": 293,
   "id": "c70fa374",
   "metadata": {},
   "outputs": [],
   "source": [
    "test_data = read_tsv_file(path_test)\n",
    "dev_data = read_tsv_file(path_dev)"
   ]
  },
  {
   "cell_type": "code",
   "execution_count": 294,
   "id": "c79aed40",
   "metadata": {},
   "outputs": [],
   "source": [
    "# extracting all entities from datasets\n",
    "train_entities = extract_entities(train_data)\n",
    "dev_entities = extract_entities(dev_data)\n",
    "test_entities = extract_entities(test_data)"
   ]
  },
  {
   "cell_type": "code",
   "execution_count": null,
   "id": "903ca414",
   "metadata": {},
   "outputs": [
    {
     "name": "stdout",
     "output_type": "stream",
     "text": [
      "Overlap between train and dev: 256 out of 3105\n",
      "Overlap between train and test: 219 out of 3148\n",
      "Overlap between dev and test: 78 out of 983\n"
     ]
    }
   ],
   "source": [
    "# identifying overlap\n",
    "overlap_train_dev = train_entities & dev_entities\n",
    "overlap_train_test = train_entities & test_entities\n",
    "overlap_dev_test = dev_entities & test_entities\n",
    "\n",
    "print(f'Overlap between train and dev: {len(overlap_train_dev)} out of {len(train_entities)+len(dev_entities)}')\n",
    "print(f'Overlap between train and test: {len(overlap_train_test)} out of {len(train_entities)+len(test_entities)}')\n",
    "print(f'Overlap between dev and test: {len(overlap_dev_test)} out of {len(dev_entities)+len(test_entities)}')"
   ]
  },
  {
   "cell_type": "code",
   "execution_count": 296,
   "id": "2220e2fc",
   "metadata": {},
   "outputs": [],
   "source": [
    "# Option 1: Remove Entities from the Dev and Test Sets\n",
    "# Option 2: Remove Entities from the Train Set"
   ]
  }
 ],
 "metadata": {
  "kernelspec": {
   "display_name": "NLP",
   "language": "python",
   "name": "python3"
  },
  "language_info": {
   "codemirror_mode": {
    "name": "ipython",
    "version": 3
   },
   "file_extension": ".py",
   "mimetype": "text/x-python",
   "name": "python",
   "nbconvert_exporter": "python",
   "pygments_lexer": "ipython3",
   "version": "3.9.21"
  }
 },
 "nbformat": 4,
 "nbformat_minor": 5
}
