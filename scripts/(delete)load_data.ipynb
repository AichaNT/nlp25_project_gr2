{
 "cells": [
  {
   "cell_type": "code",
   "execution_count": 401,
   "id": "3068c444",
   "metadata": {},
   "outputs": [],
   "source": [
    "# imports\n",
    "#import numpy as np"
   ]
  },
  {
   "cell_type": "code",
   "execution_count": 402,
   "id": "041067cf",
   "metadata": {},
   "outputs": [],
   "source": [
    "# path to the data files\n",
    "path_train = \"../data/da_news_train.tsv\"\n",
    "path_dev = \"../data/da_news_dev.tsv\"\n",
    "path_test = \"../data/da_news_test.tsv\""
   ]
  },
  {
   "cell_type": "code",
   "execution_count": 403,
   "id": "8873a50a",
   "metadata": {},
   "outputs": [],
   "source": [
    "# taken from span_f1.py (modified)\n",
    "def readNlu(path, target_column = 1): # default to index 1 (thats where DaN+ labels are)\n",
    "\n",
    "    # reads labels from target_column, assumes conll-like file\n",
    "    # with 1 word per line, tab separation, and empty lines\n",
    "    # for sentence splits. \n",
    "    \n",
    "    annotations = []\n",
    "    cur_annotation = []\n",
    "    for line in open(path, encoding='utf-8'):\n",
    "        line = line.strip()\n",
    "        if line == '':\n",
    "            annotations.append(cur_annotation)\n",
    "            cur_annotation = []\n",
    "        elif line[0] == '#' and len(line.split('\\t')) == 1:\n",
    "            continue\n",
    "        else:\n",
    "            cur_annotation.append(line.split('\\t')[target_column])\n",
    "    return annotations"
   ]
  },
  {
   "cell_type": "code",
   "execution_count": 404,
   "id": "52f9661b",
   "metadata": {},
   "outputs": [],
   "source": [
    "data_labels = readNlu(path_train) # reads in label column"
   ]
  },
  {
   "cell_type": "code",
   "execution_count": 405,
   "id": "59588ebc",
   "metadata": {},
   "outputs": [
    {
     "name": "stdout",
     "output_type": "stream",
     "text": [
      "4382\n",
      "['O', 'O', 'O', 'B-ORG', 'O', 'O', 'O', 'O', 'B-ORGpart', 'O', 'O', 'O', 'O', 'O', 'B-PER', 'I-PER', 'O', 'O', 'O', 'O', 'O', 'O', 'O']\n"
     ]
    }
   ],
   "source": [
    "print(len(data_labels)) # number of sentences\n",
    "print(data_labels[0]) # tags in first sentence"
   ]
  },
  {
   "cell_type": "code",
   "execution_count": 406,
   "id": "5b632389",
   "metadata": {},
   "outputs": [],
   "source": [
    "# mapping funciton \n",
    "def mapping(path):\n",
    "    '''\n",
    "    \n",
    "    '''\n",
    "    data_labels = readNlu(path) \n",
    "\n",
    "    label_set = set()\n",
    "\n",
    "    # filtering out labels with \"part\" or \"deriv\"\n",
    "    for labels in data_labels:\n",
    "        filtered = [label for label in labels if 'part' not in label.lower() and 'deriv' not in label.lower()]\n",
    "        label_set.update(filtered)\n",
    "\n",
    "    num_labels = len(label_set)\n",
    "\n",
    "    label2id = {label: id for id, label in enumerate(label_set)}\n",
    "\n",
    "    id2label = {id: label for label, id in label2id.items()}\n",
    "\n",
    "    return label2id, id2label\n",
    "    "
   ]
  },
  {
   "cell_type": "code",
   "execution_count": 407,
   "id": "d03927a4",
   "metadata": {},
   "outputs": [
    {
     "name": "stdout",
     "output_type": "stream",
     "text": [
      "{'I-LOC': 0, 'B-PER': 1, 'B-LOC': 2, 'I-ORG': 3, 'O': 4, 'B-ORG': 5, 'I-MISC': 6, 'B-MISC': 7, 'I-PER': 8}\n",
      "{0: 'I-LOC', 1: 'B-PER', 2: 'B-LOC', 3: 'I-ORG', 4: 'O', 5: 'B-ORG', 6: 'I-MISC', 7: 'B-MISC', 8: 'I-PER'}\n"
     ]
    }
   ],
   "source": [
    "label2id, id2label = mapping(path_train)\n",
    "print(label2id)\n",
    "print(id2label)"
   ]
  },
  {
   "cell_type": "code",
   "execution_count": 408,
   "id": "80cb564f",
   "metadata": {},
   "outputs": [],
   "source": [
    "# load data function\n",
    "# function for loading iob2 data (from solution for assignment 5)\n",
    "def read_tsv_file(path):\n",
    "    '''\n",
    "    This function reads tsv files\n",
    "    \n",
    "    Parameters:\n",
    "    - path: path to read from\n",
    "\n",
    "    Returns:\n",
    "    - list with dictionaries for each sentence where the keys are 'tokens', 'ner_tags', and 'tag_ids' and \n",
    "      the values are lists that hold the tokens, ner_tags, and tag_ids.\n",
    "    '''\n",
    "\n",
    "    data = []\n",
    "    current_words = []\n",
    "    current_tags = []\n",
    "    current_tag_ids = []\n",
    "\n",
    "    #counter = 0\n",
    "\n",
    "    for line in open(path, encoding='utf-8'):\n",
    "\n",
    "        line = line.strip() # removes any leading and trailing whitespaces from the line\n",
    "\n",
    "        if line:\n",
    "            if line[0] == '#': \n",
    "                continue # skip comments\n",
    "\n",
    "            # splitting at 'tab', as the data is tab separated \n",
    "            tok = line.split('\\t')\n",
    "\n",
    "            word = tok[0]\n",
    "            tag = tok[1]\n",
    "\n",
    "            # add the entry in the second colun (the word) to current_words\n",
    "            current_words.append(word) \n",
    "\n",
    "            if tag in label2id:\n",
    "                current_tags.append(tag) # add the current tag \n",
    "                current_tag_ids.append(label2id[tag]) # add the current tag mapped to the corresponding id (int)\n",
    "\n",
    "            else: # if it contains \"part\" or \"deriv\" add \"O\"\n",
    "                current_tags.append(\"O\")\n",
    "                current_tag_ids.append(label2id[\"O\"])\n",
    "        \n",
    "        else: # skip empty lines\n",
    "            if current_words: # if current_words is not empty\n",
    "\n",
    "                # add entry to dict where tokens and ner_tags are keys and the values are lists\n",
    "                data.append({\"tokens\": current_words, \"ner_tags\": current_tags, \"tag_ids\": current_tag_ids})\n",
    "\n",
    "            # start over  \n",
    "            current_words = []\n",
    "            current_tags = []\n",
    "            current_tag_ids = []\n",
    "\n",
    "           # counter += 1\n",
    "           \n",
    "    # check for last one\n",
    "    if current_tags != []:\n",
    "        data.append({\"tokens\": current_words, \"ner_tags\": current_tags, \"tag_ids\": current_tag_ids})\n",
    "    \n",
    "    #if counter < 5:\n",
    "           # print(f\"\\n--- Example {counter + 1} (Final) ---\")\n",
    "           # print(\"Tokens:   \", current_words)\n",
    "           # print(\"NER Tags: \", current_tags)\n",
    "           # print(\"Tag IDs:  \", current_tag_ids)\n",
    "           \n",
    "    return data"
   ]
  },
  {
   "cell_type": "code",
   "execution_count": 409,
   "id": "0b918b37",
   "metadata": {},
   "outputs": [],
   "source": [
    "# reading in the data\n",
    "train_data = read_tsv_file(path_train)\n",
    "dev_data = read_tsv_file(path_dev)\n",
    "test_data = read_tsv_file(path_test)"
   ]
  },
  {
   "cell_type": "code",
   "execution_count": 410,
   "id": "4f9ba4d8",
   "metadata": {},
   "outputs": [
    {
     "name": "stdout",
     "output_type": "stream",
     "text": [
      "4383\n",
      "['På', 'fredag', 'har', 'SID', 'inviteret', 'til', 'reception', 'i', 'SID-huset', 'i', 'anledning', 'af', 'at', 'formanden', 'Kjeld', 'Christensen', 'går', 'ind', 'i', 'de', 'glade', 'tressere', '.']\n",
      "['O', 'O', 'O', 'B-ORG', 'O', 'O', 'O', 'O', 'O', 'O', 'O', 'O', 'O', 'O', 'B-PER', 'I-PER', 'O', 'O', 'O', 'O', 'O', 'O', 'O']\n",
      "[4, 4, 4, 5, 4, 4, 4, 4, 4, 4, 4, 4, 4, 4, 1, 8, 4, 4, 4, 4, 4, 4, 4]\n"
     ]
    }
   ],
   "source": [
    "print(len(train_data)) # no. of sentences\n",
    "\n",
    "# first sentence\n",
    "print(train_data[0][\"tokens\"])\n",
    "print(train_data[0][\"ner_tags\"])\n",
    "print(train_data[0][\"tag_ids\"])"
   ]
  },
  {
   "cell_type": "code",
   "execution_count": 411,
   "id": "3d3373f3",
   "metadata": {},
   "outputs": [
    {
     "name": "stdout",
     "output_type": "stream",
     "text": [
      "Unique NER Tags: ['B-LOC', 'B-MISC', 'B-ORG', 'B-PER', 'I-LOC', 'I-MISC', 'I-ORG', 'I-PER', 'O']\n"
     ]
    }
   ],
   "source": [
    "# collecting all unique tags\n",
    "all_tags = set()\n",
    "\n",
    "for sent in train_data:\n",
    "    all_tags.update(sent[\"ner_tags\"])\n",
    "\n",
    "print(\"Unique NER Tags:\", sorted(all_tags))"
   ]
  },
  {
   "cell_type": "code",
   "execution_count": 412,
   "id": "777b4b0a",
   "metadata": {},
   "outputs": [],
   "source": [
    "# checking if all sequences are alligned\n",
    "for i, sent in enumerate(train_data):\n",
    "    tokens = sent[\"tokens\"]\n",
    "    tags = sent[\"ner_tags\"]\n",
    "    tag_ids = sent[\"tag_ids\"]\n",
    "    \n",
    "    if not (len(tokens) == len(tags) == len(tag_ids)):\n",
    "        print(f\"Mismatch found in sentence {i}:\")\n",
    "        print(f\"  Tokens ({len(tokens)}): {tokens}\")\n",
    "        print(f\"  Tags   ({len(tags)}): {tags}\")\n",
    "        print(f\"  IDs    ({len(tag_ids)}): {tag_ids}\")"
   ]
  },
  {
   "cell_type": "code",
   "execution_count": 413,
   "id": "fad49e82",
   "metadata": {},
   "outputs": [],
   "source": [
    "def extract_entities(dataset, exclude_label = \"O\", include_label_pair=False):\n",
    "    '''\n",
    "    This function extracts tokens from a dataset that have a string label different from `exclude_label`.\n",
    "    Optionally, it can return the (token, label) pairs instead of just tokens.\n",
    "\n",
    "    Parameters:\n",
    "        dataset (List[dict]): The token-tagged dataset.\n",
    "        exclude_label (str): The label to ignore (default is 'O').\n",
    "        include_label_pair (bool): Whether to include the (token, label) pairs in the result (default is False).\n",
    "        \n",
    "    Returns:\n",
    "         Set[str] or Set[Tuple[str, str]]: \n",
    "            - A set of tokens with meaningful (non-O) labels if `include_label_pair` is False.\n",
    "            - A set of (token, label) pairs if `include_label_pair` is True.\n",
    "    '''\n",
    "\n",
    "    # create empty set to store the unique tokens\n",
    "    labeled_tokens = set()\n",
    "    \n",
    "    for sentence in dataset:\n",
    "        # iterate over each token and its corresponding tag ID\n",
    "        for token, label in zip(sentence[\"tokens\"], sentence[\"ner_tags\"]):\n",
    "            if label != exclude_label and label in label2id:                      # check if the tag is not the excluded one\n",
    "                if include_label_pair:\n",
    "                    labeled_tokens.add((token, label))      # add (token, label) pair if the flag is True\n",
    "                else:\n",
    "                    labeled_tokens.add(token)               # add just the token if the flag is False\n",
    "    \n",
    "    return labeled_tokens"
   ]
  },
  {
   "cell_type": "code",
   "execution_count": 414,
   "id": "c70fa374",
   "metadata": {},
   "outputs": [],
   "source": [
    "test_data = read_tsv_file(path_test)\n",
    "dev_data = read_tsv_file(path_dev)"
   ]
  },
  {
   "cell_type": "code",
   "execution_count": 415,
   "id": "c79aed40",
   "metadata": {},
   "outputs": [],
   "source": [
    "# extracting all entities from datasets\n",
    "train_entities = extract_entities(train_data, include_label_pair=True)\n",
    "dev_entities = extract_entities(dev_data, include_label_pair=True)\n",
    "test_entities = extract_entities(test_data, include_label_pair=True)"
   ]
  },
  {
   "cell_type": "code",
   "execution_count": 416,
   "id": "903ca414",
   "metadata": {},
   "outputs": [
    {
     "name": "stdout",
     "output_type": "stream",
     "text": [
      "Overlap between train and dev: 227 out of 3351\n",
      "Overlap between train and test: 196 out of 3396\n",
      "Overlap between dev and test: 69 out of 1025\n"
     ]
    }
   ],
   "source": [
    "# identifying overlap\n",
    "overlap_train_dev = train_entities & dev_entities\n",
    "overlap_train_test = train_entities & test_entities\n",
    "overlap_dev_test = dev_entities & test_entities\n",
    "\n",
    "print(f'Overlap between train and dev: {len(overlap_train_dev)} out of {len(train_entities)+len(dev_entities)}')\n",
    "print(f'Overlap between train and test: {len(overlap_train_test)} out of {len(train_entities)+len(test_entities)}')\n",
    "print(f'Overlap between dev and test: {len(overlap_dev_test)} out of {len(dev_entities)+len(test_entities)}')"
   ]
  },
  {
   "cell_type": "code",
   "execution_count": 417,
   "id": "de9fb97e",
   "metadata": {},
   "outputs": [
    {
     "name": "stdout",
     "output_type": "stream",
     "text": [
      "Counter({'B-PER': 79, 'I-PER': 43, 'B-LOC': 42, 'B-ORG': 31, 'I-ORG': 11, 'B-MISC': 10, 'I-MISC': 9, 'I-LOC': 2})\n",
      "Counter({'B-PER': 62, 'B-ORG': 37, 'I-PER': 35, 'B-LOC': 30, 'I-ORG': 16, 'B-MISC': 8, 'I-MISC': 8})\n",
      "Counter({'B-PER': 27, 'I-PER': 16, 'B-ORG': 11, 'B-LOC': 9, 'B-MISC': 4, 'I-ORG': 2})\n"
     ]
    }
   ],
   "source": [
    "from collections import Counter\n",
    "\n",
    "train_dev_tag_counts = Counter(tag for _, tag in overlap_train_dev)\n",
    "train_test_tag_counts = Counter(tag for _, tag in overlap_train_test)\n",
    "dev_test_tag_counts = Counter(tag for _, tag in overlap_dev_test)\n",
    "\n",
    "print(train_dev_tag_counts)\n",
    "print(train_test_tag_counts)\n",
    "print(dev_test_tag_counts)"
   ]
  },
  {
   "cell_type": "code",
   "execution_count": 418,
   "id": "9c9fba39",
   "metadata": {},
   "outputs": [
    {
     "name": "stdout",
     "output_type": "stream",
     "text": [
      "Counter({('Danmark', 'B-LOC'): 46, ('København', 'B-LOC'): 39, ('Lars', 'B-PER'): 29, ('Poul', 'B-PER'): 27, ('Nielsen', 'I-PER'): 25, ('Hafnia', 'B-ORG'): 23, ('Europa', 'B-LOC'): 22, ('Peter', 'B-PER'): 19, ('Det', 'B-ORG'): 19, ('Jens', 'B-PER'): 19, ('Den', 'B-ORG'): 18, ('Henrik', 'B-PER'): 18, ('Andersen', 'I-PER'): 17, ('USA', 'B-LOC'): 16, ('Hansen', 'I-PER'): 16, ('B.T.', 'B-ORG'): 15, ('John', 'B-PER'): 15, ('Jan', 'B-PER'): 15, ('Petersen', 'I-PER'): 14, ('Rasmussen', 'I-PER'): 13, ('Christensen', 'I-PER'): 12, ('Jensen', 'I-PER'): 12, ('Bent', 'B-PER'): 12, ('Ole', 'B-PER'): 11, ('SF', 'B-ORG'): 10, ('Jørgensen', 'I-PER'): 10, ('Per', 'B-PER'): 10, ('Lise', 'B-PER'): 10, ('Socialdemokratiet', 'B-ORG'): 9, ('Danmarks', 'B-LOC'): 9, ('Paris', 'B-LOC'): 9, ('Tyskland', 'B-LOC'): 9, ('Danske', 'I-ORG'): 9, ('Søren', 'B-PER'): 9, ('Henning', 'B-PER'): 8, ('Holding', 'I-ORG'): 8, ('Larsen', 'I-PER'): 8, ('Pedersen', 'I-PER'): 8, ('Diana', 'B-PER'): 8, ('Olsen', 'I-PER'): 7, ('Universitet', 'I-ORG'): 7, ('Unibank', 'B-ORG'): 7, ('Finn', 'B-PER'): 6, ('Bank', 'I-ORG'): 6, ('Anne', 'B-PER'): 6, ('Folkeparti', 'I-ORG'): 6, ('Stefan', 'B-PER'): 6, ('Ib', 'B-PER'): 6, ('Mogens', 'B-PER'): 5, ('Berlingske', 'B-ORG'): 5, ('Bosnien', 'B-LOC'): 5, ('Odense', 'B-LOC'): 5, ('Maja', 'B-PER'): 5, ('Kosan', 'B-ORG'): 5, ('Jugoslavien', 'B-LOC'): 5, ('Frederik', 'B-PER'): 5, ('England', 'B-LOC'): 5, ('Danish', 'B-ORG'): 5, ('Tom', 'B-PER'): 5, ('Claus', 'B-PER'): 5, ('Folketinget', 'B-ORG'): 5, ('B.', 'I-PER'): 5, ('Jytte', 'B-PER'): 4, ('Schlüter', 'I-PER'): 4, ('H.L.', 'B-PER'): 4, ('Brian', 'B-PER'): 4, ('Christiansen', 'I-PER'): 4, ('Torben', 'B-PER'): 4, ('Pjuske', 'B-PER'): 4, ('Østeuropa', 'B-LOC'): 3, ('Århus', 'B-ORG'): 3, ('Hilden', 'I-PER'): 3, ('Kim', 'B-PER'): 3, ('KTAS', 'B-ORG'): 3, ('Lundbæk', 'I-PER'): 3, ('Sine', 'B-PER'): 3, ('Diemar', 'I-PER'): 3, ('Ivan', 'B-PER'): 3, ('H.', 'B-PER'): 3, ('Trabzonspor', 'B-ORG'): 3, ('Lone', 'B-PER'): 3, ('Nyrup', 'I-PER'): 3, ('Ungarn', 'B-LOC'): 3, ('Anden', 'B-MISC'): 3, ('Verdenskrig', 'I-MISC'): 3, ('Cambodia', 'B-LOC'): 3, ('Japan', 'B-LOC'): 3, ('Vejle', 'B-LOC'): 3, ('Oustrup', 'I-PER'): 3, ('SAS', 'B-ORG'): 3, ('NATO', 'B-ORG'): 3, ('The', 'I-MISC'): 3, ('Valby', 'B-LOC'): 3, ('Karin', 'B-PER'): 3, ('Svend', 'B-PER'): 3, ('Flemming', 'B-PER'): 3, ('USAs', 'B-LOC'): 3, ('Nakskov', 'B-LOC'): 3, ('Stadion', 'I-LOC'): 3, ('Bente', 'B-PER'): 3, ('Elise', 'B-PER'): 2, ('Storbritannien', 'B-LOC'): 2, ('Tidendes', 'I-ORG'): 2, ('Unibanks', 'B-ORG'): 2, ('Parken', 'B-LOC'): 2, ('Bjarne', 'B-PER'): 2, ('Gotland', 'B-LOC'): 2, ('Allan', 'B-PER'): 2, ('New', 'B-LOC'): 2, ('C.', 'I-PER'): 2, ('Imelda', 'B-PER'): 2, ('Budapest', 'B-LOC'): 2, ('Nanna', 'B-PER'): 2, ('Lene', 'B-PER'): 2, ('Morten', 'B-PER'): 2, ('Nils', 'B-PER'): 2, ('Cole', 'I-PER'): 2, ('Inge', 'B-PER'): 2, ('Dybkjær', 'I-PER'): 2, ('Lotte', 'B-PER'): 2, ('Elstrup', 'I-PER'): 2, ('of', 'I-ORG'): 2, ('Indien', 'B-LOC'): 2, ('Malaysia', 'B-LOC'): 2, ('Clinton', 'B-PER'): 2, ('Susan', 'B-PER'): 2, ('Mai', 'B-PER'): 2, ('ACO', 'B-ORG'): 2, ('Jeltsin', 'B-PER'): 2, ('Kurt', 'B-PER'): 2, ('Odense', 'B-ORG'): 2, ('Ørestaden', 'B-LOC'): 2, ('ODENSE', 'B-LOC'): 2, ('Eddie', 'B-PER'): 2, ('Schlüters', 'I-PER'): 2, (\"FN's\", 'B-ORG'): 2, ('Konservative', 'I-ORG'): 2, ('Christoffersen', 'I-PER'): 2, ('Kitt', 'B-PER'): 2, ('AALBORG', 'B-LOC'): 2, ('Kristiansen', 'I-PER'): 2, ('Winther', 'I-PER'): 2, ('Camre', 'I-PER'): 2, ('vivaldi', 'B-PER'): 2, ('of', 'I-MISC'): 2, ('Jersey', 'B-LOC'): 2, ('Marcos', 'I-PER'): 2, ('Jyderup', 'B-LOC'): 2, ('Gug', 'I-PER'): 1, ('Lykketoft', 'I-PER'): 1, ('Hamburg', 'B-LOC'): 1, ('Spejldans', 'B-MISC'): 1, ('Silius', 'B-PER'): 1, ('Erhard', 'B-PER'): 1, ('Wiese', 'I-PER'): 1, ('Miljøklagenævnet', 'B-ORG'): 1, ('Mellemfolkeligt', 'B-ORG'): 1, ('Knud', 'B-PER'): 1, ('Vilby', 'I-PER'): 1, ('Mucomyst', 'B-MISC'): 1, ('Victor', 'B-PER'): 1, ('Borge', 'I-PER'): 1, ('Nissen', 'I-PER'): 1, ('Anna', 'B-PER'): 1, ('Ebbe', 'I-PER'): 1, ('Prag', 'B-LOC'): 1, ('De', 'B-MISC'): 1, ('Natalie', 'B-PER'): 1, ('Nat', 'B-PER'): 1, ('King', 'I-PER'): 1, ('Mortensen', 'I-PER'): 1, ('Lundbæk', 'B-PER'): 1, ('Danmark', 'B-ORG'): 1, ('J.', 'I-PER'): 1, ('Makedonien', 'B-LOC'): 1, ('Lis', 'B-PER'): 1, ('Harremoës', 'B-PER'): 1, ('Dahlfelt', 'B-PER'): 1, ('Mackensie', 'I-PER'): 1, ('Falck', 'B-ORG'): 1, ('Vladimir', 'B-PER'): 1, ('Pimonov', 'I-PER'): 1, (\"TEBA's\", 'B-ORG'): 1, ('CBC', 'B-MISC'): 1, ('Crescent', 'B-ORG'): 1, ('Halifax', 'B-LOC'): 1, ('Mette', 'B-PER'): 1, ('Roar', 'B-PER'): 1, ('Stewart', 'B-PER'): 1, ('No', 'B-MISC'): 1, ('Fuel', 'I-MISC'): 1, ('Left', 'I-MISC'): 1, ('For', 'I-MISC'): 1, ('Pilgrims', 'I-MISC'): 1, ('Fergie', 'B-PER'): 1, ('Pakistan', 'B-LOC'): 1, ('Dannebrog', 'B-MISC'): 1, ('Nordkalotten', 'B-LOC'): 1, ('Dolly', 'B-PER'): 1, ('Johnny', 'B-PER'): 1, ('Justitsministeriet', 'B-ORG'): 1, ('Land', 'B-MISC'): 1, ('Moving', 'B-MISC'): 1, ('Viborg', 'B-LOC'): 1, ('Paper', 'I-ORG'): 1, ('Packaging', 'I-ORG'): 1, ('Elvis', 'B-PER'): 1, ('York', 'I-LOC'): 1, ('Gerner', 'B-PER'): 1, ('Rudbjerg', 'B-ORG'): 1, ('Christiansborg', 'B-LOC'): 1, ('Faaborg', 'B-LOC'): 1, ('Lyngby', 'B-LOC'): 1, ('Gudme', 'B-ORG'): 1, ('Østergaard', 'I-PER'): 1, ('Paul', 'B-PER'): 1, ('Steffensen', 'I-PER'): 1, ('Monrovia', 'B-LOC'): 1, ('Sankt', 'B-MISC'): 1, ('Markus', 'I-MISC'): 1, ('Nat', 'I-MISC'): 1, ('Peder', 'B-PER'): 1, ('Vestunionen', 'B-ORG'): 1, ('Horsens', 'B-ORG'): 1, ('Association', 'I-ORG'): 1, ('HOPKINS', 'B-PER'): 1, ('Joachim', 'B-PER'): 1})\n",
      "1029\n"
     ]
    }
   ],
   "source": [
    "counts = Counter()\n",
    "\n",
    "for example in train_data:\n",
    "    tokens = example[\"tokens\"]\n",
    "    tags = example[\"ner_tags\"]\n",
    "    for token, tag in zip(tokens, tags):\n",
    "        if (token, tag) in overlap_train_dev:\n",
    "            counts[(token, tag)] += 1\n",
    "\n",
    "print(counts)\n",
    "print(sum(counts.values()))"
   ]
  },
  {
   "cell_type": "code",
   "execution_count": 419,
   "id": "06c319c8",
   "metadata": {},
   "outputs": [
    {
     "name": "stdout",
     "output_type": "stream",
     "text": [
      "Counter({('Danmark', 'B-LOC'): 46, ('København', 'B-LOC'): 39, ('Lars', 'B-PER'): 29, ('Poul', 'B-PER'): 27, ('Nielsen', 'I-PER'): 25, ('Peter', 'B-PER'): 19, ('Det', 'B-ORG'): 19, ('Jens', 'B-PER'): 19, ('Den', 'B-ORG'): 18, ('Henrik', 'B-PER'): 18, ('USA', 'B-LOC'): 16, ('Hansen', 'I-PER'): 16, ('B.T.', 'B-ORG'): 15, ('John', 'B-PER'): 15, ('Christensen', 'I-PER'): 12, ('Jensen', 'I-PER'): 12, ('Steen', 'B-PER'): 11, ('Jesper', 'B-PER'): 11, ('Ole', 'B-PER'): 11, ('Århus', 'B-LOC'): 11, ('SF', 'B-ORG'): 10, ('Jørgensen', 'I-PER'): 10, ('Per', 'B-PER'): 10, ('Michael', 'B-PER'): 10, ('Erik', 'B-PER'): 10, ('Dansk', 'B-ORG'): 10, ('Socialdemokratiet', 'B-ORG'): 9, ('Danmarks', 'B-LOC'): 9, ('Paris', 'B-LOC'): 9, ('Tyskland', 'B-LOC'): 9, ('Danske', 'I-ORG'): 9, ('Palle', 'B-PER'): 9, ('Henning', 'B-PER'): 8, ('Erik', 'I-PER'): 8, ('Larsen', 'I-PER'): 8, ('Pedersen', 'I-PER'): 8, ('Sverige', 'B-LOC'): 8, ('Olsen', 'I-PER'): 7, ('Hans', 'B-PER'): 7, ('Madsen', 'I-PER'): 7, ('Bosnien-Hercegovina', 'B-LOC'): 7, ('Stiftstidende', 'I-ORG'): 6, ('Frank', 'B-PER'): 6, ('Københavns', 'B-LOC'): 6, ('Østersøen', 'B-LOC'): 6, ('kr.', 'B-MISC'): 6, ('Københavns', 'B-ORG'): 6, ('Bank', 'I-ORG'): 6, ('Anne', 'B-PER'): 6, ('Brøndby', 'B-ORG'): 6, ('Mogens', 'B-PER'): 5, ('Berlingske', 'B-ORG'): 5, ('Odense', 'B-LOC'): 5, ('og', 'I-MISC'): 5, ('Helle', 'B-PER'): 5, ('Kgl.', 'I-ORG'): 5, ('Teater', 'I-ORG'): 5, ('Danmarks', 'B-ORG'): 5, ('Kommune', 'I-ORG'): 5, ('Folketinget', 'B-ORG'): 5, ('Kirsten', 'B-PER'): 5, ('B.', 'I-PER'): 5, ('Schlüter', 'I-PER'): 4, ('Christiania', 'B-LOC'): 4, ('Møller', 'I-PER'): 4, ('London', 'B-LOC'): 4, ('Brian', 'B-PER'): 4, ('Brøndbys', 'B-ORG'): 4, ('Aalborg', 'B-ORG'): 4, ('Christiansen', 'I-PER'): 4, ('Torben', 'B-PER'): 4, ('Polen', 'B-LOC'): 4, ('Gorky', 'B-ORG'): 4, ('Irak', 'B-LOC'): 4, ('Park', 'I-ORG'): 4, ('Ove', 'B-PER'): 4, ('Jørn', 'B-PER'): 4, ('DSBs', 'B-ORG'): 3, ('Århus', 'B-ORG'): 3, ('Kim', 'B-PER'): 3, ('Erling', 'B-PER'): 3, ('Ivan', 'B-PER'): 3, ('H.', 'B-PER'): 3, ('Susanne', 'B-PER'): 3, ('Berlin', 'B-LOC'): 3, ('Tidende', 'I-ORG'): 3, ('Jacobsen', 'I-PER'): 3, ('Svend', 'B-PER'): 3, ('Flemming', 'B-PER'): 3, ('Jyllands-Posten', 'B-ORG'): 2, ('Bjarne', 'B-PER'): 2, ('Karl', 'B-PER'): 2, ('Landsret', 'I-ORG'): 2, ('-', 'I-MISC'): 2, ('Gren', 'I-PER'): 2, ('Fyn', 'B-LOC'): 2, ('EFs', 'B-ORG'): 2, ('Forening', 'I-ORG'): 2, ('Fanø', 'B-LOC'): 2, ('Nanna', 'B-PER'): 2, ('Morten', 'B-PER'): 2, ('Nils', 'B-PER'): 2, ('Depeche', 'B-ORG'): 2, ('Lotte', 'B-PER'): 2, ('Kreiberg', 'I-PER'): 2, ('Accumulator', 'B-ORG'): 2, ('Leif', 'B-PER'): 2, ('Anders', 'B-PER'): 2, ('Odense', 'B-ORG'): 2, ('ODENSE', 'B-LOC'): 2, ('EBRD', 'B-ORG'): 2, ('Verdensbanken', 'B-ORG'): 2, ('Birte', 'B-PER'): 2, ('Bruxelles', 'B-LOC'): 2, ('Køge', 'B-LOC'): 2, ('Annette', 'B-PER'): 2, ('Italiens', 'B-LOC'): 2, ('OB', 'B-ORG'): 2, ('Ninn-Hansens', 'B-PER'): 2, ('Storebælt', 'B-LOC'): 2, ('Lykketoft', 'I-PER'): 1, ('Annemette', 'B-PER'): 1, ('Færøerne', 'B-LOC'): 1, ('BMS', 'B-ORG'): 1, ('Ørsted', 'B-ORG'): 1, ('Wiese', 'I-PER'): 1, ('Villy', 'B-PER'): 1, ('anden', 'B-MISC'): 1, ('verdenskrig', 'I-MISC'): 1, ('Boldklub', 'I-ORG'): 1, ('Barcelona', 'B-LOC'): 1, ('Sejersen', 'I-PER'): 1, ('E.', 'I-PER'): 1, ('opus', 'B-MISC'): 1, ('De', 'B-MISC'): 1, ('Østre', 'B-ORG'): 1, ('Rushdie', 'B-PER'): 1, ('Lee', 'B-PER'): 1, ('The', 'B-ORG'): 1, ('Birgitte', 'I-PER'): 1, ('Lundholt', 'I-PER'): 1, ('Jane', 'B-PER'): 1, ('de', 'B-MISC'): 1, ('fire', 'I-MISC'): 1, ('årstider', 'I-MISC'): 1, ('det', 'B-ORG'): 1, ('Fupz', 'I-PER'): 1, ('Ulla', 'B-PER'): 1, ('kgl.', 'I-ORG'): 1, (',', 'I-MISC'): 1, ('Joe', 'B-PER'): 1, ('Cocker', 'I-PER'): 1, ('Grammy', 'B-MISC'): 1, ('Steffen', 'B-PER'): 1, ('B.T.s', 'B-ORG'): 1, ('Bernard', 'B-PER'): 1, ('Teaters', 'I-ORG'): 1, ('Dannebrog', 'B-MISC'): 1, ('Niels', 'B-ORG'): 1, ('Dolly', 'B-PER'): 1, ('af', 'I-MISC'): 1, ('Simon', 'B-PER'): 1, ('Pforzheim', 'B-LOC'): 1, ('Johnny', 'B-PER'): 1, ('kommune', 'I-ORG'): 1, ('Oluf', 'B-PER'): 1, ('Terp', 'I-PER'): 1, ('Gunnar', 'B-PER'): 1, ('Schlüter', 'B-PER'): 1, ('Radios', 'I-ORG'): 1, ('Mogensen', 'I-PER'): 1, ('Kolding', 'B-ORG'): 1, ('Serbiens', 'B-LOC'): 1, ('Lau', 'I-PER'): 1, ('Elvis', 'B-PER'): 1, ('Black', 'B-MISC'): 1, ('Celebration', 'I-MISC'): 1, ('Peter', 'I-PER'): 1, ('Tuborg', 'B-ORG'): 1, ('Marilyn', 'B-PER'): 1, ('Martin', 'B-PER'): 1, ('Staalby', 'I-PER'): 1, ('Hjorth', 'I-PER'): 1, ('Papin', 'B-PER'): 1, ('Lyngby', 'B-LOC'): 1, ('Paul', 'B-PER'): 1, ('Berg', 'I-PER'): 1, ('Steffensen', 'I-PER'): 1, ('Trangeled', 'I-PER'): 1, ('Lund', 'I-PER'): 1, ('Venstres', 'B-ORG'): 1, ('K', 'B-ORG'): 1, ('DSB', 'B-ORG'): 1, ('Club', 'B-ORG'): 1, ('Øresund', 'B-LOC'): 1, ('mod', 'I-ORG'): 1})\n",
      "919\n"
     ]
    }
   ],
   "source": [
    "counts = Counter()\n",
    "\n",
    "for example in train_data:\n",
    "    tokens = example[\"tokens\"]\n",
    "    tags = example[\"ner_tags\"]\n",
    "    for token, tag in zip(tokens, tags):\n",
    "        if (token, tag) in overlap_train_test:\n",
    "            counts[(token, tag)] += 1\n",
    "\n",
    "print(counts)\n",
    "print(sum(counts.values()))"
   ]
  },
  {
   "cell_type": "code",
   "execution_count": 420,
   "id": "2220e2fc",
   "metadata": {},
   "outputs": [],
   "source": [
    "# Option 1: Remove Entities from the Dev and Test Sets\n",
    "# Option 2: Remove Entities from the Train Set"
   ]
  }
 ],
 "metadata": {
  "kernelspec": {
   "display_name": "NLP",
   "language": "python",
   "name": "python3"
  },
  "language_info": {
   "codemirror_mode": {
    "name": "ipython",
    "version": 3
   },
   "file_extension": ".py",
   "mimetype": "text/x-python",
   "name": "python",
   "nbconvert_exporter": "python",
   "pygments_lexer": "ipython3",
   "version": "3.9.21"
  }
 },
 "nbformat": 4,
 "nbformat_minor": 5
}
