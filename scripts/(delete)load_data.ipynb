{
 "cells": [
  {
   "cell_type": "code",
   "execution_count": 23,
   "id": "3068c444",
   "metadata": {},
   "outputs": [],
   "source": [
    "# imports\n",
    "#import numpy as np"
   ]
  },
  {
   "cell_type": "code",
   "execution_count": 24,
   "id": "041067cf",
   "metadata": {},
   "outputs": [],
   "source": [
    "# path to the data files\n",
    "path_train = \"../data/da_news_train.tsv\"\n",
    "path_dev = \"../data/da_news_dev.tsv\"\n",
    "path_test = \"../data/da_news_test.tsv\""
   ]
  },
  {
   "cell_type": "code",
   "execution_count": 25,
   "id": "8873a50a",
   "metadata": {},
   "outputs": [],
   "source": [
    "# taken from span_f1.py provided and modified\n",
    "def readNlu(path, target_column = 1): # default to index 1 (thats where DaN+ labels are)\n",
    "    # reads labels from target_column, assumes conll-like file\n",
    "    # with 1 word per line, tab separation, and empty lines\n",
    "    # for sentence splits. \n",
    "    annotations = []\n",
    "    cur_annotation = []\n",
    "    for line in open(path, encoding='utf-8'):\n",
    "        line = line.strip()\n",
    "        if line == '':\n",
    "            annotations.append(cur_annotation)\n",
    "            cur_annotation = []\n",
    "        elif line[0] == '#' and len(line.split('\\t')) == 1:\n",
    "            continue\n",
    "        else:\n",
    "            cur_annotation.append(line.split('\\t')[target_column])\n",
    "    return annotations"
   ]
  },
  {
   "cell_type": "code",
   "execution_count": 26,
   "id": "52f9661b",
   "metadata": {},
   "outputs": [],
   "source": [
    "data_labels = readNlu(path_train) # reads in label column\n"
   ]
  },
  {
   "cell_type": "code",
   "execution_count": 27,
   "id": "5b632389",
   "metadata": {},
   "outputs": [],
   "source": [
    "# mapping funciton \n",
    "def mapping(path):\n",
    "    '''\n",
    "    \n",
    "    '''\n",
    "    data_labels = readNlu(path) \n",
    "\n",
    "    label_set = set()\n",
    "\n",
    "    for labels in data_labels:\n",
    "        filtered = [label for label in labels if 'part' not in label.lower() and 'deriv' not in label.lower()]\n",
    "        label_set.update(filtered)\n",
    "\n",
    "    num_labels = len(label_set)\n",
    "\n",
    "    label2id = {label: id for id, label in enumerate(label_set)}\n",
    "\n",
    "    id2label = {id: label for label, id in label2id.items()}\n",
    "\n",
    "    return label2id, id2label\n",
    "    "
   ]
  },
  {
   "cell_type": "code",
   "execution_count": null,
   "id": "d03927a4",
   "metadata": {},
   "outputs": [
    {
     "name": "stdout",
     "output_type": "stream",
     "text": [
      "{'B-PER': 0, 'I-ORG': 1, 'B-ORG': 2, 'B-MISC': 3, 'I-MISC': 4, 'O': 5, 'I-LOC': 6, 'B-LOC': 7, 'I-PER': 8}\n",
      "{0: 'B-PER', 1: 'I-ORG', 2: 'B-ORG', 3: 'B-MISC', 4: 'I-MISC', 5: 'O', 6: 'I-LOC', 7: 'B-LOC', 8: 'I-PER'}\n"
     ]
    }
   ],
   "source": [
    "label2id, id2label = mapping(path_train)\n",
    "print(label2id)\n",
    "print(id2label)\n"
   ]
  },
  {
   "cell_type": "code",
   "execution_count": 29,
   "id": "80cb564f",
   "metadata": {},
   "outputs": [],
   "source": [
    "# load data function\n",
    "# function for loading iob2 data (from solution for assignment 5)\n",
    "def read_tsv_file(path):\n",
    "    '''\n",
    "    This function reads tsv files\n",
    "    \n",
    "    Parameters:\n",
    "    - path: path to read from\n",
    "\n",
    "    Returns:\n",
    "    - list with dictionaries for each sentence where the keys are 'tokens', 'ner_tags', and 'tag_ids' and \n",
    "      the values are lists that hold the tokens, ner_tags, and tag_ids.\n",
    "    '''\n",
    "\n",
    "    data = []\n",
    "    current_words = []\n",
    "    current_tags = []\n",
    "    current_tag_ids = []\n",
    "    #counter = 0\n",
    "\n",
    "    for line in open(path, encoding='utf-8'):\n",
    "\n",
    "       # print(\"new line\")\n",
    "\n",
    "        line = line.strip() # removes any leading and trailing whitespaces from the line\n",
    "\n",
    "       # print(\"line \", line)\n",
    "\n",
    "        if line:\n",
    "            if line[0] == '#': \n",
    "                continue # skip comments\n",
    "\n",
    "            #print(\"line \", line)\n",
    "\n",
    "            # splitting at 'tab', as the data is tab separated \n",
    "            tok = line.split('\\t')\n",
    "\n",
    "           # print(\"line \", line)\n",
    "            #print(\"tok \", tok)\n",
    "\n",
    "            # add the entry in the second colun (the word) to current_words\n",
    "            current_words.append(tok[0]) \n",
    "\n",
    "            #print(\"current_words \", current_words)\n",
    "\n",
    "            if tok[1] not in label2id:\n",
    "                continue\n",
    "\n",
    "            # add the current tag \n",
    "            current_tags.append(tok[1]) \n",
    "\n",
    "            #print(\"current_tags \", current_tags)\n",
    "            #print(\"current_tag_ids \", current_tag_ids)\n",
    "            # add the current tag mapped to the corresponding id (int)\n",
    "            current_tag_ids.append(label2id[tok[1]]) \n",
    "\n",
    "            #print(\"current_tag_ids \", current_tag_ids)\n",
    "        \n",
    "        else: # skip empty lines\n",
    "            if current_words: # if current_words is not empty\n",
    "\n",
    "                # add entry to dict where tokens and ner_tags are keys and the values are lists\n",
    "                data.append({\"tokens\": current_words, \"ner_tags\": current_tags, \"tag_ids\": current_tag_ids})\n",
    "\n",
    "            # start over  \n",
    "            current_words = []\n",
    "            current_tags = []\n",
    "            current_tag_ids = []\n",
    "           # counter += 1\n",
    "    # check for last one\n",
    "    if current_tags != []:\n",
    "        data.append({\"tokens\": current_words, \"ner_tags\": current_tags, \"tag_ids\": current_tag_ids})\n",
    "    \n",
    "    #if counter < 5:\n",
    "         #   print(f\"\\n--- Example {counter + 1} (Final) ---\")\n",
    "          #  print(\"Tokens:   \", current_words)\n",
    "          #  print(\"NER Tags: \", current_tags)\n",
    "           # print(\"Tag IDs:  \", current_tag_ids)\n",
    "    return data"
   ]
  },
  {
   "cell_type": "markdown",
   "id": "36869772",
   "metadata": {},
   "source": []
  },
  {
   "cell_type": "code",
   "execution_count": 30,
   "id": "0b918b37",
   "metadata": {},
   "outputs": [
    {
     "name": "stdout",
     "output_type": "stream",
     "text": [
      "Unique NER Tags: ['B-LOC', 'B-MISC', 'B-ORG', 'B-PER', 'I-LOC', 'I-MISC', 'I-ORG', 'I-PER', 'O']\n"
     ]
    }
   ],
   "source": [
    "data_train = read_tsv_file(path_train)\n",
    "# Now collect all unique labels/tags\n",
    "all_tags = set()\n",
    "\n",
    "for entry in data_train:\n",
    "    all_tags.update(entry[\"ner_tags\"])\n",
    "\n",
    "# Print the unique tags\n",
    "print(\"Unique NER Tags:\", sorted(all_tags))"
   ]
  }
 ],
 "metadata": {
  "kernelspec": {
   "display_name": "NLP",
   "language": "python",
   "name": "python3"
  },
  "language_info": {
   "codemirror_mode": {
    "name": "ipython",
    "version": 3
   },
   "file_extension": ".py",
   "mimetype": "text/x-python",
   "name": "python",
   "nbconvert_exporter": "python",
   "pygments_lexer": "ipython3",
   "version": "3.10.16"
  }
 },
 "nbformat": 4,
 "nbformat_minor": 5
}
