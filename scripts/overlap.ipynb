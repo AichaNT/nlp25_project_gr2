{
 "cells": [
  {
   "cell_type": "code",
   "execution_count": null,
   "id": "81e11d35",
   "metadata": {},
   "outputs": [],
   "source": [
    "# imports\n",
    "from load_data import mapping, read_tsv_file, extract_labeled_tokens"
   ]
  },
  {
   "cell_type": "code",
   "execution_count": null,
   "id": "4e46ec7e",
   "metadata": {},
   "outputs": [],
   "source": [
    "# getting overlap for train-dev, train-test, dev-test\n"
   ]
  }
 ],
 "metadata": {
  "kernelspec": {
   "display_name": "NLP",
   "language": "python",
   "name": "python3"
  },
  "language_info": {
   "name": "python",
   "version": "3.10.16"
  }
 },
 "nbformat": 4,
 "nbformat_minor": 5
}
