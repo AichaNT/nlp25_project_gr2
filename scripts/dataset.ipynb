{
 "cells": [
  {
   "cell_type": "code",
   "execution_count": 1,
   "id": "0b878588",
   "metadata": {},
   "outputs": [],
   "source": [
    "from load_data import mapping, read_tsv_file"
   ]
  },
  {
   "cell_type": "code",
   "execution_count": 2,
   "id": "78521543",
   "metadata": {},
   "outputs": [],
   "source": [
    "# getting data \n",
    "# path to the data files\n",
    "path_train = \"../data/da_news_train.tsv\"\n",
    "path_dev = \"../data/da_news_dev.tsv\"\n",
    "path_test = \"../data/da_news_test.tsv\"\n",
    "\n",
    "# create mapping\n",
    "label2id, id2label = mapping(path_train)\n",
    "\n",
    "# read in the DaN+ data\n",
    "train_data = read_tsv_file(path_train, label2id)\n",
    "dev_data = read_tsv_file(path_dev, label2id)\n",
    "test_data = read_tsv_file(path_test, label2id)"
   ]
  },
  {
   "cell_type": "code",
   "execution_count": 17,
   "id": "2ca32c70",
   "metadata": {},
   "outputs": [
    {
     "name": "stdout",
     "output_type": "stream",
     "text": [
      "train size: 4383\n",
      "dev size: 564\n",
      "test size: 565\n",
      "total dataset size: 5512\n"
     ]
    }
   ],
   "source": [
    "print(\"train size:\", len(train_data))\n",
    "print(\"dev size:\", len(dev_data))\n",
    "print(\"test size:\", len(test_data))\n",
    "print(\"total dataset size:\", len(train_data) + len(dev_data) + len(test_data))"
   ]
  },
  {
   "cell_type": "code",
   "execution_count": 11,
   "id": "1e2c7c31",
   "metadata": {},
   "outputs": [],
   "source": [
    "# extracting tokens to check for overlap in train, dev and test sets\n",
    "def extract_labeled_tokens(dataset, exclude_label = \"O\", include_label_pair=False):\n",
    "    '''\n",
    "    This function extracts tokens from a dataset that have a string label different from `exclude_label`.\n",
    "    Optionally, it can return the (token, label) pairs instead of just tokens.\n",
    "\n",
    "    Parameters:\n",
    "        dataset (List[dict]): The token-tagged dataset.\n",
    "        exclude_label (str): The label to ignore (default is 'O').\n",
    "        include_label_pair (bool): Whether to include the (token, label) pairs in the result (default is False).\n",
    "        \n",
    "    Returns:\n",
    "         Set[str] or Set[Tuple[str, str]]: \n",
    "            - A set of tokens with meaningful (non-O) labels if `include_label_pair` is False.\n",
    "            - A set of (token, label) pairs if `include_label_pair` is True.\n",
    "    '''\n",
    "\n",
    "    # create empty set to store the unique tokens\n",
    "    labeled_tokens = set()\n",
    "    \n",
    "    for sentence in dataset:\n",
    "        # iterate over each token and its corresponding tag ID\n",
    "        for token, label in zip(sentence[\"tokens\"], sentence[\"ner_tags\"]):\n",
    "            if label != exclude_label:                      # check if the tag is not the excluded one\n",
    "                if include_label_pair:\n",
    "                    labeled_tokens.add((token, label))      # add (token, label) pair if the flag is True\n",
    "                else:\n",
    "                    labeled_tokens.add(token)               # add just the token if the flag is False\n",
    "    \n",
    "    return labeled_tokens"
   ]
  },
  {
   "cell_type": "code",
   "execution_count": 12,
   "id": "57fb8f3d",
   "metadata": {},
   "outputs": [],
   "source": [
    "# extract tokens with non-\"O\" labels from each split\n",
    "train_tokens = extract_labeled_tokens(train_data)\n",
    "dev_tokens = extract_labeled_tokens(dev_data)\n",
    "test_tokens = extract_labeled_tokens(test_data)"
   ]
  },
  {
   "cell_type": "code",
   "execution_count": 16,
   "id": "cf9e88be",
   "metadata": {},
   "outputs": [
    {
     "name": "stdout",
     "output_type": "stream",
     "text": [
      "Unique tokens in train: 2635\n",
      "Unique tokens in dev: 470\n",
      "Unique tokens in test: 513\n"
     ]
    }
   ],
   "source": [
    "# print out the number of tokens in each split\n",
    "print(f\"Unique tokens in train: {len(train_tokens)}\")\n",
    "print(f\"Unique tokens in dev: {len(dev_tokens)}\")\n",
    "print(f\"Unique tokens in test: {len(test_tokens)}\")"
   ]
  },
  {
   "cell_type": "code",
   "execution_count": 29,
   "id": "fe6abf4a",
   "metadata": {},
   "outputs": [
    {
     "data": {
      "text/plain": [
       "405"
      ]
     },
     "execution_count": 29,
     "metadata": {},
     "output_type": "execute_result"
    }
   ],
   "source": [
    "train_dev_overlap = train_tokens & dev_tokens\n",
    "dev_test_overlap = dev_tokens & test_tokens\n",
    "train_test_overlap = train_tokens & test_tokens\n",
    "\n",
    "all_tokens_overlap = train_dev_overlap | dev_test_overlap | train_test_overlap\n",
    "\n",
    "len(all_tokens_overlap)"
   ]
  },
  {
   "cell_type": "code",
   "execution_count": 40,
   "id": "42fba215",
   "metadata": {},
   "outputs": [
    {
     "name": "stdout",
     "output_type": "stream",
     "text": [
      "505\n"
     ]
    }
   ],
   "source": [
    "#def \n",
    "#if token \n",
    "happy=0\n",
    "for sent in test_data:\n",
    "\n",
    "    if all_tokens_overlap & set(sent['tokens']):\n",
    "        happy+=1\n",
    "\n",
    "print(happy)"
   ]
  },
  {
   "cell_type": "code",
   "execution_count": null,
   "id": "e10271bc",
   "metadata": {},
   "outputs": [],
   "source": [
    "def fix_overlap(train_data, dev_data, test_data):\n",
    "\n",
    "    \n"
   ]
  },
  {
   "cell_type": "markdown",
   "id": "d31f5c06",
   "metadata": {},
   "source": [
    "# Make one great dataset "
   ]
  },
  {
   "cell_type": "code",
   "execution_count": 41,
   "id": "ca257cc1",
   "metadata": {},
   "outputs": [
    {
     "data": {
      "text/plain": [
       "5512"
      ]
     },
     "execution_count": 41,
     "metadata": {},
     "output_type": "execute_result"
    }
   ],
   "source": [
    "MEGA_data = train_data + dev_data + test_data\n",
    "\n",
    "len(MEGA_data)"
   ]
  },
  {
   "cell_type": "code",
   "execution_count": null,
   "id": "ed13880e",
   "metadata": {},
   "outputs": [],
   "source": []
  }
 ],
 "metadata": {
  "kernelspec": {
   "display_name": "NLP",
   "language": "python",
   "name": "python3"
  },
  "language_info": {
   "codemirror_mode": {
    "name": "ipython",
    "version": 3
   },
   "file_extension": ".py",
   "mimetype": "text/x-python",
   "name": "python",
   "nbconvert_exporter": "python",
   "pygments_lexer": "ipython3",
   "version": "3.10.16"
  }
 },
 "nbformat": 4,
 "nbformat_minor": 5
}
