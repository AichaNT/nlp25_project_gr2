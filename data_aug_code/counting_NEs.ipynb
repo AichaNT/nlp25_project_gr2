{
 "cells": [
  {
   "cell_type": "markdown",
   "metadata": {},
   "source": [
    "# Checking B-PER"
   ]
  },
  {
   "cell_type": "code",
   "execution_count": 9,
   "metadata": {},
   "outputs": [
    {
     "data": {
      "text/plain": [
       "596"
      ]
     },
     "execution_count": 9,
     "metadata": {},
     "output_type": "execute_result"
    }
   ],
   "source": [
    "import pandas as pd\n",
    "news_train = pd.read_csv(\"data/da_news_train.tsv\", sep=\"\\t\", header=None, names=[\"Token\", \"Tag\", \"Nested\"])\n",
    "(news_train[\"Tag\"] == 'B-PER').sum()"
   ]
  },
  {
   "cell_type": "code",
   "execution_count": 11,
   "metadata": {},
   "outputs": [
    {
     "data": {
      "text/plain": [
       "63"
      ]
     },
     "execution_count": 11,
     "metadata": {},
     "output_type": "execute_result"
    }
   ],
   "source": [
    "news_test = pd.read_csv(\"data/da_news_test.tsv\", sep=\"\\t\", header=None, names=[\"Token\", \"Tag\", \"Nested\"])\n",
    "(news_test[\"Tag\"] == 'B-PER').sum()"
   ]
  },
  {
   "cell_type": "code",
   "execution_count": 14,
   "metadata": {},
   "outputs": [
    {
     "data": {
      "text/plain": [
       "88"
      ]
     },
     "execution_count": 14,
     "metadata": {},
     "output_type": "execute_result"
    }
   ],
   "source": [
    "news_dev = pd.read_csv(\"data/da_news_dev.tsv\", sep=\"\\t\", header=None, names=[\"Token\", \"Tag\", \"Nested\"], engine=\"python\", on_bad_lines=\"skip\")\n",
    "(news_dev[\"Tag\"] == 'B-PER').sum()"
   ]
  },
  {
   "cell_type": "code",
   "execution_count": 17,
   "metadata": {},
   "outputs": [
    {
     "name": "stdout",
     "output_type": "stream",
     "text": [
      "747\n"
     ]
    }
   ],
   "source": [
    "# Total B-PER\n",
    "print(596+63+88)"
   ]
  },
  {
   "cell_type": "markdown",
   "metadata": {},
   "source": [
    "# Checking I-PER"
   ]
  },
  {
   "cell_type": "code",
   "execution_count": 12,
   "metadata": {},
   "outputs": [
    {
     "data": {
      "text/plain": [
       "414"
      ]
     },
     "execution_count": 12,
     "metadata": {},
     "output_type": "execute_result"
    }
   ],
   "source": [
    "(news_train[\"Tag\"] == 'I-PER').sum()"
   ]
  },
  {
   "cell_type": "code",
   "execution_count": 13,
   "metadata": {},
   "outputs": [
    {
     "data": {
      "text/plain": [
       "54"
      ]
     },
     "execution_count": 13,
     "metadata": {},
     "output_type": "execute_result"
    }
   ],
   "source": [
    "(news_test[\"Tag\"] == 'I-PER').sum()"
   ]
  },
  {
   "cell_type": "code",
   "execution_count": 15,
   "metadata": {},
   "outputs": [
    {
     "data": {
      "text/plain": [
       "58"
      ]
     },
     "execution_count": 15,
     "metadata": {},
     "output_type": "execute_result"
    }
   ],
   "source": [
    "(news_dev[\"Tag\"] == 'I-PER').sum()"
   ]
  },
  {
   "cell_type": "code",
   "execution_count": 18,
   "metadata": {},
   "outputs": [
    {
     "name": "stdout",
     "output_type": "stream",
     "text": [
      "526\n"
     ]
    }
   ],
   "source": [
    "# Total I-PER\n",
    "print(414+54+58)"
   ]
  },
  {
   "cell_type": "markdown",
   "metadata": {},
   "source": [
    "# Checking LOC"
   ]
  },
  {
   "cell_type": "code",
   "execution_count": 19,
   "metadata": {},
   "outputs": [],
   "source": [
    "from collections import Counter\n",
    "\n",
    "def count_loc(tags):\n",
    "    i = 0\n",
    "    LOC_length = []\n",
    "\n",
    "    while i < len(tags):\n",
    "        if tags[i] == 'B-LOC':\n",
    "            length = 1  \n",
    "            i += 1\n",
    "            while i < len(tags) and tags[i] == 'I-LOC':\n",
    "                length += 1\n",
    "                i += 1\n",
    "            LOC_length.append(length)\n",
    "        else:\n",
    "            i += 1\n",
    "\n",
    "    return Counter(LOC_length)"
   ]
  },
  {
   "cell_type": "code",
   "execution_count": 20,
   "metadata": {},
   "outputs": [
    {
     "name": "stdout",
     "output_type": "stream",
     "text": [
      "Counter({1: 388, 2: 27, 3: 3, 4: 2})\n"
     ]
    }
   ],
   "source": [
    "print(count_loc(news_train[\"Tag\"].tolist()))\n"
   ]
  },
  {
   "cell_type": "code",
   "execution_count": 21,
   "metadata": {},
   "outputs": [
    {
     "name": "stdout",
     "output_type": "stream",
     "text": [
      "Counter({1: 52, 2: 4})\n"
     ]
    }
   ],
   "source": [
    "print(count_loc(news_dev[\"Tag\"].tolist()))\n"
   ]
  },
  {
   "cell_type": "code",
   "execution_count": 22,
   "metadata": {},
   "outputs": [
    {
     "name": "stdout",
     "output_type": "stream",
     "text": [
      "Counter({1: 47})\n"
     ]
    }
   ],
   "source": [
    "print(count_loc(news_test[\"Tag\"].tolist()))"
   ]
  },
  {
   "cell_type": "markdown",
   "metadata": {},
   "source": [
    "# Checking ORG"
   ]
  },
  {
   "cell_type": "code",
   "execution_count": 23,
   "metadata": {},
   "outputs": [],
   "source": [
    "def count_org(tags):\n",
    "    i = 0\n",
    "    ORG_length = []\n",
    "\n",
    "    while i < len(tags):\n",
    "        if tags[i] == 'B-ORG':\n",
    "            length = 1  \n",
    "            i += 1\n",
    "            while i < len(tags) and tags[i] == 'I-ORG':\n",
    "                length += 1\n",
    "                i += 1\n",
    "            ORG_length.append(length)\n",
    "        else:\n",
    "            i += 1\n",
    "\n",
    "    return Counter(ORG_length)"
   ]
  },
  {
   "cell_type": "code",
   "execution_count": 24,
   "metadata": {},
   "outputs": [
    {
     "name": "stdout",
     "output_type": "stream",
     "text": [
      "Counter({1: 260, 2: 102, 3: 48, 4: 6, 5: 1})\n"
     ]
    }
   ],
   "source": [
    "print(count_org(news_train[\"Tag\"].tolist()))\n"
   ]
  },
  {
   "cell_type": "code",
   "execution_count": 25,
   "metadata": {},
   "outputs": [
    {
     "name": "stdout",
     "output_type": "stream",
     "text": [
      "Counter({1: 36, 2: 7, 3: 4})\n"
     ]
    }
   ],
   "source": [
    "print(count_org(news_dev[\"Tag\"].tolist()))\n"
   ]
  },
  {
   "cell_type": "code",
   "execution_count": 26,
   "metadata": {},
   "outputs": [
    {
     "name": "stdout",
     "output_type": "stream",
     "text": [
      "Counter({1: 35, 2: 21, 3: 5})\n"
     ]
    }
   ],
   "source": [
    "print(count_org(news_test[\"Tag\"].tolist()))"
   ]
  },
  {
   "cell_type": "code",
   "execution_count": null,
   "metadata": {},
   "outputs": [],
   "source": []
  }
 ],
 "metadata": {
  "kernelspec": {
   "display_name": "base",
   "language": "python",
   "name": "python3"
  },
  "language_info": {
   "codemirror_mode": {
    "name": "ipython",
    "version": 3
   },
   "file_extension": ".py",
   "mimetype": "text/x-python",
   "name": "python",
   "nbconvert_exporter": "python",
   "pygments_lexer": "ipython3",
   "version": "3.11.5"
  }
 },
 "nbformat": 4,
 "nbformat_minor": 2
}
