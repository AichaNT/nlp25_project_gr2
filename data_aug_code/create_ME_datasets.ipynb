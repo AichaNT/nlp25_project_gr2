{
 "cells": [
  {
   "cell_type": "code",
   "execution_count": 21,
   "id": "d0eae3bf",
   "metadata": {},
   "outputs": [],
   "source": [
    "# imports\n",
    "import random\n",
    "import copy\n",
    "import sys\n",
    "sys.path.append(\"../\")\n",
    "\n",
    "from scripts.load_data import write_tsv_file, extract_labeled_tokens, mapping, read_tsv_file, write_iob2_file\n",
    "from scripts.data_aug import data_aug_replace\n",
    "from middle_eastern_ne import extract_first_names, get_last_names,  load_location, load_organisation\n",
    "\n",
    "random.seed(42)\n"
   ]
  },
  {
   "cell_type": "markdown",
   "id": "8cbdc040",
   "metadata": {},
   "source": [
    "## Get ME entities"
   ]
  },
  {
   "cell_type": "code",
   "execution_count": 22,
   "id": "c6bf85f5",
   "metadata": {},
   "outputs": [],
   "source": [
    "ME_BPER = extract_first_names(\"../data_aug_sources/Ordbog_over_muslimske_fornavne_i_DK.pdf\")\n",
    "ME_IPER = get_last_names(\"../data_aug_sources/middle_eastern_last_names.txt\", \"../data_aug_sources/KDBGIVE.tsv\")\n",
    "ME_LOC = load_location(\"../data_aug_sources/the-middle-east-cities.csv\")\n",
    "ME_ORG = load_organisation(\"../data_aug_sources/middle_eastern_organisations.csv\")"
   ]
  },
  {
   "cell_type": "markdown",
   "id": "b07d846a",
   "metadata": {},
   "source": [
    "## Read in data sets"
   ]
  },
  {
   "cell_type": "code",
   "execution_count": 23,
   "id": "2f38682f",
   "metadata": {},
   "outputs": [],
   "source": [
    "# path to the data files\n",
    "path_train = \"../data/no_overlap_da_news/da_news_train.tsv\"\n",
    "path_dev = \"../data/no_overlap_da_news/da_news_dev.tsv\"\n",
    "path_test = \"../data/no_overlap_da_news/da_news_test.tsv\"\n",
    "\n",
    "# create mapping\n",
    "label2id, id2label = mapping(path_train)\n",
    "\n",
    "# read in the DaN+ data\n",
    "train_data = read_tsv_file(path_train, label2id)\n",
    "dev_data = read_tsv_file(path_dev, label2id)\n",
    "test_data = read_tsv_file(path_test, label2id)"
   ]
  },
  {
   "cell_type": "markdown",
   "id": "d447948f",
   "metadata": {},
   "source": [
    "## Replace entities in dev and test set"
   ]
  },
  {
   "cell_type": "code",
   "execution_count": 24,
   "id": "ac413feb",
   "metadata": {},
   "outputs": [],
   "source": [
    "# extracting all tokens in train data - to ensure no overlap later\n",
    "train_tokens = extract_labeled_tokens(train_data)"
   ]
  },
  {
   "cell_type": "code",
   "execution_count": 25,
   "id": "fbf776a0",
   "metadata": {},
   "outputs": [],
   "source": [
    "# for saving all used entities\n",
    "used_entities = set()"
   ]
  },
  {
   "cell_type": "code",
   "execution_count": 26,
   "id": "0473ac72",
   "metadata": {},
   "outputs": [
    {
     "data": {
      "text/plain": [
       "set()"
      ]
     },
     "execution_count": 26,
     "metadata": {},
     "output_type": "execute_result"
    }
   ],
   "source": [
    "used_entities"
   ]
  },
  {
   "cell_type": "code",
   "execution_count": 27,
   "id": "6025d8ec",
   "metadata": {},
   "outputs": [
    {
     "data": {
      "text/plain": [
       "589"
      ]
     },
     "execution_count": 27,
     "metadata": {},
     "output_type": "execute_result"
    }
   ],
   "source": [
    "ME_dev, used_entities = data_aug_replace(dev_data, sentence_amount=1000,\n",
    "                                         ME_LOC = ME_LOC, ME_ORG = ME_ORG, ME_BPER = ME_BPER, ME_IPER = ME_IPER, \n",
    "                                         used_entities = used_entities, train_tokens=train_tokens)\n",
    "len(used_entities)\n",
    "\n",
    "ME_test, used_entities = data_aug_replace(test_data, sentence_amount=1000,\n",
    "                                         ME_LOC = ME_LOC, ME_ORG = ME_ORG, ME_BPER = ME_BPER, ME_IPER = ME_IPER, \n",
    "                                         used_entities = used_entities, train_tokens=train_tokens)\n",
    "len(used_entities)"
   ]
  },
  {
   "cell_type": "code",
   "execution_count": 28,
   "id": "75b7f975",
   "metadata": {},
   "outputs": [
    {
     "name": "stdout",
     "output_type": "stream",
     "text": [
      "{('Zabol',), 'Fadi', 'Omar', 'Abid', 'Javid', ('Al', 'Hayy'), ('Nagham',), ('Jidda',), 'Saif', 'Al khatiri', ('As', 'Suwayq'), 'Elias', ('Neyshabur',), ('Bayanat',), 'Sawadi', 'Layla', ('Qatar', 'Fuel'), 'Khaled', 'Elgissaini', 'Anwar', ('Miandoab',), ('Elm',), ('218TV',), ('ADNOC',), ('Al', 'Bab'), 'Sahjan', 'Baqir', ('Sonatrach',), 'Widad', 'Dunia', 'Sahar', 'Shah', 'Suhailah', 'Yassine', ('Hamadan',), ('Eskisehir',), 'Shahida', 'Rabih', ('Bukan',), ('Afriquia',), ('Mukalla',), 'Shaaban', ('Al-Nahar',), 'Najah', 'Kerim', ('Ankara',), ('Ünye',), ('Rustaq',), 'Faruk', ('Amanat', 'Holdings'), ('Saudia',), ('Mersa', 'Matruh'), ('Mauritel',), 'Mahir', 'Mansoor', ('Dubai', 'Islamic', 'Bank'), 'Amal', ('TAQA', 'Group'), 'Malak', ('Kingdom', 'Holding', 'Company'), 'Zamil', ('Bakdash',), ('Careem',), 'Nejla', ('GIB', 'Capital'), ('Zain', 'KSA'), 'Kashif', ('Irbid',), 'Alaizayli', ('Thumbay', 'Group'), 'Daud', ('Dogonbadan',), 'Kamila', ('Ağrı',), ('Gaziantep',), ('Saidal',), ('Qurayyat',), 'Zainab', 'Sawaina', ('Medina',), ('NBN',), 'Imane', 'Halim', 'Randa', ('Suez',), ('Kirikkale',), 'Amna', ('Seeb',), 'Yasin', 'Adeel', ('Etihad', 'Etisalat', 'Company'), 'Muhammed', 'Adham', ('Qorveh',), 'Ahmad', ('Emsteel',), 'Alisa', ('Damac',), ('Emirates', 'Islamic'), 'Sawaheel', 'Ayat', ('BMMI',), 'Hadil', ('Flynas',), ('Sarwa',), ('Zahedan',), ('Mashreq',), ('Bishah',), ('Swvl',), 'El massaif', 'Amjad', 'Mukhlaf', 'Ikram', 'Al maaitah', ('Hawaï',), 'Hussam', ('Akhbar', 'Nouakchott'), 'Faris', ('Boubyan', 'Bank'), 'Abbasi', ('Mathaqi',), ('Sayhat',), ('Khartoum',), ('Ajeer',), ('Akdital',), ('Kayseri',), 'Altihayqi', 'Halima', ('CBC',), ('Gulf', 'Bank'), 'Nazim', ('Soma',), 'Uzma', 'Naja', ('BMCI',), 'Al azzam', ('Borujerd',), ('KIPCO',), ('Kermanshah',), ('Savola', 'Group'), ('Al-Ahram',), ('Mustafakemalpaşa',), ('Malatya',), ('Apparel', 'Group'), ('Sulaymaniyah',), ('Nakilat',), ('Epilert',), 'Nassim', ('Muscat',), 'Barham', 'Saima', ('Aster', 'DM', 'Healthcare'), 'Kazem', ('Idlib',), 'Sobh', 'Khalid', ('SGTM',), ('Kahramanmaraş',), ('Semnan',), 'Mina', 'Waqar', ('Marafiq',), 'Hajar', 'Hanan', 'Sioarain', 'Shakila', ('Rafah',), ('BulkWhiz',), 'Ali', 'Majed', 'Faysal', 'Hamsa', ('Zaytouna', 'TV'), 'Fuad', 'Hashem', ('Wallyscar',), 'Anika', ('Chefaa',), ('Tishreen',), 'Zakariya', ('Konya',), ('Iranshahr',), ('Solfeh',), ('Evertek',), 'Aldhiraymi', 'Talha', 'Alaishaydi', ('İnegöl',), 'Al nuaimi', ('Ereğli',), 'Mohammad', 'Mervan', ('Taiz',), ('Az', 'Zubayr'), 'Khan', ('Bahrain',), 'Abdalla', 'Abdulkadir', ('Oilibya',), ('Nevşehir',), 'Alissa', ('Dammam',), ('Bimo',), 'Abdulaziz', ('Khash',), 'Dana', ('Empower',), 'Karima', ('Manisa',), ('Athaqafia',), ('Nabd',), 'Sara', ('Al-Arish',), 'Adel', 'Al mazroui', 'Saadia', 'Hanadi', ('Al-Massira',), ('Télé', 'Liban'), 'Hasan', 'Rachid', ('Shahr-e', 'Kord'), ('Gulf', 'Madhyamam'), ('Kırşehir',), ('Bingöl',), 'Nazanin', ('Kilis',), 'Alaibayshi', 'Zaina', 'Arwa', 'Sami', ('Riyad', 'Bank'), 'Rajan', 'Albawaina', 'Albandi', ('Al', 'Madina'), ('Alrifai',), ('Istanbul',), ('K24',), 'Sumaya', 'Manal', 'Rawashdeh', 'Rashid', 'Naimat', ('Argaam',), ('Bismil',), 'Jamil', ('al-Furat',), 'Khurram', ('Al', 'Farwaniyah'), 'Bayan', ('Banagas',), ('Bush',), ('First', 'Abu', 'Dhabi', 'Bank'), ('Investcorp',), ('Unifonic',), ('Shihan',), ('Tunisavia',), ('Al', 'Bahah'), ('Aumet',), ('PubliTools',), 'Attieh', 'Nura', 'Lubna', 'Wassim', ('Al', 'Rai'), ('Hakkari',), 'Samed', ('Sakakah',), ('Etisalat',), ('Burdur',), 'Taghrid', 'Khadra', ('DenizBank',), ('BiscoMisr',), ('Karaman',), 'Nader', ('Çanakkale',), ('Xenel',), 'Bukhari', ('Al-Intiqad',), 'Aldhihaybi', ('Adaraweesh',), ('Nazilli',), ('Naseej',), 'Yousra', 'Al kharabsheh', 'Khatabh', 'Sahmoud', ('Dabchy',), 'Mahad', ('Ash', 'Shatrah'), 'Khudair', 'Sulayman', ('DEWA',), ('Ar', 'Rass'), 'Ayub', 'Mostafa', ('Agility',), ('Tarjama',), 'Mahmoud', 'Talat', 'Nadja', ('Giresun',), 'Bin', 'Fayez', 'Ghada', 'Milad', 'Matin', ('Arasco',), ('Ismailia',), 'Yasmin', ('Tarut',), ('ArabiaWeather',), ('Edirne',), ('Aramco',), 'Atif', 'Yusuf', ('Ardabil',), ('Al-Muhaidib',), ('Khobar',), 'Razia', ('Al-Ouruba',), 'Ordbog over muslimske fornavne i Danmark', ('Monoprix',), ('Al', 'Rayaam'), 'Hussein', ('Jirja',), ('Lucidya',), ('Irak',), ('Bahçelievler',), ('Bafra',), 'Sonya', 'Ilias', ('Khan', 'Yunis'), 'Ghani', 'El ghany', 'Nidal', 'Leyla', ('Siera',), 'Mourad', ('Tanda',), 'Hilal', ('Colorado',), ('Al', 'Sharq'), ('Hawalli',), 'Bakhsh', 'Asmaa', ('MBC',), 'Aliya', 'Salama', ('Al-Arab', 'Al-Yawm'), ('Kharafi', 'Group'), 'Nasreen', 'Damir', ('QEWC',), ('Ooredoo',), 'Qasim', 'Thabet', ('Mazzika',), 'Shaheen', ('Koutoubia',), ('Osmaniye',), 'Baki', ('Sonasid',), ('Mazazikh',), 'Mutlaq', 'Azhar', 'Nemer', 'Karim', 'Sudani', 'Nazir', ('Ad-Dustour',), 'Hazim', ('Mrsool',), 'Aldhiraybi', 'Fatuma', 'Hasiba', 'El sherif', 'Isam', ('Gaza',), 'Sahmodin', ('Dhamar',), ('Fertiglobe',), 'Aisha', 'Akram', 'Salma', 'Asia', ('Tatvan',), 'Ahmet', ('Egyptalum',), 'Albayda', ('Tyre',), ('AL24', 'News'), ('Buraydah',), ('MarsaMaroc',), 'Kamal', ('Varamin',), ('Aldar', 'Properties'), 'Burhan', 'Rifat', ('Erbil',), ('Saham',), 'Sawsan', 'Sundus', 'Zuhra', 'Majid', ('Shawarmer',), ('Baladna',), 'Maha', 'Naziha', 'Tasnim', 'Fawzia', 'Amar', ('Omantel',), ('al-Hayat', 'al-Jadida'), 'Fatiha', ('Al-Mashriq',), (\"Ha'il\",), ('Khorramabad',), ('Cima',), ('Khaleej', 'Times'), ('Patnos',), 'Saudah', ('Edfu',), 'Yousif', ('al-Alam',), 'Dahlia', 'Aiman', ('Denizli',), ('Kufa',), 'Süleyman', 'Amina', 'Edhla', 'Sahmu Adin', 'Hana', ('SNRT',), 'Naila', ('Aswan',), 'Madhavan', ('Emirates', 'Red', 'Crescent'), 'Khalifa', ('Zonguldak',), 'Alaijaybi', ('Kitea',), 'Fatih', ('ONCF',), 'Ibrahim', 'Salman', 'Zohra', ('Samsun',), 'Sadik', 'Samia', 'Alshammari', 'Aldermaki', ('Mubadala',), ('Al-Thawra',), 'Tahir', 'Sohool', ('Aluminium', 'Bahrain'), 'Houda', 'Mehdi', ('Karaj',), 'Haydar', 'Nasima', ('OSN',), ('Mardin',), 'Usama', ('Basra',), 'Syed', 'Shahin', 'Nuri', ('Abnub',), ('Salihli',), ('Sur',), ('Cevital',), 'Asghar', ('AKKASA',), ('Elazig',), ('Beylikduezue',), ('Al', 'Jazeera'), ('Karabağlar',), 'Lina', 'Sardar', 'Faisa', ('Djezzy',), ('Hafar', 'Al-Batin'), ('Nilesat',), 'Mahnaz', 'Mohsen', 'Maryam', ('Massaya',), 'Rasim', 'Ameerh', ('Ashmun',), ('Filasteen', 'al-Muslimah'), ('Bursa',), 'Anas', 'Alaijayni', 'Tahani', ('SAMI',), ('Kezad',), ('Al', 'Ayam'), 'Rabab', ('Malaeb',), ('Büyükçekmece',), 'Haris', 'Ziba', ('Biougnach',), ('Derq',), ('Bank', 'Albilad'), 'Asima', ('Jawan',), 'Ben', ('Çorum',), 'Albanoon', ('Dussur',), ('Alshaya',), ('Inagrab',), 'Nadiya', ('Sopriam',), 'Umar', 'Mokhtar', 'Nusrat', 'Hamed', 'Ibtisam', 'Sawaghinah', 'Metin', ('Al', 'Nabooda', 'Automobiles'), ('Khanjarah',), 'Bin Shamlan', 'Bahar', 'Omer', 'Murtaza', ('Kashmar',), ('Mobily',), 'Mahmud', 'Abdullah', ('Kuhdasht',), 'El kordy', ('NMDC', 'Group'), ('Al-Kifah', 'al-Arabi'), 'Kazim', ('Palæstina',), ('Sivas',), 'Kemal', 'Jasmina', ('Iqraa',), 'Jasmine', ('2M',), ('Isfahan',), 'Ehsan', 'Hassouneh', 'Jinan', 'Husam', ('Asmidal',), 'Sayed', ('Dnata',), 'Mumadi', 'Sharifa', 'Shahid', 'Sahyla', 'Zaid', ('Madaba',), 'Obaid', ('RASCO',), ('Silifke',), ('al-Qabas',), 'Baig', ('Al-Bilad',), ('Atasehir',), ('Sirjan',), 'Imran', ('Al', 'Manzalah'), ('Ma’aden',), 'Butt', 'Abdulqadir', ('Qarchak',), 'Abir', ('Homs',), 'Zamzam', ('Fetchr',), 'Hazem', 'Alaibayli', ('Ash', 'Shafa'), 'Latifa', 'Hoda', ('Al', 'Jamahir'), 'Zaman'}\n"
     ]
    }
   ],
   "source": [
    "print(used_entities)"
   ]
  },
  {
   "cell_type": "code",
   "execution_count": 29,
   "id": "a66e33c0",
   "metadata": {},
   "outputs": [
    {
     "name": "stdout",
     "output_type": "stream",
     "text": [
      "735\n",
      "514\n"
     ]
    }
   ],
   "source": [
    "print(len(ME_BPER))\n",
    "BPER_left = [item for item in ME_BPER if item not in used_entities]\n",
    "print(len(BPER_left))"
   ]
  },
  {
   "cell_type": "code",
   "execution_count": 30,
   "id": "9fd66e90",
   "metadata": {},
   "outputs": [
    {
     "name": "stdout",
     "output_type": "stream",
     "text": [
      "1580\n",
      "1456\n"
     ]
    }
   ],
   "source": [
    "print(len(ME_IPER))\n",
    "IPER_left = [item for item in ME_IPER if item not in used_entities]\n",
    "print(len(IPER_left))"
   ]
  },
  {
   "cell_type": "code",
   "execution_count": 31,
   "id": "c5ef21b7",
   "metadata": {},
   "outputs": [
    {
     "name": "stdout",
     "output_type": "stream",
     "text": [
      "481\n",
      "352\n"
     ]
    }
   ],
   "source": [
    "print(len(ME_LOC))\n",
    "LOC_left = [d for d in ME_LOC if tuple(d['tokens']) not in used_entities]\n",
    "print(len(LOC_left))"
   ]
  },
  {
   "cell_type": "code",
   "execution_count": 32,
   "id": "7eb33ee5",
   "metadata": {},
   "outputs": [
    {
     "name": "stdout",
     "output_type": "stream",
     "text": [
      "427\n",
      "260\n"
     ]
    }
   ],
   "source": [
    "print(len(ME_ORG))\n",
    "ORG_left = [d for d in ME_ORG if tuple(d['tokens']) not in used_entities]\n",
    "print(len(ORG_left))"
   ]
  },
  {
   "cell_type": "code",
   "execution_count": 33,
   "id": "ce5ad0c3",
   "metadata": {},
   "outputs": [],
   "source": [
    "#for sent in ME_dev: \n",
    "#    print(sent)"
   ]
  },
  {
   "cell_type": "code",
   "execution_count": 34,
   "id": "f48b4937",
   "metadata": {},
   "outputs": [],
   "source": [
    "#for sent in ME_test: \n",
    "#    print(sent)"
   ]
  },
  {
   "cell_type": "code",
   "execution_count": 35,
   "id": "81a594f6",
   "metadata": {},
   "outputs": [],
   "source": [
    "# save as tsv files\n",
    "write_tsv_file(ME_dev, \"../data/me_data/middle_eastern_dev.tsv\")\n",
    "write_tsv_file(ME_test, \"../data/me_data/middle_eastern_test.tsv\")"
   ]
  },
  {
   "cell_type": "code",
   "execution_count": 36,
   "id": "287171b7",
   "metadata": {},
   "outputs": [],
   "source": [
    "write_iob2_file(ME_test, path=\"../data/me_data/middle_eastern_test.iob2\", gold=True)"
   ]
  }
 ],
 "metadata": {
  "kernelspec": {
   "display_name": "NLP",
   "language": "python",
   "name": "python3"
  },
  "language_info": {
   "codemirror_mode": {
    "name": "ipython",
    "version": 3
   },
   "file_extension": ".py",
   "mimetype": "text/x-python",
   "name": "python",
   "nbconvert_exporter": "python",
   "pygments_lexer": "ipython3",
   "version": "3.9.21"
  }
 },
 "nbformat": 4,
 "nbformat_minor": 5
}
