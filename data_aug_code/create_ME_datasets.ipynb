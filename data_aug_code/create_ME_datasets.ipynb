{
 "cells": [
  {
   "cell_type": "code",
   "execution_count": 108,
   "id": "d0eae3bf",
   "metadata": {},
   "outputs": [],
   "source": [
    "# imports\n",
    "import random\n",
    "import copy\n",
    "import sys\n",
    "sys.path.append(\"../\")\n",
    "\n",
    "from scripts.load_data import write_tsv_file, extract_labeled_tokens, mapping, read_tsv_file, write_iob2_file\n",
    "from middle_eastern_ne import extract_first_names, get_last_names,  load_location, load_organisation\n"
   ]
  },
  {
   "cell_type": "markdown",
   "id": "8cbdc040",
   "metadata": {},
   "source": [
    "## Get ME entities"
   ]
  },
  {
   "cell_type": "code",
   "execution_count": 109,
   "id": "c6bf85f5",
   "metadata": {},
   "outputs": [],
   "source": [
    "ME_BPER = extract_first_names(\"../data_aug_sources/Ordbog_over_muslimske_fornavne_i_DK.pdf\")\n",
    "ME_IPER = get_last_names(\"../data_aug_sources/middle_eastern_last_names.txt\", \"../data_aug_sources/KDBGIVE.tsv\")\n",
    "ME_LOC = load_location(\"../data_aug_sources/the-middle-east-cities.csv\")\n",
    "ME_ORG = load_organisation(\"../data_aug_sources/middle_eastern_organisations.csv\")"
   ]
  },
  {
   "cell_type": "code",
   "execution_count": 110,
   "id": "8d14fffb",
   "metadata": {},
   "outputs": [
    {
     "data": {
      "text/plain": [
       "{'tokens': ['Saudi', 'Aramco'], 'ner_tags': ['B-ORG', 'I-ORG']}"
      ]
     },
     "execution_count": 110,
     "metadata": {},
     "output_type": "execute_result"
    }
   ],
   "source": [
    "ME_ORG[0]"
   ]
  },
  {
   "cell_type": "markdown",
   "id": "b07d846a",
   "metadata": {},
   "source": [
    "## Read in data sets"
   ]
  },
  {
   "cell_type": "code",
   "execution_count": 111,
   "id": "2f38682f",
   "metadata": {},
   "outputs": [],
   "source": [
    "# path to the data files\n",
    "path_train = \"../data/no_overlap_da_news/da_news_train.tsv\"\n",
    "path_dev = \"../data/no_overlap_da_news/da_news_dev.tsv\"\n",
    "path_test = \"../data/no_overlap_da_news/da_news_test.tsv\"\n",
    "\n",
    "# create mapping\n",
    "label2id, id2label = mapping(path_train)\n",
    "\n",
    "# read in the DaN+ data\n",
    "train_data = read_tsv_file(path_train, label2id)\n",
    "dev_data = read_tsv_file(path_dev, label2id)\n",
    "test_data = read_tsv_file(path_test, label2id)"
   ]
  },
  {
   "cell_type": "markdown",
   "id": "d447948f",
   "metadata": {},
   "source": [
    "## Replace entities in dev and test set"
   ]
  },
  {
   "cell_type": "code",
   "execution_count": 112,
   "id": "ac413feb",
   "metadata": {},
   "outputs": [],
   "source": [
    "# extracting all tokens in train data - to ensure no overlap later\n",
    "train_tokens = extract_labeled_tokens(train_data)"
   ]
  },
  {
   "cell_type": "code",
   "execution_count": 113,
   "id": "fbf776a0",
   "metadata": {},
   "outputs": [],
   "source": [
    "# for saving all used entities\n",
    "used_entities = set()"
   ]
  },
  {
   "cell_type": "code",
   "execution_count": 114,
   "id": "29464575",
   "metadata": {},
   "outputs": [],
   "source": [
    "def data_aug_replace(dataset, sentence_amount, ME_LOC = ME_LOC, ME_ORG = ME_ORG,\n",
    "                     ME_BPER = ME_BPER, ME_IPER = ME_IPER, used_entities = None, train_tokens=train_tokens):\n",
    "    \"\"\"\n",
    "    Replaces named entities in a subset of the dataset with new MENAPT ones, ensuring:\n",
    "    - No reused tokens across datasets\n",
    "    - No tokens from train set\n",
    "    - Deterministic behavior\n",
    "    - Returns updated used_entities (flat set of tokens)\n",
    "    \"\"\"\n",
    "    random.seed(42)\n",
    "    local_used = set(used_entities)\n",
    "\n",
    "    # extract sentences with containing relevant tags\n",
    "    eligible_sentences = [sent for sent in dataset if any(tag not in [\"O\", \"B-MISC\", \"I-MISC\"] for tag in sent[\"ner_tags\"])]\n",
    "    # select random sentences\n",
    "    selected_sentences = random.sample(eligible_sentences, min(sentence_amount, len(eligible_sentences)))\n",
    "    # create copy to not modify original dataset \n",
    "    modified_dataset = [dict(sent) for sent in dataset] \n",
    "\n",
    "\n",
    "    for sent in modified_dataset:\n",
    "        if sent not in selected_sentences:\n",
    "            continue\n",
    "\n",
    "        i = 0\n",
    "        while i < len(sent[\"tokens\"]):\n",
    "            tag = sent[\"ner_tags\"][i]\n",
    "\n",
    "            if tag == 'B-PER':\n",
    "                available = [p for p in ME_BPER if p not in local_used and p not in train_tokens]\n",
    "                if available:\n",
    "                    replace = random.choice(available)\n",
    "                    sent[\"tokens\"][i] = replace\n",
    "                    local_used.add(replace)\n",
    "                i += 1\n",
    "\n",
    "            elif tag == 'I-PER':\n",
    "                available = [p for p in ME_IPER if p not in local_used and p not in train_tokens]\n",
    "                if available:\n",
    "                    replace = random.choice(available)\n",
    "                    sent[\"tokens\"][i] = replace\n",
    "                    local_used.add(replace)\n",
    "                i += 1\n",
    "\n",
    "            elif tag == 'B-LOC':\n",
    "                span_start = i\n",
    "                span_len = 1\n",
    "                i += 1\n",
    "                while i < len(sent[\"ner_tags\"]) and sent[\"ner_tags\"][i] == \"I-LOC\":\n",
    "                    span_len += 1\n",
    "                    i += 1\n",
    "\n",
    "                available = [\n",
    "                    loc for loc in ME_LOC\n",
    "                    if len(loc[\"tokens\"]) == span_len and\n",
    "                    tuple(loc[\"tokens\"]) not in local_used and\n",
    "                    tuple(loc[\"tokens\"]) not in train_tokens\n",
    "                ]\n",
    "                \n",
    "                if available:\n",
    "                    replace = random.choice(available)\n",
    "                    sent[\"tokens\"][span_start:span_start + span_len] = replace[\"tokens\"]\n",
    "                    local_used.add(tuple(replace[\"tokens\"]))\n",
    "\n",
    "            elif tag == 'B-ORG':\n",
    "                span_start = i\n",
    "                span_len = 1\n",
    "                i += 1\n",
    "                while i < len(sent[\"ner_tags\"]) and sent[\"ner_tags\"][i] == \"I-ORG\":\n",
    "                    span_len += 1\n",
    "                    i += 1\n",
    "\n",
    "                available = [\n",
    "                    org for org in ME_ORG\n",
    "                    if len(org[\"tokens\"]) == span_len and\n",
    "                    tuple(org[\"tokens\"]) not in local_used and\n",
    "                    tuple(org[\"tokens\"]) not in train_tokens\n",
    "                ]\n",
    "\n",
    "                if available:\n",
    "                    replace = random.choice(available)\n",
    "                    sent[\"tokens\"][span_start:span_start + span_len] = replace[\"tokens\"]\n",
    "                    local_used.add(tuple(replace[\"tokens\"]))\n",
    "\n",
    "            else:\n",
    "                i += 1\n",
    "\n",
    "    return modified_dataset, local_used\n"
   ]
  },
  {
   "cell_type": "code",
   "execution_count": 115,
   "id": "0473ac72",
   "metadata": {},
   "outputs": [
    {
     "data": {
      "text/plain": [
       "set()"
      ]
     },
     "execution_count": 115,
     "metadata": {},
     "output_type": "execute_result"
    }
   ],
   "source": [
    "used_entities"
   ]
  },
  {
   "cell_type": "code",
   "execution_count": 116,
   "id": "6025d8ec",
   "metadata": {},
   "outputs": [
    {
     "data": {
      "text/plain": [
       "279"
      ]
     },
     "execution_count": 116,
     "metadata": {},
     "output_type": "execute_result"
    }
   ],
   "source": [
    "ME_dev, used_entities = data_aug_replace(dev_data, used_entities=used_entities, sentence_amount=1000)\n",
    "len(used_entities)"
   ]
  },
  {
   "cell_type": "code",
   "execution_count": 117,
   "id": "fe68fcbf",
   "metadata": {},
   "outputs": [
    {
     "data": {
      "text/plain": [
       "589"
      ]
     },
     "execution_count": 117,
     "metadata": {},
     "output_type": "execute_result"
    }
   ],
   "source": [
    "ME_test, used_entities = data_aug_replace(test_data, used_entities=used_entities, sentence_amount=1000)\n",
    "len(used_entities)"
   ]
  },
  {
   "cell_type": "code",
   "execution_count": 118,
   "id": "75b7f975",
   "metadata": {},
   "outputs": [
    {
     "name": "stdout",
     "output_type": "stream",
     "text": [
      "{'Farhad', ('Esenyurt',), 'Shah', ('Kermanshah',), ('Kars',), ('Al', 'Liwaa'), ('Mahabad',), 'Morad', 'Ahmad', ('Swvl',), 'Yousef', 'Shams', 'Aldhibayri', ('Amanat', 'Holdings'), 'Nader', ('Al', 'Kut'), 'Metin', ('Kahta',), 'Khan', ('OSN',), 'Ayat', 'Zohra', ('Kahramaa',), ('Arab', 'Bank'), 'Naila', 'Suad', 'Dani', ('Al-Muhaidib',), ('Al-Ouruba',), ('Monoprix',), ('Savola', 'Group'), 'Hasib', ('Ardeşen',), 'Hafsa', 'Nasima', ('Jirja',), ('Palæstina',), 'Elhamly', 'Alissa', 'Farhan', 'Mohiuddin', ('Aluminium', 'Bahrain'), 'Duaa', ('Corlu',), ('SGTM',), 'Umar', ('Al-Arab', 'Al-Yawm'), ('As', 'Suwayq'), 'Alaishayti', ('Alpha', 'Dhabi', 'Holding'), ('Marand',), 'Masoud', 'Adwan', 'Kamran', ('Baladna',), 'Kerem', 'Safia', ('Tamatem',), ('Khaleej', 'Times'), ('ONTV',), 'Sohela', 'Karam', 'Hamoud', ('Sirjan',), ('Üsküdarr',), 'Rabab', 'Sha', 'Muna', 'Sawadihah', ('Kharabeesh',), 'Alaidhaydi', ('Bahrain',), ('Madaba',), 'Shahnaz', 'Kamar', ('Al', 'Raya'), 'Ibtisam', 'Alaa', ('Konya',), 'Radia', ('NBN',), 'Amna', ('Comarit',), ('Tyre',), 'Samina', 'Anika', ('G42',), ('Al-Hudaydah',), ('Aramco',), 'Sahym', 'Khorram', 'Lana', 'Zuhra', ('Etisalat',), ('Derq',), ('Isfahan',), ('Sonatrach',), 'Abdirahman', 'Sawamira', 'Amjad', ('Al', 'Minya'), 'Nadiya', ('Mazzika',), ('Østjerusalem',), 'Samad', 'Fawzia', 'Sohool', 'Kvindenavne', ('Khanjarah',), ('Alrifai',), 'Haris', 'Mostapha', 'Sabar', ('Elazig',), 'Shadi', 'Patil', 'Hazem', ('Birjand',), 'Mustapha', ('JoSat',), 'Walid', 'Nail', 'Marjan', ('Riyadh',), 'Cemal', 'Suleiman', ('Hawaï',), ('2M',), 'Ridha', 'Asima', ('Damanhur',), 'Safa', 'Ayoub', ('Fatsa',), ('Zahle',), 'Mazen', ('Roya', 'TV'), 'Marwa', 'Recep', ('Habbouch',), 'Hassouni', ('Apparel', 'Group'), ('al-Qabas',), 'Salma', 'Sinan', 'Nusrat', ('Zabol',), ('International', 'Holding', 'Company'), 'Hashim', ('Bahçelievler',), 'Hasna', 'Aida', ('al-Jamahiriyah',), ('Az', 'Zubayr'), 'Aboud', ('Kahramanmaraş',), 'Samira', ('Wanasah',), ('NBB', 'Group'), 'Shabnam', 'Jasmine', 'Iqra', 'Suresh', ('Shiraz',), 'Hanan', 'Altihayfi', 'Wasim', 'Tarik', 'Ziba', 'Shaikh', ('Inagrab',), 'Latifa', 'Rizwan', 'Khalid', 'Milad', ('Boubyan', 'Bank'), ('Al-Massira',), 'Lulu', 'Sohaad', 'Alzahrani', ('Al-Horria',), ('Investcorp',), ('Mazazikh',), 'Amina', ('Kayseri',), 'Hamed', ('Evertek',), 'Haydar', ('Fasa',), ('Asyut',), ('Kufa',), 'Raad', 'Hendi', ('Maroc', 'Telecom'), ('Asiacell',), ('al-Bayan',), 'Mina', ('Tabbah',), ('Dahuk',), ('Gulf', 'Madhyamam'), ('Gulf', 'Bank'), 'Saman', 'Aminah', 'Alisa', ('SOMED',), ('Dnata',), 'El hadid', 'Najwa', 'Munira', ('Rafah',), 'Mirza', 'Kassem', ('Massaya',), ('al-Alam',), 'Sonya', 'Zainab', 'Rabia', 'Said', ('Emirates', 'Islamic'), 'Khadija', 'Elias', ('Kilis',), 'Albaych', ('Silifke',), ('Bishah',), ('Seeb',), 'Aldhiraysi', ('Daraty',), ('Télé', 'Liban'), ('Saudia',), ('Khomeyni', 'Shahr'), ('3ayez',), ('Al', 'Nabooda', 'Automobiles'), ('Virtuzone',), ('Omantel',), 'Ghazi', ('Al', 'Manzalah'), ('KTV2',), 'Manna', 'Sundus', ('Mustafakemalpaşa',), 'Yakup', ('Marafiq',), 'Hanifa', 'Husein', ('Karaman',), ('Körfez',), 'Kashif', ('Nadec',), 'Arshad', ('Altibbi',), ('Tarut',), 'Altihayqi', 'Warda', ('MBC',), ('Nizwa',), ('Beylikduezue',), 'Swaqia', ('Alwasat',), 'Akif', 'Ziad', ('Amol',), ('Wallyscar',), ('Du',), ('Ferrimaroc',), ('Al-Intiqad',), ('Ereğli',), ('Al-Bilad',), ('Dhamar',), ('Babol',), 'Iman', ('Manisa',), 'Hani', ('MarsaMaroc',), ('Al-Nahar',), ('Karabağlar',), 'Nasim', ('Mauritel',), ('Zahedan',), ('Bukan',), 'Saliha', ('Al-Waie',), 'Rehana', ('Dikirnis',), 'Aadhraa', ('Saidal',), 'Khurram', ('Cerebras',), ('Dubai', 'Islamic', 'Bank'), ('Gaziantep',), ('Bafra',), 'Sihamoudine', ('Jet4you',), 'Alaysuli', 'Alaisayqi', ('El', 'Heddaf'), ('Amal', 'Glass'), 'Mahawi', ('Al', 'Rai'), 'El hajj', 'Ghannam', ('Filasteen', 'al-Muslimah'), ('Dogonbadan',), 'Saoadi', 'Nazmi', 'Bhatia', ('Adaraweesh',), ('Çorum',), ('Unifonic',), 'Ilham', ('Mubadala',), 'Marwan', ('Jawan',), ('LDC',), ('Lucidya',), 'Alairaywi', 'Nazir', 'Nofal', ('ADNOC',), ('Siirt',), ('Shihan',), 'Nagham', ('Mashreq',), 'Waseem', 'Pillai', ('Osmaniye',), ('AL24', 'News'), 'Mohammed', 'Alanfuli', ('Munuf',), 'Dunia', ('Al', 'Jazeera'), 'Sajid', ('Hawalli',), 'Matroud', ('Aiguebelle',), ('Mo’men',), ('Malatya',), 'Ramin', ('Irbid',), 'Naia', 'Maher', 'Salam', ('Ünye',), 'Ayah', ('Talkha',), 'Malak', ('Cevital',), 'Al shihi', 'Abdel', ('Etihad', 'Etisalat', 'Company'), 'Shoaib', ('Erbil',), 'Bawazir', ('Bush',), 'Bahram', ('Izmit',), 'Ghamdi', 'Nasreen', 'El omry', 'Baqir', ('218TV',), ('Jizan',), ('Iran',), ('Bingöl',), ('Adwya',), ('RASCO',), 'Asia', 'Bünyamin', 'Rayan', 'Irfan', ('Souqalmal',), ('Ad-Dustour',), 'Moussa', 'Adham', ('Assabeel',), 'Mahmoud', ('Saham',), 'Al kibaly', 'Tahsin', 'Wail', ('Gaza',), ('Attajdid',), 'Zaher', 'Alali', 'Faten', ('Ajeer',), 'Khazal', 'Nida', 'Nada', 'Albustaji', 'El tanigy', ('Bilqas',), 'Tahira', ('Ar', 'Rass'), ('Mersa', 'Matruh'), ('Balad', 'Party'), 'Hajar', 'Faisal', 'Nabil', 'Sulaiman', 'Amer', 'Ahmed', ('Sharjah', 'Islamic', 'Bank'), 'Sawahira', 'Shaik', 'Asiya', 'Sharif', ('Torath',), 'Abdel sahib', 'Tamer', 'Saudah', 'Al harhasha', ('Al-Thawra',), ('Khobar',), 'El kutby', ('Anzal-e', 'Jonubi'), 'Yasemin', 'Fayez', ('AKKASA',), ('Atasehir',), ('Bahri',), ('Ağrı',), 'Muhammed', ('Kırşehir',), 'Adel', 'Aldhilayli', ('Malaeb',), ('Nehmeh',), 'Zaki', ('Mekameleen', 'TV'), 'Abid', 'Samar', 'Matin', 'Makki', ('Sabzevar',), 'Salman', 'Ghazala', 'Fatuma', 'Tahani', ('Burdur',), 'Amir', 'Zaina', ('Al', 'Bab'), ('Koutoubia',), ('Khartoum',), ('Careem',), 'Reem', 'Bahar', 'Laila', 'Alswair', 'Sahlaly', 'Kamil', 'Razia', ('Aumet',), 'Aicha', ('Nabd',), ('Siera',), ('Arryadia',), ('Langarud',), ('Qatar', 'Fuel'), ('Mukalla',), 'Majida', ('Sultanah',), 'Ayuub', ('Bayanat',), 'Anisa', ('Mrsool',), ('al-Furat',), ('Flynas',), 'Mushtaq', 'Manal', ('Xenel',), ('Qalyub',), ('Solfeh',), 'Alaidayhi', ('al-Hayat', 'al-Jadida'), ('Denizli',), 'Hamida', ('Empower',), ('Sulaymaniyah',), 'Khalil', ('Qaym',), 'Islam', ('Al', 'Sharq'), ('SAMI',), 'Elikaidi', 'Khader', 'Saleh', 'Zamzam', 'Sahraby', 'Mansour', ('BMCI',), ('Al-Ahram',), ('Al', 'Yaum'), 'Asiri', ('Al-Arish',), 'Aldhimayri', ('BMMI',), ('Alinma', 'Bank'), 'Adnan', ('Ras', 'al-Khaimah'), 'Sarah', 'Zahraa', ('Erciş',), 'Halima', ('Ödemiş',), 'Younes', ('Bushehr',), ('Oilibya',), ('Colorado',), ('Maltepe',), ('Nouvelair',), 'Maryam', ('Cima',), ('Trabzon',), ('Borouge',), ('Al', 'Bahah'), ('Karbala',), 'Jamshid', ('Nilesat',), 'Moutair', ('Dabchy',), ('Idlib',), 'Rasi', ('Sultangazi',), ('Bank', 'AlJazira'), ('Bam',), 'Noor', 'Najib', 'Ferhat', 'Süleyman', ('Alshaya',), 'Hisham', ('National', 'Bank', 'of', 'Fujairah'), 'Navid', ('Qorveh',), ('Qurayyat',), ('Al-Kifah', 'al-Arabi'), ('Emsteel',), ('Kuhdasht',), 'Aiman', ('Naseej',), 'Sardar', 'Sahylee', 'Melih', ('eSpace',), 'Mehmet', 'Madiha', 'Naja', ('Tunisavia',), ('Jabalya',), 'Abdulqadir', ('Sopriam',), ('Ashabiba',), ('Dammam',), 'Faruk', 'Akhtar', ('Khorramabad',), 'Moustafa', ('Al', 'Farwaniyah'), ('Aswan',), 'Nihal', ('Deir', 'ez-Zor'), 'Karim', 'Baki', 'Imane', ('Homs',), ('Karaj',), 'Jamal', 'Altiwaybi', 'Amra', ('Irak',), ('Dhahran',), ('Tishreen',), ('Dussur',), 'Mohamed', ('Al', 'Manar'), ('SNRT',), 'Aishah', ('Miandoab',), ('CBC',), ('TAQA', 'Group'), ('Bimo',), ('Faqus',), ('Aqaba',), ('Giza',), 'Salim', 'Hamsa'}\n"
     ]
    }
   ],
   "source": [
    "print(used_entities)"
   ]
  },
  {
   "cell_type": "code",
   "execution_count": 119,
   "id": "a66e33c0",
   "metadata": {},
   "outputs": [
    {
     "name": "stdout",
     "output_type": "stream",
     "text": [
      "735\n",
      "518\n"
     ]
    }
   ],
   "source": [
    "print(len(ME_BPER))\n",
    "BPER_left = [item for item in ME_BPER if item not in used_entities]\n",
    "print(len(BPER_left))"
   ]
  },
  {
   "cell_type": "code",
   "execution_count": 120,
   "id": "9fd66e90",
   "metadata": {},
   "outputs": [
    {
     "name": "stdout",
     "output_type": "stream",
     "text": [
      "1580\n",
      "1454\n"
     ]
    }
   ],
   "source": [
    "print(len(ME_IPER))\n",
    "IPER_left = [item for item in ME_IPER if item not in used_entities]\n",
    "print(len(IPER_left))"
   ]
  },
  {
   "cell_type": "code",
   "execution_count": 121,
   "id": "c5ef21b7",
   "metadata": {},
   "outputs": [
    {
     "name": "stdout",
     "output_type": "stream",
     "text": [
      "481\n",
      "352\n"
     ]
    }
   ],
   "source": [
    "print(len(ME_LOC))\n",
    "LOC_left = [d for d in ME_LOC if tuple(d['tokens']) not in used_entities]\n",
    "print(len(LOC_left))"
   ]
  },
  {
   "cell_type": "code",
   "execution_count": 122,
   "id": "7eb33ee5",
   "metadata": {},
   "outputs": [
    {
     "name": "stdout",
     "output_type": "stream",
     "text": [
      "427\n",
      "260\n"
     ]
    }
   ],
   "source": [
    "print(len(ME_ORG))\n",
    "ORG_left = [d for d in ME_ORG if tuple(d['tokens']) not in used_entities]\n",
    "print(len(ORG_left))"
   ]
  },
  {
   "cell_type": "code",
   "execution_count": 123,
   "id": "ce5ad0c3",
   "metadata": {},
   "outputs": [],
   "source": [
    "#for sent in ME_dev: \n",
    "#    print(sent)"
   ]
  },
  {
   "cell_type": "code",
   "execution_count": 124,
   "id": "f48b4937",
   "metadata": {},
   "outputs": [],
   "source": [
    "#for sent in ME_test: \n",
    "#    print(sent)"
   ]
  },
  {
   "cell_type": "code",
   "execution_count": 125,
   "id": "81a594f6",
   "metadata": {},
   "outputs": [],
   "source": [
    "# save as tsv files\n",
    "write_tsv_file(ME_dev, \"../data/me_data/middle_eastern_dev.tsv\")\n",
    "write_tsv_file(ME_test, \"../data/me_data/middle_eastern_test.tsv\")"
   ]
  },
  {
   "cell_type": "code",
   "execution_count": 126,
   "id": "287171b7",
   "metadata": {},
   "outputs": [],
   "source": [
    "write_iob2_file(ME_test, path=\"../data/me_data/middle_eastern_test.iob2\", gold=True)"
   ]
  }
 ],
 "metadata": {
  "kernelspec": {
   "display_name": "NLP",
   "language": "python",
   "name": "python3"
  },
  "language_info": {
   "codemirror_mode": {
    "name": "ipython",
    "version": 3
   },
   "file_extension": ".py",
   "mimetype": "text/x-python",
   "name": "python",
   "nbconvert_exporter": "python",
   "pygments_lexer": "ipython3",
   "version": "3.9.21"
  }
 },
 "nbformat": 4,
 "nbformat_minor": 5
}
