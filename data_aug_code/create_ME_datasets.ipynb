{
 "cells": [
  {
   "cell_type": "code",
   "execution_count": 1,
   "id": "d0eae3bf",
   "metadata": {},
   "outputs": [],
   "source": [
    "# imports\n",
    "import random\n",
    "import sys\n",
    "sys.path.append(\"../\")\n",
    "\n",
    "from scripts.load_data import write_tsv_file, extract_labeled_tokens, label_mapping, read_tsv_file, write_iob2_file\n",
    "from scripts.data_aug import data_aug_replace\n",
    "from scripts.middle_eastern_ne import extract_first_names, get_last_names,  load_location, load_organisation\n",
    "\n",
    "random.seed(42)\n"
   ]
  },
  {
   "cell_type": "markdown",
   "id": "8cbdc040",
   "metadata": {},
   "source": [
    "## Get ME entities"
   ]
  },
  {
   "cell_type": "code",
   "execution_count": 2,
   "id": "c6bf85f5",
   "metadata": {},
   "outputs": [],
   "source": [
    "ME_BPER = extract_first_names(\"../data_aug_sources/Ordbog_over_muslimske_fornavne_i_DK.pdf\")\n",
    "ME_IPER = get_last_names(\"../data_aug_sources/middle_eastern_last_names.txt\", \"../data_aug_sources/KDBGIVE.tsv\")\n",
    "ME_LOC = load_location(\"../data_aug_sources/the-middle-east-cities.csv\")\n",
    "ME_ORG = load_organisation(\"../data_aug_sources/middle_eastern_organisations.csv\")"
   ]
  },
  {
   "cell_type": "markdown",
   "id": "b07d846a",
   "metadata": {},
   "source": [
    "## Read in data sets"
   ]
  },
  {
   "cell_type": "code",
   "execution_count": 3,
   "id": "2f38682f",
   "metadata": {},
   "outputs": [],
   "source": [
    "# path to the data files\n",
    "path_train = \"../data/no_overlap_da_news/da_news_train.tsv\"\n",
    "path_dev = \"../data/no_overlap_da_news/da_news_dev.tsv\"\n",
    "path_test = \"../data/no_overlap_da_news/da_news_test.tsv\"\n",
    "\n",
    "# create mapping\n",
    "label2id, id2label = label_mapping(path_train)\n",
    "\n",
    "# read in the DaN+ data\n",
    "train_data = read_tsv_file(path_train, label2id)\n",
    "dev_data = read_tsv_file(path_dev, label2id)\n",
    "test_data = read_tsv_file(path_test, label2id)"
   ]
  },
  {
   "cell_type": "markdown",
   "id": "d447948f",
   "metadata": {},
   "source": [
    "## Replace entities in dev and test set"
   ]
  },
  {
   "cell_type": "code",
   "execution_count": 4,
   "id": "ac413feb",
   "metadata": {},
   "outputs": [],
   "source": [
    "# extracting all tokens in train data - to ensure no overlap later\n",
    "train_tokens = extract_labeled_tokens(train_data)"
   ]
  },
  {
   "cell_type": "code",
   "execution_count": 5,
   "id": "fbf776a0",
   "metadata": {},
   "outputs": [],
   "source": [
    "# for saving all used entities\n",
    "used_entities = set()"
   ]
  },
  {
   "cell_type": "code",
   "execution_count": 6,
   "id": "0473ac72",
   "metadata": {},
   "outputs": [
    {
     "data": {
      "text/plain": [
       "set()"
      ]
     },
     "execution_count": 6,
     "metadata": {},
     "output_type": "execute_result"
    }
   ],
   "source": [
    "used_entities"
   ]
  },
  {
   "cell_type": "code",
   "execution_count": 7,
   "id": "6025d8ec",
   "metadata": {},
   "outputs": [
    {
     "data": {
      "text/plain": [
       "589"
      ]
     },
     "execution_count": 7,
     "metadata": {},
     "output_type": "execute_result"
    }
   ],
   "source": [
    "ME_dev, used_entities = data_aug_replace(dev_data, sentence_amount=1000,\n",
    "                                         ME_LOC = ME_LOC, ME_ORG = ME_ORG, ME_BPER = ME_BPER, ME_IPER = ME_IPER, \n",
    "                                         used_entities = used_entities, train_tokens=train_tokens)\n",
    "len(used_entities)\n",
    "\n",
    "ME_test, used_entities = data_aug_replace(test_data, sentence_amount=1000,\n",
    "                                         ME_LOC = ME_LOC, ME_ORG = ME_ORG, ME_BPER = ME_BPER, ME_IPER = ME_IPER, \n",
    "                                         used_entities = used_entities, train_tokens=train_tokens)\n",
    "len(used_entities)"
   ]
  },
  {
   "cell_type": "code",
   "execution_count": 8,
   "id": "75b7f975",
   "metadata": {},
   "outputs": [
    {
     "name": "stdout",
     "output_type": "stream",
     "text": [
      "{('Ereğli',), ('Fertiglobe',), ('Mrsool',), 'Zakariya', ('Palæstina',), ('Gulf', 'Madhyamam'), ('Al-Intiqad',), 'Fawzia', 'Rifat', 'Jamil', 'Anas', ('CBC',), 'Al maaitah', 'Samia', 'Ghani', 'Mahir', ('Mazazikh',), ('Edirne',), ('Derq',), 'Randa', ('Aluminium', 'Bahrain'), 'Ayub', 'Shahin', ('GIB', 'Capital'), 'Nasima', 'Ahmet', ('Chefaa',), 'Al nuaimi', ('al-Furat',), ('Bank', 'Albilad'), 'Abdulkadir', 'Hoda', 'Samed', ('Tyre',), 'Ali', 'Bakhsh', ('Oilibya',), 'Majid', ('Monoprix',), ('BMCI',), 'Bayan', 'Karima', ('BiscoMisr',), ('Iqraa',), 'Al mazroui', 'Murtaza', ('Damac',), 'Saudah', ('BulkWhiz',), ('Al', 'Farwaniyah'), 'Mohammad', 'Lina', 'Hasiba', ('Konya',), 'Hussam', 'Asmaa', ('Al', 'Bab'), 'Ehsan', 'Kamal', 'Sadik', ('Qarchak',), 'Adham', ('Kirikkale',), ('Shawarmer',), ('Al', 'Hayy'), ('Xenel',), ('MBC',), 'Al kharabsheh', 'Sawsan', 'Sahjan', ('Athaqafia',), ('Khartoum',), ('Saidal',), 'Hassouneh', ('Bafra',), 'Bukhari', ('Fetchr',), 'Edhla', 'Razia', 'Fatiha', ('Aster', 'DM', 'Healthcare'), ('Zabol',), 'Aldhiraymi', ('Kufa',), ('Atasehir',), ('SNRT',), ('Investcorp',), ('Patnos',), ('Beylikduezue',), 'Nazim', 'Asia', 'Alaijaybi', ('Ash', 'Shatrah'), 'Nadja', 'Zaid', ('Kashmar',), ('First', 'Abu', 'Dhabi', 'Bank'), ('Kilis',), 'Sahar', ('PubliTools',), 'Hajar', 'Maha', 'Faysal', 'Nidal', ('Tishreen',), ('Marafiq',), 'Adeel', ('Alshaya',), 'Hamsa', ('Kırşehir',), ('Baladna',), 'Nazanin', 'Halima', ('Çanakkale',), 'Saadia', ('Mathaqi',), 'Yasmin', 'Faris', ('Taiz',), ('Giresun',), 'Alisa', 'Saif', ('Riyad', 'Bank'), ('Al', 'Nabooda', 'Automobiles'), ('Gaziantep',), 'Salma', 'Talha', ('Swvl',), 'Arwa', ('Lucidya',), ('Kayseri',), 'Sahyla', 'Yasin', 'Ayat', ('Aramco',), ('Al-Thawra',), 'Abdalla', 'Najah', 'Rashid', ('Saudia',), ('Gulf', 'Bank'), 'Alaijayni', 'Abbasi', 'Alaibayli', ('Al', 'Bahah'), 'Yusuf', ('Buraydah',), ('Soma',), ('Bakdash',), ('Büyükçekmece',), 'Sawaheel', 'Nejla', ('Bahçelievler',), ('Kingdom', 'Holding', 'Company'), ('Dussur',), ('Rafah',), 'Kazem', ('Erbil',), 'Faruk', ('Hakkari',), ('Ma’aden',), 'Saima', ('Siera',), ('SAMI',), ('Mukalla',), ('Abnub',), ('Karabağlar',), 'Khaled', 'Sulayman', ('Sarwa',), 'Nusrat', ('Dabchy',), ('İnegöl',), 'Mutlaq', 'Shaaban', 'Mostafa', ('Elazig',), 'Thabet', 'Khadra', 'Kazim', 'Sami', 'Amjad', 'Amar', 'Sawaina', 'Aiman', ('Sur',), ('Az', 'Zubayr'), ('Dammam',), ('ADNOC',), ('Emirates', 'Islamic'), ('Shahr-e', 'Kord'), ('Khan', 'Yunis'), ('Hawaï',), ('BMMI',), 'Sundus', 'Kerim', ('Mubadala',), 'Haydar', ('Nagham',), ('Aswan',), ('Ar', 'Rass'), ('Borujerd',), ('Dhamar',), 'Mehdi', ('Bahrain',), 'Zainab', ('Malatya',), 'Sahmoud', ('Argaam',), 'Bin Shamlan', ('Etisalat',), 'Widad', ('Thumbay', 'Group'), 'Jasmina', ('Dubai', 'Islamic', 'Bank'), 'Abid', 'Zamil', 'Dana', ('DEWA',), ('Zain', 'KSA'), 'Omer', ('QEWC',), ('Ashmun',), 'Fuad', ('Ünye',), ('Suez',), 'Attieh', ('KIPCO',), 'Halim', ('Rustaq',), 'Milad', 'Abdulqadir', 'Yousra', ('Khanjarah',), 'Amal', ('Irak',), ('Neyshabur',), 'Metin', 'Aldhihaybi', 'Javid', 'Asima', 'Dahlia', 'Damir', 'Sahmu Adin', ('al-Qabas',), 'Albanoon', 'Nader', 'Sharifa', ('Al-Muhaidib',), ('Jidda',), ('Aldar', 'Properties'), 'Rawashdeh', 'Aliya', ('Jirja',), 'Hasan', ('Akhbar', 'Nouakchott'), ('Khash',), ('Kharafi', 'Group'), ('Kahramanmaraş',), 'Nasreen', 'Houda', ('Kermanshah',), 'Umar', ('Epilert',), ('Tatvan',), ('Massaya',), 'Husam', ('Bimo',), 'Uzma', 'Elias', ('Kitea',), 'Suhailah', 'Daud', ('Bishah',), 'Hadil', ('Sulaymaniyah',), 'Tahani', 'Sara', 'Amina', 'Altihayqi', 'Aisha', ('Solfeh',), ('Idlib',), 'Nemer', ('DenizBank',), 'Dunia', ('Al', 'Manzalah'), ('Zaytouna', 'TV'), 'Mahmoud', ('Colorado',), ('Ismailia',), ('RASCO',), 'Zaman', ('Seeb',), ('Muscat',), ('Djezzy',), ('Bukan',), 'Madhavan', 'Alaishaydi', 'Rasim', 'Butt', 'Manal', ('Medina',), ('218TV',), ('Hamadan',), ('Karaman',), ('Apparel', 'Group'), ('Etihad', 'Etisalat', 'Company'), 'Ilias', 'Albandi', 'Majed', 'Baki', ('Mersa', 'Matruh'), ('OSN',), ('Bismil',), 'Bahar', 'Al azzam', 'Mansoor', ('Hawalli',), ('Manisa',), 'Sardar', 'Ziba', 'Barham', 'Omar', ('Ajeer',), ('Gaza',), ('Zonguldak',), ('Filasteen', 'al-Muslimah'), ('Al', 'Jazeera'), ('Elm',), ('Al-Ouruba',), ('Burdur',), ('AL24', 'News'), 'Ibtisam', ('Bayanat',), 'Haris', 'Alissa', ('Empower',), 'Naila', 'Jasmine', ('Isfahan',), 'Akram', 'Naziha', 'Alshammari', 'Yassine', 'El ghany', ('Afriquia',), 'Nadiya', 'Zuhra', ('Al-Arab', 'Al-Yawm'), 'Albawaina', ('Sirjan',), ('Mauritel',), 'Sayed', 'Shahida', 'Kamila', 'Aldermaki', 'Alaizayli', 'Latifa', ('Qurayyat',), 'Aldhiraybi', 'Hanan', ('Khaleej', 'Times'), ('Arasco',), ('Basra',), 'Waqar', 'Hazem', ('Nazilli',), 'Anika', 'Malak', ('Savola', 'Group'), 'El sherif', 'Isam', ('Kuhdasht',), ('Nilesat',), ('Télé', 'Liban'), 'Qasim', ('Samsun',), ('Al-Mashriq',), 'Zaina', 'Lubna', ('Ooredoo',), 'Maryam', ('Bursa',), 'El kordy', 'Shah', 'Rachid', ('Hafar', 'Al-Batin'), 'Khatabh', ('Egyptalum',), ('Bingöl',), 'Sawaghinah', 'Tahir', ('Emsteel',), ('MarsaMaroc',), ('Al', 'Rai'), ('Silifke',), ('Karaj',), 'Mahmud', ('Sivas',), ('Salihli',), ('Mustafakemalpaşa',), 'Usama', 'Salama', 'Mohsen', ('Al-Nahar',), 'Nassim', ('Careem',), ('NMDC', 'Group'), 'Süleyman', ('Al', 'Ayam'), (\"Ha'il\",), 'Ahmad', ('Al-Massira',), 'Atif', ('Naseej',), 'Muhammed', 'Sonya', ('Iranshahr',), ('Flynas',), 'Hana', 'Wassim', 'Ibrahim', 'Khalifa', 'Leyla', ('Edfu',), ('Eskisehir',), ('Homs',), ('Tunisavia',), ('Qorveh',), ('ArabiaWeather',), 'Nura', 'Syed', 'Bin', 'Rabab', 'Matin', 'Abdulaziz', ('Emirates', 'Red', 'Crescent'), 'Mumadi', ('Tarut',), ('Al-Kifah', 'al-Arabi'), ('Nabd',), 'Abir', 'Jinan', 'Naimat', ('Varamin',), 'Khurram', ('Sayhat',), ('ONCF',), ('Zahedan',), 'Sahmodin', 'El massaif', ('Khobar',), 'Yousif', 'Sumaya', 'Hashem', 'Amna', 'Ghada', ('Sopriam',), ('Madaba',), 'Fatih', ('Nevşehir',), ('Malaeb',), 'Naja', 'Sobh', ('Al-Arish',), 'Azhar', ('Al', 'Madina'), 'Mahnaz', ('Denizli',), 'Khudair', ('Aumet',), ('Al', 'Rayaam'), 'Kemal', 'Ben', ('Asmidal',), ('NBN',), 'Hazim', 'Adel', ('Agility',), 'Sudani', ('Boubyan', 'Bank'), 'Ikram', ('Mashreq',), ('TAQA', 'Group'), ('Khorramabad',), 'Zamzam', 'Mokhtar', 'Zohra', ('Al-Ahram',), ('K24',), ('al-Hayat', 'al-Jadida'), ('Cevital',), 'Tasnim', 'Mourad', ('Sakakah',), ('Istanbul',), ('al-Alam',), 'Karim', 'Khalid', ('Adaraweesh',), 'Fatuma', 'Nazir', ('Koutoubia',), ('SGTM',), ('Cima',), ('AKKASA',), ('Saham',), 'Albayda', 'Fadi', 'Abdullah', ('Al-Bilad',), 'Layla', ('Kezad',), 'Burhan', 'Fayez', ('Ardabil',), ('Mazzika',), 'Imane', 'Mervan', 'Baqir', ('Omantel',), ('Tanda',), ('Ad-Dustour',), ('Jawan',), ('Ash', 'Shafa'), ('Ankara',), 'Hamed', ('Mobily',), ('Unifonic',), 'Taghrid', 'Elgissaini', ('Mardin',), ('Çorum',), ('Biougnach',), 'Rabih', 'Alaibayshi', 'Shaheen', ('Irbid',), ('Dnata',), ('Sonasid',), 'Mukhlaf', ('Sonatrach',), 'Khan', ('2M',), ('Nakilat',), ('As', 'Suwayq'), ('Amanat', 'Holdings'), ('Semnan',), ('Miandoab',), 'Salman', 'Ameerh', ('Al', 'Jamahir'), 'Anwar', 'Sohool', 'Mahad', ('Banagas',), 'Hilal', ('Qatar', 'Fuel'), ('Ağrı',), 'Talat', 'Nuri', ('Dogonbadan',), 'Rajan', 'Kashif', 'Ordbog over muslimske fornavne i Danmark', 'Shakila', 'Obaid', ('Inagrab',), ('Bush',), ('Alrifai',), 'Faisa', 'Baig', 'Imran', 'Hussein', 'Asghar', 'Al khatiri', 'Sawadi', ('Al', 'Sharq'), ('Osmaniye',), 'Hanadi', 'Sioarain', 'Shahid', ('Akdital',), ('Tarjama',), ('Shihan',), ('Evertek',), 'Mina', ('Wallyscar',)}\n"
     ]
    }
   ],
   "source": [
    "print(used_entities)"
   ]
  },
  {
   "cell_type": "code",
   "execution_count": 9,
   "id": "a66e33c0",
   "metadata": {},
   "outputs": [
    {
     "name": "stdout",
     "output_type": "stream",
     "text": [
      "735\n",
      "514\n"
     ]
    }
   ],
   "source": [
    "print(len(ME_BPER))\n",
    "BPER_left = [item for item in ME_BPER if item not in used_entities]\n",
    "print(len(BPER_left))"
   ]
  },
  {
   "cell_type": "code",
   "execution_count": 10,
   "id": "9fd66e90",
   "metadata": {},
   "outputs": [
    {
     "name": "stdout",
     "output_type": "stream",
     "text": [
      "1580\n",
      "1456\n"
     ]
    }
   ],
   "source": [
    "print(len(ME_IPER))\n",
    "IPER_left = [item for item in ME_IPER if item not in used_entities]\n",
    "print(len(IPER_left))"
   ]
  },
  {
   "cell_type": "code",
   "execution_count": 11,
   "id": "c5ef21b7",
   "metadata": {},
   "outputs": [
    {
     "name": "stdout",
     "output_type": "stream",
     "text": [
      "481\n",
      "352\n"
     ]
    }
   ],
   "source": [
    "print(len(ME_LOC))\n",
    "LOC_left = [d for d in ME_LOC if tuple(d['tokens']) not in used_entities]\n",
    "print(len(LOC_left))"
   ]
  },
  {
   "cell_type": "code",
   "execution_count": 12,
   "id": "7eb33ee5",
   "metadata": {},
   "outputs": [
    {
     "name": "stdout",
     "output_type": "stream",
     "text": [
      "427\n",
      "260\n"
     ]
    }
   ],
   "source": [
    "print(len(ME_ORG))\n",
    "ORG_left = [d for d in ME_ORG if tuple(d['tokens']) not in used_entities]\n",
    "print(len(ORG_left))"
   ]
  },
  {
   "cell_type": "code",
   "execution_count": 13,
   "id": "ce5ad0c3",
   "metadata": {},
   "outputs": [],
   "source": [
    "#for sent in ME_dev: \n",
    "#    print(sent)"
   ]
  },
  {
   "cell_type": "code",
   "execution_count": 14,
   "id": "f48b4937",
   "metadata": {},
   "outputs": [],
   "source": [
    "#for sent in ME_test: \n",
    "#    print(sent)"
   ]
  },
  {
   "cell_type": "code",
   "execution_count": 15,
   "id": "81a594f6",
   "metadata": {},
   "outputs": [],
   "source": [
    "# save as tsv files\n",
    "write_tsv_file(ME_dev, \"../data/me_data/middle_eastern_dev.tsv\")\n",
    "write_tsv_file(ME_test, \"../data/me_data/middle_eastern_test.tsv\")"
   ]
  },
  {
   "cell_type": "code",
   "execution_count": 16,
   "id": "287171b7",
   "metadata": {},
   "outputs": [],
   "source": [
    "write_iob2_file(ME_dev, path=\"../data/me_data/middle_eastern_dev.iob2\", gold=True)\n",
    "write_iob2_file(ME_test, path=\"../data/me_data/middle_eastern_test.iob2\", gold=True)"
   ]
  }
 ],
 "metadata": {
  "kernelspec": {
   "display_name": "NLP",
   "language": "python",
   "name": "python3"
  },
  "language_info": {
   "codemirror_mode": {
    "name": "ipython",
    "version": 3
   },
   "file_extension": ".py",
   "mimetype": "text/x-python",
   "name": "python",
   "nbconvert_exporter": "python",
   "pygments_lexer": "ipython3",
   "version": "3.9.21"
  }
 },
 "nbformat": 4,
 "nbformat_minor": 5
}
