{
 "cells": [
  {
   "cell_type": "code",
   "execution_count": 141,
   "id": "d0eae3bf",
   "metadata": {},
   "outputs": [],
   "source": [
    "# imports\n",
    "import random\n",
    "import sys\n",
    "sys.path.append(\"../\")\n",
    "\n",
    "from scripts.load_data import write_tsv_file, extract_labeled_tokens, readNlu, mapping, read_tsv_file\n",
    "from middle_eastern_ne import extract_first_names, get_last_names,  load_location, load_organisation"
   ]
  },
  {
   "cell_type": "markdown",
   "id": "8cbdc040",
   "metadata": {},
   "source": [
    "## Get ME entities"
   ]
  },
  {
   "cell_type": "code",
   "execution_count": 142,
   "id": "c6bf85f5",
   "metadata": {},
   "outputs": [],
   "source": [
    "ME_BPER = extract_first_names(\"../data_aug_sources/Ordbog_over_muslimske_fornavne_i_DK.pdf\")\n",
    "ME_IPER = get_last_names(\"../data_aug_sources/middle_eastern_last_names.txt\", \"../data_aug_sources/KDBGIVE.tsv\")\n",
    "ME_LOC = load_location(\"../data_aug_sources/the-middle-east-cities.csv\")\n",
    "ME_ORG = load_organisation(\"../data_aug_sources/middle_eastern_organisations.csv\")"
   ]
  },
  {
   "cell_type": "code",
   "execution_count": 143,
   "id": "8d14fffb",
   "metadata": {},
   "outputs": [
    {
     "data": {
      "text/plain": [
       "{'tokens': ['Saudi', 'Aramco'], 'ner_tags': ['B-ORG', 'I-ORG']}"
      ]
     },
     "execution_count": 143,
     "metadata": {},
     "output_type": "execute_result"
    }
   ],
   "source": [
    "ME_ORG[0]"
   ]
  },
  {
   "cell_type": "markdown",
   "id": "b07d846a",
   "metadata": {},
   "source": [
    "## Read in data sets"
   ]
  },
  {
   "cell_type": "code",
   "execution_count": 144,
   "id": "2f38682f",
   "metadata": {},
   "outputs": [],
   "source": [
    "# path to the data files\n",
    "path_train = \"../data/no_overlap_da_news/da_news_train.tsv\"\n",
    "path_dev = \"../data/no_overlap_da_news/da_news_dev.tsv\"\n",
    "path_test = \"../data/no_overlap_da_news/da_news_test.tsv\"\n",
    "\n",
    "# create mapping\n",
    "label2id, id2label = mapping(path_train)\n",
    "\n",
    "# read in the DaN+ data\n",
    "train_data = read_tsv_file(path_train, label2id)\n",
    "dev_data = read_tsv_file(path_dev, label2id)\n",
    "test_data = read_tsv_file(path_test, label2id)"
   ]
  },
  {
   "cell_type": "markdown",
   "id": "d447948f",
   "metadata": {},
   "source": [
    "## Replace entities in dev and test set"
   ]
  },
  {
   "cell_type": "code",
   "execution_count": 145,
   "id": "ac413feb",
   "metadata": {},
   "outputs": [],
   "source": [
    "# extracting all tokens in train data - to ensure no overlap later\n",
    "train_tokens = extract_labeled_tokens(train_data)"
   ]
  },
  {
   "cell_type": "code",
   "execution_count": 146,
   "id": "fbf776a0",
   "metadata": {},
   "outputs": [],
   "source": [
    "# for saving all used entities\n",
    "used_entities = set()"
   ]
  },
  {
   "cell_type": "code",
   "execution_count": 147,
   "id": "26cec93e",
   "metadata": {},
   "outputs": [],
   "source": [
    "def data_aug_replace(dataset, sentence_amount, ME_LOC = ME_LOC, ME_ORG = ME_ORG,\n",
    "                     ME_BPER = ME_BPER, ME_IPER = ME_IPER, used_entities = used_entities, train_tokens=train_tokens):\n",
    "    \"\"\"\n",
    "    Replaces named entities in a subset of the dataset with new MENAPT ones, ensuring no reuse across datasets.\n",
    "    \"\"\"\n",
    "\n",
    "    random.seed(42)\n",
    "\n",
    "    # extract sentences with containing relevant tags\n",
    "    eligible_sentences = [sent for sent in dataset if any(tag not in [\"O\", \"B-MISC\", \"I-MISC\"] for tag in sent[\"ner_tags\"])]\n",
    "    # select random sentences\n",
    "    selected_sentences = random.sample(eligible_sentences, min(sentence_amount, len(eligible_sentences)))\n",
    "    # create copy to not modify original dataset \n",
    "    modified_dataset = [dict(sent) for sent in dataset] \n",
    "\n",
    "    for sent in modified_dataset:\n",
    "        if sent not in selected_sentences:\n",
    "            continue\n",
    "\n",
    "        i = 0\n",
    "        while i < len(sent[\"tokens\"]):\n",
    "            tag = sent[\"ner_tags\"][i]\n",
    "\n",
    "            if tag == 'B-PER':\n",
    "                available = [p for p in ME_BPER if p not in used_entities and p not in train_tokens]\n",
    "                if available:\n",
    "                    replace = random.choice(available)\n",
    "                    sent[\"tokens\"][i] = replace\n",
    "                    used_entities.add(replace)\n",
    "                i += 1\n",
    "\n",
    "            elif tag == 'I-PER':\n",
    "                available = [p for p in ME_IPER if p not in used_entities and p not in train_tokens]\n",
    "                if available:\n",
    "                    replace = random.choice(available)\n",
    "                    sent[\"tokens\"][i] = replace\n",
    "                    used_entities.add(replace)\n",
    "                i += 1\n",
    "\n",
    "            elif tag == 'B-LOC':\n",
    "                span_start = i\n",
    "                span_len = 1\n",
    "\n",
    "                i += 1\n",
    "\n",
    "                while i < len(sent[\"ner_tags\"]) and sent[\"ner_tags\"][i] == \"I-LOC\":\n",
    "                    span_len += 1\n",
    "                    i += 1\n",
    "\n",
    "                available = [\n",
    "                    loc for loc in ME_LOC\n",
    "                    if not any(token in train_tokens for token in loc[\"tokens\"])\n",
    "                    and not any(token in used_entities for token in loc[\"tokens\"])\n",
    "                    and len(loc[\"tokens\"]) == span_len\n",
    "                ]\n",
    "                \n",
    "                if available:\n",
    "                    replace = random.choice(available)\n",
    "                    sent[\"tokens\"][span_start:span_start + span_len] = replace[\"tokens\"]\n",
    "                    used_entities.update(replace[\"tokens\"])\n",
    "\n",
    "            elif tag == 'B-ORG':\n",
    "                span_start = i\n",
    "                span_len = 1\n",
    "                i += 1\n",
    "                while i < len(sent[\"ner_tags\"]) and sent[\"ner_tags\"][i] == \"I-ORG\":\n",
    "                    span_len += 1\n",
    "                    i += 1\n",
    "\n",
    "                available = [\n",
    "                    org for org in ME_ORG\n",
    "                    if not any(token in train_tokens for token in org[\"tokens\"])\n",
    "                    and not any(token in used_entities for token in org[\"tokens\"])\n",
    "                    and len(org[\"tokens\"]) == span_len\n",
    "                ]\n",
    "\n",
    "                if available:\n",
    "                    replace = random.choice(available)\n",
    "                    sent[\"tokens\"][span_start:span_start + span_len] = replace[\"tokens\"]\n",
    "                    used_entities.update(replace[\"tokens\"])\n",
    "\n",
    "            else:\n",
    "                i += 1\n",
    "\n",
    "    return modified_dataset\n"
   ]
  },
  {
   "cell_type": "code",
   "execution_count": 148,
   "id": "6025d8ec",
   "metadata": {},
   "outputs": [],
   "source": [
    "ME_dev = data_aug_replace(dev_data, 1000)\n",
    "ME_test = data_aug_replace(test_data, 1000)"
   ]
  },
  {
   "cell_type": "code",
   "execution_count": 149,
   "id": "75b7f975",
   "metadata": {},
   "outputs": [
    {
     "name": "stdout",
     "output_type": "stream",
     "text": [
      "{'K24', 'Mauritel', 'Ibtisam', 'Wasla', \"Ha'il\", 'Amira', 'Samia', 'Fadi', 'Zeinab', 'Haider', 'Suhair', 'Yallacompare', 'Ferrimaroc', 'Al sulaihat', 'Waqas', 'Sindi', 'Zeytinburnu', 'Hakima', 'Aïcha', 'al-Arabi', 'Nasima', 'Solutions', 'Kahriz', 'Rahman', 'Dagher', 'Elves', 'Tunisavia', 'Najma', 'Baki', 'Suad', 'Midyat', 'Yunus', 'Az', 'OSN', 'Musa', 'Mushtaq', 'Riyadh', 'Al awamer', 'Americana', 'Amol', 'Yasar', 'Nadec', 'Abdelhassen', 'Noon', 'PSLab', 'KIPCO', 'Mersa', 'Jamilla', 'Yahya', 'Üsküdarr', 'Alexandria', 'Muhammed', 'Mazen', 'Saba', 'Dikirnis', 'Suwayq', 'Tarsus', 'Jamal', 'Nidal', 'Al-Wehda', 'Hakkari', 'Qasimolfadil', 'Jana', 'Haydar', 'Shiraz', 'Nadim', 'Naila', 'Bahram', 'Taj', 'Ilam', 'Büyükçekmece', 'Shihan', 'Al-Anbaa', 'Haris', 'Al-Muhaidib', 'Zarifa', 'Konya', 'Hawra', 'al-Jadid', 'Ben', 'Nasim', 'Aniqa', 'HalalaH', 'DM', 'Gul', 'Najah', 'Mukalla', 'Khalfan', 'Zain', 'Ihsan', 'Aiguebelle', 'Ash', 'Habiba', 'Oilibya', 'Djezzy', 'Aldar', 'Al sharhan', 'Arif', 'DenizBank', 'Viranşehir', 'Phosphate', 'Jawan', 'Bimo', 'Karim', 'Nader', 'Nazir', 'Tabriz', 'Shazia', 'Damanhur', 'Jinan', 'Sharif', 'Mrsool', 'Deir', 'Adwya', 'Fuwwah', 'Dahir', 'Ooredoo', 'al-Fajr', 'Kezad', 'Tekirdağ', 'Fawzia', 'Yakub', 'Bahri', 'Alaibaydi', 'Mohammed', 'Talat', 'Jamjamal', 'GEMS', 'Patnos', 'Robat', 'LDC', 'Azra', 'Safaa', 'Rahim', 'Elazig', 'Souada', 'Fertiglobe', 'Sahli', 'Hilmi', 'Qasimu Alkhalig', 'Abd', 'Miandoab', 'Kutahya', 'al-Maghribia', 'Bağcılar', 'Fadel', 'Sarwa', 'Behshahr', 'Abbas', 'Dayrut', 'Nasrin', 'Jet4you', 'Polisario', 'Mazzika', 'Sardar', 'Laraki', 'Gonbad-e', 'Shahrud', 'SPORTS', 'Sawaina', 'AL24', 'Kemal', 'Agility', 'DMC', 'Rafsanjan', 'Aayt Oday', 'Mohammad', 'Emaar', 'BulkWhiz', 'Khan', 'Spinneys', 'Air', 'Attajdid', 'Gulf', 'Kitea', 'Kord', 'Sahl', 'Akhbar', 'Dammam', '2M', 'Yamina', 'Rasht', 'Karabük', 'Qurayyat', 'Kairo', 'Akram', 'Al-Ittihad', 'Saham', 'Cinescape', 'Khanjar', 'Masoud', 'Arabia', 'Gani', 'QNB', 'Hamza', \"A'zaz\", 'Yanbu', 'Rasool', 'Wisam', 'Alamri', 'Aldhiwayri', 'Khomeyn', 'Sumaya', 'al-Jadida', 'Lamia', 'Hena', 'MarsaMaroc', 'Reem', 'Nasser', 'Javid', 'Taha', 'Çubuk', 'Bayan', 'Wael', 'Mahmoud', 'Manna', 'Borazjan', 'Siouaraine', 'Damir', 'Sadik', 'Abou Djouda', 'Abdulqadir', 'Aldhihayri', 'Aumet', 'Rezayat', 'Sonasid', 'Sajida', 'Khaled', 'Naqadeh', 'Atif', 'Emirates', 'al-Furat', 'Saleh', 'Party', 'Arwa', 'Albaydaa', 'Shahzad', 'Saif', 'Mushait', 'SNRT', 'Qarchak', 'Cemal', 'Faysal', 'Starworld', 'Al-Waie', 'Rustaq', 'Sanandaj', 'Afyonkarahisar', 'Daraty', 'Alaisayni', 'Hanna', 'Naji', 'Mahmud', 'Saida', 'Sinan', 'Aldhibayri', 'Tokat', 'As', 'Elgibaini', 'Hinna', '3ayez', 'Aiman', 'Maroc', 'by', 'Fazo', 'Ala', 'Denizli', 'Bayanat', 'ADNOC', 'Hasiba', 'ZenHR', 'Arak', 'Yonas', 'Asdaa', 'Aster', 'Xenel', 'Vermeg', 'Cerebras', 'Sajjad', 'Maysa', 'Heddaf', 'Torath', 'Adil', 'RasGas', 'Sorgun', 'Miriam', 'Mikail', 'SAMI', 'Antalya', 'Leyla', 'Mardin', 'Kavus', 'Yacoub', 'Nazli', 'Lama', 'Marjane', 'Rani', 'Adab', 'Evertek', 'Karaman', 'Hurghada', 'Nazif', 'Firuzabad', 'Randa', 'Zaina', 'Alvand', 'Imane', 'Aziz', 'Al-Arab', 'NBN', 'Sheikh', 'Ceyhan', 'Hebron', 'Ma’aden', 'Marsteller', 'Souqalmal', 'Tarjama', 'Bukhari', 'Awad', 'Rashida', 'Partners', 'Widad', 'Hicham', 'Hasib', 'Sawalifah', 'Moussa', 'Ad-Dustour', 'Alaizayli', 'Kudu', 'Nouakchott', 'Trabzon', 'Education', 'Gamal', 'Amanat', 'Rizwan', 'Healthcare', 'Iğdır', 'Hussein', 'Samarra', 'Restaurants', 'Abadi', 'Kuşadası', 'Rayyan', 'Batman', 'Wahid', 'Hilal', 'Tabbah', 'Tarek', 'Investcorp', 'Zahedan', 'Alyami', 'Naja', 'al-Balad', 'Saloumi', 'Fuad', 'Echorouk', 'Ayub', 'Jumeirah', 'Farid', 'Shah', 'Sabah', 'Koutoubia', 'Mashreq', 'Sirjan', 'Erciş', 'solutions', 'Kirkuk', 'Zonguldak', 'Houda', 'Samara', 'Jabalya', 'Careem', 'Adela', 'Sahul', 'Raad', 'Hassan', 'Bashir', 'Heba', 'Rassin', 'Zanjan', 'Shushtar', 'Bünyamin', 'Elias', 'Ahlat', 'Athaqafia', 'Meriam', 'Dar', 'al-Muslimah', 'Salalah', 'Yonis', 'Talabat', 'Sayed', 'Javed', 'Swvl', 'Sonya', 'Adiyaman', 'Al rahman', 'Zubayr', 'Chalus', 'Naia', 'Mosul', 'Afrah', 'Ordu', 'Qasim', 'Rana', 'Jihad', 'Erzurum', 'Baqubah', 'Waheed', 'Qorveh', 'AKKASA', 'Liban', 'Shamim', 'Basil', 'Lucidya', 'Nehmeh', 'Afaf', 'Hamsa', 'Yousef', 'Asad', 'Lana', 'Eissa', 'Iran', 'Dawood', 'al-Hayat', 'Junes', 'Abjjad', 'Libyana', 'Diwaniyah', 'Damietta', 'Sopriam', 'Adnan', 'Khorramshahr', 'Abdel rahim', 'Somaca', 'Properties', 'Belal', 'Ahmed', 'Damaskus', 'Langarud', 'Said', 'Ibb', 'Qom', 'Sarah', 'Intisar', 'Assabeel', 'Maha', 'Muna', 'Ahlibank', 'Albahari', 'Sela', 'Najran', 'Mondair', 'Salah', 'Al-Nahar', 'Zaid', 'Company', 'Kahramaa', 'Mari', 'Tishreen', 'Nabil', 'Al mehrazi', 'Nasr', 'stc', 'Corlu', 'Albohlool', 'Omdurman', 'Leila', 'Tamer', 'Hafar', 'Ola', 'Nuri', 'Zaher', 'Salim', 'Al-Akhdar', 'Comarit', 'Hawraa', 'Aydin', 'Esenyurt', 'ANB', 'Najafabad', 'Hawa', 'Burson', 'Naseej', 'Hawaï', 'Bibi', 'Samah', 'Saliha', 'Dogonbadan', 'Bilal', 'Navid', 'Doğubayazıt', 'Marafiq', 'Sawaghina', 'alrajhi', 'Chandran', 'Waleed', 'Bandırma', 'Zakia', 'Varamin', 'Khalil', 'Bonab', 'Tasnim', 'Joshi', 'Yassine', 'Malika', 'Aqaba', 'Farhan', 'Shahr', 'Dnata', 'Al azzam', 'Al habsi', 'Farida', 'Nabd', 'Altinayzi', 'Rafah', 'Raja', 'Abida', 'Madaba', 'Asia', 'Du', 'Darayya', 'Saudi', 'Qasmulcarim', 'Unifonic', 'Kamel', 'Adana', 'Kamran', 'Investments', 'Zaxo', 'Atrash', 'Virtuzone', 'Alaibaykhi', 'Wahida', 'Ibrahim', 'Sohar', 'Ul’Jadid', 'Saima', 'Ar', 'Aldhirayni', 'Hadi', 'Lina', 'Izmit', 'Söke', 'Okaz', 'al-Jarida', 'Istiqlal', 'Turgutlu', 'Fadil', 'Naftal', 'Harun', 'Mathaqi', 'Najiba', 'Nazilli', 'Metin', 'Al-Batin', 'Wanasah', 'El', 'Colorado', 'Housh', 'Khasawneh', 'Mustapha', 'Edirne', 'Bhatia', 'Holdings', 'Khurram', 'Shanab', 'Khoy', 'beIN', 'Fahad', 'Sari', 'Kvindenavne', 'Malik', 'Nouvelair', 'Al-Ahd', 'al-Alam', 'Latakia', 'Akşehir', 'Badr', 'Elm', 'Nagham', 'al-Bayan', 'Lüleburgaz', 'Télé', 'Dubai', 'eSpace', 'Chefaa', 'Alrifai', 'Ihab', 'Zahraa', 'Feras', 'Huda', 'Mostafa', 'Shahin', 'Akbarabad', 'Syriatel', 'Jasmine', 'Youssef', 'ACWA', 'Kazerun', 'Al qasimi', 'Sahran', 'Yasuj', 'Zagazig', 'Khartoum', 'Rahima', 'Sultangazi', 'Tariq', 'Salam', 'Fatma', 'Dhamar', 'Buraydah', 'Abha', 'Hawalli', 'Mokhtar', 'Biougnach', 'Lulu', 'Daily', 'Zouer', 'Inwi', 'Alaishayri', 'Aisha', 'Shorooq', 'Babol', 'Islamic', 'Kassem', 'MBC', 'Nakilat', 'Mawdoo3', 'Mansoor', 'Saidal', 'Solfeh', 'Dalila', 'Malaeb', 'Jalil', 'Khattab', 'Mallawi', 'Iskenderun', 'Ahmet', 'Jenan', 'Khorramabad', 'Dabchy', 'Alairayqil', 'Arasco', 'Ras', 'Noor', 'Electroplanet', 'Hanadi', 'Alaishaybi', 'Wikaya', 'Aldhinayni', 'Kharabeesh', 'Nilesat', 'Karam', 'Seyed', 'Akbar', 'Hamadan', 'Siirt', 'Kastamonu', 'Batelco', 'Malkawi', 'ViaVii', 'Alaizayki', 'Ayoub', 'Katie', 'Beirut', 'Polatlı', 'Nisa', 'Amjad', 'Jamila', 'Power', 'Mahabad', 'Silopi', 'Monoprix', 'Muş', \"'Amarah\", 'Ismail', 'Alaa', 'Sultan', 'Al-Ouruba', 'Hanan', 'Anwar', 'Ziad', 'One', 'SGTM', 'News', 'Zeitoun', 'Al-Mashriq', 'Naveed', 'Ebrahim', 'Shoaib', 'Hüseyin', 'Mouna', 'Samra', 'AvidBeam', 'Al-Kalima', 'Abdulaziz', 'Rukban', 'Kamil', 'Al-Mustaqbal', 'Suleiman', 'Nayef’', 'Prasad', 'Abdul', 'Shawarmer', 'Kozan', 'Safiya', 'Abdelkazem', 'Jounieh', 'ALAHLI', 'Tunisna', 'TGCC', 'Hotels', 'Khalis', 'Ali', 'Matin', 'Taghrid', 'Qaym', 'Dussur', 'Malaika', 'Muscat', 'Telecom', 'Elgibaissi', 'Muhammad', 'Saber', 'Ajeer', 'Epilert', 'Al', 'Nail', 'Al-Hasakah', 'Aziza', 'Alwasat', 'Marwa', 'Rize', 'Ibrahimoh', 'Husam', 'Afriquia', 'al-Yaoume', 'Muhamed', 'Kulayb', 'Anis', 'Hamzah', 'Izmir', 'Nima', 'Damac', 'bank', 'Filasteen', 'Nuran', 'Dunia', 'al-Zahf', 'Asmaa', 'al-Jamahiriyah', 'Banagas', 'RASCO', 'Development', 'Amal', 'Saad', 'Mohiuddin', 'Faik', 'Fatsa', 'Ramazan', 'Mahdi', 'Aya', 'Faqus', 'Aldhiayni', 'Almarai', 'Fatuma', 'Front', 'Munir', 'Marwan', 'e&', 'ez-Zor', 'ONCF', 'BiscoMisr', 'Birjand', 'Mansour', 'Gorgan', 'Arabot', 'Rabia', 'Al-Intiqad', 'Matruh', 'Abdel zahra', 'Al-Yawm', 'Nura', 'Shafa', 'Kazem', 'Madhyamam', 'Sihamaa', 'Mohan', 'Eskisehir', 'Dalal', 'Assadissa', 'Kahta', 'BMCI', 'Shamsina', 'Wafa', 'Samed', 'Omer', 'ONTV', 'Tahira', 'Qalyub', 'Ashmun', 'Ahar', 'Munuf', 'Bayane', 'Sancaktepe', 'Shahr-e', 'Malayer', 'Al-Massira', 'May', 'Albandy', 'Khomeyni', 'Sherif', 'al-Khaimah', 'Orumiyeh', 'Al-Kifah', 'Umair', 'Zarqa', 'Ramadan', 'Bushehr', 'Aramco', 'Ashabiba', 'Wassim', 'Siham', 'Gaza', 'Takestan', 'Ardeşen', 'Russeifa', 'Abdallah', 'Basheer', 'Zaynab', 'Fayez', 'Tabuk', 'Jordan', 'Mines', 'Sabit', 'Al khaily', 'JoSat', 'Sabri', 'Akhmim', 'Ağrı', 'Atoum', 'Aleppo', 'Daud', 'Rayan', 'Alsaleh', 'Abu Hashish', 'Kandil', 'Ramadi', 'Aljayarat', 'Ad', 'Saman', 'Khamis', 'Ahsan', 'SOMED', 'PubliTools', 'Ismailia', 'Alia', 'Israa', 'Sonalgaz', 'Hashem', 'Uzma', 'Darab', 'Habib'}\n"
     ]
    }
   ],
   "source": [
    "print(used_entities)"
   ]
  },
  {
   "cell_type": "code",
   "execution_count": 150,
   "id": "ce5ad0c3",
   "metadata": {},
   "outputs": [],
   "source": [
    "#for sent in ME_dev: \n",
    "#    print(sent)"
   ]
  },
  {
   "cell_type": "code",
   "execution_count": 151,
   "id": "f48b4937",
   "metadata": {},
   "outputs": [],
   "source": [
    "#for sent in ME_test: \n",
    "#    print(sent)"
   ]
  },
  {
   "cell_type": "code",
   "execution_count": 152,
   "id": "81a594f6",
   "metadata": {},
   "outputs": [],
   "source": [
    "# save as tsv files\n",
    "write_tsv_file(ME_dev, \"../data/me_data/middle_eastern_dev.tsv\")\n",
    "write_tsv_file(ME_test, \"../data/me_data/middle_eastern_test.tsv\")"
   ]
  }
 ],
 "metadata": {
  "kernelspec": {
   "display_name": "NLP",
   "language": "python",
   "name": "python3"
  },
  "language_info": {
   "codemirror_mode": {
    "name": "ipython",
    "version": 3
   },
   "file_extension": ".py",
   "mimetype": "text/x-python",
   "name": "python",
   "nbconvert_exporter": "python",
   "pygments_lexer": "ipython3",
   "version": "3.9.21"
  }
 },
 "nbformat": 4,
 "nbformat_minor": 5
}
