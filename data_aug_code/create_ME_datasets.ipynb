{
 "cells": [
  {
   "cell_type": "code",
   "execution_count": 1,
   "id": "d0eae3bf",
   "metadata": {},
   "outputs": [],
   "source": [
    "# imports\n",
    "import random\n",
    "import sys\n",
    "sys.path.append(\"../\")\n",
    "\n",
    "from scripts.load_data import write_tsv_file, extract_labeled_tokens, mapping, read_tsv_file, write_iob2_file\n",
    "from scripts.data_aug import data_aug_replace\n",
    "from middle_eastern_ne import extract_first_names, get_last_names,  load_location, load_organisation\n",
    "\n",
    "random.seed(42)\n"
   ]
  },
  {
   "cell_type": "markdown",
   "id": "8cbdc040",
   "metadata": {},
   "source": [
    "## Get ME entities"
   ]
  },
  {
   "cell_type": "code",
   "execution_count": 2,
   "id": "c6bf85f5",
   "metadata": {},
   "outputs": [],
   "source": [
    "ME_BPER = extract_first_names(\"../data_aug_sources/Ordbog_over_muslimske_fornavne_i_DK.pdf\")\n",
    "ME_IPER = get_last_names(\"../data_aug_sources/middle_eastern_last_names.txt\", \"../data_aug_sources/KDBGIVE.tsv\")\n",
    "ME_LOC = load_location(\"../data_aug_sources/the-middle-east-cities.csv\")\n",
    "ME_ORG = load_organisation(\"../data_aug_sources/middle_eastern_organisations.csv\")"
   ]
  },
  {
   "cell_type": "markdown",
   "id": "b07d846a",
   "metadata": {},
   "source": [
    "## Read in data sets"
   ]
  },
  {
   "cell_type": "code",
   "execution_count": 3,
   "id": "2f38682f",
   "metadata": {},
   "outputs": [],
   "source": [
    "# path to the data files\n",
    "path_train = \"../data/no_overlap_da_news/da_news_train.tsv\"\n",
    "path_dev = \"../data/no_overlap_da_news/da_news_dev.tsv\"\n",
    "path_test = \"../data/no_overlap_da_news/da_news_test.tsv\"\n",
    "\n",
    "# create mapping\n",
    "label2id, id2label = mapping(path_train)\n",
    "\n",
    "# read in the DaN+ data\n",
    "train_data = read_tsv_file(path_train, label2id)\n",
    "dev_data = read_tsv_file(path_dev, label2id)\n",
    "test_data = read_tsv_file(path_test, label2id)"
   ]
  },
  {
   "cell_type": "markdown",
   "id": "d447948f",
   "metadata": {},
   "source": [
    "## Replace entities in dev and test set"
   ]
  },
  {
   "cell_type": "code",
   "execution_count": 4,
   "id": "ac413feb",
   "metadata": {},
   "outputs": [],
   "source": [
    "# extracting all tokens in train data - to ensure no overlap later\n",
    "train_tokens = extract_labeled_tokens(train_data)"
   ]
  },
  {
   "cell_type": "code",
   "execution_count": 5,
   "id": "fbf776a0",
   "metadata": {},
   "outputs": [],
   "source": [
    "# for saving all used entities\n",
    "used_entities = set()"
   ]
  },
  {
   "cell_type": "code",
   "execution_count": 6,
   "id": "0473ac72",
   "metadata": {},
   "outputs": [
    {
     "data": {
      "text/plain": [
       "set()"
      ]
     },
     "execution_count": 6,
     "metadata": {},
     "output_type": "execute_result"
    }
   ],
   "source": [
    "used_entities"
   ]
  },
  {
   "cell_type": "code",
   "execution_count": 7,
   "id": "6025d8ec",
   "metadata": {},
   "outputs": [
    {
     "data": {
      "text/plain": [
       "589"
      ]
     },
     "execution_count": 7,
     "metadata": {},
     "output_type": "execute_result"
    }
   ],
   "source": [
    "ME_dev, used_entities = data_aug_replace(dev_data, sentence_amount=1000,\n",
    "                                         ME_LOC = ME_LOC, ME_ORG = ME_ORG, ME_BPER = ME_BPER, ME_IPER = ME_IPER, \n",
    "                                         used_entities = used_entities, train_tokens=train_tokens)\n",
    "len(used_entities)\n",
    "\n",
    "ME_test, used_entities = data_aug_replace(test_data, sentence_amount=1000,\n",
    "                                         ME_LOC = ME_LOC, ME_ORG = ME_ORG, ME_BPER = ME_BPER, ME_IPER = ME_IPER, \n",
    "                                         used_entities = used_entities, train_tokens=train_tokens)\n",
    "len(used_entities)"
   ]
  },
  {
   "cell_type": "code",
   "execution_count": 8,
   "id": "75b7f975",
   "metadata": {},
   "outputs": [
    {
     "name": "stdout",
     "output_type": "stream",
     "text": [
      "{'Asima', ('Al-Massira',), ('Palæstina',), ('Sayhat',), 'Aisha', ('Iranshahr',), ('Bimo',), 'Obaid', ('Gulf', 'Bank'), 'Mansoor', ('Tunisavia',), ('Naseej',), 'Naila', 'Ibtisam', ('Egyptalum',), ('Ereğli',), 'Bakhsh', 'Nidal', ('Oilibya',), 'Khalifa', ('Kharafi', 'Group'), ('Inagrab',), 'Naimat', 'Naziha', 'Sahar', 'Aiman', ('Sakakah',), ('Jawan',), 'Kamal', ('Etisalat',), 'Zainab', 'Yousra', 'Taghrid', ('Ma’aden',), ('SAMI',), 'Mostafa', ('Massaya',), ('Swvl',), ('Elazig',), 'Kamila', ('Mauritel',), 'Mahmud', 'Rabih', 'Al mazroui', 'Abir', ('Ünye',), 'Alaibayli', ('Khanjarah',), 'El kordy', 'Umar', ('Akdital',), 'Mina', ('Sonatrach',), ('Ar', 'Rass'), 'Abdulqadir', 'Abid', 'Mahmoud', 'Bin Shamlan', ('Bukan',), 'Sardar', 'Sawadi', 'Mohammad', ('ADNOC',), ('BulkWhiz',), 'Khalid', ('Irak',), 'Jinan', ('Eskisehir',), ('al-Hayat', 'al-Jadida'), ('Siera',), 'Bukhari', ('Bahrain',), 'Sahyla', 'Samia', 'Mumadi', 'Alisa', 'Sahmoud', 'Albayda', ('AKKASA',), 'Nazim', ('Tarut',), 'Saif', 'Isam', 'Naja', ('Al', 'Hayy'), 'Nusrat', 'Hazim', ('K24',), 'Yusuf', 'Qasim', 'Nejla', ('Bank', 'Albilad'), 'Najah', 'Hashem', ('Saudia',), 'Mahnaz', 'Nader', ('Mardin',), 'Rifat', 'El ghany', ('Gulf', 'Madhyamam'), ('Alshaya',), 'Zakariya', 'Milad', ('Al', 'Sharq'), ('Sopriam',), ('Hawalli',), 'Halima', ('As', 'Suwayq'), 'Metin', ('Nevşehir',), ('Zonguldak',), ('Bishah',), ('OSN',), 'Butt', ('2M',), 'Randa', ('Aster', 'DM', 'Healthcare'), 'Hamsa', ('Al', 'Manzalah'), 'Salma', ('Sirjan',), ('Istanbul',), ('Al-Mashriq',), ('Colorado',), ('Kırşehir',), 'Talha', ('Elm',), 'Sohool', 'Al maaitah', 'Hasan', 'Abbasi', ('Al-Arab', 'Al-Yawm'), 'Kazim', ('Jidda',), ('Aluminium', 'Bahrain'), ('Arasco',), 'Nassim', ('DenizBank',), ('Al-Ouruba',), 'Hussam', 'Mukhlaf', ('Varamin',), ('Khobar',), 'Anas', ('Ajeer',), 'Shahida', 'Kashif', 'Anika', 'Hanadi', 'Sumaya', ('Aswan',), ('Mazazikh',), 'Zaman', ('Irbid',), 'Nura', ('MBC',), 'Javid', 'Arwa', ('Soma',), 'Madhavan', 'Rashid', ('Al', 'Jazeera'), 'Al kharabsheh', 'Shakila', 'Barham', ('BiscoMisr',), ('Ad-Dustour',), 'Ahmad', ('Boubyan', 'Bank'), 'Shaaban', ('Fetchr',), ('Epilert',), ('Bismil',), 'Ayub', ('Seeb',), 'Mourad', 'Omer', 'Faysal', 'Al azzam', 'Albanoon', ('Savola', 'Group'), 'Altihayqi', 'Alaibayshi', ('Al-Nahar',), ('Aldar', 'Properties'), ('Khan', 'Yunis'), 'Abdullah', ('TAQA', 'Group'), ('Homs',), ('Nilesat',), ('CBC',), 'Jasmine', 'Baqir', 'Adham', 'Hazem', ('Baladna',), ('Nakilat',), 'Mehdi', ('SNRT',), 'Rasim', 'Elias', 'Asia', ('Kirikkale',), 'Manal', ('Zaytouna', 'TV'), ('QEWC',), 'Nemer', ('First', 'Abu', 'Dhabi', 'Bank'), 'Bayan', 'Syed', 'Adel', 'Lubna', 'Tahani', ('Qorveh',), ('Qarchak',), 'Al khatiri', 'Burhan', 'Rajan', ('Amanat', 'Holdings'), ('Koutoubia',), ('Ashmun',), ('Khash',), ('Kashmar',), ('Kezad',), ('BMCI',), 'Shahin', 'Latifa', ('Dussur',), 'Sonya', 'Khaled', ('Shihan',), ('Dnata',), 'Zamzam', ('Afriquia',), 'Edhla', ('Al', 'Nabooda', 'Automobiles'), 'Alaishaydi', 'Razia', ('Hafar', 'Al-Batin'), ('Asmidal',), 'Alaijayni', 'Baki', ('Akhbar', 'Nouakchott'), 'Jamil', 'Waqar', 'Zamil', 'Jasmina', 'Rachid', ('Zahedan',), ('Taiz',), 'Sioarain', 'Shah', 'Majed', ('Miandoab',), 'Rabab', 'Zuhra', ('Empower',), 'Salama', ('Burdur',), ('Riyad', 'Bank'), ('NMDC', 'Group'), ('Osmaniye',), 'Sawaheel', ('Ash', 'Shatrah'), ('Al-Intiqad',), ('Kermanshah',), ('Careem',), ('Jirja',), 'Malak', 'Amna', ('Filasteen', 'al-Muslimah'), 'Zaina', ('KIPCO',), ('Malaeb',), ('Patnos',), ('Madaba',), ('Wallyscar',), ('Gaziantep',), ('Dubai', 'Islamic', 'Bank'), ('Argaam',), ('Ardabil',), ('Al-Kifah', 'al-Arabi'), 'Widad', ('Silifke',), 'Nazir', 'Kerim', ('Suez',), 'Dana', 'Nadiya', 'Haris', 'Tasnim', ('Mobily',), 'Sahjan', ('Hawaï',), 'Amjad', ('218TV',), ('ONCF',), ('Derq',), 'Ehsan', ('Konya',), ('Shawarmer',), ('al-Furat',), 'Leyla', 'Asghar', 'Fayez', ('Sivas',), ('Kingdom', 'Holding', 'Company'), 'Tahir', 'Maha', ('Zabol',), (\"Ha'il\",), ('Mashreq',), 'Yasmin', ('Karabağlar',), ('MarsaMaroc',), 'Uzma', ('Abnub',), ('Mrsool',), 'Imane', 'Nadja', 'Hoda', 'Damir', ('Ağrı',), ('Kayseri',), ('Shahr-e', 'Kord'), 'Sharifa', 'Khadra', ('Kufa',), 'Ayat', 'Rawashdeh', 'Abdulkadir', ('Aumet',), 'Abdalla', ('Kuhdasht',), ('Damac',), 'Fawzia', 'Mohsen', 'Hajar', 'Yasin', ('Evertek',), ('Khaleej', 'Times'), ('BMMI',), ('Alrifai',), ('Dammam',), ('Hamadan',), ('Karaman',), 'Ikram', 'Sundus', 'Hadil', 'Ali', 'Faris', ('Tatvan',), 'Mervan', 'Yassine', ('Fertiglobe',), ('Gaza',), ('Emsteel',), ('al-Qabas',), ('Adaraweesh',), ('İnegöl',), 'Saadia', 'Sawaghinah', ('Bingöl',), 'Alaijaybi', ('Çorum',), 'Zaid', 'Asmaa', ('Apparel', 'Group'), ('Mersa', 'Matruh'), 'Nasima', ('Emirates', 'Islamic'), 'Attieh', 'Sara', 'Fuad', 'Samed', 'Amal', ('Al', 'Ayam'), ('Al-Arish',), 'Aldhiraybi', 'Aldhihaybi', 'Mahir', ('Ash', 'Shafa'), ('Al', 'Bahah'), 'Ghani', ('Tyre',), 'Azhar', 'Alaizayli', ('Muscat',), ('Al-Bilad',), ('Al', 'Farwaniyah'), 'Nuri', ('Djezzy',), ('Al', 'Bab'), 'Majid', 'Usama', 'Thabet', 'Faruk', ('Omantel',), 'Ordbog over muslimske fornavne i Danmark', ('Edfu',), 'Sawaina', 'Saudah', 'Hussein', 'Hana', 'Ibrahim', ('Neyshabur',), ('Az', 'Zubayr'), ('Büyükçekmece',), 'Fatiha', 'Maryam', ('Bush',), ('Hakkari',), 'Khan', 'Abdulaziz', 'Yousif', ('Ismailia',), ('Kilis',), 'El massaif', ('Bakdash',), 'Baig', 'Husam', 'Suhailah', 'Shahid', 'Fatuma', ('Erbil',), 'Sudani', 'Atif', 'Ben', ('Çanakkale',), 'Sadik', 'Alshammari', ('Al', 'Jamahir'), ('PubliTools',), 'Talat', ('Cima',), 'Fadi', ('Marafiq',), ('Atasehir',), 'Albawaina', 'Ziba', ('Al-Muhaidib',), 'Hassouneh', 'Khudair', 'Murtaza', 'Dunia', ('SGTM',), 'Sahmu Adin', ('Etihad', 'Etisalat', 'Company'), ('Tarjama',), 'Anwar', 'Salman', 'Khurram', ('Sur',), ('Giresun',), ('AL24', 'News'), ('Semnan',), ('Cevital',), 'Hasiba', ('Xenel',), ('Chefaa',), ('Basra',), 'Aldermaki', 'Mutlaq', ('Borujerd',), ('Sarwa',), ('Dogonbadan',), ('Al', 'Rai'), ('Flynas',), ('Dabchy',), ('Télé', 'Liban'), ('Biougnach',), 'Houda', 'Al nuaimi', 'Nazanin', ('Malatya',), 'Elgissaini', 'Aldhiraymi', ('Mazzika',), 'Hanan', 'Sami', 'Karima', ('Al-Ahram',), 'Haydar', ('Bafra',), ('Karaj',), ('Rustaq',), ('Saham',), 'Dahlia', 'Karim', 'Adeel', 'Daud', 'Halim', ('Bayanat',), 'Saima', 'Ameerh', 'Sahmodin', 'Bahar', ('Emirates', 'Red', 'Crescent'), 'Kazem', 'Ghada', ('Mathaqi',), 'El sherif', 'Muhammed', ('ArabiaWeather',), ('Tishreen',), ('Rafah',), 'Albandi', ('Nagham',), 'Amina', ('Unifonic',), ('Mubadala',), 'Amar', 'Mahad', ('Qatar', 'Fuel'), 'Zohra', 'Mokhtar', ('Isfahan',), ('Aramco',), ('Khorramabad',), ('Ooredoo',), 'Khatabh', ('Al', 'Rayaam'), 'Hamed', 'Shaheen', ('Salihli',), ('Beylikduezue',), 'Süleyman', 'Layla', ('Iqraa',), 'Matin', ('Mukalla',), 'Sobh', ('Saidal',), 'Nasreen', ('Sulaymaniyah',), ('Ankara',), ('RASCO',), 'Wassim', 'Imran', ('Al', 'Madina'), ('Monoprix',), ('Agility',), ('DEWA',), 'Hilal', ('Solfeh',), 'Fatih', ('Sonasid',), 'Faisa', 'Lina', ('Investcorp',), 'Aliya', ('Qurayyat',), ('Zain', 'KSA'), 'Sawsan', ('Thumbay', 'Group'), 'Ilias', ('Medina',), ('Mustafakemalpaşa',), ('NBN',), ('Dhamar',), 'Alissa', 'Sayed', ('Manisa',), ('Nabd',), ('al-Alam',), ('Bursa',), ('Edirne',), ('Samsun',), 'Sulayman', ('Denizli',), ('Banagas',), 'Bin', ('Al-Thawra',), ('Kahramanmaraş',), 'Kemal', ('Lucidya',), ('Idlib',), ('Buraydah',), ('GIB', 'Capital'), ('Athaqafia',), 'Ahmet', ('Nazilli',), 'Omar', ('Khartoum',), ('Tanda',), 'Akram', ('Kitea',), ('Bahçelievler',)}\n"
     ]
    }
   ],
   "source": [
    "print(used_entities)"
   ]
  },
  {
   "cell_type": "code",
   "execution_count": 9,
   "id": "a66e33c0",
   "metadata": {},
   "outputs": [
    {
     "name": "stdout",
     "output_type": "stream",
     "text": [
      "735\n",
      "514\n"
     ]
    }
   ],
   "source": [
    "print(len(ME_BPER))\n",
    "BPER_left = [item for item in ME_BPER if item not in used_entities]\n",
    "print(len(BPER_left))"
   ]
  },
  {
   "cell_type": "code",
   "execution_count": 10,
   "id": "9fd66e90",
   "metadata": {},
   "outputs": [
    {
     "name": "stdout",
     "output_type": "stream",
     "text": [
      "1580\n",
      "1456\n"
     ]
    }
   ],
   "source": [
    "print(len(ME_IPER))\n",
    "IPER_left = [item for item in ME_IPER if item not in used_entities]\n",
    "print(len(IPER_left))"
   ]
  },
  {
   "cell_type": "code",
   "execution_count": 11,
   "id": "c5ef21b7",
   "metadata": {},
   "outputs": [
    {
     "name": "stdout",
     "output_type": "stream",
     "text": [
      "481\n",
      "352\n"
     ]
    }
   ],
   "source": [
    "print(len(ME_LOC))\n",
    "LOC_left = [d for d in ME_LOC if tuple(d['tokens']) not in used_entities]\n",
    "print(len(LOC_left))"
   ]
  },
  {
   "cell_type": "code",
   "execution_count": 12,
   "id": "7eb33ee5",
   "metadata": {},
   "outputs": [
    {
     "name": "stdout",
     "output_type": "stream",
     "text": [
      "427\n",
      "260\n"
     ]
    }
   ],
   "source": [
    "print(len(ME_ORG))\n",
    "ORG_left = [d for d in ME_ORG if tuple(d['tokens']) not in used_entities]\n",
    "print(len(ORG_left))"
   ]
  },
  {
   "cell_type": "code",
   "execution_count": 13,
   "id": "ce5ad0c3",
   "metadata": {},
   "outputs": [],
   "source": [
    "#for sent in ME_dev: \n",
    "#    print(sent)"
   ]
  },
  {
   "cell_type": "code",
   "execution_count": 14,
   "id": "f48b4937",
   "metadata": {},
   "outputs": [],
   "source": [
    "#for sent in ME_test: \n",
    "#    print(sent)"
   ]
  },
  {
   "cell_type": "code",
   "execution_count": 15,
   "id": "81a594f6",
   "metadata": {},
   "outputs": [],
   "source": [
    "# save as tsv files\n",
    "write_tsv_file(ME_dev, \"../data/me_data/middle_eastern_dev.tsv\")\n",
    "write_tsv_file(ME_test, \"../data/me_data/middle_eastern_test.tsv\")"
   ]
  },
  {
   "cell_type": "code",
   "execution_count": 16,
   "id": "287171b7",
   "metadata": {},
   "outputs": [],
   "source": [
    "write_iob2_file(ME_test, path=\"../data/me_data/middle_eastern_test.iob2\", gold=True)"
   ]
  }
 ],
 "metadata": {
  "kernelspec": {
   "display_name": "NLP",
   "language": "python",
   "name": "python3"
  },
  "language_info": {
   "codemirror_mode": {
    "name": "ipython",
    "version": 3
   },
   "file_extension": ".py",
   "mimetype": "text/x-python",
   "name": "python",
   "nbconvert_exporter": "python",
   "pygments_lexer": "ipython3",
   "version": "3.11.5"
  }
 },
 "nbformat": 4,
 "nbformat_minor": 5
}
