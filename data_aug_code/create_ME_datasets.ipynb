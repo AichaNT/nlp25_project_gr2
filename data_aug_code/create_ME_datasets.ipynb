{
 "cells": [
  {
   "cell_type": "code",
   "execution_count": 56,
   "id": "d0eae3bf",
   "metadata": {},
   "outputs": [],
   "source": [
    "# imports\n",
    "import random\n",
    "import copy\n",
    "import sys\n",
    "sys.path.append(\"../\")\n",
    "\n",
    "from scripts.load_data import write_tsv_file, extract_labeled_tokens, mapping, read_tsv_file, write_iob2_file\n",
    "from middle_eastern_ne import extract_first_names, get_last_names,  load_location, load_organisation\n",
    "\n",
    "random.seed(42)\n"
   ]
  },
  {
   "cell_type": "markdown",
   "id": "8cbdc040",
   "metadata": {},
   "source": [
    "## Get ME entities"
   ]
  },
  {
   "cell_type": "code",
   "execution_count": 57,
   "id": "c6bf85f5",
   "metadata": {},
   "outputs": [],
   "source": [
    "ME_BPER = extract_first_names(\"../data_aug_sources/Ordbog_over_muslimske_fornavne_i_DK.pdf\")\n",
    "ME_IPER = get_last_names(\"../data_aug_sources/middle_eastern_last_names.txt\", \"../data_aug_sources/KDBGIVE.tsv\")\n",
    "ME_LOC = load_location(\"../data_aug_sources/the-middle-east-cities.csv\")\n",
    "ME_ORG = load_organisation(\"../data_aug_sources/middle_eastern_organisations.csv\")"
   ]
  },
  {
   "cell_type": "code",
   "execution_count": 58,
   "id": "8d14fffb",
   "metadata": {},
   "outputs": [
    {
     "data": {
      "text/plain": [
       "{'tokens': ['Saudi', 'Aramco'], 'ner_tags': ['B-ORG', 'I-ORG']}"
      ]
     },
     "execution_count": 58,
     "metadata": {},
     "output_type": "execute_result"
    }
   ],
   "source": [
    "ME_ORG[0]"
   ]
  },
  {
   "cell_type": "markdown",
   "id": "b07d846a",
   "metadata": {},
   "source": [
    "## Read in data sets"
   ]
  },
  {
   "cell_type": "code",
   "execution_count": 59,
   "id": "2f38682f",
   "metadata": {},
   "outputs": [],
   "source": [
    "# path to the data files\n",
    "path_train = \"../data/no_overlap_da_news/da_news_train.tsv\"\n",
    "path_dev = \"../data/no_overlap_da_news/da_news_dev.tsv\"\n",
    "path_test = \"../data/no_overlap_da_news/da_news_test.tsv\"\n",
    "\n",
    "# create mapping\n",
    "label2id, id2label = mapping(path_train)\n",
    "\n",
    "# read in the DaN+ data\n",
    "train_data = read_tsv_file(path_train, label2id)\n",
    "dev_data = read_tsv_file(path_dev, label2id)\n",
    "test_data = read_tsv_file(path_test, label2id)"
   ]
  },
  {
   "cell_type": "markdown",
   "id": "d447948f",
   "metadata": {},
   "source": [
    "## Replace entities in dev and test set"
   ]
  },
  {
   "cell_type": "code",
   "execution_count": 60,
   "id": "ac413feb",
   "metadata": {},
   "outputs": [],
   "source": [
    "# extracting all tokens in train data - to ensure no overlap later\n",
    "train_tokens = extract_labeled_tokens(train_data)"
   ]
  },
  {
   "cell_type": "code",
   "execution_count": 61,
   "id": "fbf776a0",
   "metadata": {},
   "outputs": [],
   "source": [
    "# for saving all used entities\n",
    "used_entities = set()"
   ]
  },
  {
   "cell_type": "code",
   "execution_count": 62,
   "id": "29464575",
   "metadata": {},
   "outputs": [],
   "source": [
    "def data_aug_replace(dataset, sentence_amount, ME_LOC = ME_LOC, ME_ORG = ME_ORG,\n",
    "                     ME_BPER = ME_BPER, ME_IPER = ME_IPER, used_entities = None, train_tokens=train_tokens):\n",
    "    \"\"\"\n",
    "    Replaces named entities in a subset of the dataset with new MENAPT ones, ensuring:\n",
    "    - No reused tokens across datasets\n",
    "    - No tokens from train set\n",
    "    - Deterministic behavior\n",
    "    - Returns updated used_entities (flat set of tokens)\n",
    "    \"\"\"\n",
    "    local_used = set(used_entities)\n",
    "\n",
    "    # extract sentences with containing relevant tags\n",
    "    eligible_sentences = [sent for sent in dataset if any(tag not in [\"O\", \"B-MISC\", \"I-MISC\"] for tag in sent[\"ner_tags\"])]\n",
    "    # select random sentences\n",
    "    selected_sentences = random.sample(eligible_sentences, min(sentence_amount, len(eligible_sentences)))\n",
    "    # create copy to not modify original dataset \n",
    "    modified_dataset = [dict(sent) for sent in dataset] \n",
    "\n",
    "\n",
    "    for sent in modified_dataset:\n",
    "        if sent not in selected_sentences:\n",
    "            continue\n",
    "\n",
    "        i = 0\n",
    "        while i < len(sent[\"tokens\"]):\n",
    "            tag = sent[\"ner_tags\"][i]\n",
    "\n",
    "            if tag == 'B-PER':\n",
    "                available = [p for p in ME_BPER if p not in local_used and p not in train_tokens]\n",
    "                if available:\n",
    "                    replace = random.choice(available)\n",
    "                    sent[\"tokens\"][i] = replace\n",
    "                    local_used.add(replace)\n",
    "                i += 1\n",
    "\n",
    "            elif tag == 'I-PER':\n",
    "                available = [p for p in ME_IPER if p not in local_used and p not in train_tokens]\n",
    "                if available:\n",
    "                    replace = random.choice(available)\n",
    "                    sent[\"tokens\"][i] = replace\n",
    "                    local_used.add(replace)\n",
    "                i += 1\n",
    "\n",
    "            elif tag == 'B-LOC':\n",
    "                span_start = i\n",
    "                span_len = 1\n",
    "                i += 1\n",
    "                while i < len(sent[\"ner_tags\"]) and sent[\"ner_tags\"][i] == \"I-LOC\":\n",
    "                    span_len += 1\n",
    "                    i += 1\n",
    "\n",
    "                available = [\n",
    "                    loc for loc in ME_LOC\n",
    "                    if len(loc[\"tokens\"]) == span_len and\n",
    "                    tuple(loc[\"tokens\"]) not in local_used and\n",
    "                    tuple(loc[\"tokens\"]) not in train_tokens\n",
    "                ]\n",
    "                \n",
    "                if available:\n",
    "                    replace = random.choice(available)\n",
    "                    sent[\"tokens\"][span_start:span_start + span_len] = replace[\"tokens\"]\n",
    "                    local_used.add(tuple(replace[\"tokens\"]))\n",
    "\n",
    "            elif tag == 'B-ORG':\n",
    "                span_start = i\n",
    "                span_len = 1\n",
    "                i += 1\n",
    "                while i < len(sent[\"ner_tags\"]) and sent[\"ner_tags\"][i] == \"I-ORG\":\n",
    "                    span_len += 1\n",
    "                    i += 1\n",
    "\n",
    "                available = [\n",
    "                    org for org in ME_ORG\n",
    "                    if len(org[\"tokens\"]) == span_len and\n",
    "                    tuple(org[\"tokens\"]) not in local_used and\n",
    "                    tuple(org[\"tokens\"]) not in train_tokens\n",
    "                ]\n",
    "\n",
    "                if available:\n",
    "                    replace = random.choice(available)\n",
    "                    sent[\"tokens\"][span_start:span_start + span_len] = replace[\"tokens\"]\n",
    "                    local_used.add(tuple(replace[\"tokens\"]))\n",
    "\n",
    "            else:\n",
    "                i += 1\n",
    "\n",
    "    return modified_dataset, local_used\n"
   ]
  },
  {
   "cell_type": "code",
   "execution_count": 63,
   "id": "0473ac72",
   "metadata": {},
   "outputs": [
    {
     "data": {
      "text/plain": [
       "set()"
      ]
     },
     "execution_count": 63,
     "metadata": {},
     "output_type": "execute_result"
    }
   ],
   "source": [
    "used_entities"
   ]
  },
  {
   "cell_type": "code",
   "execution_count": 64,
   "id": "6025d8ec",
   "metadata": {},
   "outputs": [
    {
     "data": {
      "text/plain": [
       "589"
      ]
     },
     "execution_count": 64,
     "metadata": {},
     "output_type": "execute_result"
    }
   ],
   "source": [
    "ME_dev, used_entities = data_aug_replace(dev_data, used_entities=used_entities, sentence_amount=1000)\n",
    "len(used_entities)\n",
    "\n",
    "ME_test, used_entities = data_aug_replace(test_data, used_entities=used_entities, sentence_amount=1000)\n",
    "len(used_entities)"
   ]
  },
  {
   "cell_type": "code",
   "execution_count": 65,
   "id": "75b7f975",
   "metadata": {},
   "outputs": [
    {
     "name": "stdout",
     "output_type": "stream",
     "text": [
      "{'Alairaymiah', ('Bush',), 'Khatib', 'Afaf', ('Ashmun',), 'Shoaib', 'Usama', 'Mahmud', 'Khan', 'Al rifai', 'Naeem', 'Kazem', 'Sania', 'Zain', ('MarsaMaroc',), ('Bishah',), ('Al', 'Nabooda', 'Automobiles'), ('Libyana',), ('Muscat',), 'Alairayki', ('Palæstina',), 'Saja', ('Koutoubia',), ('Rafah',), ('SAMI',), 'Isra', ('Al-Nahar',), 'Maryam', ('Shihan',), 'Adeel', ('Gulf', 'Madhyamam'), ('Assadissa',), 'Nazir', 'Rana', ('Yazd',), 'Omer', ('Konya',), ('Careem',), ('Ceyhan',), ('Investcorp',), 'Randa', ('Izmit',), 'Umar', 'Zuhra', 'Nasser', 'Abdel abas', 'Sultan', 'Najiba', ('Epilert',), ('Sonalgaz',), ('Hawaï',), 'Mahmood.', 'Fahima', 'Lama', ('Apparel', 'Group'), ('Mubadala',), 'Syed', 'Sami', ('Damac',), 'Nahid', 'Hamad', ('SOMED',), ('Isfahan',), ('Oilibya',), ('Edirne',), 'Assia', ('Sultangazi',), ('Najaf',), 'Mazen', ('Osmaniye',), 'Waseem', 'Hamza', ('Dahuk',), 'Yusra', 'Mazhar', 'Al khaili', 'Salam', 'Altinaymi', 'Sohayr', 'Asima', ('Dnata',), 'Muhsin', ('Nablus',), 'Al hosny', 'Ali', 'Sawbara', ('Irak',), 'Feras', ('Mathaqi',), 'Rahima', 'Ahlam', 'Fuad', ('Mosul',), 'Alaisayri', 'Abdelkader', 'Samed', 'Dalia', ('Al-Kifah', 'al-Arabi'), ('Saudi', 'Awwal', 'Bank'), 'Muhammad', ('Ash', 'Shafa'), 'Hafsa', 'Nusrat', ('BMMI',), ('GIB', 'Capital'), 'Ramachandran', ('Swvl',), 'Nayef’', 'Ram', ('Dhahran',), ('Virtuzone',), 'Haris', 'Benyamin', 'Alairaythi', 'Malaika', ('Gaziantep',), ('Al-Mashriq',), ('Taiz',), ('Ad', 'Diyar'), 'Shaima', 'Bukhari', ('Bahçelievler',), ('2M',), ('Kharafi', 'Group'), ('al-Furat',), 'Abdel', ('Al', 'Bahah'), 'Najwa', ('SGTM',), 'Anwar', 'Leila', ('Rasht',), ('ADNOC',), ('Ash', 'Shatrah'), ('Jirja',), 'Malak', 'Rasheed', ('Emirates', 'Islamic'), 'Ramin', 'Hayat', ('Cevital',), ('Kingdom', 'Holding', 'Company'), 'Jasim', 'Nafisa', ('Bukan',), 'Daria', 'Faisa', 'Sahlan', ('Thumbay', 'Group'), 'Duaa', 'Rassin', ('Kayseri',), 'Abdaly', 'Kashif', ('Ünye',), ('Edfu',), ('Kuhdasht',), 'Fadel', 'Faysal', 'Sahyla', 'Alkhatib', ('218TV',), ('Al-Arish',), 'Swalimee', 'Dima', 'Metin', 'Rashed', 'Ferhat', 'Aziz', ('Nakilat',), ('Al', 'Sharq'), ('Rustaq',), 'Ibrahimoh', 'Nadir', 'Ashraf', ('Tishreen',), ('Agility',), ('al-Hayat', 'al-Jadida'), 'Navid', ('Qurayyat',), ('Nabd',), ('Damaskus',), 'Hazim', ('Trabzon',), 'Attieh', ('BulkWhiz',), 'Nazanin', ('Wanasah',), 'Haydar', ('Baladna',), ('SNRT',), ('Salihli',), 'Munira', ('Shawarmer',), ('Qatar', 'Fuel'), 'Mokhtar', ('Wallyscar',), ('Etihad', 'Etisalat', 'Company'), 'Salman', ('Qalyub',), ('RASCO',), 'Adhuf', 'Hawraa', 'Samira', 'Jalil', 'Nadia', ('Sohar',), ('Abnub',), 'Altinayhi', ('Homs',), 'Iman', ('Kilis',), ('Marand',), 'Yaser', 'Anika', 'Naia', 'Ayed', 'Haifa', ('Cima',), 'Hakima', ('NMDC', 'Group'), ('Mahabad',), ('Mauritel',), 'Muhammed', ('Bank', 'Albilad'), ('Adaraweesh',), 'Alali', ('Merkezefendi',), 'Jarallah', ('Massaya',), 'Burhan', 'Bibi', ('Khorramabad',), ('al-Alam',), 'Sadik', ('Aïcha',), ('Beylikduezue',), 'Rachid', ('Akdital',), 'Janna', 'Yakup', 'Khazal', 'Sioaraa', ('Emirates', 'Red', 'Crescent'), 'Qasmu Alkarim', ('KIPCO',), 'Sarah', 'Naveed', 'Yassine', ('Karaj',), ('Mashreq',), ('Sela',), 'Morsy', ('Atasehir',), ('NBN',), ('Saham',), ('G42',), ('Bayanat',), ('Dhamar',), ('Alshaya',), ('Omantel',), 'Aicha', 'Osman', ('Sinah',), 'Sodaa', ('Akhbar', 'Nouakchott'), ('Marafiq',), 'Abid', ('Ereğli',), ('Tarut',), ('Shahrud',), 'Ismail', ('Aramco',), ('Al', 'Anbat'), 'Jamilla', ('Arryadia',), ('One',), ('Mersa', 'Matruh'), ('SNVI',), 'Fouad', 'Melih', 'Saleem', 'Sawalika', 'Suhair', 'Latifa', 'Hasib', ('Biougnach',), 'Bushra', ('Az', 'Zubayr'), ('Mukalla',), ('Mazzika',), ('Zahedan',), 'Dunia', ('ONCF',), 'Jaafar', 'Firas', ('Ankara',), 'Sawahilah', 'Jain', 'Altimaywi', ('Emsteel',), 'Hamed', 'Fatema', ('LDC',), 'Adam', 'Hussam', ('CBC',), 'Haidar', ('Ad-Dustour',), ('Dammam',), 'Elgissaini', 'Aya', ('Derq',), ('Nilesat',), 'Yas', ('Dussur',), ('Kermanshah',), ('Saudia',), 'Fuqaha', ('AKKASA',), ('Al', 'Bab'), 'Sihaamo Aldin', 'Arif', ('Khobar',), ('Al', 'Yaum'), ('ArabiaWeather',), ('OSN',), 'Hanan', 'Mehmet', ('Sirjan',), 'Adil', 'Nejla', ('Fetchr',), ('Al-Ahram',), 'Sawafitah', ('Qorveh',), 'Najla', 'Mukhtar', 'Sanaa', ('Elm',), 'Sardar', ('Aldar', 'Properties'), ('Asmidal',), 'Imad', 'Sawaida', 'Swalimiy', 'Nadiya', 'Nagham', ('Gaza',), ('Sayhat',), 'Salwa', 'Dalila', 'Shabnam', 'Zakia', ('Solfeh',), ('Nareva',), 'Al issa', ('Bafra',), ('Hawalli',), ('Al-Muhaidib',), 'Madani', ('Khanjarah',), 'Islam', ('DenizBank',), 'Nabil', ('Malaeb',), 'El azazma', 'Nazih’', ('Khan', 'Yunis'), 'Lulu', ('Mardin',), ('Sancaktepe',), ('Al', 'Jazeera'), 'Khalid', 'Ilias', ('Istanbul',), 'Shadi', ('Al', 'Hayy'), ('Kezad',), ('Batelco',), ('MBC',), 'Alharthi', ('DEWA',), 'Safia', ('Bahrain',), ('Khaleej', 'Times'), 'Jenan', 'Rashid', 'Salih', 'Bassem', ('Mobily',), ('Al-Ouruba',), ('Mrsool',), ('QEWC',), 'Fattah', 'Altamimi', ('Tunisavia',), ('Idku',), ('Muş',), ('Bismil',), ('Karaman',), 'Kerem', 'Bahar', 'Rifat', ('Al', 'Manzalah'), ('Gulf', 'Bank'), 'Elaiouaihi', 'Salma', ('Aluminium', 'Bahrain'), ('Daily', 'Sabah'), 'Kamil', ('Kırşehir',), 'Abdirahman', 'Al abdouly', ('Monoprix',), 'Nima', 'Abdulkadir', ('Çorum',), ('al-Qabas',), ('Tanda',), 'Morad', ('Silifke',), ('Ordu',), 'Sahar', 'Mushtaq', 'Ayoub', 'Mustapha', ('AL24', 'News'), 'Zarina', 'Javid', ('Madaba',), ('Aumet',), ('Karbala',), 'Ilham', 'Udhla', ('Yalova',), 'Farid', ('Unifonic',), ('Bahri',), 'Rajaa', ('Burdur',), 'Gul', 'Hazem', ('Souqalmal',), 'Riaz', 'Al shehhi', ('Jawan',), ('Manisa',), 'Ababneh', ('Ar', 'Rass'), ('Al-Bilad',), 'Alaisaywi', ('Zabol',), ('Bimo',), 'Sinan', 'Ben', 'Bader', 'Sahan', 'El haddad', ('Nevşehir',), 'Ahmad', ('Asyut',), ('Savola', 'Group'), ('Aswan',), 'Mina', ('Malatya',), 'Sawahah', ('Saveh',), ('Sarwa',), 'Hossein', ('Fertiglobe',), ('Dubai', 'Islamic', 'Bank'), 'Usman', ('Tatvan',), 'Salim', 'Mervan', 'Nihad', ('Hakkari',), ('Zaytouna', 'TV'), ('Saidal',), ('Al-Thawra',), ('Dogonbadan',), ('Erbil',), ('Mazazikh',), ('Tunisna',), ('Ajeer',), ('Al', 'Farwaniyah'), 'Ramzi', ('Al-Intiqad',), ('Boubyan', 'Bank'), ('Miandoab',), ('Gulfsat',), ('Jet4you',), ('Ma’aden',), 'Azhar', 'Saddam', 'Abdulkarim', ('Dabchy',), 'Aliya', ('Talabat',), 'Sajida', ('Bingöl',), 'Shirin', ('Elazig',), ('As', 'Suwayq'), ('Ağrı',), ('Al-Hudaydah',), 'Kamal', 'Mumadi', 'Fawzia', ('Ajlun',), ('Buraydah',), 'Rashida', ('K24',), ('Flynas',), ('PubliTools',), ('Sivas',), ('Hafar', 'Al-Batin'), ('Al-Arab', 'Al-Yawm'), ('Irbid',), ('Amanat', 'Holdings'), ('Patnos',), ('Al', 'Rai'), 'Sadia', 'Khalil', ('Sonasid',), ('Xenel',), 'Abida', ('Riyad', 'Bank'), ('First', 'Abu', 'Dhabi', 'Bank'), 'Mohamed', 'Najib', ('Yozgat',), ('Damanhur',), 'Hana', ('Télé', 'Liban'), ('Etisalat',), 'Yamina', 'Tahira', ('Shahr-e', 'Kord'), 'Alairaysi', ('RasGas',), 'Adela', 'Nazmi', 'Younes', ('Khash',), 'Al zawaydah', 'Jawad', ('BiscoMisr',), ('Inagrab',), ('Denizli',), 'Hamdi', 'Musa', ('BMCI',), 'Tariq', ('Chefaa',), 'Milad', ('Evertek',), 'Akif', ('Seeb',), 'Redha', 'Souad', ('Østjerusalem',), 'Essa', 'Swagia', 'Raja', 'Aftab', 'Omar', 'Sajid', ('Sulaymaniyah',), ('Soma',), 'Qureshi', 'Nisa', 'Saloumi', ('El', 'Heddaf'), 'Farhad', ('Karabağlar',), 'Alaizaydi', 'Al hunaiti', 'Yasemin', ('TAQA', 'Group'), 'Sohrab', 'Zaid', 'Sumaya', ('Lucidya',), ('Al', 'Jamahir'), 'Ayat', 'Ridha', 'Aziza'}\n"
     ]
    }
   ],
   "source": [
    "print(used_entities)"
   ]
  },
  {
   "cell_type": "code",
   "execution_count": 66,
   "id": "a66e33c0",
   "metadata": {},
   "outputs": [
    {
     "name": "stdout",
     "output_type": "stream",
     "text": [
      "735\n",
      "517\n"
     ]
    }
   ],
   "source": [
    "print(len(ME_BPER))\n",
    "BPER_left = [item for item in ME_BPER if item not in used_entities]\n",
    "print(len(BPER_left))"
   ]
  },
  {
   "cell_type": "code",
   "execution_count": 67,
   "id": "9fd66e90",
   "metadata": {},
   "outputs": [
    {
     "name": "stdout",
     "output_type": "stream",
     "text": [
      "1580\n",
      "1446\n"
     ]
    }
   ],
   "source": [
    "print(len(ME_IPER))\n",
    "IPER_left = [item for item in ME_IPER if item not in used_entities]\n",
    "print(len(IPER_left))"
   ]
  },
  {
   "cell_type": "code",
   "execution_count": 68,
   "id": "c5ef21b7",
   "metadata": {},
   "outputs": [
    {
     "name": "stdout",
     "output_type": "stream",
     "text": [
      "481\n",
      "352\n"
     ]
    }
   ],
   "source": [
    "print(len(ME_LOC))\n",
    "LOC_left = [d for d in ME_LOC if tuple(d['tokens']) not in used_entities]\n",
    "print(len(LOC_left))"
   ]
  },
  {
   "cell_type": "code",
   "execution_count": 69,
   "id": "7eb33ee5",
   "metadata": {},
   "outputs": [
    {
     "name": "stdout",
     "output_type": "stream",
     "text": [
      "427\n",
      "260\n"
     ]
    }
   ],
   "source": [
    "print(len(ME_ORG))\n",
    "ORG_left = [d for d in ME_ORG if tuple(d['tokens']) not in used_entities]\n",
    "print(len(ORG_left))"
   ]
  },
  {
   "cell_type": "code",
   "execution_count": 70,
   "id": "ce5ad0c3",
   "metadata": {},
   "outputs": [],
   "source": [
    "#for sent in ME_dev: \n",
    "#    print(sent)"
   ]
  },
  {
   "cell_type": "code",
   "execution_count": 71,
   "id": "f48b4937",
   "metadata": {},
   "outputs": [],
   "source": [
    "#for sent in ME_test: \n",
    "#    print(sent)"
   ]
  },
  {
   "cell_type": "code",
   "execution_count": 72,
   "id": "81a594f6",
   "metadata": {},
   "outputs": [],
   "source": [
    "# save as tsv files\n",
    "write_tsv_file(ME_dev, \"../data/me_data/middle_eastern_dev.tsv\")\n",
    "write_tsv_file(ME_test, \"../data/me_data/middle_eastern_test.tsv\")"
   ]
  },
  {
   "cell_type": "code",
   "execution_count": 73,
   "id": "287171b7",
   "metadata": {},
   "outputs": [],
   "source": [
    "write_iob2_file(ME_test, path=\"../data/me_data/middle_eastern_test.iob2\", gold=True)"
   ]
  }
 ],
 "metadata": {
  "kernelspec": {
   "display_name": "NLP",
   "language": "python",
   "name": "python3"
  },
  "language_info": {
   "codemirror_mode": {
    "name": "ipython",
    "version": 3
   },
   "file_extension": ".py",
   "mimetype": "text/x-python",
   "name": "python",
   "nbconvert_exporter": "python",
   "pygments_lexer": "ipython3",
   "version": "3.9.21"
  }
 },
 "nbformat": 4,
 "nbformat_minor": 5
}
