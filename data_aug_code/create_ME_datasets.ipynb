{
 "cells": [
  {
   "cell_type": "code",
   "execution_count": null,
   "id": "d0eae3bf",
   "metadata": {},
   "outputs": [],
   "source": [
    "# imports\n",
    "import random\n",
    "import sys\n",
    "sys.path.append(\"../\")\n",
    "\n",
    "from scripts.load_data import write_tsv_file, extract_labeled_tokens, mapping, read_tsv_file\n",
    "from middle_eastern_ne import extract_first_names, get_last_names,  load_location, load_organisation\n",
    "\n",
    "random.seed(42)"
   ]
  },
  {
   "cell_type": "markdown",
   "id": "8cbdc040",
   "metadata": {},
   "source": [
    "## Get ME entities"
   ]
  },
  {
   "cell_type": "code",
   "execution_count": 26,
   "id": "c6bf85f5",
   "metadata": {},
   "outputs": [],
   "source": [
    "ME_BPER = extract_first_names(\"../data_aug_sources/Ordbog_over_muslimske_fornavne_i_DK.pdf\")\n",
    "ME_IPER = get_last_names(\"../data_aug_sources/middle_eastern_last_names.txt\", \"../data_aug_sources/KDBGIVE.tsv\")\n",
    "ME_LOC = load_location(\"../data_aug_sources/the-middle-east-cities.csv\")\n",
    "ME_ORG = load_organisation(\"../data_aug_sources/middle_eastern_organisations.csv\")"
   ]
  },
  {
   "cell_type": "code",
   "execution_count": 27,
   "id": "8d14fffb",
   "metadata": {},
   "outputs": [
    {
     "data": {
      "text/plain": [
       "{'tokens': ['Saudi', 'Aramco'], 'ner_tags': ['B-ORG', 'I-ORG']}"
      ]
     },
     "execution_count": 27,
     "metadata": {},
     "output_type": "execute_result"
    }
   ],
   "source": [
    "ME_ORG[0]"
   ]
  },
  {
   "cell_type": "markdown",
   "id": "b07d846a",
   "metadata": {},
   "source": [
    "## Read in data sets"
   ]
  },
  {
   "cell_type": "code",
   "execution_count": 28,
   "id": "2f38682f",
   "metadata": {},
   "outputs": [],
   "source": [
    "# path to the data files\n",
    "path_train = \"../data/no_overlap_da_news/da_news_train.tsv\"\n",
    "path_dev = \"../data/no_overlap_da_news/da_news_dev.tsv\"\n",
    "path_test = \"../data/no_overlap_da_news/da_news_test.tsv\"\n",
    "\n",
    "# create mapping\n",
    "label2id, id2label = mapping(path_train)\n",
    "\n",
    "# read in the DaN+ data\n",
    "train_data = read_tsv_file(path_train, label2id)\n",
    "dev_data = read_tsv_file(path_dev, label2id)\n",
    "test_data = read_tsv_file(path_test, label2id)"
   ]
  },
  {
   "cell_type": "markdown",
   "id": "d447948f",
   "metadata": {},
   "source": [
    "## Replace entities in dev and test set"
   ]
  },
  {
   "cell_type": "code",
   "execution_count": 29,
   "id": "ac413feb",
   "metadata": {},
   "outputs": [],
   "source": [
    "# extracting all tokens in train data - to ensure no overlap later\n",
    "train_tokens = extract_labeled_tokens(train_data)"
   ]
  },
  {
   "cell_type": "code",
   "execution_count": 30,
   "id": "fbf776a0",
   "metadata": {},
   "outputs": [],
   "source": [
    "# for saving all used entities\n",
    "used_entities = set()"
   ]
  },
  {
   "cell_type": "code",
   "execution_count": 31,
   "id": "26cec93e",
   "metadata": {},
   "outputs": [],
   "source": [
    "def data_aug_replace(dataset, sentence_amount, ME_LOC = ME_LOC, ME_ORG = ME_ORG,\n",
    "                     ME_BPER = ME_BPER, ME_IPER = ME_IPER, used_entities = used_entities, train_tokens=train_tokens):\n",
    "    \"\"\"\n",
    "    Replaces named entities in a subset of the dataset with new MENAPT ones, ensuring no reuse across datasets.\n",
    "    \"\"\"\n",
    "\n",
    "    random.seed(42)\n",
    "\n",
    "    # extract sentences with containing relevant tags\n",
    "    eligible_sentences = [sent for sent in dataset if any(tag not in [\"O\", \"B-MISC\", \"I-MISC\"] for tag in sent[\"ner_tags\"])]\n",
    "    # select random sentences\n",
    "    selected_sentences = random.sample(eligible_sentences, min(sentence_amount, len(eligible_sentences)))\n",
    "    # create copy to not modify original dataset \n",
    "    modified_dataset = [dict(sent) for sent in dataset] \n",
    "\n",
    "    for sent in modified_dataset:\n",
    "        if sent not in selected_sentences:\n",
    "            continue\n",
    "\n",
    "        i = 0\n",
    "        while i < len(sent[\"tokens\"]):\n",
    "            tag = sent[\"ner_tags\"][i]\n",
    "\n",
    "            if tag == 'B-PER':\n",
    "                available = [p for p in ME_BPER if p not in used_entities and p not in train_tokens]\n",
    "                if available:\n",
    "                    replace = random.choice(available)\n",
    "                    sent[\"tokens\"][i] = replace\n",
    "                    used_entities.add(replace)\n",
    "                i += 1\n",
    "\n",
    "            elif tag == 'I-PER':\n",
    "                available = [p for p in ME_IPER if p not in used_entities and p not in train_tokens]\n",
    "                if available:\n",
    "                    replace = random.choice(available)\n",
    "                    sent[\"tokens\"][i] = replace\n",
    "                    used_entities.add(replace)\n",
    "                i += 1\n",
    "\n",
    "            elif tag == 'B-LOC':\n",
    "                span_start = i\n",
    "                span_len = 1\n",
    "\n",
    "                i += 1\n",
    "\n",
    "                while i < len(sent[\"ner_tags\"]) and sent[\"ner_tags\"][i] == \"I-LOC\":\n",
    "                    span_len += 1\n",
    "                    i += 1\n",
    "\n",
    "                available = [\n",
    "                    loc for loc in ME_LOC\n",
    "                    if not any(token in train_tokens for token in loc[\"tokens\"])\n",
    "                    and not any(token in used_entities for token in loc[\"tokens\"])\n",
    "                    and len(loc[\"tokens\"]) == span_len\n",
    "                ]\n",
    "                \n",
    "                if available:\n",
    "                    replace = random.choice(available)\n",
    "                    sent[\"tokens\"][span_start:span_start + span_len] = replace[\"tokens\"]\n",
    "                    used_entities.update(replace[\"tokens\"])\n",
    "\n",
    "            elif tag == 'B-ORG':\n",
    "                span_start = i\n",
    "                span_len = 1\n",
    "                i += 1\n",
    "                while i < len(sent[\"ner_tags\"]) and sent[\"ner_tags\"][i] == \"I-ORG\":\n",
    "                    span_len += 1\n",
    "                    i += 1\n",
    "\n",
    "                available = [\n",
    "                    org for org in ME_ORG\n",
    "                    if not any(token in train_tokens for token in org[\"tokens\"])\n",
    "                    and not any(token in used_entities for token in org[\"tokens\"])\n",
    "                    and len(org[\"tokens\"]) == span_len\n",
    "                ]\n",
    "\n",
    "                if available:\n",
    "                    replace = random.choice(available)\n",
    "                    sent[\"tokens\"][span_start:span_start + span_len] = replace[\"tokens\"]\n",
    "                    used_entities.update(replace[\"tokens\"])\n",
    "\n",
    "            else:\n",
    "                i += 1\n",
    "\n",
    "    return modified_dataset\n"
   ]
  },
  {
   "cell_type": "code",
   "execution_count": 32,
   "id": "6025d8ec",
   "metadata": {},
   "outputs": [],
   "source": [
    "ME_dev = data_aug_replace(dev_data, 1000)\n",
    "ME_test = data_aug_replace(test_data, 1000)"
   ]
  },
  {
   "cell_type": "code",
   "execution_count": 33,
   "id": "75b7f975",
   "metadata": {},
   "outputs": [
    {
     "name": "stdout",
     "output_type": "stream",
     "text": [
      "{'Saeed', 'Dahlia', 'Talabat', 'Ismail', 'al-Yaoume', 'Kashif', 'Nur', 'Yassine', 'Adhree', 'Alairayri', 'Amna', 'Eco-Médias', 'Yasmine', 'Al-Kalima', 'Salihli', 'Jawad', 'Ajeer', 'Dana', 'Malatya', 'Malaeb', 'Bolu', 'Eskisehir', 'Khomeyn', 'Rustaq', 'Ash', 'Trabzon', 'Harun', 'Shatrah', 'Rize', 'AvidBeam', 'Yazd', 'Gulf', 'Albawaly', 'Nida', 'Altinaymi', 'Aden', 'Al-Thawra', 'Dalal', 'Al akhras', 'Karam', 'Yasmin', 'Rachid', 'PubliTools', 'Al-Hudaydah', 'Najwa', 'Yousif', 'Naveed', 'Mirza', 'Zahir', 'Sadik', 'İnegöl', 'Oilibya', 'Wasla', 'Hayat', 'Kessimou Elfedil', 'Atef', 'al-Watan', 'al-Arabi', 'Party', 'Nazir', 'Naqadeh', 'Socialist', 'Bahram', 'Tunisna', 'ONCF', 'Emir', 'Mallawi', \"'Amarah\", 'Batman', 'Sami', 'Jamjamal', 'Fatiha', 'Tahta', 'Madaba', 'NBN', 'Fadia', 'Healthcare', 'Khorramshahr', 'Mohsen', 'Sonya', 'News', 'Arif', 'Osmaniye', 'Gaziantep', 'Tariq', 'G42', 'Salam', 'Monoprix', 'Zainab', 'Comarit', 'Bibi', 'Lubna', 'Flynas', 'al-Balad', 'Sakakah', 'Ağrı', 'Abdullah', 'Sharjah', 'Managem', 'Latifa', 'Kharabeesh', 'Sonatrach', 'Bandar', 'Sopriam', 'Nasr', 'Naftal', 'Holdings', 'Dogonbadan', 'Yaser', 'Ooredoo', 'Suhaa', 'Korkis', 'Jonubi', 'Shrestha', 'Jirja', 'Latakia', 'Aïcha', 'Turgutlu', 'Amin', 'Assadissa', 'Al-Bilad', 'Swvl', 'Egyptalum', 'Zakariya', 'Alshaya', 'Shabib', 'Sahlan', 'Fadil', 'Yallacompare', 'Çankaya', 'QEWC', 'Ramazan', 'Zaher', 'Ajmal', 'Hussain', 'Taj', 'Mansour', 'Rania', 'Bayanat', 'Zarqa', 'Rabih', 'Emaar', 'Nizar', 'Hajar', 'Emad', 'Qasim', 'Mariam', 'Madiha', 'Borouge', 'Faik', 'Laraki', 'Fertiglobe', 'Fadel', 'Saad', 'El nayady', 'Altiwayriqy', 'Bandar-e', 'Al-Arab', 'Majid', 'Elm', 'Karabük', 'Elaiouaikil', 'Fakhoury', 'Amal', 'Faten', 'Fetchr', 'Bahri', 'Front', 'Souqalmal', 'Bandırma', 'Issam', 'Najaf', 'Al-Ouruba', 'Abbas', 'SAMI', 'Deyaar', 'Ferhat', 'Redha', 'al-Jamahiriyah', 'OTV', 'Americana', 'Sioarain', 'Bakdash', 'Asmidal', 'Sonasid', 'Navid', 'Abdulkadir', 'Marivan', 'Asma', 'Asia', 'Reza', 'Nabil', 'Malayer', 'ALAHLI', 'Lina', 'e&', 'Assiri', 'Heddaf', 'Sawbarah', 'Kahramanmaraş', 'Nakilat', 'Arabot', 'Kezad', 'Sirjan', 'Mahir', 'GoEjaza', 'Zakia', 'Fadila', 'Khadra', 'Ordu', 'Afriquia', 'Al-Yawm', 'Bani', 'al-Jarida', 'Al mousa', 'Kastamonu', 'Corlu', 'ArabiaWeather', 'Suwayf', 'eSpace', 'Takestan', 'Madhyamam', 'Alaitayni', 'Atasehir', 'Odeh', 'Ahsan', 'Ordbog over muslimske fornavne i Danmark', 'Tarsus', 'Asad', 'Wail', 'Nagham', 'Rana', 'Shaima', 'Qurayyat', 'Sajjad', 'Rabia', 'ViaVii', 'Dubai', 'Sarwa', 'Recep', 'Ebrahim', 'Almarai', 'Adham', 'Sinah', 'Rafah', 'by', 'Ceyhan', 'Sahlaah', 'KTV2', 'Salma', 'Qazvin', 'Sulaymaniyah', 'Afyonkarahisar', 'Kahta', 'Muhamed', 'KSA', 'Burhan', 'ez-Zor', 'Fuwwah', 'Antalya', 'Nareva', 'Nassim', 'Suadaa', 'Altihayshi', 'Layla', 'Babol', 'Abdel sada', 'Walaa', 'El', 'Raed', 'Ayat', 'Abha', 'Iskenderun', 'Matruh', 'Sawahiry', 'Saber', 'Investments', 'Nadia', 'AL24', 'Hana', 'Arab', 'Nazim', 'Saleh', 'Nablus', 'SABIC', 'Muhamad', 'Bursa', 'Sawani', 'Junaid', 'Sultan', 'Mazzika', 'Ramadan', 'Dima', 'Al-Arish', 'Imane', 'Careem', 'Talha', 'Tuba', 'Sahar', 'Kahramaa', 'Ibtisam', 'Siger', 'Naseej', 'Al-Ittihad', 'Omdurman', 'Elgibaidi', 'Albuhlol', 'Al sarhan', 'Naja', 'Sahabi', 'Bayane', 'Shah', 'MBC', 'ACWA', 'Hilal', 'Sancaktepe', 'Junes', 'Nehmeh', 'Al owais', 'Siverek', 'Khorramabad', 'Télé', 'Altinayqi', 'SOMED', 'Suhail', 'Esenyurt', 'Amman', 'Sahyb', 'Shahr-e', 'Radia', 'Birjand', 'Al-Waie', 'Albouhloul', 'al-Zahf', 'Qorveh', 'Samar', 'Abdel hadi', 'Akdital', 'Ashabiba', 'Rashida', 'Fouad', 'Alia', 'Zeinab', 'Alyami', 'Gonbad-e', 'Shaikh', 'Manavgat', 'Hena', 'Karbala', 'Masoud', 'Noon', 'Meriam', 'Qalyub', 'Hawa', 'Hanifa', 'al-Alam', 'Mubadala', 'Haidar', 'El sherif', 'Sardar', 'Al-Wehda', 'Torath', 'Russeifa', 'Meteb', 'Roya', 'Jabara', 'Cerebras', 'Investcorp', 'Assia', 'Islamic', 'Ezzat', 'Tunisavia', 'Nadja', 'Raqqah', 'Gul', 'Attieh', 'Dawood', 'national', 'Imad', 'Souad', 'Arar', 'Batelco', 'al-Jadid', 'al-Muslimah', 'Hakima', 'Arasco', 'Mezban', 'Saqqez', 'Raad', 'Air', 'Hawra', 'Lord', 'Rezayat', 'Albawalisah', 'Mobily', 'Sawafita', 'Salman', 'Orumiyeh', 'Aster', 'Almalki', 'AKKASA', 'Ar', 'Restaurants', 'Naima', 'Evertek', 'Syed', 'Husein', 'Bünyamin', 'Ghani', 'Haifa', 'Anis', 'Starworld', 'Ad-Dustour', 'Tabriz', 'Rahman', 'Libyana', 'Yusra', 'Nusrat', 'Mauritel', 'Murad', 'Nuran', 'Ashmun', 'Bahar', 'Adeel', 'Shazia', 'Albuhlul', 'Süleyman', 'Xenel', 'Lamia', 'Stock', 'Mahad', 'Nouakchott', 'Marafiq', 'Tatvan', 'Reddy', 'Saudi', 'SPORTS', 'Arnavutköy', 'Mahdi', 'Manisa', 'Munira', 'Muscat', 'Aiguebelle', 'Jet4you', 'Dahuk', 'Zaynab', 'Hiba', 'Khashan', 'Cizre', 'Nour', 'Zahra', 'Damietta', 'Tahani', 'Adel', 'Tamer', 'Erzurum', 'Aldhirayni', 'Aziz', 'Kulayb', '218TV', 'Gulfsat', 'Zain', 'Akbarabad', 'Judi', 'Education', 'Ödemiş', 'Fadi', 'Zahraa', 'Afzal', 'Du', 'Kerim', 'Properties', 'Büyükçekmece', 'Muratpasa', 'Shamsina', 'Bawshar', 'Østjerusalem', 'Cima', 'BulkWhiz', 'Ramiz', 'Konya', 'Saleem', 'Amjad', 'Khanjarah', 'Natsheh', 'Isna', 'Albustaji', 'stc', 'Leyla', 'Hashim', 'Hurghada', 'Arabia', 'Jaafar', 'Alaishaywi', 'Kutahya', 'Zohra', 'Aldhimayni', 'Abdul', 'Mahnaz', 'Alnawaflh', 'Matin', 'Mahamed', 'Inagrab', 'Diwaniyah', 'Tasnim', 'Didan', 'Abida', 'Rehman', 'Çorum', 'Munuf', 'bank', 'Partners', 'Asima', 'Farid', 'Jasmine', 'Mahmoud', 'Khartoum', 'Adaraweesh', 'Sari', 'Tishreen', 'Isparta', 'Shahr', 'Sina', 'Elves', 'Khamis', 'Şişli', 'Gas', 'Ismailia', 'Filasteen', 'Kavus', 'Abadan', 'Nisa', 'Mukhtar', 'Ahlat', 'Nawal', 'Soma', 'Burson', 'Nahla', 'Ben', 'Al kibaly', 'Assabeel', 'Rehana', 'Tekirdağ', 'Tabbah', 'Zahle', 'Irbid', 'Taiz', 'Abdi', 'Buraydah', 'Akhisar', 'Nisrin', 'Elgissaini', 'Sohool', 'Ghazi', 'Nurabad', 'Sabzevar', 'Sohag', 'Koutoubia', 'Alrifai', 'Omantel', 'Wafa', 'Ayah', 'Amanat', 'Alaisayriah', 'Banha', 'arab', 'ZenHR', 'Sanandaj', 'Electroplanet', 'Albawatina', 'Mervan', 'Aziza', 'Al muhri', 'Polisario', 'Al-Muhaidib', \"Ha'il\", 'As', 'Firas', 'Kudu', 'Arak', 'Karaj', 'Hattamah', 'Kairo', 'Bilqas', 'Noor', 'Asdaa', 'Bin', 'Ilham', 'Exchange', 'Asmar', 'al-Jadida', 'Al mashaleh', 'Sulayman', 'Hebron', 'K24', 'Muhsin', 'Abdelraza', 'Jana', 'Jihad', 'al-Furat', 'One', 'Baouazir', 'Damac', 'Faruk', 'Alaisaybi', 'Yunus', 'Zaki', 'Argaam', 'Nasir', 'Ad', 'Mir', 'al-Fajr', 'Samina', 'Hasina', 'GEMS', 'Mawdoo3', 'Khalid', 'Hala', 'Wikaya', 'al-Maghribia', 'Khomeyni', 'Yalova', 'Nusaybin', 'Dnata', 'Nabd', 'El tanigy', 'Kemal', 'ANB', \"Ba'ath\", 'Alshaikh', 'Ajman', 'Aqaba', 'Chaudhry', 'Biougnach', 'DM', 'Ola', 'Tarik', '3ayez', 'Yüksekova', 'Mersa', 'Mushait', 'Ul’Jadid', 'Deir', 'Viranşehir', 'Abdulaziz', 'Etisalat', 'Soraya', 'Al zuben', 'Leila', '2M', 'Al-Akhdar', 'Kashmar', 'Daraty', 'Shahnaz', 'Randa', 'Kasim', 'Marza', 'Mushtaq', 'Osama', 'Doğubayazıt', 'Aicha', 'Lucidya', 'Liban', 'Mahabad', 'Aramco', 'Rajaa', 'Safirah', 'Elhamly', 'Abdalla', 'Taha', 'Langarud', 'Jamilla', 'Rima', 'Manar', 'Al masaru', 'Dar', 'Samalut', 'Metin', 'Jordan', 'Salalah', 'Adil', 'ADNOC', 'Okaz', 'MarsaMaroc', 'Mosul', 'Süheyla', 'solutions', 'Yonis', 'Bingöl', 'Massaya', 'Ma’aden', 'Marsteller', 'Amir', 'ONTV', 'Shakila', 'Nihal', 'Anas', 'Saidal', 'Hotels', 'Faqus', 'Ayoub', 'El sewedy', 'Hamzah', 'Dahir', 'Farhoud', 'Furkan', 'Shihan', 'Alaijaybi', 'beIN', 'al-Hayat', 'Wanasah', 'Adela', 'Nazilli', 'Houda', 'Sajid', 'Company', 'Fahima', 'Morad', 'Ayvalık', 'BMCI', 'Kuşadası', 'Kazar', 'Ramin', 'Siera', 'Habiba', 'QNB', 'Tahir', 'Asiacell', 'Kausar', 'Qasimulfadil', 'Hawacom', 'Jamal', 'Power', 'Yasar', 'Sabah', 'Hasna', 'Ramadi', 'Mustapha', 'Fuqaha', 'Sahjane', 'Mounira', 'Shnein', 'HalalaH', 'Jumeirah', 'Ras', 'Emirates', 'Muna', 'Jablah', 'Malek', 'Derq', 'Mina', 'Chefaa', 'Siirt', 'Anwar', 'Kord', 'Saba', 'Brahim', 'Razia', 'Najiba', 'Kadirli', 'Burdur', 'Miriam', 'Nazih’', 'Sultangazi', 'Alaishaydi', 'Anzal-e', 'Souhaila', 'Üsküdarr', 'Solutions', 'Ahar', 'Mo’men', 'Mondair', 'Djezzy', 'Dussur', 'Adwya', 'Amar', 'Rasht', 'Faiza', 'Karabağlar', 'Wahida', 'Karaman', 'Bahçelievler', 'Hassan', 'Iqraa', 'Mehmet', 'Abjjad', 'Idku', 'Akhbar', 'Nahi', 'Vermeg', 'Al-Ahram', 'Aida', 'Dalila', 'Miran', 'Basra', 'Anzali', 'Iran', 'Edfu', 'Wasim', 'Manbij', 'Al-Kifah', 'Sayyan', 'Fatsa', 'Maltepe', 'Saadia', 'Hawaï', 'Binabd Allah', 'Zahid', 'Hossein', 'al-Qabas', 'Batikent', 'Shadi', 'Yasir', 'Sahym', 'Sumaya', 'Agri-Nutrients', 'Istanbul', 'Adhla', 'Şanlıurfa', 'Kozan', 'Melih', 'Khalis', 'Al-Ahd', 'Al', 'Alairaymin', 'Muş', 'Silvan', 'Bukan', 'Colorado', 'Muhammad', 'Tarjama', 'Al-Nahar', 'Zeytinburnu', 'Attia', 'Aumet', 'Epilert', 'Samad', 'Jamshid', 'Alaidaybi', 'Alairayfij', 'Ahmad', 'Shahid', 'Nazmi', '360VUZ', 'Nariman', 'Tai', 'Polatlı', 'Marjane', 'Telecom', 'Lamsa', 'Mukhlaf', 'al-Khaimah', 'TGCC', 'Hisham', 'Adhrah', 'Aldmour', 'Al-Mustaqbal', 'Yahya', 'Naim', 'Gupta', 'DMC', 'Daud', 'Ayuub', 'Khadija', 'Amol', 'Maroc', 'Patchi', 'Shorooq', 'Talkha'}\n"
     ]
    }
   ],
   "source": [
    "print(used_entities)"
   ]
  },
  {
   "cell_type": "code",
   "execution_count": 34,
   "id": "ce5ad0c3",
   "metadata": {},
   "outputs": [],
   "source": [
    "#for sent in ME_dev: \n",
    "#    print(sent)"
   ]
  },
  {
   "cell_type": "code",
   "execution_count": 35,
   "id": "f48b4937",
   "metadata": {},
   "outputs": [],
   "source": [
    "#for sent in ME_test: \n",
    "#    print(sent)"
   ]
  },
  {
   "cell_type": "code",
   "execution_count": 36,
   "id": "81a594f6",
   "metadata": {},
   "outputs": [],
   "source": [
    "# save as tsv files\n",
    "write_tsv_file(ME_dev, \"../data/me_data/middle_eastern_dev.tsv\")\n",
    "write_tsv_file(ME_test, \"../data/me_data/middle_eastern_test.tsv\")"
   ]
  }
 ],
 "metadata": {
  "kernelspec": {
   "display_name": "NLP",
   "language": "python",
   "name": "python3"
  },
  "language_info": {
   "codemirror_mode": {
    "name": "ipython",
    "version": 3
   },
   "file_extension": ".py",
   "mimetype": "text/x-python",
   "name": "python",
   "nbconvert_exporter": "python",
   "pygments_lexer": "ipython3",
   "version": "3.9.21"
  }
 },
 "nbformat": 4,
 "nbformat_minor": 5
}
