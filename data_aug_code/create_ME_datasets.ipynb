{
 "cells": [
  {
   "cell_type": "code",
   "execution_count": 92,
   "id": "d0eae3bf",
   "metadata": {},
   "outputs": [],
   "source": [
    "# imports\n",
    "import random\n",
    "import copy\n",
    "import sys\n",
    "sys.path.append(\"../\")\n",
    "\n",
    "from scripts.load_data import write_tsv_file, extract_labeled_tokens, mapping, read_tsv_file, write_iob2_file\n",
    "from middle_eastern_ne import extract_first_names, get_last_names,  load_location, load_organisation\n",
    "\n",
    "random.seed(42)\n"
   ]
  },
  {
   "cell_type": "markdown",
   "id": "8cbdc040",
   "metadata": {},
   "source": [
    "## Get ME entities"
   ]
  },
  {
   "cell_type": "code",
   "execution_count": 93,
   "id": "c6bf85f5",
   "metadata": {},
   "outputs": [],
   "source": [
    "ME_BPER = extract_first_names(\"../data_aug_sources/Ordbog_over_muslimske_fornavne_i_DK.pdf\")\n",
    "ME_IPER = get_last_names(\"../data_aug_sources/middle_eastern_last_names.txt\", \"../data_aug_sources/KDBGIVE.tsv\")\n",
    "ME_LOC = load_location(\"../data_aug_sources/the-middle-east-cities.csv\")\n",
    "ME_ORG = load_organisation(\"../data_aug_sources/middle_eastern_organisations.csv\")"
   ]
  },
  {
   "cell_type": "code",
   "execution_count": 94,
   "id": "8d14fffb",
   "metadata": {},
   "outputs": [
    {
     "data": {
      "text/plain": [
       "{'tokens': ['Saudi', 'Aramco'], 'ner_tags': ['B-ORG', 'I-ORG']}"
      ]
     },
     "execution_count": 94,
     "metadata": {},
     "output_type": "execute_result"
    }
   ],
   "source": [
    "ME_ORG[0]"
   ]
  },
  {
   "cell_type": "markdown",
   "id": "b07d846a",
   "metadata": {},
   "source": [
    "## Read in data sets"
   ]
  },
  {
   "cell_type": "code",
   "execution_count": 95,
   "id": "2f38682f",
   "metadata": {},
   "outputs": [],
   "source": [
    "# path to the data files\n",
    "path_train = \"../data/no_overlap_da_news/da_news_train.tsv\"\n",
    "path_dev = \"../data/no_overlap_da_news/da_news_dev.tsv\"\n",
    "path_test = \"../data/no_overlap_da_news/da_news_test.tsv\"\n",
    "\n",
    "# create mapping\n",
    "label2id, id2label = mapping(path_train)\n",
    "\n",
    "# read in the DaN+ data\n",
    "train_data = read_tsv_file(path_train, label2id)\n",
    "dev_data = read_tsv_file(path_dev, label2id)\n",
    "test_data = read_tsv_file(path_test, label2id)"
   ]
  },
  {
   "cell_type": "markdown",
   "id": "d447948f",
   "metadata": {},
   "source": [
    "## Replace entities in dev and test set"
   ]
  },
  {
   "cell_type": "code",
   "execution_count": 96,
   "id": "ac413feb",
   "metadata": {},
   "outputs": [],
   "source": [
    "# extracting all tokens in train data - to ensure no overlap later\n",
    "train_tokens = extract_labeled_tokens(train_data)"
   ]
  },
  {
   "cell_type": "code",
   "execution_count": 97,
   "id": "fbf776a0",
   "metadata": {},
   "outputs": [],
   "source": [
    "# for saving all used entities\n",
    "used_entities = set()"
   ]
  },
  {
   "cell_type": "code",
   "execution_count": 98,
   "id": "29464575",
   "metadata": {},
   "outputs": [],
   "source": [
    "def data_aug_replace(dataset, sentence_amount, ME_LOC = ME_LOC, ME_ORG = ME_ORG,\n",
    "                     ME_BPER = ME_BPER, ME_IPER = ME_IPER, used_entities = None, train_tokens=train_tokens):\n",
    "    \"\"\"\n",
    "    Replaces named entities in a subset of the dataset with new MENAPT ones, ensuring:\n",
    "    - No reused tokens across datasets\n",
    "    - No tokens from train set\n",
    "    - Deterministic behavior\n",
    "    - Returns updated used_entities (flat set of tokens)\n",
    "    \"\"\"\n",
    "    local_used = set(used_entities)\n",
    "\n",
    "    # extract sentences with containing relevant tags\n",
    "    eligible_sentences = [sent for sent in dataset if any(tag not in [\"O\", \"B-MISC\", \"I-MISC\"] for tag in sent[\"ner_tags\"])]\n",
    "    # select random sentences\n",
    "    selected_sentences = random.sample(eligible_sentences, min(sentence_amount, len(eligible_sentences)))\n",
    "    # create copy to not modify original dataset \n",
    "    modified_dataset = copy.deepcopy(dataset)\n",
    "\n",
    "    for sent in modified_dataset:\n",
    "        if sent not in selected_sentences:\n",
    "            continue\n",
    "\n",
    "        i = 0\n",
    "        while i < len(sent[\"tokens\"]):\n",
    "            tag = sent[\"ner_tags\"][i]\n",
    "\n",
    "            if tag == 'B-PER':\n",
    "                available = sorted([p for p in ME_BPER if p not in local_used and p not in train_tokens])\n",
    "                if available:\n",
    "                    replace = random.choice(available)\n",
    "                    sent[\"tokens\"][i] = replace\n",
    "                    local_used.add(replace)\n",
    "                i += 1\n",
    "\n",
    "            elif tag == 'I-PER':\n",
    "                available = sorted([p for p in ME_IPER if p not in local_used and p not in train_tokens])\n",
    "                if available:\n",
    "                    replace = random.choice(available)\n",
    "                    sent[\"tokens\"][i] = replace\n",
    "                    local_used.add(replace)\n",
    "                i += 1\n",
    "\n",
    "            elif tag == 'B-LOC':\n",
    "                span_start = i\n",
    "                span_len = 1\n",
    "                i += 1\n",
    "                while i < len(sent[\"ner_tags\"]) and sent[\"ner_tags\"][i] == \"I-LOC\":\n",
    "                    span_len += 1\n",
    "                    i += 1\n",
    "\n",
    "                available = [\n",
    "                    loc for loc in ME_LOC\n",
    "                    if len(loc[\"tokens\"]) == span_len and\n",
    "                    tuple(loc[\"tokens\"]) not in local_used and\n",
    "                    tuple(loc[\"tokens\"]) not in train_tokens\n",
    "                ]\n",
    "                \n",
    "                if available:\n",
    "                    replace = random.choice(available)\n",
    "                    sent[\"tokens\"][span_start:span_start + span_len] = replace[\"tokens\"]\n",
    "                    local_used.add(tuple(replace[\"tokens\"]))\n",
    "\n",
    "            elif tag == 'B-ORG':\n",
    "                span_start = i\n",
    "                span_len = 1\n",
    "                i += 1\n",
    "                while i < len(sent[\"ner_tags\"]) and sent[\"ner_tags\"][i] == \"I-ORG\":\n",
    "                    span_len += 1\n",
    "                    i += 1\n",
    "\n",
    "                available = [\n",
    "                    org for org in ME_ORG\n",
    "                    if len(org[\"tokens\"]) == span_len and\n",
    "                    tuple(org[\"tokens\"]) not in local_used and\n",
    "                    tuple(org[\"tokens\"]) not in train_tokens\n",
    "                ]\n",
    "\n",
    "                if available:\n",
    "                    replace = random.choice(available)\n",
    "                    sent[\"tokens\"][span_start:span_start + span_len] = replace[\"tokens\"]\n",
    "                    local_used.add(tuple(replace[\"tokens\"]))\n",
    "\n",
    "            else:\n",
    "                i += 1\n",
    "\n",
    "    return modified_dataset, local_used\n"
   ]
  },
  {
   "cell_type": "code",
   "execution_count": 99,
   "id": "0473ac72",
   "metadata": {},
   "outputs": [
    {
     "data": {
      "text/plain": [
       "set()"
      ]
     },
     "execution_count": 99,
     "metadata": {},
     "output_type": "execute_result"
    }
   ],
   "source": [
    "used_entities"
   ]
  },
  {
   "cell_type": "code",
   "execution_count": 100,
   "id": "6025d8ec",
   "metadata": {},
   "outputs": [
    {
     "data": {
      "text/plain": [
       "589"
      ]
     },
     "execution_count": 100,
     "metadata": {},
     "output_type": "execute_result"
    }
   ],
   "source": [
    "ME_dev, used_entities = data_aug_replace(dev_data, used_entities=used_entities, sentence_amount=1000)\n",
    "len(used_entities)\n",
    "\n",
    "ME_test, used_entities = data_aug_replace(test_data, used_entities=used_entities, sentence_amount=1000)\n",
    "len(used_entities)"
   ]
  },
  {
   "cell_type": "code",
   "execution_count": 101,
   "id": "75b7f975",
   "metadata": {},
   "outputs": [
    {
     "name": "stdout",
     "output_type": "stream",
     "text": [
      "{('Bush',), 'Albandi', ('Ashmun',), 'Usama', 'Aldhihaybi', 'Mahmud', 'Khan', 'Kazem', ('Bakdash',), 'Yasmin', ('MarsaMaroc',), ('Bishah',), ('Al', 'Nabooda', 'Automobiles'), 'Adham', 'Kerim', ('Muscat',), ('Palæstina',), ('Koutoubia',), ('Rafah',), ('SAMI',), 'Asia', ('Shihan',), ('Al-Nahar',), 'Adeel', 'Maryam', ('Gulf', 'Madhyamam'), 'Hadil', 'Nazir', 'Kemal', 'Omer', ('Konya',), ('Careem',), 'Sulayman', ('Investcorp',), 'Randa', 'Umar', 'Zuhra', 'Faris', 'Arwa', 'Baki', ('Epilert',), 'Ghani', ('Idlib',), 'Sahmoud', ('Hawaï',), ('GIB', 'Capital'), ('Apparel', 'Group'), ('Mubadala',), 'Syed', 'Sami', ('Damac',), 'Waqar', 'Zakariya', ('Isfahan',), ('Oilibya',), 'Ehsan', 'Ghada', ('Edirne',), 'Naja', 'Damir', 'Altihayqi', ('Osmaniye',), ('Athaqafia',), 'Widad', 'Abdullah', 'Alaibayli', ('Kashmar',), 'Mahad', 'Asima', 'Hilal', ('Dnata',), ('Kitea',), ('Egyptalum',), 'Ali', 'Ahmet', ('Semnan',), 'Majed', 'Nasima', ('Irak',), ('Mathaqi',), ('Banagas',), 'Yousif', 'Fuad', 'Sahjan', 'Hashem', ('Suez',), 'Samed', 'Zamzam', ('Al-Kifah', 'al-Arabi'), 'Baqir', 'Al mazroui', 'Dana', 'Aiman', ('Siera',), ('Ash', 'Shafa'), 'Nusrat', 'Akram', 'Yousra', ('Swvl',), 'Nassim', ('BMMI',), 'Haris', 'Rabab', 'Yasin', 'Al kharabsheh', 'Shaheen', 'Zaina', 'Amna', ('Gaziantep',), 'Hoda', ('Al-Mashriq',), ('Taiz',), 'Bukhari', ('Bahçelievler',), ('2M',), ('Kharafi', 'Group'), ('al-Furat',), 'Sawaheel', ('Kahramanmaraş',), ('Al', 'Bahah'), ('Mustafakemalpaşa',), ('SGTM',), 'Anwar', ('ADNOC',), 'Abdulaziz', ('Jirja',), 'Karim', ('Ash', 'Shatrah'), 'Sahmu Adin', ('Ardabil',), 'Malak', 'Ordbog over muslimske fornavne i Danmark', ('Al', 'Madina'), ('Emirates', 'Islamic'), 'Abir', ('Kingdom', 'Holding', 'Company'), ('Cevital',), ('Hamadan',), 'Khaled', 'Saif', ('Bukan',), 'Shahid', ('Büyükçekmece',), 'Faisa', ('Thumbay', 'Group'), 'Ibtisam', 'Albawaina', ('Qarchak',), ('Kayseri',), 'Husam', 'Kashif', ('Ünye',), ('Edfu',), ('Kuhdasht',), 'Sobh', 'Faysal', 'Mourad', 'Sahyla', ('218TV',), ('Al-Arish',), ('Neyshabur',), 'Metin', ('Rustaq',), ('Nakilat',), ('Al', 'Sharq'), ('Agility',), ('Tishreen',), ('Eskisehir',), ('al-Hayat', 'al-Jadida'), ('Qurayyat',), 'Hazim', 'Attieh', 'Fatuma', ('Nabd',), ('BulkWhiz',), 'Haydar', 'Nazanin', 'Imran', 'Murtaza', ('Baladna',), 'Layla', ('SNRT',), 'Suhailah', ('Al', 'Ayam'), ('Salihli',), ('Djezzy',), ('Shawarmer',), ('Qatar', 'Fuel'), 'Amar', 'Zamil', 'Mokhtar', 'Shah', ('Wallyscar',), 'Salman', ('Etihad', 'Etisalat', 'Company'), 'Isam', ('RASCO',), ('Filasteen', 'al-Muslimah'), ('Abnub',), ('Homs',), 'Ayub', ('Medina',), 'Wassim', ('Kilis',), (\"Ha'il\",), 'Anika', 'Amal', 'Saima', ('NMDC', 'Group'), ('Cima',), ('Mauritel',), 'Muhammed', ('Bank', 'Albilad'), ('Adaraweesh',), ('Al', 'Rayaam'), 'Sahmodin', 'Khudair', ('Massaya',), 'Mehdi', 'Burhan', ('Khorramabad',), ('al-Alam',), 'Sadik', ('Al-Massira',), 'Mostafa', ('Beylikduezue',), 'Asmaa', 'Rachid', 'Sayed', ('Akdital',), 'Majid', ('Zonguldak',), 'Sonya', ('Kirikkale',), 'Lubna', ('Emirates', 'Red', 'Crescent'), ('KIPCO',), 'Tasnim', ('Empower',), ('Karaj',), 'Yassine', ('Arasco',), ('Mashreq',), ('Basra',), 'Nidal', 'Ameerh', ('Atasehir',), ('NBN',), ('Saham',), ('Bayanat',), 'Daud', ('Dhamar',), 'Nader', ('Alshaya',), ('Omantel',), ('Akhbar', 'Nouakchott'), 'Barham', 'Al khatiri', 'Ibrahim', 'Tahani', 'Fatih', 'Zainab', ('Marafiq',), 'Abid', ('Ereğli',), ('Tarut',), ('Aramco',), 'Naila', ('Naseej',), ('Ismailia',), ('Mersa', 'Matruh'), 'Hussein', ('İnegöl',), 'Nemer', 'Alaizayli', 'Ikram', ('Sakakah',), 'Alaishaydi', 'Jasmine', 'Latifa', 'Jamil', ('Sonatrach',), 'Hasan', 'Abdalla', ('Biougnach',), ('Mazzika',), ('Az', 'Zubayr'), ('Mukalla',), 'Al maaitah', ('Zahedan',), 'Dunia', ('ONCF',), ('Ankara',), 'Hamsa', 'Sara', 'El sherif', ('Emsteel',), 'Hamed', ('Ad-Dustour',), 'Uzma', 'Al azzam', ('CBC',), 'Rawashdeh', 'Hussam', 'Aldhiraymi', ('Dammam',), ('Zain', 'KSA'), 'Elgissaini', ('Derq',), ('Nilesat',), 'El ghany', ('Dussur',), ('Kermanshah',), 'Lina', 'Alaijayni', ('Giresun',), ('Saudia',), ('AKKASA',), ('Al', 'Bab'), 'Amjad', 'Elias', ('Aster', 'DM', 'Healthcare'), 'Bin', 'Leyla', 'Anas', 'Faruk', ('Khobar',), 'Bakhsh', ('ArabiaWeather',), ('OSN',), 'Houda', 'Hanan', ('Sirjan',), 'Jasmina', ('Fetchr',), 'Nejla', ('Varamin',), ('Al-Ahram',), ('Qorveh',), 'Talat', 'Hassouneh', ('Elm',), 'Sardar', ('Aldar', 'Properties'), ('Asmidal',), 'Nadiya', 'Kazim', ('Gaza',), 'Edhla', 'Alaijaybi', ('Sayhat',), 'Bayan', ('Kufa',), ('Sur',), 'Alisa', 'Karima', 'Sohool', 'Fatiha', ('Solfeh',), 'Al nuaimi', ('Bafra',), ('Hawalli',), ('Al-Muhaidib',), ('Khanjarah',), ('Khan', 'Yunis'), ('DenizBank',), ('Malaeb',), 'Ilias', ('Mardin',), 'Sawaghinah', ('Al', 'Jazeera'), 'Khalid', ('Çanakkale',), 'Baig', ('Istanbul',), ('Sopriam',), 'Sundus', ('Kezad',), ('Argaam',), ('Al', 'Hayy'), 'Aisha', ('Iqraa',), 'Tahir', ('MBC',), ('DEWA',), 'Mutlaq', ('Bahrain',), 'Mahmoud', ('Khaleej', 'Times'), 'Razia', 'Adel', 'Abbasi', 'Süleyman', 'Sioarain', 'Rashid', 'Kamila', ('Mobily',), ('Borujerd',), ('Al-Ouruba',), 'Rasim', ('Mrsool',), ('QEWC',), 'Bin Shamlan', 'Hasiba', ('Tunisavia',), ('Bismil',), ('Karaman',), 'Alshammari', 'Salama', 'Bahar', 'Rifat', ('Al', 'Manzalah'), ('Gulf', 'Bank'), ('Alrifai',), 'Salma', ('Aluminium', 'Bahrain'), 'Maha', 'Alaibayshi', 'Rajan', 'Thabet', ('Nazilli',), 'Samia', 'Naziha', ('Kırşehir',), 'Albanoon', ('Monoprix',), 'Aldhiraybi', 'Abdulkadir', ('Çorum',), ('al-Qabas',), 'Sawsan', 'Matin', ('Silifke',), 'Atif', 'Sahar', ('Tanda',), 'Naimat', ('AL24', 'News'), ('Iranshahr',), 'Rabih', 'Javid', ('Madaba',), ('Aumet',), 'Khalifa', ('Unifonic',), ('Burdur',), 'Hazem', 'Nura', 'Khurram', ('Jawan',), ('Manisa',), ('Ar', 'Rass'), ('Al-Bilad',), 'Ben', ('Zabol',), ('Bimo',), 'Saudah', 'Aldermaki', ('Nevşehir',), ('Khartoum',), 'Ahmad', ('Savola', 'Group'), ('Aswan',), 'Abdulqadir', ('Malatya',), 'Mina', 'Nuri', ('Sarwa',), 'Hanadi', ('Ooredoo',), 'Nadja', 'El massaif', ('Dubai', 'Islamic', 'Bank'), 'Mervan', ('Fertiglobe',), ('Tatvan',), ('Hakkari',), ('Zaytouna', 'TV'), 'Mansoor', ('Saidal',), 'Mahnaz', 'Shakila', 'Khadra', 'Asghar', ('Al-Thawra',), ('Dogonbadan',), ('Erbil',), ('Mazazikh',), 'Imane', 'Manal', ('Ajeer',), 'Alissa', ('Al', 'Farwaniyah'), 'Qasim', ('Al-Intiqad',), ('Boubyan', 'Bank'), ('Miandoab',), ('Ma’aden',), 'Azhar', 'Shahida', 'Yusuf', 'Shaaban', ('Dabchy',), 'Aliya', ('Bingöl',), ('Elazig',), ('As', 'Suwayq'), ('Ağrı',), 'Mohammad', 'Kamal', 'Hajar', 'Fawzia', 'Mumadi', 'Taghrid', ('Afriquia',), ('Buraydah',), 'Mahir', 'Mukhlaf', ('K24',), ('Flynas',), ('PubliTools',), 'Halima', ('Sivas',), 'Albayda', 'Fadi', ('Hafar', 'Al-Batin'), ('Tarjama',), ('Al-Arab', 'Al-Yawm'), ('Irbid',), 'Sharifa', ('Amanat', 'Holdings'), ('Al', 'Rai'), 'Sawaina', 'Ziba', 'Zaman', ('Patnos',), 'Mohsen', ('Xenel',), 'Sudani', ('Sonasid',), ('Riyad', 'Bank'), ('First', 'Abu', 'Dhabi', 'Bank'), ('Samsun',), 'Hana', ('Télé', 'Liban'), ('Etisalat',), 'Madhavan', 'Nazim', ('Nagham',), 'Dahlia', 'Amina', ('Shahr-e', 'Kord'), ('Khash',), 'Zohra', 'Jinan', ('BiscoMisr',), ('Inagrab',), ('Denizli',), ('BMCI',), 'Najah', ('Chefaa',), 'Milad', 'El kordy', ('Evertek',), ('Seeb',), 'Talha', 'Khatabh', 'Omar', 'Halim', ('Sulaymaniyah',), 'Nasreen', ('Soma',), 'Shahin', 'Fayez', 'Sawadi', ('Karabağlar',), 'Saadia', ('TAQA', 'Group'), ('Jidda',), 'Zaid', ('Bursa',), 'Sumaya', 'Obaid', ('Lucidya',), ('Colorado',), ('Tyre',), ('Al', 'Jamahir'), 'Ayat', 'Butt'}\n"
     ]
    }
   ],
   "source": [
    "print(used_entities)"
   ]
  },
  {
   "cell_type": "code",
   "execution_count": 102,
   "id": "a66e33c0",
   "metadata": {},
   "outputs": [
    {
     "name": "stdout",
     "output_type": "stream",
     "text": [
      "735\n",
      "514\n"
     ]
    }
   ],
   "source": [
    "print(len(ME_BPER))\n",
    "BPER_left = [item for item in ME_BPER if item not in used_entities]\n",
    "print(len(BPER_left))"
   ]
  },
  {
   "cell_type": "code",
   "execution_count": 103,
   "id": "9fd66e90",
   "metadata": {},
   "outputs": [
    {
     "name": "stdout",
     "output_type": "stream",
     "text": [
      "1580\n",
      "1456\n"
     ]
    }
   ],
   "source": [
    "print(len(ME_IPER))\n",
    "IPER_left = [item for item in ME_IPER if item not in used_entities]\n",
    "print(len(IPER_left))"
   ]
  },
  {
   "cell_type": "code",
   "execution_count": 104,
   "id": "c5ef21b7",
   "metadata": {},
   "outputs": [
    {
     "name": "stdout",
     "output_type": "stream",
     "text": [
      "481\n",
      "352\n"
     ]
    }
   ],
   "source": [
    "print(len(ME_LOC))\n",
    "LOC_left = [d for d in ME_LOC if tuple(d['tokens']) not in used_entities]\n",
    "print(len(LOC_left))"
   ]
  },
  {
   "cell_type": "code",
   "execution_count": 105,
   "id": "7eb33ee5",
   "metadata": {},
   "outputs": [
    {
     "name": "stdout",
     "output_type": "stream",
     "text": [
      "427\n",
      "260\n"
     ]
    }
   ],
   "source": [
    "print(len(ME_ORG))\n",
    "ORG_left = [d for d in ME_ORG if tuple(d['tokens']) not in used_entities]\n",
    "print(len(ORG_left))"
   ]
  },
  {
   "cell_type": "code",
   "execution_count": 106,
   "id": "ce5ad0c3",
   "metadata": {},
   "outputs": [],
   "source": [
    "#for sent in ME_dev: \n",
    "#    print(sent)"
   ]
  },
  {
   "cell_type": "code",
   "execution_count": 107,
   "id": "f48b4937",
   "metadata": {},
   "outputs": [],
   "source": [
    "#for sent in ME_test: \n",
    "#    print(sent)"
   ]
  },
  {
   "cell_type": "code",
   "execution_count": 108,
   "id": "81a594f6",
   "metadata": {},
   "outputs": [],
   "source": [
    "# save as tsv files\n",
    "write_tsv_file(ME_dev, \"../data/me_data/middle_eastern_dev.tsv\")\n",
    "write_tsv_file(ME_test, \"../data/me_data/middle_eastern_test.tsv\")"
   ]
  },
  {
   "cell_type": "code",
   "execution_count": 109,
   "id": "287171b7",
   "metadata": {},
   "outputs": [],
   "source": [
    "write_iob2_file(ME_test, path=\"../data/me_data/middle_eastern_test.iob2\", gold=True)"
   ]
  }
 ],
 "metadata": {
  "kernelspec": {
   "display_name": "NLP",
   "language": "python",
   "name": "python3"
  },
  "language_info": {
   "codemirror_mode": {
    "name": "ipython",
    "version": 3
   },
   "file_extension": ".py",
   "mimetype": "text/x-python",
   "name": "python",
   "nbconvert_exporter": "python",
   "pygments_lexer": "ipython3",
   "version": "3.9.21"
  }
 },
 "nbformat": 4,
 "nbformat_minor": 5
}
