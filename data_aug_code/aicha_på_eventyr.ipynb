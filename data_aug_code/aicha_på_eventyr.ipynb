{
 "cells": [
  {
   "cell_type": "code",
   "execution_count": 4,
   "metadata": {},
   "outputs": [
    {
     "ename": "ImportError",
     "evalue": "cannot import name 'ME_LOC' from 'ME_LOC' (/Users/norazouhtane/Downloads/nlp25_project_gr2/data_aug_code/ME_LOC.py)",
     "output_type": "error",
     "traceback": [
      "\u001b[0;31m---------------------------------------------------------------------------\u001b[0m",
      "\u001b[0;31mImportError\u001b[0m                               Traceback (most recent call last)",
      "Cell \u001b[0;32mIn[4], line 4\u001b[0m\n\u001b[1;32m      2\u001b[0m \u001b[38;5;28;01mfrom\u001b[39;00m \u001b[38;5;21;01mME_BPER\u001b[39;00m \u001b[38;5;28;01mimport\u001b[39;00m ME_BPER\n\u001b[1;32m      3\u001b[0m \u001b[38;5;66;03m#from ME_IPER import ME_IPER\u001b[39;00m\n\u001b[0;32m----> 4\u001b[0m \u001b[38;5;28;01mfrom\u001b[39;00m \u001b[38;5;21;01mME_LOC\u001b[39;00m \u001b[38;5;28;01mimport\u001b[39;00m ME_LOC\n\u001b[1;32m      5\u001b[0m \u001b[38;5;28;01mfrom\u001b[39;00m \u001b[38;5;21;01mME_ORG\u001b[39;00m \u001b[38;5;28;01mimport\u001b[39;00m ME_ORG\n",
      "\u001b[0;31mImportError\u001b[0m: cannot import name 'ME_LOC' from 'ME_LOC' (/Users/norazouhtane/Downloads/nlp25_project_gr2/data_aug_code/ME_LOC.py)"
     ]
    }
   ],
   "source": [
    "import random\n",
    "from ME_BPER import ME_BPER\n",
    "#from ME_IPER import ME_IPER\n",
    "from ME_LOC import ME_LOC\n",
    "from ME_ORG import ME_ORG"
   ]
  },
  {
   "cell_type": "code",
   "execution_count": null,
   "metadata": {},
   "outputs": [],
   "source": []
  },
  {
   "cell_type": "code",
   "execution_count": null,
   "metadata": {},
   "outputs": [],
   "source": [
    "def data_aug_replace(dataset):\n",
    "    for sent in dataset:\n",
    "        i = 0\n",
    "\n",
    "        while i<len(sent[\"tokens\"]):\n",
    "            tag = sent[\"ner_tags\"][i]\n",
    "\n",
    "            if tag == 'B-PER':\n",
    "                replace = random.choice(ME_BPER)\n",
    "                sent[\"ner_tags\"][i] = replace\n",
    "                ME_BPER.remove(replace)\n",
    "                i+=1\n",
    "\n",
    "            elif tag == 'I-PER':\n",
    "                replace = random.choice(ME_IPER)\n",
    "                sent[\"ner_tags\"][i] = replace\n",
    "                ME_IPER.remove(replace)\n",
    "                i+=1\n",
    "\n",
    "            elif tag == 'B-LOC':\n",
    "                span_start = i\n",
    "                span_len = 1\n",
    "                i += 1\n",
    "                while i < len(sent[\"ner_tags\"]) and sent[\"ner_tags\"][i] == \"I-LOC\":\n",
    "                    span_len += 1\n",
    "                    i += 1\n",
    "\n",
    "                same_length_LOC = []\n",
    "                for loc in ME_LOC:\n",
    "                    if len(loc) == span_len:\n",
    "                        same_length_LOC.append(loc)\n",
    "                if same_length_LOC:\n",
    "                    replace = random.choice(same_length_LOC)\n",
    "                    sent[\"tokens\"][span_start:span_start+span_len] = replace\n",
    "                    ME_LOC.remove(replace)\n",
    "            \n",
    "            elif tag == 'B-ORG':\n",
    "                span_start = i\n",
    "                span_len = 1\n",
    "                i += 1\n",
    "                while i < len(sent[\"ner_tags\"]) and sent[\"ner_tags\"][i] == \"I-ORG\":\n",
    "                    span_len += 1\n",
    "                    i += 1\n",
    "\n",
    "                same_length_ORG = []\n",
    "                for org in ME_ORG:\n",
    "                    if len(org) == span_len:\n",
    "                        same_length_ORG.append(org)\n",
    "                if same_length_ORG:\n",
    "                    replace = random.choice(same_length_ORG)\n",
    "                    sent[\"tokens\"][span_start:span_start+span_len] = replace\n",
    "                    ME_ORG.remove(replace)\n",
    "\n",
    "            else:\n",
    "                i+=1\n"
   ]
  },
  {
   "cell_type": "code",
   "execution_count": null,
   "metadata": {},
   "outputs": [],
   "source": []
  }
 ],
 "metadata": {
  "kernelspec": {
   "display_name": "base",
   "language": "python",
   "name": "python3"
  },
  "language_info": {
   "codemirror_mode": {
    "name": "ipython",
    "version": 3
   },
   "file_extension": ".py",
   "mimetype": "text/x-python",
   "name": "python",
   "nbconvert_exporter": "python",
   "pygments_lexer": "ipython3",
   "version": "3.11.5"
  }
 },
 "nbformat": 4,
 "nbformat_minor": 2
}
