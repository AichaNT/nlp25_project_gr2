{
 "cells": [
  {
   "cell_type": "code",
   "execution_count": null,
   "metadata": {},
   "outputs": [
    {
     "ename": "ModuleNotFoundError",
     "evalue": "No module named 'nlp25_project_gr2'",
     "output_type": "error",
     "traceback": [
      "\u001b[0;31m---------------------------------------------------------------------------\u001b[0m",
      "\u001b[0;31mModuleNotFoundError\u001b[0m                       Traceback (most recent call last)",
      "Cell \u001b[0;32mIn[4], line 10\u001b[0m\n\u001b[1;32m      8\u001b[0m \u001b[38;5;28;01mimport\u001b[39;00m\u001b[38;5;250m \u001b[39m\u001b[38;5;21;01mos\u001b[39;00m\n\u001b[1;32m      9\u001b[0m sys\u001b[38;5;241m.\u001b[39mpath\u001b[38;5;241m.\u001b[39mappend(os\u001b[38;5;241m.\u001b[39mpath\u001b[38;5;241m.\u001b[39mabspath(\u001b[38;5;124m'\u001b[39m\u001b[38;5;124m..\u001b[39m\u001b[38;5;124m'\u001b[39m))\n\u001b[0;32m---> 10\u001b[0m \u001b[38;5;28;01mfrom\u001b[39;00m\u001b[38;5;250m \u001b[39m\u001b[38;5;21;01mnlp25_project_gr2\u001b[39;00m\u001b[38;5;21;01m.\u001b[39;00m\u001b[38;5;21;01mscripts\u001b[39;00m\u001b[38;5;21;01m.\u001b[39;00m\u001b[38;5;21;01mload_data\u001b[39;00m\u001b[38;5;250m \u001b[39m\u001b[38;5;28;01mimport\u001b[39;00m mapping, read_tsv_file, extract_labeled_tokens\n",
      "\u001b[0;31mModuleNotFoundError\u001b[0m: No module named 'nlp25_project_gr2'"
     ]
    }
   ],
   "source": [
    "import random\n",
    "from ME_BPER import ME_BPER\n",
    "#from ME_IPER import ME_IPER\n",
    "from ME_LOC import ME_LOC\n",
    "from ME_ORG import ME_ORG\n",
    "\n",
    "from scripts.load_data import mapping, read_tsv_file, extract_labeled_tokens"
   ]
  },
  {
   "cell_type": "code",
   "execution_count": 4,
   "metadata": {},
   "outputs": [],
   "source": [
    "def collect_entity_strings(data, target_label_prefix):\n",
    "    \"\"\"\n",
    "    Collects labeled spans as strings from the dataset. Multi-token spans are joined with spaces.\n",
    "    \n",
    "    Args:\n",
    "        data (List[Dict]): Dataset containing 'tokens' and 'tags' for each sentence.\n",
    "        target_label_prefix (str): Label prefix to filter for (e.g., 'B-LOC', 'B-ORG').\n",
    "        \n",
    "    Returns:\n",
    "        Set[str]: A set of labeled token strings (e.g., {'Beirut', 'Al Mawsil al Jadidah'})\n",
    "    \"\"\"\n",
    "    grouped_strings = set()\n",
    "\n",
    "    for item in data:\n",
    "        tokens = item['tokens']\n",
    "        tags = item['tags']\n",
    "\n",
    "        i = 0\n",
    "        while i < len(tokens):\n",
    "            tag = tags[i]\n",
    "\n",
    "            if tag.startswith(target_label_prefix):\n",
    "                span_tokens = [tokens[i]]\n",
    "                i += 1\n",
    "                while i < len(tokens) and tags[i].startswith('I'):\n",
    "                    span_tokens.append(tokens[i])\n",
    "                    i += 1\n",
    "\n",
    "                # Join tokens into a single string and add to the set\n",
    "                entity_string = ' '.join(span_tokens)\n",
    "                grouped_strings.add(entity_string)\n",
    "            else:\n",
    "                i += 1\n",
    "\n",
    "    return grouped_strings\n"
   ]
  },
  {
   "cell_type": "code",
   "execution_count": 8,
   "metadata": {},
   "outputs": [
    {
     "name": "stdout",
     "output_type": "stream",
     "text": [
      "{'Al Ain', 'Al Minya', 'Kufa', 'Kermanshah', 'Khoy', 'Gorgan', 'Jidda', 'Birjand', 'Qurayyat', 'Corlu', 'Chalus', 'Orumiyeh', 'Al Kut', 'Yozgat', 'Kafr ash Shaykh', 'Al Ahmadi', 'Mashhad', 'Nazilli', 'Zanjan', 'Dubai', 'Khan Yunis', 'Dehdasht', 'Zonguldak', 'Kuşadası', 'Mahabad', 'Housh Eissa', 'Qina', 'Çubuk', 'Oman', 'As Samawah', 'Torbat-e Heydariyeh', 'Çerkezköy', 'Taiz', 'Daraa', 'Luxor', 'Sari', 'Amran', 'Faqus', 'İnegöl', 'Kızıltepe', 'Nevşehir', 'Saveh', 'Egypten', 'Najran', \"Ha'il\", 'Hakkari', 'Deir ez-Zor', 'Tripoli', 'Sakakah', 'Iskenderun', 'Manisa', 'Denizli', 'Rustaq', 'Tyrkiet', 'Üsküdarr', 'Latakia', 'Sabzevar', 'Osmaniye', 'Zefta', 'Ismailia', 'Tarsus', 'Kuwait', 'Rafah', 'Al Harithah', 'Patnos', 'Jamjamal', 'Yanbu', 'As-Salt', 'Edfu', 'Toukh', 'Robat Karim', 'Langarud', 'Sirjan', 'Dahuk', 'Nahavand', 'Al Bab', 'Al Fujayrah', 'Al-Arish', 'Samalut', 'Al Muharraq', 'Marand', 'Abu Dhabi', 'Ashmun', 'Izmir', 'Darab', 'Kairo', 'Esenyurt', 'Zarqa', 'Adapazari', 'Aksaray', 'Ibri', 'Erbil', 'Gonbad-e Kavus', 'Aqaba', 'Bilqas', 'Samarra', 'Alanya', 'Khash', 'Sancaktepe', 'Tekirdağ', 'Bonab', 'Bağcılar', 'Tabuk', 'Arnavutköy', 'Dammam', 'Ümraniye', 'Abu Ghurayb', 'Shahr-e Kord', 'Abu Kabir', 'Batman', 'Teheran', 'Aydin', 'Doha', 'Umm Qasr', 'Lüleburgaz', 'Tarut', 'Qom', 'Erzincan', 'Isparta', 'Disuq', 'Istanbul', 'Jablah', 'Kafr ad Dawwar', 'Bagdad', 'Afyonkarahisar', 'Tartus', 'Trabzon', 'Sharjah', 'Aswan', 'Bishah', 'Hamadan', 'Ceyhan', 'Shibin al Kawm', 'Polatlı', 'Salalah', 'Medina', 'Al Fallujah', 'Ajlun', 'Doğubayazıt', 'Kashmar', 'Aden', 'Sinah', 'Siverek', 'Akbarabad', 'Al Farwaniyah', 'Batikent', 'Piranshahr', 'Salihli', 'Al Qusiyah', 'Bawshar', 'Viranşehir', 'Silvan', 'Syrien', 'Ar Rass', 'Habbouch', 'Antakya', 'Khobar', 'Bismil', 'Mekka', 'Maltepe', 'Tanda', 'Amol', 'Babol', 'Ordu', 'Söke', 'Kahta', 'Kahriz', 'Herzliya', 'Al Bahah', 'Talkha', 'Kutahya', 'Irak', 'Jounieh', 'Dar Kulayb', 'Erciş', 'Iğdır', 'Kayseri', 'Østjerusalem', 'Forenede Arabiske Emirater', 'Khorramabad', 'Al Manzalah', 'Irbid', 'Konya', 'Başakşehir', 'Ajman', 'Gaza', 'As Suwayq', 'Ilam', 'Çorum', 'Isna', 'Zagazig', 'Damietta', 'Ardabil', 'Nasiriyah', 'Semnan', 'Baqubah', 'Karabağlar', 'Akhmim', 'Nizip', 'Samsun', 'Diyarbakir', 'Masjed Soleyman', 'Malatya', 'Karbala', 'Elazig', 'Merkezefendi', 'Shahrud', 'Hawalli', 'Damanhur', 'Midyat', 'Najafabad', 'Nizwa', 'Al Faw', 'Belek', 'Cizre', 'Neyshabur', 'Çankaya', 'Elbistan', 'Baneh', 'Mustafakemalpaşa', 'Atasehir', 'As Salimiyah', 'Ath Thawrah', 'Borujerd', 'Ankara', 'Khorramshahr', 'Ünye', 'Kahramanmaraş', 'Bandar-e Anzali', 'Malayer', 'Sultangazi', 'Isfahan', 'Al-Hasakah', 'Sohar', 'Nusaybin', 'Darayya', 'Bursa', 'Mukalla', 'Esenler', 'Şanlıurfa', 'Tokat', 'Al Kharj', 'Behshahr', 'Kirkuk', 'Saqqez', 'Al Mubarraz', 'Ahlat', 'Qorveh', 'Adiyaman', 'Jirja', 'Erzurum', 'Abhar', 'Rosetta', 'Sivas', 'Tyre', 'Edirne', 'Bandırma', 'Van', 'Tabriz', 'Fatsa', 'Sanandaj', 'Nazarabad', 'Karaj', 'Hurghada', 'Jizan', 'Libanon', 'Ras al-Khaimah', 'Ahvaz', 'Şişli', 'Amman', 'Dikirnis', 'Suez', 'Miandoab', 'Damaskus', 'Qazvin', 'Karaman', 'Kafr az Zayyat', 'Akşehir', 'Yüksekova', 'Riyadh', 'Bojnurd', 'Bingöl', 'Manavgat', 'Rukban', 'Ash Shafa', 'Al-Hudaydah', 'Ramadi', 'Gaziantep', 'Bahrain', 'Adana', 'Ar Rayyan', 'Muş', 'Sohag', 'Sayyan', 'Al Khankah', 'Salmas', 'Khanjarah', 'Turhal', 'Al Jammaliyah', 'Azadshahr', 'Port Said', 'Hafar Al-Batin', 'Minab', 'Ibb', 'Mersa Matruh', 'Al Jubayl', 'Sidon', 'Alvand', 'Kerman', 'Al Mansurah', 'Saham', 'Bush', 'Sur', 'Körfez', 'Gemlik', 'Sultanbeyli', 'Hamah', 'Russeifa', \"Ta'if\", 'Nablus', 'Nabatiye et Tahta', 'Muscat', 'Homs', 'Kuhdasht', 'Naqadeh', 'Sayhat', 'Ras Beirut', 'Khamis Mushait', 'Çanakkale', 'Niğde', 'Kadirli', 'Gebze', 'Al Kharijah', 'Bafra', 'Nurabad', 'Dogonbadan', 'Karabük', 'Bahçelievler', 'Asyut', 'Muratpasa', 'Shirvan', 'Khomeyni Shahr', 'New Cairo', 'Barka', 'Khomeyn', 'Bam', 'Anzal-e Jonubi', 'Ar Ramtha', 'Aligudarz', 'Az Zubayr', 'Yalova', 'Shahre Jadide Andisheh', 'Shiraz', 'Bani Suwayf', 'Zeytinburnu', 'Al Fashn', 'Iranshahr', 'Manfalut', 'Ahar', 'Jabalya', 'Quchan', 'Al Matariyah', 'Al Qatif', 'Burdur', 'Seeb', 'Büyükçekmece', 'Turgutlu', 'Halwan', 'Alexandria', 'Abadan', 'Dhamar', 'Basra', 'As Salamiyah', 'Kars', 'Al Mahallah al Kubra', 'Kastamonu', 'Ar Rifa', 'Tahta', 'Kozan', 'Qalyub', 'Damghan', 'Antalya', 'Zabol', 'Bushehr', 'Behbahan', 'Najaf', 'Hebron', 'Al Fahahil', 'Munuf', 'Balikesir', 'Fuwwah', 'Borazjan', 'Awsim', 'Silopi', 'Idku', 'Jordan', \"A'zaz\", 'Ar Raqqah', 'Mosul', 'Ağrı', 'Firuzabad', 'Zahle', 'Iran', 'Buraydah', 'Ardeşen', 'Beylikduezue', 'Rize', 'Rasht', 'Mersin', 'Al Mawsil al Jadidah', 'Fasa', 'Al Hawamidiyah', 'Akhisar', 'Silifke', 'Al Fayyum', 'Douma', 'Manama', 'Giresun', 'Zahedan', 'Al Hufuf', 'Eskisehir', 'Arak', 'Siirt', 'Dayrut', 'Abu Tij', 'Ereğli', 'Izmit', 'Sultanah', 'Varamin', 'Uşak', 'Tatvan', 'Khalis', 'Abha', 'Banha', \"Al 'Amarah\", 'Wadi as Sir', 'Yasuj', 'Sabah as Salim', 'Bolu', 'Idlib', 'Takestan', 'Kilis', 'Bukan', 'Al Hayy', 'Mardin', 'Rafsanjan', 'Manbij', 'Beirut', 'Sulaymaniyah', 'Ayvalık', 'Zaxo', 'Sanaá', 'Palæstina', 'Yazd', 'Bandar Abbas', 'Aleppo', 'Kazerun', 'Kırşehir', 'Ad Diwaniyah', 'Giza', 'Parsabad', 'Shushtar', 'Al Buraymi', 'Abnub', 'Sorgun', 'Dhahran', 'Al Hillah', 'Al Basrah al Qadimah', 'Bilbeis', 'Arar', 'Madaba', 'Qarchak', 'Soma', 'Mallawi', 'Kirikkale', 'Saudi Arabien', 'Ash Shatrah', 'Ödemiş', 'As Safirah', 'Marivan'}\n",
      "480\n",
      "481\n",
      "\n",
      "\n",
      "{'Gulf Madhyamam', 'Ma’aden', 'Kuwait Oil Company', 'El Hiwar El Tounousi', 'Epilert', 'Elm', 'Al Rayyan', 'e&', 'Al-Nahar', 'Careem', 'Commercial Bank', 'SOMED', 'Al Kuwaitiya', 'Mrsool', 'stc Group', 'Marafiq', 'Sopriam', 'Mazazikh', 'Dubai Airports Company', 'Mekameleen TV', 'Maroc Telecom', 'Aïcha', 'Bakdash', 'AKKASA', 'Sahara International Petrochemical Company', 'Qatar Islamic Bank', 'National Shipping Company of Saudi Arabia', 'Naseej', 'Emaar Development', 'Al Rai', 'Al Quds Association', 'Attijariwafa bank group', 'PureHealth Holding', 'Cevital', 'ibTECHar Digital Solutions', 'Adaraweesh', 'Cima', 'Mondair', 'Bank ABC', 'Somaca', 'SGTM', 'al-Furat', 'Alrifai', 'Comarit', 'Wikaya', 'Al Shorouk', 'Gulfsat', 'Omdurman', 'Solfeh', 'Dussur', 'Laraki', 'Danube Group', 'Kahramaa', 'Al Anbaa', 'Du', 'Yallacompare', 'Adwya', 'Almarai', 'Dubai Electricity and Water Authority', 'PSLab', 'Arasco', 'Fertiglobe', 'Derq', 'Al-Ahd Ul’Jadid', 'Filasteen al-Muslimah', 'Mazzika', 'The Khalifa Foundation', 'BulkWhiz', 'Kuwait Finance House', 'KIPCO', 'Bank AlJazira', 'Tunisavia', 'Wanasah', 'Borouge', 'Al-Muhaidib', 'Bank Muscat', 'Al-Tijari', 'Palestinian Liberation Front', 'Shamsina', 'OTV', 'Inagrab', 'Malaeb', 'al-Jarida al-Maghribia', 'G42', 'Kudu', 'Al Yaum', 'Bank Of Africa', 'Omantel', 'Ahlibank', 'Al-Ouruba', 'ONTV', 'Deyaar', 'Talabat', 'Sawani', 'Istiqlal Party', 'Khartoum', 'Agility', 'Mashreq', 'Nouvelair', 'Industries Qatar', 'Shawarmer', 'Al Eqtisadiah', 'Al-Ahram', 'Shihan', 'Al Jamahir', 'BCP Group', 'Jamalon', 'Nilesat', 'Commercial International Bank', 'Savola Group', 'Torath', 'Sonatrach', 'Ad-Dustour', 'Al Liwaa', 'GEMS Education', 'Saudi Awwal Bank', 'The Jordan River Foundation', 'Aiguebelle', 'Alpha Dhabi Holding', 'Americana Restaurants', 'Nadec', 'Al Yah Satellite Communications', 'Amanat Holdings', 'Aumet', 'Akdital', 'ADCB Group', 'al-Qabas', 'Saudi Aramco Base Oil Company', 'The Noor Dubai Foundation', 'Electroplanet', 'Tamatem', 'National Bank of Ras Al Khaimah', 'CBC', 'Al-Thawra', 'Al-Arab Al-Yawm', 'AL24 News', 'Al Watan', 'Jet4you', 'Balad Party', 'Muscat Stock Exchange', 'Commercial Bank of Dubai', 'Al-Horria', 'Al Karmil', 'Echorouk Group', 'Investcorp', 'Banque Saudi Fransi', 'Tishreen', 'Afriquia', 'Kharabeesh', 'Emaar Properties', 'Ras Al Khaimah Economic Zone', 'Altibbi', 'Al Tayer Group', 'Nehmeh', 'Masraf Al Rayan', 'Starworld', 'Nareva', 'Al-Anbaa', 'Aldar Properties', 'ADNOC Gas', 'The International Islamic Charitable Organization', 'Qatar Fuel', 'SAMI', 'ONCF', 'Arab Democratic Nasserist Party', 'Jumeirah Hotels', 'Swvl', 'The UAE’s Zayed Giving Initiative', 'Asmidal', 'arab national bank', 'Arab Fund for Economic and Social Development', 'National Covenant Party', 'Eco-Médias', 'Aramco', 'Patchi', 'AvidBeam', 'Chefaa', 'Al-Mustaqbal', 'Bahrain Islamic Bank', 'Aluminium Bahrain', 'DMC', 'ADNOC', 'Damac', 'al-Bayan', 'al-Jamahiriyah', 'Ooredoo', 'al-Hayat al-Jadida', 'ViaVii', 'The Ghassan Aboud Group', 'Al Jazeera', 'The Company for Cooperative Insurance', 'LDC', 'Cinescape', 'Koutoubia', 'Asdaa Burson Marsteller', 'Boubyan Bank', 'ZenHR Solutions', 'The Syrian American Medical Society', 'Hawacom', 'KTV2', 'Sharjah Islamic Bank', 'Popular Movement in Iraq', 'SNVI', 'Al-Bilad', 'Wasla', 'Mawdoo3', 'Assadissa', 'Gulf Bank', 'Emirates NBD', 'al-Balad', 'Al Aoula', 'K24', 'Syriatel', 'Emirates Airline', 'Daily Sabah', 'Al Raya', 'SABIC Agri-Nutrients Company', 'eSpace', 'Vermeg', 'Arab Bank', 'Riyad Bank', 'Dukhan Bank', 'GoEjaza', 'Apparel Group', 'Athaqafia', 'Tabbah', 'Djezzy', 'Abu Dhabi Islamic Bank', 'RASCO', 'Islamic Relief Worldwide', 'Tarjama', 'Bayanat', 'Saudi Investment Bank', 'solutions by stc', 'Tunisna', 'Echorouk', 'The Qatar Fund for Development', 'Nabd', 'QNB Group', 'Iqraa', 'Managem', 'Khaleej Times', 'Arryadia', 'Qatar Charity', 'SNRT', 'HalalaH', 'Kayhan Al Arabi', 'Cerebras', 'Zain Group', 'Akhbar Nouakchott', 'Fajr Capital', 'al-Watan', 'Thumbay Group', 'Al Sharq', 'Ooredoo Group', 'Saudi Electricity Company', 'Bayane al-Yaoume', 'Télé Liban', 'Souqalmal', 'NMDC Group', 'MarsaMaroc', 'Saudi Aramco', 'Qaym', 'Bank Albilad', 'QEWC', 'Henkel GCC', 'Hawaï', 'El Mehwar', 'Burgan Bank Group', 'Empower', 'Evertek', 'Egyptalum', 'GIB Capital', 'Kuwait Projects Company', 'MBC', 'Monoprix', 'Kitea', 'AD Ports Group', 'Emirates Integrated Telecommunications Company', 'QNB ALAHLI', 'Dabchy', 'Elves', 'Jumeirah Group', 'Oilibya', 'Al Madina', 'Mauritel', 'Saudia', 'EgyptAir', 'TAQA Group', 'Marina Home', 'Nasr', 'PubliTools', 'Batelco', 'Mubadala', 'Sarwa', 'Ajeer', 'The Arab Medical Union', 'Al Mada', 'Al Manar', 'JoSat', 'Kharafi Group', 'Mobily', 'Al Rayaam', 'Fetchr', 'Ad Diyar', 'TGCC', 'ADES Holding', 'Naftal', 'ArabiaWeather', 'BMCI', '3ayez', 'Jawan', 'Wallyscar', 'Dubai Investments', 'Unifonic', 'LuLu Group', 'Nakilat', 'Shorooq Partners', 'Zain KSA', 'Noon', 'Etihad Etisalat Company', 'One', 'Sela', 'Qatar Insurance Company', 'Asiacell', 'RasGas', '360VUZ', 'Air Arabia', 'Al-Wehda', 'Bupa Arabia', 'The Palestinian Medical Relief Society', 'DEWA', '2M', 'Al Massar', 'al-Alam', 'beIN SPORTS', 'al-Fajr al-Jadid', 'Biougnach', 'Gulf News', 'Rezayat', 'Ferrimaroc', 'Virtuzone', 'NBB Group', 'al-Zahf Al-Akhdar', 'Saidal', 'Jordan Phosphate Mines Company', 'Ashabiba', 'Saudi National Bank', 'Al Amal', 'NBN', 'Al-Waie', 'OSN', 'Lucidya', 'BMMI', 'Daraty', 'ACWA Power', 'Akhbar Al Khaleej', 'Amal Glass', 'Mo’men', 'Alinma Bank', 'Argaam', 'Alshaya', 'Aster DM Healthcare', 'Saudi Arabian Mining Company', 'Al Nabooda Automobiles', 'Attajdid', \"Arab Socialist Ba'ath Party\", 'Colorado', 'First Abu Dhabi Bank', 'Zaytouna TV', 'Doha Bank', 'El Heddaf', 'Kezad', 'Sonasid', 'Lamsa', 'Al Anbat', 'Kingdom Holding Company', 'BiscoMisr', 'Al-Mamlaka TV', 'Xenel', 'Dr. Sulaiman Al Habib Medical Services Group', 'International Holding Company', 'Bahri', 'Dnata', 'Mathaqi', 'Bimo', 'Al-Ittihad', 'Polisario Front', '218TV', 'Banagas', 'Al Jumhuriya', 'Marjane', 'Siera', 'alrajhi bank', 'Al Ayam', 'Inwi', 'Al-Kifah al-Arabi', 'Abjjad', 'Okaz', 'Al-Intiqad', 'Alwasat', 'Nagham', 'Roya TV', 'Sonalgaz', 'Etisalat', 'Emsteel', 'Al-Mashriq', 'Siger', 'Emirates Red Crescent', 'Emirates Islamic', 'Arabot', 'Flynas', 'Massaya', 'Al Ahli Bank of Kuwait', 'Libyana', 'Arab Socialist Union Party of Syria', 'National Bank of Fujairah', 'Al-Massira', 'DenizBank', 'Baladna', 'Spinneys', 'ANB', 'Al-Kalima', 'Qatar International Islamic Bank', 'Assabeel', 'National Bank of Kuwait', 'Dubai Islamic Bank'}\n",
      "427\n",
      "427\n"
     ]
    }
   ],
   "source": [
    "# overlap between train, dev, test and MENAPT NEs\n",
    "ME_LOC_tokens = collect_entity_strings(ME_LOC, target_label_prefix = \"B-LOC\")\n",
    "\n",
    "ME_ORG_tokens = collect_entity_strings(ME_ORG, target_label_prefix = \"B-ORG\")\n",
    "\n",
    "print(ME_LOC_tokens)\n",
    "print(len(ME_LOC_tokens))\n",
    "print(len(ME_LOC))\n",
    "\n",
    "print(\"\\n\")\n",
    "\n",
    "print(ME_ORG_tokens)\n",
    "print(len(ME_ORG_tokens))\n",
    "print(len(ME_ORG))\n"
   ]
  },
  {
   "cell_type": "code",
   "execution_count": null,
   "metadata": {},
   "outputs": [],
   "source": [
    "train_tokens = \n",
    "dev_tokens = \n",
    "test_tokens = "
   ]
  },
  {
   "cell_type": "code",
   "execution_count": null,
   "metadata": {},
   "outputs": [],
   "source": [
    "def data_aug_replace(dataset, sentence_amount):\n",
    "    # First, filter sentences that have at least one non-\"O\" tag\n",
    "    eligible_sentences = [sent for sent in dataset if any(tag != \"O\" for tag in sent[\"ner_tags\"])]\n",
    "\n",
    "    # Select up to sentence_amount randomly from the eligible ones\n",
    "    selected_sentences = random.sample(eligible_sentences, min(sentence_amount, len(eligible_sentences)))\n",
    "\n",
    "\n",
    "    for sent in selected_sentences:\n",
    "        i = 0\n",
    "\n",
    "        while i<len(sent[\"tokens\"]):\n",
    "            tag = sent[\"ner_tags\"][i]\n",
    "\n",
    "            if tag == 'B-PER':\n",
    "                replace = random.choice(ME_BPER)\n",
    "                sent[\"ner_tags\"][i] = replace\n",
    "                ME_BPER.remove(replace)\n",
    "                i+=1\n",
    "\n",
    "            elif tag == 'I-PER':\n",
    "                replace = random.choice(ME_IPER)\n",
    "                sent[\"ner_tags\"][i] = replace\n",
    "                ME_IPER.remove(replace)\n",
    "                i+=1\n",
    "\n",
    "            elif tag == 'B-LOC':\n",
    "                span_start = i\n",
    "                span_len = 1\n",
    "                i += 1\n",
    "                while i < len(sent[\"ner_tags\"]) and sent[\"ner_tags\"][i] == \"I-LOC\":\n",
    "                    span_len += 1\n",
    "                    i += 1\n",
    "\n",
    "                same_length_LOC = []\n",
    "                for loc in ME_LOC:\n",
    "                    if len(loc) == span_len:\n",
    "                        same_length_LOC.append(loc)\n",
    "                if same_length_LOC:\n",
    "                    replace = random.choice(same_length_LOC)\n",
    "                    sent[\"tokens\"][span_start:span_start+span_len] = replace\n",
    "                    ME_LOC.remove(replace)\n",
    "            \n",
    "            elif tag == 'B-ORG':\n",
    "                span_start = i\n",
    "                span_len = 1\n",
    "                i += 1\n",
    "                while i < len(sent[\"ner_tags\"]) and sent[\"ner_tags\"][i] == \"I-ORG\":\n",
    "                    span_len += 1\n",
    "                    i += 1\n",
    "\n",
    "                same_length_ORG = []\n",
    "                for org in ME_ORG:\n",
    "                    if len(org) == span_len:\n",
    "                        same_length_ORG.append(org)\n",
    "                if same_length_ORG:\n",
    "                    replace = random.choice(same_length_ORG)\n",
    "                    sent[\"tokens\"][span_start:span_start+span_len] = replace\n",
    "                    ME_ORG.remove(replace)\n",
    "\n",
    "            else:\n",
    "                i+=1\n"
   ]
  },
  {
   "cell_type": "code",
   "execution_count": null,
   "metadata": {},
   "outputs": [],
   "source": []
  }
 ],
 "metadata": {
  "kernelspec": {
   "display_name": "NLP",
   "language": "python",
   "name": "python3"
  },
  "language_info": {
   "codemirror_mode": {
    "name": "ipython",
    "version": 3
   },
   "file_extension": ".py",
   "mimetype": "text/x-python",
   "name": "python",
   "nbconvert_exporter": "python",
   "pygments_lexer": "ipython3",
   "version": "3.10.16"
  }
 },
 "nbformat": 4,
 "nbformat_minor": 2
}
