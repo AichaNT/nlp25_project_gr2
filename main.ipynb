{
 "cells": [
  {
   "cell_type": "code",
   "execution_count": 11,
   "id": "c46d8679",
   "metadata": {},
   "outputs": [
    {
     "ename": "ImportError",
     "evalue": "cannot import name 'extract_labeled_tokens' from 'scripts.load_data' (/Users/aichathorman/Documents/GitHub/nlp25_project_gr2/scripts/load_data.py)",
     "output_type": "error",
     "traceback": [
      "\u001b[0;31m---------------------------------------------------------------------------\u001b[0m",
      "\u001b[0;31mImportError\u001b[0m                               Traceback (most recent call last)",
      "Cell \u001b[0;32mIn[11], line 2\u001b[0m\n\u001b[1;32m      1\u001b[0m \u001b[38;5;66;03m# imports\u001b[39;00m\n\u001b[0;32m----> 2\u001b[0m \u001b[38;5;28;01mfrom\u001b[39;00m\u001b[38;5;250m \u001b[39m\u001b[38;5;21;01mscripts\u001b[39;00m\u001b[38;5;21;01m.\u001b[39;00m\u001b[38;5;21;01mload_data\u001b[39;00m\u001b[38;5;250m \u001b[39m\u001b[38;5;28;01mimport\u001b[39;00m mapping, read_tsv_file, extract_labeled_tokens\n",
      "\u001b[0;31mImportError\u001b[0m: cannot import name 'extract_labeled_tokens' from 'scripts.load_data' (/Users/aichathorman/Documents/GitHub/nlp25_project_gr2/scripts/load_data.py)"
     ]
    }
   ],
   "source": [
    "# imports\n",
    "from scripts.load_data import mapping, read_tsv_file, extract_labeled_tokens"
   ]
  },
  {
   "cell_type": "markdown",
   "id": "62cd3351",
   "metadata": {},
   "source": [
    "#### Getting the data"
   ]
  },
  {
   "cell_type": "code",
   "execution_count": null,
   "id": "f508c521",
   "metadata": {},
   "outputs": [],
   "source": [
    "# path to the data files\n",
    "path_train = \"data/da_news_train.tsv\"\n",
    "path_dev = \"data/da_news_dev.tsv\"\n",
    "path_test = \"data/da_news_test.tsv\""
   ]
  },
  {
   "cell_type": "code",
   "execution_count": null,
   "id": "5c2e6f26",
   "metadata": {},
   "outputs": [],
   "source": [
    "# create mapping\n",
    "label2id, id2label = mapping(path_train)"
   ]
  },
  {
   "cell_type": "code",
   "execution_count": null,
   "id": "ee5e09fc",
   "metadata": {},
   "outputs": [],
   "source": [
    "# read in the DaN+ data\n",
    "train_data = read_tsv_file(path_train, label2id)\n",
    "dev_data = read_tsv_file(path_dev, label2id)\n",
    "test_data = read_tsv_file(path_test, label2id)"
   ]
  },
  {
   "cell_type": "code",
   "execution_count": null,
   "id": "d8374036",
   "metadata": {},
   "outputs": [],
   "source": [
    "# extract tokens with non-zero labels from each split\n",
    "train_tokens = extract_labeled_tokens(train_data)\n",
    "dev_tokens = extract_labeled_tokens(dev_data)\n",
    "test_tokens = extract_labeled_tokens(test_data)"
   ]
  }
 ],
 "metadata": {
  "kernelspec": {
   "display_name": "NLP",
   "language": "python",
   "name": "python3"
  },
  "language_info": {
   "codemirror_mode": {
    "name": "ipython",
    "version": 3
   },
   "file_extension": ".py",
   "mimetype": "text/x-python",
   "name": "python",
   "nbconvert_exporter": "python",
   "pygments_lexer": "ipython3",
   "version": "3.10.16"
  }
 },
 "nbformat": 4,
 "nbformat_minor": 5
}
