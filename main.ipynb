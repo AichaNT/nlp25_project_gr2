{
 "cells": [
  {
   "cell_type": "code",
   "execution_count": 1,
   "id": "c46d8679",
   "metadata": {},
   "outputs": [],
   "source": [
    "# imports\n",
    "from scripts.load_data import mapping, read_tsv_file, extract_labeled_tokens"
   ]
  },
  {
   "cell_type": "markdown",
   "id": "62cd3351",
   "metadata": {},
   "source": [
    "#### Getting the data"
   ]
  },
  {
   "cell_type": "code",
   "execution_count": 2,
   "id": "f508c521",
   "metadata": {},
   "outputs": [],
   "source": [
    "# path to the data files\n",
    "path_train = \"data/da_news_train.tsv\"\n",
    "path_dev = \"data/da_news_dev.tsv\"\n",
    "path_test = \"data/da_news_test.tsv\""
   ]
  },
  {
   "cell_type": "code",
   "execution_count": 3,
   "id": "5c2e6f26",
   "metadata": {},
   "outputs": [],
   "source": [
    "# create mapping\n",
    "label2id, id2label = mapping(path_train)"
   ]
  },
  {
   "cell_type": "code",
   "execution_count": 4,
   "id": "ee5e09fc",
   "metadata": {},
   "outputs": [],
   "source": [
    "# read in the DaN+ data\n",
    "train_data = read_tsv_file(path_train, label2id)\n",
    "dev_data = read_tsv_file(path_dev, label2id)\n",
    "test_data = read_tsv_file(path_test, label2id)"
   ]
  },
  {
   "cell_type": "code",
   "execution_count": null,
   "id": "d8374036",
   "metadata": {},
   "outputs": [],
   "source": [
    "# extract tokens with non-\"O\" labels from each split\n",
    "train_tokens = extract_labeled_tokens(train_data)\n",
    "dev_tokens = extract_labeled_tokens(dev_data)\n",
    "test_tokens = extract_labeled_tokens(test_data)"
   ]
  },
  {
   "cell_type": "code",
   "execution_count": null,
   "id": "edf3e046",
   "metadata": {},
   "outputs": [
    {
     "name": "stdout",
     "output_type": "stream",
     "text": [
      "Unique tokes in train : 2635 tokens\n",
      "Unique tokes in dev : 470 tokens\n",
      "Unique tokes in test : 513 tokens\n"
     ]
    }
   ],
   "source": [
    "# print out the number of unique tokens in each split\n",
    "print(f\"Unique tokes in train : {len(train_tokens)} tokens\")\n",
    "print(f\"Unique tokes in dev : {len(dev_tokens)} tokens\")\n",
    "print(f\"Unique tokes in test : {len(test_tokens)} tokens\")"
   ]
  },
  {
   "cell_type": "code",
   "execution_count": 7,
   "id": "21385b45",
   "metadata": {},
   "outputs": [],
   "source": [
    "# compute intersections to find overlaps\n",
    "train_dev_overlap = train_tokens & dev_tokens                   # tokens that appear in both train and dev\n",
    "train_test_overlap = train_tokens & test_tokens                 # tokens that appear in both train and test\n",
    "dev_test_overlap = dev_tokens & test_tokens                     # tokens that appear in both dev and test\n",
    "all_three_overlap = train_tokens & dev_tokens & test_tokens     # tokens common to all three splits\n"
   ]
  },
  {
   "cell_type": "code",
   "execution_count": 8,
   "id": "edd99ccf",
   "metadata": {},
   "outputs": [
    {
     "name": "stdout",
     "output_type": "stream",
     "text": [
      "Train-Dev overlap: 256 tokens\n",
      "Train-Test overlap: 219 tokens\n",
      "Dev-Test overlap: 78 tokens\n",
      "All three overlap: 74 tokens\n"
     ]
    }
   ],
   "source": [
    "# print out the number of overlapping tokens\n",
    "print(f\"Train-Dev overlap: {len(train_dev_overlap)} tokens\")\n",
    "print(f\"Train-Test overlap: {len(train_test_overlap)} tokens\")\n",
    "print(f\"Dev-Test overlap: {len(dev_test_overlap)} tokens\")\n",
    "print(f\"All three overlap: {len(all_three_overlap)} tokens\")\n"
   ]
  },
  {
   "cell_type": "code",
   "execution_count": 9,
   "id": "d9280706",
   "metadata": {},
   "outputs": [
    {
     "name": "stdout",
     "output_type": "stream",
     "text": [
      "Tokens in train-dev overlap with non-zero labels: {'Jens', 'Parken', 'Gotland', 'Christiansborg', 'Lene', 'Nakskov', 'Folketinget', 'Frederik', 'SF', 'The', 'Dolly', 'Robinsons', 'Halifax', 'New', 'Dannebrog', 'Anna', 'Imelda', 'Århus', 'Natalie', 'Jugoslavien', 'vivaldi', 'Camre', 'Stewart', 'Lotte', 'Nat', 'Winther', 'Danish', 'KTAS', 'Monrovia', 'Schrøder', 'Marcos', 'Vladimir', 'ACO', 'Ungarn', 'Storbritannien', 'Jensen', 'B.T.', 'Vestunionen', 'Stadion', \"FN's\", 'Unibanks', 'Nils', 'Citroën', 'Johnny', 'No', 'Lars', 'Bosnien', 'Konservative', 'Brian', 'Henrik', 'Gerner', 'Trabzonspor', \"TEBA's\", 'Justitsministeriet', 'Clintons', 'De', 'Gudme', 'Dahlfelt', 'Danske', 'Hamburg', 'Islands', 'Tyskland', 'Europa', 'Madsen', 'Hafnia', 'Land', 'Mucomyst', 'Nigeria', 'Bjarne', 'Valby', 'Steffensen', 'Jeltsin', 'HOPKINS', 'Grækenland', 'John', 'Fergie', 'Østeuropa', 'Indien', 'Ivan', 'Christiansen', 'Nielsen', 'Faaborg', 'USAs', 'Mogens', 'Mortensen', 'Japan', 'Tom', 'Diemar', 'til', 'J.', 'Danmark', 'Mackensie', 'Association', 'Cambodia', 'Camillas', 'Miljøklagenævnet', 'of', 'Pedersen', 'Harremoës', 'Bente', 'Fuel', 'Elise', 'Ole', 'Diana', 'Markus', 'Østergaard', 'Odense', 'B.', 'Eddie', 'Schlüter', 'Nanna', 'Vilby', 'Hilden', 'Crescent', 'York', 'Peder', 'Nissen', 'Den', 'Morten', 'Bent', 'Left', 'Gug', 'Berlingske', 'Verdenskrig', 'Cole', 'Anden', 'Sverige', 'Hobro', 'Lyngby', 'Sine', 'Pakistan', 'Clinton', 'Kitt', 'Club', 'i', 'Lundbæk', 'Harald', 'Folkeparti', 'Lynge', 'Oustrup', 'Budapest', 'Pjuske', 'Universitet', 'Karin', 'Bank', 'Ebbe', 'King', 'Dybkjær', 'Det', 'Røde', 'Maja', 'Paul', 'Unibank', 'Jytte', 'Spejldans', 'Danmarks', 'Viborg', 'Peter', 'Pilgrims', 'Jersey', 'Lis', 'Jan', 'CBC', 'Victor', 'Socialdemokratiet', 'Finn', 'Christofoli', 'Svend', 'Dansk', 'Paper', 'Erhard', 'Claus', 'Mette', 'Nyrup', 'AALBORG', 'Makedonien', 'Horsens', 'Inge', 'Sankt', 'Paris', 'Rasmussen', 'Anne', 'Christensen', 'Knud', 'Kurt', 'C.', 'Holding', 'K.', 'USA', 'Malaysia', 'Willumsens', 'Audi', 'Christoffersen', 'Andersen', 'Lone', 'Lise', 'Mellemfolkeligt', 'Poul', 'NATO', 'København', 'Moving', 'Falck', 'Larsen', 'Carbone', 'Brøndbys', 'Wiese', 'Packaging', 'Kosan', 'Silius', 'Joachim', 'H.', 'Schlüters', 'Lofgren', 'Torben', 'England', 'For', 'Republic', 'Ib', 'Houmarks', 'Henning', 'Hansen', 'Pimonov', 'Petersen', 'Van', 'SAS', 'Fryland', 'DUPLO', 'Svane', 'Jyderup', 'Vejle', 'Elvis', 'Elstrup', 'Nordkalotten', 'Mai', 'Kim', 'Ørestaden', 'Prag', 'Lykketoft', 'Rudbjerg', 'Funar', 'Tidendes', 'Hearts', 'Flemming', 'Roar', 'Arnold', 'Borge', 'Allan', 'Olsen', 'H.L.', 'Søren', 'Jørgensen', 'ODENSE', 'Per', 'Susan', 'Stefan', 'Kristiansen'}\n",
      "Tokens in train-test overlap with non-zero labels: {'Jens', 'Rushdie', 'Polen', 'broen', 'Verdensbanken', 'anden', 'Karl', 'Folketinget', 'SPIELBERG', 'de', 'SF', 'EFs', 'The', 'Dolly', 'Ninn-Hansens', 'Dannebrog', 'Århus', 'Lotte', 'Hans', 'verdenskrig', 'kommune', 'Pforzheim', 'Tuborg', 'Ørsted', 'kr.', 'kgl.', 'Boldklub', 'Brødrene', 'Bernard', 'Birte', 'Jensen', 'B.T.', 'Radios', 'Cup', 'Tanjug', 'Nils', 'Orwell', 'Park', 'Annette', 'Erik', 'Brøndby', 'Accumulator', 'Johnny', 'Lars', 'af', 'Færøerne', 'E.', 'Bruxelles', 'Brian', 'Berg', 'Henrik', 'Serbiens', 'Joe', 'Martin', 'BMS', 'Fanø', 'De', 'Niels', 'Depeche', 'EF', 'Tyskland', 'Danske', 'Europa', 'Madsen', 'DSB', 'OB', 'Jyllands-Posten', 'Bjarne', 'London', 'Black', 'Steffensen', 'Verdens', 'John', 'Michael', 'Christiansen', 'Ivan', 'Nielsen', 'Mogens', 'Annemette', 'Danmark', 'Venstres', 'Fupz', 'Kirsten', 'Lund', 'Marilyn', 'Pedersen', 'P.', 'Lundholt', 'B.T.s', 'Nørrebro', 'Uffe', 'Ole', 'B.', 'Odense', 'Eddie', 'Gøngehøvdingen', 'Bibliotek', 'Schlüter', 'Nanna', 'Københavns', 'Aalborg', 'Trangeled', 'Peder', 'Frank', 'Den', 'Birgitte', 'Heimdal', 'Morten', 'Jørn', 'Berlingske', 'Sverige', 'Lyngby', 'Jesper', 'Glienicke', 'Villy', 'Møller', 'Kommune', 'Club', 'Irak', 'Bosnien-Hercegovina', 'Anders', '-', 'Kolding', 'Bank', 'Ebbe', 'Jacobsen', 'K', 'Palle', 'Det', 'Lau', 'mod', 'og', 'Paul', 'Stiftstidende', 'Danmarks', 'Peter', 'Østersøen', 'Socialdemokratiet', 'Frederikshavn', 'Helsingør', 'Papin', 'Ove', 'Landsret', 'årstider', 'Svend', 'DSBs', 'Dansk', 'Kreiberg', 'Gren', 'Superligaen', 'Stanley', 'Grammy', 'Paris', 'Italiens', 'Øresund', 'Anne', 'Christensen', 'Østre', 'C.', 'USA', 'Christiania', 'Poul', 'Storebælt', 'Terp', 'Staalby', 'København', 'Teater', ',', 'Køge', 'Larsen', 'Cocker', 'Brøndbys', 'Wiese', 'Steffen', 'Leif', 'Fyn', 'Sejersen', 'Milosevic', 'Simon', 'H.', 'Susanne', 'Lofgren', 'Lee', 'Forening', 'Torben', 'Berlin', 'Gorky', 'Hansen', 'Henning', 'Mogensen', 'Jane', 'V.', 'Gunnar', 'Elvis', 'Barcelona', 'Celebration', 'fire', 'Kim', 'Lykketoft', 'opus', 'Sten', 'Flemming', 'Tidende', 'Steen', 'Kgl.', 'Helle', 'Olsen', 'Jørgensen', 'Amts', 'ODENSE', 'Per', 'Ulla', 'Hjorth', 'det', 'Holland', 'Erling', 'EBRD', 'Teaters', 'Oluf'}\n",
      "Tokens in dev-test overlap with non-zero labels: {'Jens', 'Folketinget', 'SF', 'The', 'Dolly', 'Dannebrog', 'Århus', 'Lotte', 'Jensen', 'B.T.', 'Nils', 'Johnny', 'Lars', 'Brian', 'Henrik', 'De', 'Tyskland', 'Danske', 'Europa', 'Madsen', 'Bjarne', 'Steffensen', 'John', 'Christiansen', 'Ivan', 'Nielsen', 'Mogens', 'Danmark', 'Pedersen', 'Ole', 'B.', 'Odense', 'Eddie', 'Schlüter', 'Nanna', 'Peder', 'Den', 'Morten', 'Berlingske', 'Sverige', 'Lyngby', 'Club', 'Bank', 'Ebbe', 'dollar', 'Det', 'Paul', 'Danmarks', 'Peter', 'Socialdemokratiet', 'Camel', 'Svend', 'Dansk', 'Paris', 'Anne', 'Christensen', 'C.', 'USA', 'Poul', 'Linnet', 'København', 'Larsen', 'Brøndbys', 'Wiese', 'H.', 'Lofgren', 'Torben', 'Henning', 'Hansen', 'Divisionsforeningen', 'Elvis', 'Kim', 'Lykketoft', 'Flemming', 'Olsen', 'Jørgensen', 'ODENSE', 'Per'}\n",
      "Tokens in all three splits with non-zero labels: {'Jens', 'Tyskland', 'Danske', 'Europa', 'Madsen', 'Poul', 'Folketinget', 'SF', 'København', 'Club', 'The', 'Bjarne', 'Dolly', 'Larsen', 'Brøndbys', 'Dannebrog', 'Steffensen', 'Wiese', 'Århus', 'Bank', 'Ebbe', 'John', 'Det', 'Lotte', 'Christiansen', 'Ivan', 'H.', 'Nielsen', 'Lofgren', 'Mogens', 'Paul', 'Torben', 'Danmarks', 'Peter', 'Danmark', 'Henning', 'Hansen', 'Socialdemokratiet', 'Jensen', 'B.T.', 'Pedersen', 'Elvis', 'Kim', 'Nils', 'Ole', 'Svend', 'Dansk', 'Lykketoft', 'B.', 'Odense', 'Eddie', 'Flemming', 'Schlüter', 'Nanna', 'Olsen', 'Johnny', 'Lars', 'Paris', 'Jørgensen', 'Peder', 'Anne', 'Brian', 'Den', 'Henrik', 'Morten', 'Christensen', 'ODENSE', 'Berlingske', 'Sverige', 'Per', 'C.', 'USA', 'De', 'Lyngby'}\n"
     ]
    }
   ],
   "source": [
    "print(\"Tokens in train-dev overlap with non-zero labels:\", train_dev_overlap)\n",
    "print(\"Tokens in train-test overlap with non-zero labels:\", train_test_overlap)\n",
    "print(\"Tokens in dev-test overlap with non-zero labels:\", dev_test_overlap)\n",
    "print(\"Tokens in all three splits with non-zero labels:\", all_three_overlap)"
   ]
  }
 ],
 "metadata": {
  "kernelspec": {
   "display_name": "NLP",
   "language": "python",
   "name": "python3"
  },
  "language_info": {
   "codemirror_mode": {
    "name": "ipython",
    "version": 3
   },
   "file_extension": ".py",
   "mimetype": "text/x-python",
   "name": "python",
   "nbconvert_exporter": "python",
   "pygments_lexer": "ipython3",
   "version": "3.10.16"
  }
 },
 "nbformat": 4,
 "nbformat_minor": 5
}
