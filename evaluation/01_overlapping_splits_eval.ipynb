{
 "cells": [
  {
   "cell_type": "code",
   "execution_count": 12,
   "id": "f557ff33",
   "metadata": {},
   "outputs": [],
   "source": [
    "# imports\n",
    "import os\n",
    "import sys\n",
    "sys.path.append(os.path.abspath(\"../\"))\n",
    "\n",
    "from scripts.load_data import label_mapping, read_tsv_file, read_iob2_file\n",
    "from scripts.evaluation import extract_true_and_pred_labels\n",
    "from seqeval.metrics import classification_report"
   ]
  },
  {
   "cell_type": "markdown",
   "id": "352c078b",
   "metadata": {},
   "source": [
    "# Computing metrics for predictions on the original splits"
   ]
  },
  {
   "cell_type": "code",
   "execution_count": 13,
   "id": "43b8b3e0",
   "metadata": {},
   "outputs": [],
   "source": [
    "# paths to data\n",
    "path_test = \"../data/da_news/da_news_test.tsv\"\n",
    "path_test_pred = \"non_emerging_preds/non_emerging_test_pred.iob2\" "
   ]
  },
  {
   "cell_type": "code",
   "execution_count": 14,
   "id": "51183c35",
   "metadata": {},
   "outputs": [
    {
     "name": "stdout",
     "output_type": "stream",
     "text": [
      "{'I-ORG': 0, 'B-PER': 1, 'I-LOC': 2, 'I-PER': 3, 'O': 4, 'B-ORG': 5, 'I-MISC': 6, 'B-MISC': 7, 'B-LOC': 8}\n",
      "{0: 'I-ORG', 1: 'B-PER', 2: 'I-LOC', 3: 'I-PER', 4: 'O', 5: 'B-ORG', 6: 'I-MISC', 7: 'B-MISC', 8: 'B-LOC'}\n"
     ]
    }
   ],
   "source": [
    "# mapping labels\n",
    "label2id, id2label = label_mapping(path_test)\n",
    "\n",
    "print(label2id)\n",
    "print(id2label)"
   ]
  },
  {
   "cell_type": "code",
   "execution_count": 15,
   "id": "2ea92c33",
   "metadata": {},
   "outputs": [],
   "source": [
    "# reading in files\n",
    "test_data = read_tsv_file(path_test, label2id)\n",
    "test_pred = read_iob2_file(path_test_pred, label2id)"
   ]
  },
  {
   "cell_type": "code",
   "execution_count": 16,
   "id": "72447a5b",
   "metadata": {},
   "outputs": [],
   "source": [
    "# saving all true and predicted labels\n",
    "true_labels, pred_labels = extract_true_and_pred_labels(test_data, test_pred)"
   ]
  },
  {
   "cell_type": "code",
   "execution_count": 17,
   "id": "6a7b85ee",
   "metadata": {},
   "outputs": [
    {
     "name": "stdout",
     "output_type": "stream",
     "text": [
      "recall:    0.8311688311688312\n",
      "precision: 0.8609865470852018\n",
      "slot-f1:   0.8458149779735683\n",
      "\n",
      "unlabeled\n",
      "ul_recall:    0.9112554112554112\n",
      "ul_precision: 0.9439461883408071\n",
      "ul_slot-f1:   0.9273127753303964\n",
      "\n",
      "loose (partial overlap with same label)\n",
      "l_recall:    0.8506493506493507\n",
      "l_precision: 0.8811659192825112\n",
      "l_slot-f1:   0.8656387665198237\n"
     ]
    }
   ],
   "source": [
    "# print span-f1\n",
    "!python ../scripts/span_f1.py ../data/da_news/da_news_test.iob2 non_emerging_preds/non_emerging_test_pred.iob2"
   ]
  }
 ],
 "metadata": {
  "kernelspec": {
   "display_name": "NLP",
   "language": "python",
   "name": "python3"
  },
  "language_info": {
   "codemirror_mode": {
    "name": "ipython",
    "version": 3
   },
   "file_extension": ".py",
   "mimetype": "text/x-python",
   "name": "python",
   "nbconvert_exporter": "python",
   "pygments_lexer": "ipython3",
   "version": "3.9.21"
  }
 },
 "nbformat": 4,
 "nbformat_minor": 5
}
