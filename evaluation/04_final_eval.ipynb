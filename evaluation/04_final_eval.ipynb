{
 "cells": [
  {
   "cell_type": "code",
   "execution_count": 12,
   "id": "4b5a3ce7",
   "metadata": {},
   "outputs": [],
   "source": [
    "# imports\n",
    "import sys\n",
    "sys.path.append(\"../\")\n",
    "\n",
    "from scripts.load_data import label_mapping, read_tsv_file, read_iob2_file\n",
    "from scripts.evaluation import extract_true_and_pred_labels\n",
    "from seqeval.metrics import classification_report"
   ]
  },
  {
   "cell_type": "markdown",
   "id": "4dfa2929",
   "metadata": {},
   "source": [
    "# Computing metrics for predictions on non-augmented and augmented test set for final model"
   ]
  },
  {
   "cell_type": "code",
   "execution_count": 13,
   "id": "4db138f0",
   "metadata": {},
   "outputs": [],
   "source": [
    "# paths to data\n",
    "path_test = \"../data/no_overlap_da_news/da_news_test.tsv\"\n",
    "path_test_pred = \"final_preds/final_test_pred.iob2\" \n",
    "path_me_test = \"../data/me_data/middle_eastern_test.tsv\"\n",
    "path_me_test_pred = \"final_preds/final_me_test_pred.iob2\" "
   ]
  },
  {
   "cell_type": "code",
   "execution_count": 14,
   "id": "63a01f74",
   "metadata": {},
   "outputs": [
    {
     "name": "stdout",
     "output_type": "stream",
     "text": [
      "{'I-PER': 0, 'B-PER': 1, 'I-ORG': 2, 'B-ORG': 3, 'O': 4, 'B-MISC': 5, 'I-MISC': 6, 'I-LOC': 7, 'B-LOC': 8}\n",
      "{0: 'I-PER', 1: 'B-PER', 2: 'I-ORG', 3: 'B-ORG', 4: 'O', 5: 'B-MISC', 6: 'I-MISC', 7: 'I-LOC', 8: 'B-LOC'}\n"
     ]
    }
   ],
   "source": [
    "# mapping labels\n",
    "label2id, id2label = label_mapping(path_test)\n",
    "\n",
    "print(label2id)\n",
    "print(id2label)"
   ]
  },
  {
   "cell_type": "code",
   "execution_count": 15,
   "id": "89b94b19",
   "metadata": {},
   "outputs": [],
   "source": [
    "# reading in files\n",
    "test_data = read_tsv_file(path_test, label2id)\n",
    "test_pred = read_iob2_file(path_test_pred, label2id)\n",
    "me_test_data = read_tsv_file(path_me_test, label2id)\n",
    "me_test_pred = read_iob2_file(path_me_test_pred, label2id)"
   ]
  },
  {
   "cell_type": "code",
   "execution_count": 16,
   "id": "5f89d25e",
   "metadata": {},
   "outputs": [],
   "source": [
    "# saving all true and predicted labels for test set\n",
    "true_labels, pred_labels = extract_true_and_pred_labels(test_data, test_pred)\n",
    "me_true_labels, me_pred_labels = extract_true_and_pred_labels(me_test_data, me_test_pred)"
   ]
  },
  {
   "cell_type": "markdown",
   "id": "c742ae2b",
   "metadata": {},
   "source": [
    "## Non-augmented test set"
   ]
  },
  {
   "cell_type": "code",
   "execution_count": 17,
   "id": "b95fc325",
   "metadata": {},
   "outputs": [
    {
     "name": "stdout",
     "output_type": "stream",
     "text": [
      "recall:    0.8047945205479452\n",
      "precision: 0.8362989323843416\n",
      "slot-f1:   0.8202443280977312\n",
      "\n",
      "unlabeled\n",
      "ul_recall:    0.8904109589041096\n",
      "ul_precision: 0.9252669039145908\n",
      "ul_slot-f1:   0.9075043630017452\n",
      "\n",
      "loose (partial overlap with same label)\n",
      "l_recall:    0.821917808219178\n",
      "l_precision: 0.8540925266903915\n",
      "l_slot-f1:   0.837696335078534\n"
     ]
    }
   ],
   "source": [
    "# print span-f1\n",
    "!python ../scripts/span_f1.py ../data/no_overlap_da_news/da_news_test.iob2 final_preds/final_test_pred.iob2"
   ]
  },
  {
   "cell_type": "code",
   "execution_count": 18,
   "id": "d26564c0",
   "metadata": {},
   "outputs": [
    {
     "name": "stdout",
     "output_type": "stream",
     "text": [
      "\n",
      "Classification Report:\n",
      "              precision    recall  f1-score   support\n",
      "\n",
      "         LOC       0.80      0.88      0.84        58\n",
      "        MISC       0.59      0.63      0.61        35\n",
      "         ORG       0.82      0.71      0.76        82\n",
      "         PER       0.96      0.89      0.93       118\n",
      "\n",
      "   micro avg       0.84      0.81      0.82       293\n",
      "   macro avg       0.79      0.78      0.78       293\n",
      "weighted avg       0.85      0.81      0.82       293\n",
      "\n"
     ]
    }
   ],
   "source": [
    "# print classification report\n",
    "print(\"\\nClassification Report:\")\n",
    "print(classification_report(true_labels, pred_labels))"
   ]
  },
  {
   "cell_type": "markdown",
   "id": "997cd57b",
   "metadata": {},
   "source": [
    "## Augmented test set"
   ]
  },
  {
   "cell_type": "code",
   "execution_count": 19,
   "id": "d689a89d",
   "metadata": {},
   "outputs": [
    {
     "name": "stdout",
     "output_type": "stream",
     "text": [
      "recall:    0.7808219178082192\n",
      "precision: 0.7916666666666666\n",
      "slot-f1:   0.7862068965517242\n",
      "\n",
      "unlabeled\n",
      "ul_recall:    0.9178082191780822\n",
      "ul_precision: 0.9305555555555556\n",
      "ul_slot-f1:   0.9241379310344828\n",
      "\n",
      "loose (partial overlap with same label)\n",
      "l_recall:    0.797945205479452\n",
      "l_precision: 0.8055555555555556\n",
      "l_slot-f1:   0.8017323208353109\n"
     ]
    }
   ],
   "source": [
    "# print span-f1\n",
    "!python ../scripts/span_f1.py ../data/me_data/middle_eastern_test.iob2 final_preds/final_me_test_pred.iob2"
   ]
  },
  {
   "cell_type": "code",
   "execution_count": 20,
   "id": "de799bdf",
   "metadata": {},
   "outputs": [
    {
     "name": "stdout",
     "output_type": "stream",
     "text": [
      "\n",
      "Classification Report:\n",
      "              precision    recall  f1-score   support\n",
      "\n",
      "         LOC       0.78      0.86      0.82        58\n",
      "        MISC       0.65      0.63      0.64        35\n",
      "         ORG       0.72      0.60      0.65        82\n",
      "         PER       0.87      0.92      0.89       118\n",
      "\n",
      "   micro avg       0.79      0.78      0.79       293\n",
      "   macro avg       0.75      0.75      0.75       293\n",
      "weighted avg       0.78      0.78      0.78       293\n",
      "\n"
     ]
    }
   ],
   "source": [
    "# print a classification report\n",
    "print(\"\\nClassification Report:\")\n",
    "print(classification_report(me_true_labels, me_pred_labels))"
   ]
  }
 ],
 "metadata": {
  "kernelspec": {
   "display_name": "NLP",
   "language": "python",
   "name": "python3"
  },
  "language_info": {
   "codemirror_mode": {
    "name": "ipython",
    "version": 3
   },
   "file_extension": ".py",
   "mimetype": "text/x-python",
   "name": "python",
   "nbconvert_exporter": "python",
   "pygments_lexer": "ipython3",
   "version": "3.9.21"
  }
 },
 "nbformat": 4,
 "nbformat_minor": 5
}
