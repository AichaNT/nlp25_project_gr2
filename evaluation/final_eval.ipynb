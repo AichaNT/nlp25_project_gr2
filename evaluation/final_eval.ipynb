{
 "cells": [
  {
   "cell_type": "code",
   "execution_count": 11,
   "id": "506d706a",
   "metadata": {},
   "outputs": [],
   "source": [
    "# Felicia necessariy import thing\n",
    "import sys\n",
    "import os\n",
    "\n",
    "project_root = os.path.abspath(\"..\")  # or adjust to wherever scripts/ lives\n",
    "if project_root not in sys.path:\n",
    "    sys.path.insert(0, project_root)"
   ]
  },
  {
   "cell_type": "code",
   "execution_count": 12,
   "id": "4b5a3ce7",
   "metadata": {},
   "outputs": [],
   "source": [
    "# imports\n",
    "import sys\n",
    "sys.path.append(\"../\")\n",
    "\n",
    "from scripts.load_data import label_mapping, read_tsv_file, read_iob2_file\n",
    "from scripts.evaluation import extract_true_and_pred_labels\n",
    "from seqeval.metrics import classification_report"
   ]
  },
  {
   "cell_type": "code",
   "execution_count": 13,
   "id": "4db138f0",
   "metadata": {},
   "outputs": [],
   "source": [
    "# paths to data\n",
    "path_test = \"../data/no_overlap_da_news/da_news_test.tsv\"\n",
    "path_test_pred = \"final_preds/final_test_pred.iob2\" \n",
    "path_me_test = \"../data/me_data/middle_eastern_test.tsv\"\n",
    "path_me_test_pred = \"final_preds/final_me_test_pred.iob2\" "
   ]
  },
  {
   "cell_type": "code",
   "execution_count": 14,
   "id": "63a01f74",
   "metadata": {},
   "outputs": [
    {
     "name": "stdout",
     "output_type": "stream",
     "text": [
      "{'I-ORG': 0, 'I-LOC': 1, 'B-MISC': 2, 'B-PER': 3, 'O': 4, 'B-ORG': 5, 'I-MISC': 6, 'I-PER': 7, 'B-LOC': 8}\n",
      "{0: 'I-ORG', 1: 'I-LOC', 2: 'B-MISC', 3: 'B-PER', 4: 'O', 5: 'B-ORG', 6: 'I-MISC', 7: 'I-PER', 8: 'B-LOC'}\n"
     ]
    }
   ],
   "source": [
    "# mapping labels\n",
    "label2id, id2label = label_mapping(path_test)\n",
    "\n",
    "print(label2id)\n",
    "print(id2label)"
   ]
  },
  {
   "cell_type": "code",
   "execution_count": 15,
   "id": "89b94b19",
   "metadata": {},
   "outputs": [],
   "source": [
    "# reading in files\n",
    "test_data = read_tsv_file(path_test, label2id)\n",
    "test_pred = read_iob2_file(path_test_pred, label2id)\n",
    "me_test_data = read_tsv_file(path_me_test, label2id)\n",
    "me_test_pred = read_iob2_file(path_me_test_pred, label2id)"
   ]
  },
  {
   "cell_type": "code",
   "execution_count": 16,
   "id": "5f89d25e",
   "metadata": {},
   "outputs": [],
   "source": [
    "# saving all true and predicted labels\n",
    "true_labels, pred_labels = extract_true_and_pred_labels(test_data, test_pred)\n",
    "me_true_labels, me_pred_labels = extract_true_and_pred_labels(me_test_data, me_test_pred)"
   ]
  },
  {
   "cell_type": "markdown",
   "id": "c742ae2b",
   "metadata": {},
   "source": [
    "## Non-augmented test set"
   ]
  },
  {
   "cell_type": "code",
   "execution_count": 17,
   "id": "b95fc325",
   "metadata": {},
   "outputs": [
    {
     "name": "stdout",
     "output_type": "stream",
     "text": [
      "recall:    0.7808219178082192\n",
      "precision: 0.8507462686567164\n",
      "slot-f1:   0.8142857142857143\n",
      "\n",
      "unlabeled\n",
      "ul_recall:    0.8493150684931506\n",
      "ul_precision: 0.9253731343283582\n",
      "ul_slot-f1:   0.8857142857142857\n",
      "\n",
      "loose (partial overlap with same label)\n",
      "l_recall:    0.7945205479452054\n",
      "l_precision: 0.8694029850746269\n",
      "l_slot-f1:   0.830276779405892\n"
     ]
    }
   ],
   "source": [
    "!python ../scripts/span_f1.py ../data/no_overlap_da_news/da_news_test.iob2 final_preds/final_test_pred.iob2"
   ]
  },
  {
   "cell_type": "code",
   "execution_count": 18,
   "id": "d26564c0",
   "metadata": {},
   "outputs": [
    {
     "name": "stdout",
     "output_type": "stream",
     "text": [
      "\n",
      "Classification Report:\n",
      "              precision    recall  f1-score   support\n",
      "\n",
      "         LOC       0.77      0.83      0.80        58\n",
      "        MISC       0.66      0.54      0.59        35\n",
      "         ORG       0.79      0.61      0.69        82\n",
      "         PER       0.93      0.93      0.93       118\n",
      "\n",
      "   micro avg       0.83      0.77      0.80       293\n",
      "   macro avg       0.79      0.73      0.75       293\n",
      "weighted avg       0.83      0.77      0.80       293\n",
      "\n"
     ]
    }
   ],
   "source": [
    "# print classification report\n",
    "print(\"\\nClassification Report:\")\n",
    "print(classification_report(true_labels, pred_labels))"
   ]
  },
  {
   "cell_type": "markdown",
   "id": "997cd57b",
   "metadata": {},
   "source": [
    "## Augmented test set"
   ]
  },
  {
   "cell_type": "code",
   "execution_count": 19,
   "id": "d689a89d",
   "metadata": {},
   "outputs": [
    {
     "name": "stdout",
     "output_type": "stream",
     "text": [
      "recall:    0.7636986301369864\n",
      "precision: 0.7852112676056338\n",
      "slot-f1:   0.7743055555555555\n",
      "\n",
      "unlabeled\n",
      "ul_recall:    0.9143835616438356\n",
      "ul_precision: 0.9401408450704225\n",
      "ul_slot-f1:   0.9270833333333333\n",
      "\n",
      "loose (partial overlap with same label)\n",
      "l_recall:    0.773972602739726\n",
      "l_precision: 0.795774647887324\n",
      "l_slot-f1:   0.7847222222222222\n"
     ]
    }
   ],
   "source": [
    "!python ../scripts/span_f1.py ../data/me_data/middle_eastern_test.iob2 final_preds/final_me_test_pred.iob2"
   ]
  },
  {
   "cell_type": "code",
   "execution_count": 20,
   "id": "de799bdf",
   "metadata": {},
   "outputs": [
    {
     "name": "stdout",
     "output_type": "stream",
     "text": [
      "\n",
      "Classification Report:\n",
      "              precision    recall  f1-score   support\n",
      "\n",
      "         LOC       0.73      0.81      0.77        58\n",
      "        MISC       0.70      0.54      0.61        35\n",
      "         ORG       0.75      0.56      0.64        82\n",
      "         PER       0.82      0.93      0.87       118\n",
      "\n",
      "   micro avg       0.78      0.76      0.77       293\n",
      "   macro avg       0.75      0.71      0.72       293\n",
      "weighted avg       0.77      0.76      0.76       293\n",
      "\n"
     ]
    }
   ],
   "source": [
    "# print a classification report\n",
    "print(\"\\nClassification Report:\")\n",
    "print(classification_report(me_true_labels, me_pred_labels))"
   ]
  }
 ],
 "metadata": {
  "kernelspec": {
   "display_name": "NLP",
   "language": "python",
   "name": "python3"
  },
  "language_info": {
   "codemirror_mode": {
    "name": "ipython",
    "version": 3
   },
   "file_extension": ".py",
   "mimetype": "text/x-python",
   "name": "python",
   "nbconvert_exporter": "python",
   "pygments_lexer": "ipython3",
   "version": "3.10.16"
  }
 },
 "nbformat": 4,
 "nbformat_minor": 5
}
