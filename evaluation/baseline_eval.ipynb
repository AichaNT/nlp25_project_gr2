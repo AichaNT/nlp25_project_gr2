{
 "cells": [
  {
   "cell_type": "code",
   "execution_count": 10,
   "id": "21dcd583",
   "metadata": {},
   "outputs": [],
   "source": [
    "# imports\n",
    "import sys\n",
    "sys.path.append(\"../\")\n",
    "\n",
    "from scripts.load_data import label_mapping, read_tsv_file, read_iob2_file\n",
    "from scripts.evaluation import extract_true_and_pred_labels\n",
    "from seqeval.metrics import classification_report"
   ]
  },
  {
   "cell_type": "markdown",
   "id": "f5c403a3",
   "metadata": {},
   "source": [
    "## Computing metrics for predictions on non-augmented and augmented test set"
   ]
  },
  {
   "cell_type": "code",
   "execution_count": 11,
   "id": "eee77577",
   "metadata": {},
   "outputs": [],
   "source": [
    "# paths to data\n",
    "path_test = \"../data/no_overlap_da_news/da_news_test.tsv\"\n",
    "path_test_pred = \"baseline_preds/test_pred.iob2\" \n",
    "path_me_test = \"../data/me_data/middle_eastern_test.tsv\"\n",
    "path_me_test_pred = \"baseline_preds/me_test_pred.iob2\" "
   ]
  },
  {
   "cell_type": "code",
   "execution_count": 12,
   "id": "adc8ee80",
   "metadata": {},
   "outputs": [
    {
     "name": "stdout",
     "output_type": "stream",
     "text": [
      "{'O': 0, 'B-ORG': 1, 'I-ORG': 2, 'B-LOC': 3, 'I-LOC': 4, 'B-PER': 5, 'B-MISC': 6, 'I-PER': 7, 'I-MISC': 8}\n",
      "{0: 'O', 1: 'B-ORG', 2: 'I-ORG', 3: 'B-LOC', 4: 'I-LOC', 5: 'B-PER', 6: 'B-MISC', 7: 'I-PER', 8: 'I-MISC'}\n"
     ]
    }
   ],
   "source": [
    "# mapping labels\n",
    "label2id, id2label = label_mapping(path_test)\n",
    "\n",
    "print(label2id)\n",
    "print(id2label)"
   ]
  },
  {
   "cell_type": "code",
   "execution_count": 13,
   "id": "a9e0d3d4",
   "metadata": {},
   "outputs": [],
   "source": [
    "# reading in files\n",
    "test_data = read_tsv_file(path_test, label2id)\n",
    "test_pred = read_iob2_file(path_test_pred, label2id)\n",
    "me_test_data = read_tsv_file(path_me_test, label2id)\n",
    "me_test_pred = read_iob2_file(path_me_test_pred, label2id)"
   ]
  },
  {
   "cell_type": "code",
   "execution_count": 14,
   "id": "419ac311",
   "metadata": {},
   "outputs": [],
   "source": [
    "# saving all true and predicted labels\n",
    "true_labels, pred_labels = extract_true_and_pred_labels(test_data, test_pred)\n",
    "me_true_labels, me_pred_labels = extract_true_and_pred_labels(me_test_data, me_test_pred)"
   ]
  },
  {
   "cell_type": "markdown",
   "id": "891697d8",
   "metadata": {},
   "source": [
    "## Non-augmented test set"
   ]
  },
  {
   "cell_type": "code",
   "execution_count": 15,
   "id": "dbf0876b",
   "metadata": {},
   "outputs": [
    {
     "name": "stdout",
     "output_type": "stream",
     "text": [
      "\n",
      "Classification Report:\n",
      "              precision    recall  f1-score   support\n",
      "\n",
      "         LOC       0.78      0.81      0.80        58\n",
      "        MISC       0.67      0.51      0.58        35\n",
      "         ORG       0.79      0.61      0.69        82\n",
      "         PER       0.97      0.95      0.96       118\n",
      "\n",
      "   micro avg       0.85      0.77      0.81       293\n",
      "   macro avg       0.80      0.72      0.76       293\n",
      "weighted avg       0.85      0.77      0.81       293\n",
      "\n"
     ]
    }
   ],
   "source": [
    "# print classification report\n",
    "print(\"\\nClassification Report:\")\n",
    "print(classification_report(true_labels, pred_labels))"
   ]
  },
  {
   "cell_type": "code",
   "execution_count": 16,
   "id": "c296bd1b",
   "metadata": {},
   "outputs": [
    {
     "name": "stdout",
     "output_type": "stream",
     "text": [
      "recall:    0.7773972602739726\n",
      "precision: 0.8664122137404581\n",
      "slot-f1:   0.8194945848375452\n",
      "\n",
      "unlabeled\n",
      "ul_recall:    0.8458904109589042\n",
      "ul_precision: 0.9427480916030534\n",
      "ul_slot-f1:   0.8916967509025271\n",
      "\n",
      "loose (partial overlap with same label)\n",
      "l_recall:    0.7876712328767124\n",
      "l_precision: 0.8816793893129771\n",
      "l_slot-f1:   0.8320283137058382\n"
     ]
    }
   ],
   "source": [
    "!python ../scripts/span_f1.py ../data/no_overlap_da_news/da_news_test.iob2 baseline_preds/test_pred.iob2"
   ]
  },
  {
   "cell_type": "markdown",
   "id": "62e17fc1",
   "metadata": {},
   "source": [
    "## Augmented test set"
   ]
  },
  {
   "cell_type": "code",
   "execution_count": 17,
   "id": "0d3b5b19",
   "metadata": {},
   "outputs": [
    {
     "name": "stdout",
     "output_type": "stream",
     "text": [
      "\n",
      "Classification Report:\n",
      "              precision    recall  f1-score   support\n",
      "\n",
      "         LOC       0.77      0.81      0.79        58\n",
      "        MISC       0.67      0.51      0.58        35\n",
      "         ORG       0.69      0.46      0.55        82\n",
      "         PER       0.80      0.90      0.84       118\n",
      "\n",
      "   micro avg       0.76      0.71      0.73       293\n",
      "   macro avg       0.73      0.67      0.69       293\n",
      "weighted avg       0.75      0.71      0.72       293\n",
      "\n"
     ]
    }
   ],
   "source": [
    "# print a classification report\n",
    "print(\"\\nClassification Report:\")\n",
    "print(classification_report(me_true_labels, me_pred_labels))"
   ]
  },
  {
   "cell_type": "code",
   "execution_count": 18,
   "id": "d6bac2c3",
   "metadata": {},
   "outputs": [
    {
     "name": "stdout",
     "output_type": "stream",
     "text": [
      "recall:    0.7191780821917808\n",
      "precision: 0.7749077490774908\n",
      "slot-f1:   0.7460035523978686\n",
      "\n",
      "unlabeled\n",
      "ul_recall:    0.8767123287671232\n",
      "ul_precision: 0.9446494464944649\n",
      "ul_slot-f1:   0.9094138543516873\n",
      "\n",
      "loose (partial overlap with same label)\n",
      "l_recall:    0.7294520547945206\n",
      "l_precision: 0.7896678966789668\n",
      "l_slot-f1:   0.7583665388358802\n"
     ]
    }
   ],
   "source": [
    "!python ../scripts/span_f1.py ../data/me_data/middle_eastern_test.iob2 baseline_preds/me_test_pred.iob2"
   ]
  }
 ],
 "metadata": {
  "kernelspec": {
   "display_name": "NLP",
   "language": "python",
   "name": "python3"
  },
  "language_info": {
   "codemirror_mode": {
    "name": "ipython",
    "version": 3
   },
   "file_extension": ".py",
   "mimetype": "text/x-python",
   "name": "python",
   "nbconvert_exporter": "python",
   "pygments_lexer": "ipython3",
   "version": "3.9.21"
  }
 },
 "nbformat": 4,
 "nbformat_minor": 5
}
