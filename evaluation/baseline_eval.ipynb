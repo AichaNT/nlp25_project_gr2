{
 "cells": [
  {
   "cell_type": "code",
   "execution_count": 10,
   "id": "48a065f3",
   "metadata": {},
   "outputs": [],
   "source": [
    "# Felicia necessariy import thing\n",
    "import sys\n",
    "import os\n",
    "\n",
    "project_root = os.path.abspath(\"..\")  # or adjust to wherever scripts/ lives\n",
    "if project_root not in sys.path:\n",
    "    sys.path.insert(0, project_root)"
   ]
  },
  {
   "cell_type": "code",
   "execution_count": 11,
   "id": "21dcd583",
   "metadata": {},
   "outputs": [],
   "source": [
    "# imports\n",
    "import sys\n",
    "\n",
    "import os\n",
    "import sys\n",
    "sys.path.append(os.path.abspath(\"../\"))\n",
    "\n",
    "from scripts.load_data import label_mapping, read_tsv_file, read_iob2_file\n",
    "from scripts.evaluation import extract_true_and_pred_labels\n",
    "from seqeval.metrics import classification_report"
   ]
  },
  {
   "cell_type": "markdown",
   "id": "f5c403a3",
   "metadata": {},
   "source": [
    "## Computing metrics for predictions on non-augmented and augmented test set"
   ]
  },
  {
   "cell_type": "code",
   "execution_count": 12,
   "id": "eee77577",
   "metadata": {},
   "outputs": [],
   "source": [
    "# paths to data\n",
    "path_test = \"../data/no_overlap_da_news/da_news_test.tsv\"\n",
    "path_test_pred = \"baseline_preds/test_pred.iob2\" \n",
    "path_me_test = \"../data/me_data/middle_eastern_test.tsv\"\n",
    "path_me_test_pred = \"baseline_preds/me_test_pred.iob2\" "
   ]
  },
  {
   "cell_type": "code",
   "execution_count": 13,
   "id": "adc8ee80",
   "metadata": {},
   "outputs": [
    {
     "name": "stdout",
     "output_type": "stream",
     "text": [
      "{'I-PER': 0, 'B-LOC': 1, 'I-ORG': 2, 'B-ORG': 3, 'O': 4, 'B-PER': 5, 'I-MISC': 6, 'I-LOC': 7, 'B-MISC': 8}\n",
      "{0: 'I-PER', 1: 'B-LOC', 2: 'I-ORG', 3: 'B-ORG', 4: 'O', 5: 'B-PER', 6: 'I-MISC', 7: 'I-LOC', 8: 'B-MISC'}\n"
     ]
    }
   ],
   "source": [
    "# mapping labels\n",
    "label2id, id2label = label_mapping(path_test)\n",
    "\n",
    "print(label2id)\n",
    "print(id2label)"
   ]
  },
  {
   "cell_type": "code",
   "execution_count": 14,
   "id": "a9e0d3d4",
   "metadata": {},
   "outputs": [],
   "source": [
    "# reading in files\n",
    "test_data = read_tsv_file(path_test, label2id)\n",
    "test_pred = read_iob2_file(path_test_pred, label2id)\n",
    "me_test_data = read_tsv_file(path_me_test, label2id)\n",
    "me_test_pred = read_iob2_file(path_me_test_pred, label2id)"
   ]
  },
  {
   "cell_type": "code",
   "execution_count": 15,
   "id": "419ac311",
   "metadata": {},
   "outputs": [],
   "source": [
    "# saving all true and predicted labels\n",
    "true_labels, pred_labels = extract_true_and_pred_labels(test_data, test_pred)\n",
    "me_true_labels, me_pred_labels = extract_true_and_pred_labels(me_test_data, me_test_pred)"
   ]
  },
  {
   "cell_type": "markdown",
   "id": "891697d8",
   "metadata": {},
   "source": [
    "## Non-augmented test set"
   ]
  },
  {
   "cell_type": "code",
   "execution_count": 16,
   "id": "dbf0876b",
   "metadata": {},
   "outputs": [
    {
     "name": "stdout",
     "output_type": "stream",
     "text": [
      "\n",
      "Classification Report:\n",
      "              precision    recall  f1-score   support\n",
      "\n",
      "         LOC       0.78      0.81      0.80        58\n",
      "        MISC       0.67      0.51      0.58        35\n",
      "         ORG       0.79      0.61      0.69        82\n",
      "         PER       0.97      0.95      0.96       118\n",
      "\n",
      "   micro avg       0.85      0.77      0.81       293\n",
      "   macro avg       0.80      0.72      0.76       293\n",
      "weighted avg       0.85      0.77      0.81       293\n",
      "\n"
     ]
    }
   ],
   "source": [
    "# print classification report\n",
    "print(\"\\nClassification Report:\")\n",
    "print(classification_report(true_labels, pred_labels))"
   ]
  },
  {
   "cell_type": "code",
   "execution_count": 17,
   "id": "c296bd1b",
   "metadata": {},
   "outputs": [
    {
     "name": "stdout",
     "output_type": "stream",
     "text": [
      "recall:    0.7773972602739726\n",
      "precision: 0.8664122137404581\n",
      "slot-f1:   0.8194945848375452\n",
      "\n",
      "unlabeled\n",
      "ul_recall:    0.8458904109589042\n",
      "ul_precision: 0.9427480916030534\n",
      "ul_slot-f1:   0.8916967509025271\n",
      "\n",
      "loose (partial overlap with same label)\n",
      "l_recall:    0.7876712328767124\n",
      "l_precision: 0.8816793893129771\n",
      "l_slot-f1:   0.8320283137058382\n"
     ]
    }
   ],
   "source": [
    "!python ../scripts/span_f1.py ../data/no_overlap_da_news/da_news_test.iob2 baseline_preds/test_pred.iob2"
   ]
  },
  {
   "cell_type": "markdown",
   "id": "62e17fc1",
   "metadata": {},
   "source": [
    "## Augmented test set"
   ]
  },
  {
   "cell_type": "code",
   "execution_count": 18,
   "id": "0d3b5b19",
   "metadata": {},
   "outputs": [
    {
     "name": "stdout",
     "output_type": "stream",
     "text": [
      "\n",
      "Classification Report:\n"
     ]
    },
    {
     "name": "stdout",
     "output_type": "stream",
     "text": [
      "              precision    recall  f1-score   support\n",
      "\n",
      "         LOC       0.77      0.81      0.79        58\n",
      "        MISC       0.67      0.51      0.58        35\n",
      "         ORG       0.69      0.46      0.55        82\n",
      "         PER       0.80      0.90      0.84       118\n",
      "\n",
      "   micro avg       0.76      0.71      0.73       293\n",
      "   macro avg       0.73      0.67      0.69       293\n",
      "weighted avg       0.75      0.71      0.72       293\n",
      "\n"
     ]
    }
   ],
   "source": [
    "# print a classification report\n",
    "print(\"\\nClassification Report:\")\n",
    "print(classification_report(me_true_labels, me_pred_labels))"
   ]
  },
  {
   "cell_type": "code",
   "execution_count": 19,
   "id": "d6bac2c3",
   "metadata": {},
   "outputs": [
    {
     "name": "stdout",
     "output_type": "stream",
     "text": [
      "recall:    0.7191780821917808\n",
      "precision: 0.7749077490774908\n",
      "slot-f1:   0.7460035523978686\n",
      "\n",
      "unlabeled\n",
      "ul_recall:    0.8767123287671232\n",
      "ul_precision: 0.9446494464944649\n",
      "ul_slot-f1:   0.9094138543516873\n",
      "\n",
      "loose (partial overlap with same label)\n",
      "l_recall:    0.7294520547945206\n",
      "l_precision: 0.7896678966789668\n",
      "l_slot-f1:   0.7583665388358802\n"
     ]
    }
   ],
   "source": [
    "!python ../scripts/span_f1.py ../data/me_data/middle_eastern_test.iob2 baseline_preds/me_test_pred.iob2"
   ]
  },
  {
   "cell_type": "markdown",
   "id": "ef290adf",
   "metadata": {},
   "source": [
    "# Statistical significance "
   ]
  },
  {
   "cell_type": "markdown",
   "id": "cc95cd31",
   "metadata": {},
   "source": [
    "## test if it's normally distributed"
   ]
  },
  {
   "cell_type": "code",
   "execution_count": 30,
   "id": "61610179",
   "metadata": {},
   "outputs": [],
   "source": [
    "from scipy.stats import wilcoxon\n",
    "from scipy.stats import shapiro\n",
    "from scipy.stats import normaltest\n",
    "from seqeval.metrics import f1_score\n",
    "import numpy as np"
   ]
  },
  {
   "cell_type": "code",
   "execution_count": 34,
   "id": "38191f81",
   "metadata": {},
   "outputs": [],
   "source": [
    "# sentence-level F1 scores\n",
    "f1_baseline = []\n",
    "f1_me = []\n",
    "\n",
    "# zip ensures we're comparing the same sentences\n",
    "for true_label, pred_baseline_label, pred_me_label in zip(true_labels, pred_labels, me_pred_labels):\n",
    "    f1_b = f1_score([true_label], [pred_baseline_label], zero_division=0)\n",
    "    f1_m = f1_score([true_label], [pred_me_label], zero_division=0)\n",
    "    f1_baseline.append(f1_b)\n",
    "    f1_me.append(f1_m)"
   ]
  },
  {
   "cell_type": "code",
   "execution_count": 36,
   "id": "3e3f05ea",
   "metadata": {},
   "outputs": [
    {
     "name": "stdout",
     "output_type": "stream",
     "text": [
      "Shapiro-Wilk p-value for normality: 1.694830695554986e-39\n"
     ]
    }
   ],
   "source": [
    "diffs = np.array(f1_baseline) - np.array(f1_me)\n",
    "\n",
    "stat, p = shapiro(diffs)\n",
    "print(f\"Shapiro-Wilk p-value for normality: {p}\")"
   ]
  },
  {
   "cell_type": "code",
   "execution_count": 37,
   "id": "73ff6d1c",
   "metadata": {},
   "outputs": [
    {
     "name": "stdout",
     "output_type": "stream",
     "text": [
      "D’Agostino and Pearson test p-value: 8.36553482381241e-36\n"
     ]
    }
   ],
   "source": [
    "stat, p = normaltest(diffs)\n",
    "print(f\"D’Agostino and Pearson test p-value: {p}\")"
   ]
  },
  {
   "cell_type": "markdown",
   "id": "f51d2742",
   "metadata": {},
   "source": [
    "## Wilcoxon signed-rank test:"
   ]
  },
  {
   "cell_type": "code",
   "execution_count": 39,
   "id": "890e524a",
   "metadata": {},
   "outputs": [
    {
     "name": "stdout",
     "output_type": "stream",
     "text": [
      "\n",
      "Statistical Significance Test:\n",
      "Wilcoxon signed-rank test statistic = 458.5000, p-value = 0.0280\n",
      "Mean F1 - Baseline: 0.3115\n",
      "Mean F1 - Middle Eastern: 0.2844\n",
      "Mean Difference: 0.0271\n"
     ]
    }
   ],
   "source": [
    "# Wilcoxon signed-rank test\n",
    "stat, p = wilcoxon(f1_baseline, f1_me)\n",
    "\n",
    "print(\"\\nStatistical Significance Test:\")\n",
    "print(f\"Wilcoxon signed-rank test statistic = {stat:.4f}, p-value = {p:.4f}\")\n",
    "\n",
    "# average F1s and difference\n",
    "print(f\"Mean F1 - Baseline: {np.mean(f1_baseline):.4f}\")\n",
    "print(f\"Mean F1 - Middle Eastern: {np.mean(f1_me):.4f}\")\n",
    "print(f\"Mean Difference: {np.mean(np.array(f1_baseline) - np.array(f1_me)):.4f}\")\n"
   ]
  }
 ],
 "metadata": {
  "kernelspec": {
   "display_name": "NLP",
   "language": "python",
   "name": "python3"
  },
  "language_info": {
   "codemirror_mode": {
    "name": "ipython",
    "version": 3
   },
   "file_extension": ".py",
   "mimetype": "text/x-python",
   "name": "python",
   "nbconvert_exporter": "python",
   "pygments_lexer": "ipython3",
   "version": "3.10.16"
  }
 },
 "nbformat": 4,
 "nbformat_minor": 5
}
