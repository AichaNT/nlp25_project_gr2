{
 "cells": [
  {
   "cell_type": "code",
   "execution_count": null,
   "id": "21dcd583",
   "metadata": {},
   "outputs": [],
   "source": [
    "# imports\n",
    "import sys\n",
    "sys.path.append(\"../\")\n",
    "\n",
    "from scripts.load_data import label_mapping, read_tsv_file, read_iob2_file\n",
    "from scripts.evaluation import extract_true_and_pred_labels\n",
    "from seqeval.metrics import classification_report"
   ]
  },
  {
   "cell_type": "markdown",
   "id": "f5c403a3",
   "metadata": {},
   "source": [
    "## Computing metrics for predictions on non-augmented and augmented test set"
   ]
  },
  {
   "cell_type": "code",
   "execution_count": 16,
   "id": "eee77577",
   "metadata": {},
   "outputs": [],
   "source": [
    "# paths to data\n",
    "path_test = \"../data/no_overlap_da_news/da_news_test.tsv\"\n",
    "path_test_pred = \"baseline_preds/test_pred.iob2\" \n",
    "path_me_test = \"../data/me_data/middle_eastern_test.tsv\"\n",
    "path_me_test_pred = \"baseline_preds/me_test_pred.iob2\" "
   ]
  },
  {
   "cell_type": "code",
   "execution_count": 17,
   "id": "adc8ee80",
   "metadata": {},
   "outputs": [
    {
     "name": "stdout",
     "output_type": "stream",
     "text": [
      "{'B-LOC': 0, 'I-LOC': 1, 'I-PER': 2, 'O': 3, 'I-ORG': 4, 'B-MISC': 5, 'B-ORG': 6, 'I-MISC': 7, 'B-PER': 8}\n",
      "{0: 'B-LOC', 1: 'I-LOC', 2: 'I-PER', 3: 'O', 4: 'I-ORG', 5: 'B-MISC', 6: 'B-ORG', 7: 'I-MISC', 8: 'B-PER'}\n"
     ]
    }
   ],
   "source": [
    "# mapping labels\n",
    "label2id, id2label = label_mapping(path_test)\n",
    "\n",
    "print(label2id)\n",
    "print(id2label)"
   ]
  },
  {
   "cell_type": "code",
   "execution_count": 18,
   "id": "a9e0d3d4",
   "metadata": {},
   "outputs": [],
   "source": [
    "# reading in files\n",
    "test_data = read_tsv_file(path_test, label2id)\n",
    "test_pred = read_iob2_file(path_test_pred, label2id)\n",
    "me_test_data = read_tsv_file(path_me_test, label2id)\n",
    "me_test_pred = read_iob2_file(path_me_test_pred, label2id)"
   ]
  },
  {
   "cell_type": "code",
   "execution_count": null,
   "id": "419ac311",
   "metadata": {},
   "outputs": [],
   "source": [
    "# saving all true and predicted labels\n",
    "true_labels, pred_labels = extract_true_and_pred_labels(test_data, test_pred)\n",
    "me_true_labels, me_pred_labels = extract_true_and_pred_labels(me_test_data, me_test_pred)"
   ]
  },
  {
   "cell_type": "markdown",
   "id": "891697d8",
   "metadata": {},
   "source": [
    "## Non-augmented test set"
   ]
  },
  {
   "cell_type": "code",
   "execution_count": 20,
   "id": "dbf0876b",
   "metadata": {},
   "outputs": [
    {
     "name": "stdout",
     "output_type": "stream",
     "text": [
      "\n",
      "Classification Report:\n",
      "              precision    recall  f1-score   support\n",
      "\n",
      "         LOC       0.77      0.79      0.78        58\n",
      "        MISC       0.70      0.54      0.61        35\n",
      "         ORG       0.74      0.63      0.68        82\n",
      "         PER       0.92      0.92      0.92       118\n",
      "\n",
      "   micro avg       0.82      0.77      0.79       293\n",
      "   macro avg       0.78      0.72      0.75       293\n",
      "weighted avg       0.81      0.77      0.79       293\n",
      "\n"
     ]
    }
   ],
   "source": [
    "# print classification report\n",
    "print(\"\\nClassification Report:\")\n",
    "print(classification_report(true_labels, pred_labels))"
   ]
  },
  {
   "cell_type": "code",
   "execution_count": 21,
   "id": "c296bd1b",
   "metadata": {},
   "outputs": [
    {
     "name": "stdout",
     "output_type": "stream",
     "text": [
      "recall:    0.7705479452054794\n",
      "precision: 0.8302583025830258\n",
      "slot-f1:   0.7992895204262876\n",
      "\n",
      "unlabeled\n",
      "ul_recall:    0.8561643835616438\n",
      "ul_precision: 0.922509225092251\n",
      "ul_slot-f1:   0.8880994671403197\n",
      "\n",
      "loose (partial overlap with same label)\n",
      "l_recall:    0.7842465753424658\n",
      "l_precision: 0.8487084870848709\n",
      "l_slot-f1:   0.8152051942825745\n"
     ]
    }
   ],
   "source": [
    "!python ../scripts/span_f1.py ../data/no_overlap_da_news/da_news_test.iob2 baseline_preds/test_pred.iob2"
   ]
  },
  {
   "cell_type": "markdown",
   "id": "62e17fc1",
   "metadata": {},
   "source": [
    "## Augmented test set"
   ]
  },
  {
   "cell_type": "code",
   "execution_count": 22,
   "id": "0d3b5b19",
   "metadata": {},
   "outputs": [
    {
     "name": "stdout",
     "output_type": "stream",
     "text": [
      "\n",
      "Classification Report:\n",
      "              precision    recall  f1-score   support\n",
      "\n",
      "         LOC       0.75      0.71      0.73        58\n",
      "        MISC       0.45      0.51      0.48        35\n",
      "         ORG       0.79      0.54      0.64        82\n",
      "         PER       0.83      0.90      0.86       118\n",
      "\n",
      "   micro avg       0.75      0.71      0.73       293\n",
      "   macro avg       0.70      0.66      0.68       293\n",
      "weighted avg       0.75      0.71      0.73       293\n",
      "\n"
     ]
    }
   ],
   "source": [
    "# print a classification report\n",
    "print(\"\\nClassification Report:\")\n",
    "print(classification_report(me_true_labels, me_pred_labels))"
   ]
  },
  {
   "cell_type": "code",
   "execution_count": 23,
   "id": "d6bac2c3",
   "metadata": {},
   "outputs": [
    {
     "name": "stdout",
     "output_type": "stream",
     "text": [
      "recall:    0.7123287671232876\n",
      "precision: 0.7482014388489209\n",
      "slot-f1:   0.7298245614035087\n",
      "\n",
      "unlabeled\n",
      "ul_recall:    0.8767123287671232\n",
      "ul_precision: 0.920863309352518\n",
      "ul_slot-f1:   0.8982456140350877\n",
      "\n",
      "loose (partial overlap with same label)\n",
      "l_recall:    0.7328767123287672\n",
      "l_precision: 0.7733812949640287\n",
      "l_slot-f1:   0.7525844019890081\n"
     ]
    }
   ],
   "source": [
    "!python ../scripts/span_f1.py ../data/me_data/middle_eastern_test.iob2 baseline_preds/me_test_pred.iob2"
   ]
  }
 ],
 "metadata": {
  "kernelspec": {
   "display_name": "NLP",
   "language": "python",
   "name": "python3"
  },
  "language_info": {
   "codemirror_mode": {
    "name": "ipython",
    "version": 3
   },
   "file_extension": ".py",
   "mimetype": "text/x-python",
   "name": "python",
   "nbconvert_exporter": "python",
   "pygments_lexer": "ipython3",
   "version": "3.9.21"
  }
 },
 "nbformat": 4,
 "nbformat_minor": 5
}
