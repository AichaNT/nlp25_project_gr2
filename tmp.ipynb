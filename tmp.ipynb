{
 "cells": [
  {
   "cell_type": "code",
   "execution_count": null,
   "id": "1c076f6f",
   "metadata": {},
   "outputs": [],
   "source": [
    "# imports \n",
    "import random\n",
    "import pickle\n",
    "import sys\n",
    "sys.path.append(\"../\")\n",
    "\n",
    "from scripts.load_data import write_tsv_file, extract_labeled_tokens, label_mapping, read_tsv_file, write_iob2_file\n",
    "from scripts.data_augmentation import data_aug_replace\n",
    "from scripts.extract_ME_entities import extract_first_names, get_last_names,  load_location, load_organisation\n",
    "\n",
    "random.seed(42)"
   ]
  },
  {
   "cell_type": "code",
   "execution_count": 87,
   "id": "13d68695",
   "metadata": {},
   "outputs": [],
   "source": [
    "# extract ME entities\n",
    "ME_BPER = extract_first_names(\"data/me_entity_sources/Ordbog_over_muslimske_fornavne_i_DK.pdf\")\n",
    "ME_IPER = get_last_names(\"data/me_entity_sources/middle_eastern_last_names.txt\", \"data/me_entity_sources//KDBGIVE.tsv\")\n",
    "ME_LOC = load_location(\"data/me_entity_sources/the-middle-east-cities.csv\")\n",
    "ME_ORG = load_organisation(\"data/me_entity_sources/middle_eastern_organisations.csv\")"
   ]
  },
  {
   "cell_type": "code",
   "execution_count": 88,
   "id": "c21db81c",
   "metadata": {},
   "outputs": [],
   "source": [
    "# path to the data files\n",
    "path_train = \"data/no_overlap_da_news/da_news_train.tsv\"\n",
    "path_dev = \"data/no_overlap_da_news/da_news_dev.tsv\"\n",
    "path_test = \"data/no_overlap_da_news/da_news_test.tsv\""
   ]
  },
  {
   "cell_type": "code",
   "execution_count": 89,
   "id": "616df3b6",
   "metadata": {},
   "outputs": [],
   "source": [
    "# create mapping\n",
    "label2id, id2label = label_mapping(path_train)"
   ]
  },
  {
   "cell_type": "code",
   "execution_count": 90,
   "id": "1e471e88",
   "metadata": {},
   "outputs": [],
   "source": [
    "# read in the DaN+ data\n",
    "train_data = read_tsv_file(path_train, label2id)\n",
    "dev_data = read_tsv_file(path_dev, label2id)\n",
    "test_data = read_tsv_file(path_test, label2id)"
   ]
  },
  {
   "cell_type": "code",
   "execution_count": 91,
   "id": "879a7fca",
   "metadata": {},
   "outputs": [],
   "source": [
    "# extracting all tokens in train data - to ensure no overlap later\n",
    "train_tokens = extract_labeled_tokens(train_data)"
   ]
  },
  {
   "cell_type": "code",
   "execution_count": 92,
   "id": "0a1d6bba",
   "metadata": {},
   "outputs": [],
   "source": [
    "# for saving all used entities\n",
    "used_entities = set()"
   ]
  },
  {
   "cell_type": "code",
   "execution_count": 93,
   "id": "2ec9dea9",
   "metadata": {},
   "outputs": [],
   "source": [
    "# create augmented datasets\n",
    "ME_dev, used_entities = data_aug_replace(dev_data, sentence_amount=1000,\n",
    "                                         ME_LOC = ME_LOC, ME_ORG = ME_ORG, ME_BPER = ME_BPER, ME_IPER = ME_IPER, \n",
    "                                         used_entities = used_entities, train_tokens=train_tokens)\n",
    "\n",
    "ME_test, used_entities = data_aug_replace(test_data, sentence_amount=1000,\n",
    "                                         ME_LOC = ME_LOC, ME_ORG = ME_ORG, ME_BPER = ME_BPER, ME_IPER = ME_IPER, \n",
    "                                         used_entities = used_entities, train_tokens=train_tokens)"
   ]
  },
  {
   "cell_type": "code",
   "execution_count": 94,
   "id": "46a818de",
   "metadata": {},
   "outputs": [],
   "source": [
    "# save as tsv files\n",
    "write_tsv_file(ME_dev, \"data/me_data/middle_eastern_dev.tsv\")\n",
    "write_tsv_file(ME_test, \"data/me_data/middle_eastern_test.tsv\")\n",
    "\n",
    "# save as iob2 files\n",
    "write_iob2_file(ME_dev, path=\"data/me_data/middle_eastern_dev.iob2\", gold=True)\n",
    "write_iob2_file(ME_test, path=\"data/me_data/middle_eastern_test.iob2\", gold=True)"
   ]
  },
  {
   "cell_type": "code",
   "execution_count": null,
   "id": "116a7f88",
   "metadata": {},
   "outputs": [],
   "source": [
    "with open('hpc_jobs/used_entities.pkl', 'wb') as f:\n",
    "    pickle.dump(used_entities, f)"
   ]
  }
 ],
 "metadata": {
  "kernelspec": {
   "display_name": "NLP",
   "language": "python",
   "name": "python3"
  },
  "language_info": {
   "codemirror_mode": {
    "name": "ipython",
    "version": 3
   },
   "file_extension": ".py",
   "mimetype": "text/x-python",
   "name": "python",
   "nbconvert_exporter": "python",
   "pygments_lexer": "ipython3",
   "version": "3.9.21"
  }
 },
 "nbformat": 4,
 "nbformat_minor": 5
}
