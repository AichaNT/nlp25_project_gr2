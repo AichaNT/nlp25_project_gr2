{
 "cells": [
  {
   "cell_type": "code",
   "execution_count": 3,
   "id": "f11b906f",
   "metadata": {},
   "outputs": [],
   "source": [
    "from scripts.load_data import extract_labeled_tokens, label_mapping, read_tsv_file"
   ]
  },
  {
   "cell_type": "markdown",
   "id": "a228a5ef",
   "metadata": {},
   "source": [
    "### Sizes of the datasets before and after emerging enitities"
   ]
  },
  {
   "cell_type": "code",
   "execution_count": 4,
   "id": "df360af4",
   "metadata": {},
   "outputs": [],
   "source": [
    "# paths to the data\n",
    "path_train_original = \"data/da_news/da_news_train.tsv\"\n",
    "path_dev_original = \"data/da_news/da_news_dev.tsv\"\n",
    "path_test_original = \"data/da_news/da_news_test.tsv\"\n",
    "\n",
    "path_train_emerging = \"data/no_overlap_da_news/da_news_train.tsv\"\n",
    "path_dev_emerging = \"data/no_overlap_da_news/da_news_dev.tsv\"\n",
    "path_test_emerging = \"data/no_overlap_da_news/da_news_test.tsv\""
   ]
  },
  {
   "cell_type": "code",
   "execution_count": 5,
   "id": "f397b5e1",
   "metadata": {},
   "outputs": [],
   "source": [
    "# create mapping\n",
    "label2id, id2label = label_mapping(path_train_original)"
   ]
  },
  {
   "cell_type": "code",
   "execution_count": 6,
   "id": "21ca1660",
   "metadata": {},
   "outputs": [],
   "source": [
    "# read in the datasets\n",
    "train_data_original = read_tsv_file(path_train_original, label2id)\n",
    "dev_data_original = read_tsv_file(path_dev_original, label2id)\n",
    "test_data_original = read_tsv_file(path_test_original, label2id)\n",
    "\n",
    "train_data_emerging = read_tsv_file(path_train_emerging, label2id)\n",
    "dev_data_emerging = read_tsv_file(path_dev_emerging, label2id)\n",
    "test_data_emerging = read_tsv_file(path_test_emerging, label2id)"
   ]
  },
  {
   "cell_type": "code",
   "execution_count": null,
   "id": "d273b482",
   "metadata": {},
   "outputs": [
    {
     "name": "stdout",
     "output_type": "stream",
     "text": [
      "Before emerging entities\n",
      "\tSize of training set: 4383\n",
      "\tSize of dev set: 564\n",
      "\tSize of test set: 565\n",
      "\n",
      "After emerging entities\n",
      "\tSize of training set: 4411\n",
      "\tSize of dev set: 549\n",
      "\tSize of test set: 552\n"
     ]
    }
   ],
   "source": [
    "print(\"Before emerging entities\")\n",
    "print('\\tSize of training set:', len(train_data_original))\n",
    "print('\\tSize of dev set:', len(dev_data_original))\n",
    "print('\\tSize of test set:', len(test_data_original))\n",
    "\n",
    "print(\"\\nAfter emerging entities\")\n",
    "print('\\tSize of training set:', len(train_data_emerging))\n",
    "print('\\tSize of dev set:', len(dev_data_emerging))\n",
    "print('\\tSize of test set:', len(test_data_emerging))"
   ]
  }
 ],
 "metadata": {
  "kernelspec": {
   "display_name": "NLP",
   "language": "python",
   "name": "python3"
  },
  "language_info": {
   "codemirror_mode": {
    "name": "ipython",
    "version": 3
   },
   "file_extension": ".py",
   "mimetype": "text/x-python",
   "name": "python",
   "nbconvert_exporter": "python",
   "pygments_lexer": "ipython3",
   "version": "3.9.21"
  }
 },
 "nbformat": 4,
 "nbformat_minor": 5
}
