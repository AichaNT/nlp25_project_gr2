{
 "cells": [
  {
   "cell_type": "markdown",
   "id": "70c7971d",
   "metadata": {},
   "source": [
    "### Notebook for preprocessing the data"
   ]
  },
  {
   "cell_type": "code",
   "execution_count": 1,
   "id": "e95adf37",
   "metadata": {},
   "outputs": [],
   "source": [
    "# imports\n",
    "import pickle\n",
    "import random\n",
    "random.seed(20)\n",
    "\n",
    "from scripts.load_data import (\n",
    "    label_mapping, extract_labeled_tokens,\n",
    "    read_tsv_file, write_tsv_file,\n",
    "    write_iob2_file  \n",
    ")\n",
    "\n",
    "from scripts.preprocess import fix_overlap\n",
    "\n",
    "from scripts.data_augmentation import data_aug_replace\n",
    "from scripts.extract_ME_entities import extract_first_names, get_last_names,  load_location, load_organisation"
   ]
  },
  {
   "cell_type": "markdown",
   "id": "0ee8e1d7",
   "metadata": {},
   "source": [
    "##### Getting the data (DaN+)"
   ]
  },
  {
   "cell_type": "code",
   "execution_count": 2,
   "id": "ee8b547b",
   "metadata": {},
   "outputs": [],
   "source": [
    "# path to the data files\n",
    "path_train = \"data/da_news/da_news_train.tsv\"\n",
    "path_dev = \"data/da_news/da_news_dev.tsv\"\n",
    "path_test = \"data/da_news/da_news_test.tsv\""
   ]
  },
  {
   "cell_type": "code",
   "execution_count": 3,
   "id": "2f004af9",
   "metadata": {},
   "outputs": [],
   "source": [
    "# create label mapping\n",
    "label2id, id2label = label_mapping(path_train)"
   ]
  },
  {
   "cell_type": "code",
   "execution_count": 4,
   "id": "571ee32f",
   "metadata": {},
   "outputs": [],
   "source": [
    "# read in the DaN+ data\n",
    "train_data = read_tsv_file(path_train, label2id)\n",
    "dev_data = read_tsv_file(path_dev, label2id)\n",
    "test_data = read_tsv_file(path_test, label2id)"
   ]
  },
  {
   "cell_type": "code",
   "execution_count": null,
   "id": "3684c75b",
   "metadata": {},
   "outputs": [],
   "source": [
    "# for later prediction\n",
    "write_iob2_file(test_data, path=\"data/da_news/da_news_test.iob2\", gold=True)"
   ]
  },
  {
   "cell_type": "code",
   "execution_count": 5,
   "id": "0ee2e75b",
   "metadata": {},
   "outputs": [],
   "source": [
    "# extract tokens with non-\"O\" labels from each split\n",
    "train_tokens = extract_labeled_tokens(train_data)\n",
    "dev_tokens = extract_labeled_tokens(dev_data)\n",
    "test_tokens = extract_labeled_tokens(test_data)"
   ]
  },
  {
   "cell_type": "code",
   "execution_count": 6,
   "id": "6b02c503",
   "metadata": {},
   "outputs": [],
   "source": [
    "# fix overlap\n",
    "clean_train_data, clean_dev_data, clean_test_data = fix_overlap(train_data, dev_data, test_data)"
   ]
  },
  {
   "cell_type": "code",
   "execution_count": 7,
   "id": "372ff425",
   "metadata": {},
   "outputs": [],
   "source": [
    "write_tsv_file(clean_train_data, 'data/no_overlap_da_news/da_news_train.tsv')\n",
    "write_tsv_file(clean_dev_data, 'data/no_overlap_da_news/da_news_dev.tsv')\n",
    "write_tsv_file(clean_test_data, 'data/no_overlap_da_news/da_news_test.tsv')"
   ]
  },
  {
   "cell_type": "code",
   "execution_count": 8,
   "id": "0f658952",
   "metadata": {},
   "outputs": [],
   "source": [
    "write_iob2_file(clean_dev_data, path=\"data/no_overlap_da_news/da_news_dev.iob2\", gold=True)\n",
    "write_iob2_file(clean_test_data, path=\"data/no_overlap_da_news/da_news_test.iob2\", gold=True)"
   ]
  },
  {
   "cell_type": "markdown",
   "id": "bc1ad9ec",
   "metadata": {},
   "source": [
    "# Create augmented dev and test set"
   ]
  },
  {
   "cell_type": "code",
   "execution_count": 9,
   "id": "54096b52",
   "metadata": {},
   "outputs": [],
   "source": [
    "# path to the data files\n",
    "path_train = \"data/no_overlap_da_news/da_news_train.tsv\"\n",
    "path_dev = \"data/no_overlap_da_news/da_news_dev.tsv\"\n",
    "path_test = \"data/no_overlap_da_news/da_news_test.tsv\""
   ]
  },
  {
   "cell_type": "code",
   "execution_count": 10,
   "id": "4c04a87c",
   "metadata": {},
   "outputs": [],
   "source": [
    "# create mapping\n",
    "label2id, id2label = label_mapping(path_train)"
   ]
  },
  {
   "cell_type": "code",
   "execution_count": 11,
   "id": "ef1a7b74",
   "metadata": {},
   "outputs": [],
   "source": [
    "# read in the DaN+ data\n",
    "train_data = read_tsv_file(path_train, label2id)\n",
    "dev_data = read_tsv_file(path_dev, label2id)\n",
    "test_data = read_tsv_file(path_test, label2id)"
   ]
  },
  {
   "cell_type": "code",
   "execution_count": 13,
   "id": "1c0630e2",
   "metadata": {},
   "outputs": [],
   "source": [
    "# for saving all used entities\n",
    "used_entities = set()"
   ]
  },
  {
   "cell_type": "code",
   "execution_count": 14,
   "id": "38d46a48",
   "metadata": {},
   "outputs": [],
   "source": [
    "# create augmented datasets\n",
    "ME_dev, used_entities = data_aug_replace(dev_data, sentence_amount=1000,\n",
    "                                         used_entities = used_entities)\n",
    "\n",
    "ME_test, used_entities = data_aug_replace(test_data, sentence_amount=1000,\n",
    "                                         used_entities = used_entities)"
   ]
  },
  {
   "cell_type": "code",
   "execution_count": 15,
   "id": "ec440236",
   "metadata": {},
   "outputs": [],
   "source": [
    "# save as tsv files\n",
    "write_tsv_file(ME_dev, \"data/me_data/middle_eastern_dev.tsv\")\n",
    "write_tsv_file(ME_test, \"data/me_data/middle_eastern_test.tsv\")\n",
    "\n",
    "# save as iob2 files\n",
    "write_iob2_file(ME_dev, path=\"data/me_data/middle_eastern_dev.iob2\", gold=True)\n",
    "write_iob2_file(ME_test, path=\"data/me_data/middle_eastern_test.iob2\", gold=True)"
   ]
  },
  {
   "cell_type": "code",
   "execution_count": 16,
   "id": "db49d12b",
   "metadata": {},
   "outputs": [],
   "source": [
    "# save set of used entities\n",
    "with open('hpc_jobs/used_entities.pkl', 'wb') as f:\n",
    "    pickle.dump(used_entities, f)"
   ]
  }
 ],
 "metadata": {
  "kernelspec": {
   "display_name": "NLP",
   "language": "python",
   "name": "python3"
  },
  "language_info": {
   "codemirror_mode": {
    "name": "ipython",
    "version": 3
   },
   "file_extension": ".py",
   "mimetype": "text/x-python",
   "name": "python",
   "nbconvert_exporter": "python",
   "pygments_lexer": "ipython3",
   "version": "3.9.21"
  }
 },
 "nbformat": 4,
 "nbformat_minor": 5
}
