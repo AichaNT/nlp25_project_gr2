{
 "cells": [
  {
   "cell_type": "code",
   "execution_count": null,
   "id": "3068c444",
   "metadata": {},
   "outputs": [],
   "source": [
    "# imports\n",
    "import sys\n",
    "sys.path.append(\"../\")\n",
    "\n",
    "from scripts.load_data import modified_readNlu, label_mapping, read_tsv_file, extract_labeled_tokens\n",
    "from collections import Counter"
   ]
  },
  {
   "cell_type": "code",
   "execution_count": 15,
   "id": "041067cf",
   "metadata": {},
   "outputs": [],
   "source": [
    "# path to the data files\n",
    "path_train = \"../data/da_news_train.tsv\"\n",
    "path_dev = \"../data/da_news_dev.tsv\"\n",
    "path_test = \"../data/da_news_test.tsv\""
   ]
  },
  {
   "cell_type": "markdown",
   "id": "14a9fa7c",
   "metadata": {},
   "source": [
    "### Label mapping"
   ]
  },
  {
   "cell_type": "code",
   "execution_count": null,
   "id": "52f9661b",
   "metadata": {},
   "outputs": [],
   "source": [
    "data_labels = modified_readNlu(path_train) # reads in label column"
   ]
  },
  {
   "cell_type": "code",
   "execution_count": 17,
   "id": "59588ebc",
   "metadata": {},
   "outputs": [
    {
     "name": "stdout",
     "output_type": "stream",
     "text": [
      "4382\n",
      "['O', 'O', 'O', 'B-ORG', 'O', 'O', 'O', 'O', 'B-ORGpart', 'O', 'O', 'O', 'O', 'O', 'B-PER', 'I-PER', 'O', 'O', 'O', 'O', 'O', 'O', 'O']\n"
     ]
    }
   ],
   "source": [
    "print(len(data_labels)) # number of sentences\n",
    "print(data_labels[0]) # tags in first sentence"
   ]
  },
  {
   "cell_type": "code",
   "execution_count": null,
   "id": "d03927a4",
   "metadata": {},
   "outputs": [
    {
     "name": "stdout",
     "output_type": "stream",
     "text": [
      "{'I-LOC': 0, 'O': 1, 'B-MISC': 2, 'I-MISC': 3, 'B-PER': 4, 'I-ORG': 5, 'B-ORG': 6, 'I-PER': 7, 'B-LOC': 8}\n",
      "{0: 'I-LOC', 1: 'O', 2: 'B-MISC', 3: 'I-MISC', 4: 'B-PER', 5: 'I-ORG', 6: 'B-ORG', 7: 'I-PER', 8: 'B-LOC'}\n"
     ]
    }
   ],
   "source": [
    "label2id, id2label = label_mapping(path_train)\n",
    "print(label2id)\n",
    "print(id2label)"
   ]
  },
  {
   "cell_type": "markdown",
   "id": "eefdeedf",
   "metadata": {},
   "source": [
    "### Reading in data"
   ]
  },
  {
   "cell_type": "code",
   "execution_count": 19,
   "id": "0b918b37",
   "metadata": {},
   "outputs": [],
   "source": [
    "# reading in the data\n",
    "train_data = read_tsv_file(path_train, label2id=label2id)\n",
    "dev_data = read_tsv_file(path_dev, label2id=label2id)\n",
    "test_data = read_tsv_file(path_test, label2id=label2id)"
   ]
  },
  {
   "cell_type": "code",
   "execution_count": 20,
   "id": "4f9ba4d8",
   "metadata": {},
   "outputs": [
    {
     "name": "stdout",
     "output_type": "stream",
     "text": [
      "4383\n",
      "['På', 'fredag', 'har', 'SID', 'inviteret', 'til', 'reception', 'i', 'SID-huset', 'i', 'anledning', 'af', 'at', 'formanden', 'Kjeld', 'Christensen', 'går', 'ind', 'i', 'de', 'glade', 'tressere', '.']\n",
      "['O', 'O', 'O', 'B-ORG', 'O', 'O', 'O', 'O', 'O', 'O', 'O', 'O', 'O', 'O', 'B-PER', 'I-PER', 'O', 'O', 'O', 'O', 'O', 'O', 'O']\n",
      "[1, 1, 1, 6, 1, 1, 1, 1, 1, 1, 1, 1, 1, 1, 4, 7, 1, 1, 1, 1, 1, 1, 1]\n"
     ]
    }
   ],
   "source": [
    "print(len(train_data)) # no. of sentences\n",
    "\n",
    "# first sentence\n",
    "print(train_data[0][\"tokens\"])\n",
    "print(train_data[0][\"ner_tags\"])\n",
    "print(train_data[0][\"tag_ids\"])"
   ]
  },
  {
   "cell_type": "markdown",
   "id": "de154aea",
   "metadata": {},
   "source": [
    "### Looking at unique tags"
   ]
  },
  {
   "cell_type": "code",
   "execution_count": 21,
   "id": "3d3373f3",
   "metadata": {},
   "outputs": [
    {
     "name": "stdout",
     "output_type": "stream",
     "text": [
      "Unique NER Tags: ['B-LOC', 'B-MISC', 'B-ORG', 'B-PER', 'I-LOC', 'I-MISC', 'I-ORG', 'I-PER', 'O']\n"
     ]
    }
   ],
   "source": [
    "# collecting all unique tags\n",
    "all_tags = set()\n",
    "\n",
    "for sent in train_data:\n",
    "    all_tags.update(sent[\"ner_tags\"])\n",
    "\n",
    "print(\"Unique NER Tags:\", sorted(all_tags))"
   ]
  },
  {
   "cell_type": "code",
   "execution_count": 22,
   "id": "777b4b0a",
   "metadata": {},
   "outputs": [],
   "source": [
    "# checking if all sequences are alligned\n",
    "for i, sent in enumerate(train_data):\n",
    "    tokens = sent[\"tokens\"]\n",
    "    tags = sent[\"ner_tags\"]\n",
    "    tag_ids = sent[\"tag_ids\"]\n",
    "    \n",
    "    if not (len(tokens) == len(tags) == len(tag_ids)):\n",
    "        print(f\"Mismatch found in sentence {i}:\")\n",
    "        print(f\"  Tokens ({len(tokens)}): {tokens}\")\n",
    "        print(f\"  Tags   ({len(tags)}): {tags}\")\n",
    "        print(f\"  IDs    ({len(tag_ids)}): {tag_ids}\")"
   ]
  },
  {
   "cell_type": "markdown",
   "id": "b570af8b",
   "metadata": {},
   "source": [
    "### Looking at overlapping entities"
   ]
  },
  {
   "cell_type": "code",
   "execution_count": 23,
   "id": "c79aed40",
   "metadata": {},
   "outputs": [],
   "source": [
    "# extracting all entities from datasets\n",
    "train_entities = extract_labeled_tokens(train_data)\n",
    "dev_entities = extract_labeled_tokens(dev_data)\n",
    "test_entities = extract_labeled_tokens(test_data)"
   ]
  },
  {
   "cell_type": "code",
   "execution_count": 24,
   "id": "903ca414",
   "metadata": {},
   "outputs": [
    {
     "name": "stdout",
     "output_type": "stream",
     "text": [
      "Overlap between train and dev: 256\n",
      "Overlap between train and test: 219\n",
      "Overlap between dev and test: 78\n"
     ]
    }
   ],
   "source": [
    "# identifying overlap\n",
    "overlap_train_dev = train_entities & dev_entities\n",
    "overlap_train_test = train_entities & test_entities\n",
    "overlap_dev_test = dev_entities & test_entities\n",
    "\n",
    "print(f'Overlap between train and dev: {len(overlap_train_dev)}')\n",
    "print(f'Overlap between train and test: {len(overlap_train_test)}')\n",
    "print(f'Overlap between dev and test: {len(overlap_dev_test)}')"
   ]
  },
  {
   "cell_type": "code",
   "execution_count": 25,
   "id": "28f03e47",
   "metadata": {},
   "outputs": [],
   "source": [
    "# extracting entities WITH labels/tags\n",
    "train_entities_labeled = extract_labeled_tokens(train_data, include_label_pair=True)\n",
    "dev_entities_labeled = extract_labeled_tokens(dev_data, include_label_pair=True)\n",
    "test_entities_labeled = extract_labeled_tokens(test_data, include_label_pair=True)\n",
    "\n",
    "overlap_train_dev_labeled = train_entities_labeled & dev_entities_labeled\n",
    "overlap_train_test_labeled = train_entities_labeled & test_entities_labeled\n",
    "overlap_dev_test_labeled = dev_entities_labeled & test_entities_labeled"
   ]
  },
  {
   "cell_type": "code",
   "execution_count": 26,
   "id": "de9fb97e",
   "metadata": {},
   "outputs": [
    {
     "name": "stdout",
     "output_type": "stream",
     "text": [
      "Counter({'B-PER': 79, 'I-PER': 43, 'B-LOC': 42, 'B-ORG': 31, 'I-ORG': 11, 'B-MISC': 10, 'I-MISC': 9, 'I-LOC': 2})\n",
      "Counter({'B-PER': 62, 'B-ORG': 37, 'I-PER': 35, 'B-LOC': 30, 'I-ORG': 16, 'B-MISC': 8, 'I-MISC': 8})\n",
      "Counter({'B-PER': 27, 'I-PER': 16, 'B-ORG': 11, 'B-LOC': 9, 'B-MISC': 4, 'I-ORG': 2})\n"
     ]
    }
   ],
   "source": [
    "# tag distribution in overlap\n",
    "train_dev_tag_counts = Counter(tag for _, tag in overlap_train_dev_labeled)\n",
    "train_test_tag_counts = Counter(tag for _, tag in overlap_train_test_labeled)\n",
    "dev_test_tag_counts = Counter(tag for _, tag in overlap_dev_test_labeled)\n",
    "\n",
    "print(train_dev_tag_counts)\n",
    "print(train_test_tag_counts)\n",
    "print(dev_test_tag_counts)"
   ]
  },
  {
   "cell_type": "code",
   "execution_count": 27,
   "id": "9c9fba39",
   "metadata": {},
   "outputs": [],
   "source": [
    "# function to count number of times overlapping entities appear\n",
    "\n",
    "def count_overlap_entities(data, overlap_data):\n",
    "\n",
    "    counts = Counter()\n",
    "\n",
    "    for example in data:\n",
    "        tokens = example[\"tokens\"]\n",
    "        tags = example[\"ner_tags\"]\n",
    "        for token, tag in zip(tokens, tags):\n",
    "            if (token, tag) in overlap_data:\n",
    "                counts[(token, tag)] += 1\n",
    "\n",
    "    print(counts)\n",
    "    print('Number of sentences with overlapping entities:', sum(counts.values()), 'out of:', len(data))"
   ]
  },
  {
   "cell_type": "code",
   "execution_count": 28,
   "id": "903bc19d",
   "metadata": {},
   "outputs": [
    {
     "name": "stdout",
     "output_type": "stream",
     "text": [
      "Counter({('Danmark', 'B-LOC'): 46, ('København', 'B-LOC'): 39, ('Lars', 'B-PER'): 29, ('Poul', 'B-PER'): 27, ('Nielsen', 'I-PER'): 25, ('Hafnia', 'B-ORG'): 23, ('Europa', 'B-LOC'): 22, ('Peter', 'B-PER'): 19, ('Det', 'B-ORG'): 19, ('Jens', 'B-PER'): 19, ('Den', 'B-ORG'): 18, ('Henrik', 'B-PER'): 18, ('Andersen', 'I-PER'): 17, ('USA', 'B-LOC'): 16, ('Hansen', 'I-PER'): 16, ('B.T.', 'B-ORG'): 15, ('John', 'B-PER'): 15, ('Jan', 'B-PER'): 15, ('Petersen', 'I-PER'): 14, ('Rasmussen', 'I-PER'): 13, ('Christensen', 'I-PER'): 12, ('Jensen', 'I-PER'): 12, ('Bent', 'B-PER'): 12, ('Ole', 'B-PER'): 11, ('SF', 'B-ORG'): 10, ('Jørgensen', 'I-PER'): 10, ('Per', 'B-PER'): 10, ('Lise', 'B-PER'): 10, ('Socialdemokratiet', 'B-ORG'): 9, ('Danmarks', 'B-LOC'): 9, ('Paris', 'B-LOC'): 9, ('Tyskland', 'B-LOC'): 9, ('Danske', 'I-ORG'): 9, ('Søren', 'B-PER'): 9, ('Henning', 'B-PER'): 8, ('Holding', 'I-ORG'): 8, ('Larsen', 'I-PER'): 8, ('Pedersen', 'I-PER'): 8, ('Diana', 'B-PER'): 8, ('Olsen', 'I-PER'): 7, ('Universitet', 'I-ORG'): 7, ('Unibank', 'B-ORG'): 7, ('Finn', 'B-PER'): 6, ('Bank', 'I-ORG'): 6, ('Anne', 'B-PER'): 6, ('Folkeparti', 'I-ORG'): 6, ('Stefan', 'B-PER'): 6, ('Ib', 'B-PER'): 6, ('Mogens', 'B-PER'): 5, ('Berlingske', 'B-ORG'): 5, ('Bosnien', 'B-LOC'): 5, ('Odense', 'B-LOC'): 5, ('Maja', 'B-PER'): 5, ('Kosan', 'B-ORG'): 5, ('Jugoslavien', 'B-LOC'): 5, ('Frederik', 'B-PER'): 5, ('England', 'B-LOC'): 5, ('Danish', 'B-ORG'): 5, ('Tom', 'B-PER'): 5, ('Claus', 'B-PER'): 5, ('Folketinget', 'B-ORG'): 5, ('B.', 'I-PER'): 5, ('Jytte', 'B-PER'): 4, ('Schlüter', 'I-PER'): 4, ('H.L.', 'B-PER'): 4, ('Brian', 'B-PER'): 4, ('Christiansen', 'I-PER'): 4, ('Torben', 'B-PER'): 4, ('Pjuske', 'B-PER'): 4, ('Østeuropa', 'B-LOC'): 3, ('Århus', 'B-ORG'): 3, ('Hilden', 'I-PER'): 3, ('Kim', 'B-PER'): 3, ('KTAS', 'B-ORG'): 3, ('Lundbæk', 'I-PER'): 3, ('Sine', 'B-PER'): 3, ('Diemar', 'I-PER'): 3, ('Ivan', 'B-PER'): 3, ('H.', 'B-PER'): 3, ('Trabzonspor', 'B-ORG'): 3, ('Lone', 'B-PER'): 3, ('Nyrup', 'I-PER'): 3, ('Ungarn', 'B-LOC'): 3, ('Anden', 'B-MISC'): 3, ('Verdenskrig', 'I-MISC'): 3, ('Cambodia', 'B-LOC'): 3, ('Japan', 'B-LOC'): 3, ('Vejle', 'B-LOC'): 3, ('Oustrup', 'I-PER'): 3, ('SAS', 'B-ORG'): 3, ('NATO', 'B-ORG'): 3, ('The', 'I-MISC'): 3, ('Valby', 'B-LOC'): 3, ('Karin', 'B-PER'): 3, ('Svend', 'B-PER'): 3, ('Flemming', 'B-PER'): 3, ('USAs', 'B-LOC'): 3, ('Nakskov', 'B-LOC'): 3, ('Stadion', 'I-LOC'): 3, ('Bente', 'B-PER'): 3, ('Elise', 'B-PER'): 2, ('Storbritannien', 'B-LOC'): 2, ('Tidendes', 'I-ORG'): 2, ('Unibanks', 'B-ORG'): 2, ('Parken', 'B-LOC'): 2, ('Bjarne', 'B-PER'): 2, ('Gotland', 'B-LOC'): 2, ('Allan', 'B-PER'): 2, ('New', 'B-LOC'): 2, ('C.', 'I-PER'): 2, ('Imelda', 'B-PER'): 2, ('Budapest', 'B-LOC'): 2, ('Nanna', 'B-PER'): 2, ('Lene', 'B-PER'): 2, ('Morten', 'B-PER'): 2, ('Nils', 'B-PER'): 2, ('Cole', 'I-PER'): 2, ('Inge', 'B-PER'): 2, ('Dybkjær', 'I-PER'): 2, ('Lotte', 'B-PER'): 2, ('Elstrup', 'I-PER'): 2, ('of', 'I-ORG'): 2, ('Indien', 'B-LOC'): 2, ('Malaysia', 'B-LOC'): 2, ('Clinton', 'B-PER'): 2, ('Susan', 'B-PER'): 2, ('Mai', 'B-PER'): 2, ('ACO', 'B-ORG'): 2, ('Jeltsin', 'B-PER'): 2, ('Kurt', 'B-PER'): 2, ('Odense', 'B-ORG'): 2, ('Ørestaden', 'B-LOC'): 2, ('ODENSE', 'B-LOC'): 2, ('Eddie', 'B-PER'): 2, ('Schlüters', 'I-PER'): 2, (\"FN's\", 'B-ORG'): 2, ('Konservative', 'I-ORG'): 2, ('Christoffersen', 'I-PER'): 2, ('Kitt', 'B-PER'): 2, ('AALBORG', 'B-LOC'): 2, ('Kristiansen', 'I-PER'): 2, ('Winther', 'I-PER'): 2, ('Camre', 'I-PER'): 2, ('vivaldi', 'B-PER'): 2, ('of', 'I-MISC'): 2, ('Jersey', 'B-LOC'): 2, ('Marcos', 'I-PER'): 2, ('Jyderup', 'B-LOC'): 2, ('Gug', 'I-PER'): 1, ('Lykketoft', 'I-PER'): 1, ('Hamburg', 'B-LOC'): 1, ('Spejldans', 'B-MISC'): 1, ('Silius', 'B-PER'): 1, ('Erhard', 'B-PER'): 1, ('Wiese', 'I-PER'): 1, ('Miljøklagenævnet', 'B-ORG'): 1, ('Mellemfolkeligt', 'B-ORG'): 1, ('Knud', 'B-PER'): 1, ('Vilby', 'I-PER'): 1, ('Mucomyst', 'B-MISC'): 1, ('Victor', 'B-PER'): 1, ('Borge', 'I-PER'): 1, ('Nissen', 'I-PER'): 1, ('Anna', 'B-PER'): 1, ('Ebbe', 'I-PER'): 1, ('Prag', 'B-LOC'): 1, ('De', 'B-MISC'): 1, ('Natalie', 'B-PER'): 1, ('Nat', 'B-PER'): 1, ('King', 'I-PER'): 1, ('Mortensen', 'I-PER'): 1, ('Lundbæk', 'B-PER'): 1, ('Danmark', 'B-ORG'): 1, ('J.', 'I-PER'): 1, ('Makedonien', 'B-LOC'): 1, ('Lis', 'B-PER'): 1, ('Harremoës', 'B-PER'): 1, ('Dahlfelt', 'B-PER'): 1, ('Mackensie', 'I-PER'): 1, ('Falck', 'B-ORG'): 1, ('Vladimir', 'B-PER'): 1, ('Pimonov', 'I-PER'): 1, (\"TEBA's\", 'B-ORG'): 1, ('CBC', 'B-MISC'): 1, ('Crescent', 'B-ORG'): 1, ('Halifax', 'B-LOC'): 1, ('Mette', 'B-PER'): 1, ('Roar', 'B-PER'): 1, ('Stewart', 'B-PER'): 1, ('No', 'B-MISC'): 1, ('Fuel', 'I-MISC'): 1, ('Left', 'I-MISC'): 1, ('For', 'I-MISC'): 1, ('Pilgrims', 'I-MISC'): 1, ('Fergie', 'B-PER'): 1, ('Pakistan', 'B-LOC'): 1, ('Dannebrog', 'B-MISC'): 1, ('Nordkalotten', 'B-LOC'): 1, ('Dolly', 'B-PER'): 1, ('Johnny', 'B-PER'): 1, ('Justitsministeriet', 'B-ORG'): 1, ('Land', 'B-MISC'): 1, ('Moving', 'B-MISC'): 1, ('Viborg', 'B-LOC'): 1, ('Paper', 'I-ORG'): 1, ('Packaging', 'I-ORG'): 1, ('Elvis', 'B-PER'): 1, ('York', 'I-LOC'): 1, ('Gerner', 'B-PER'): 1, ('Rudbjerg', 'B-ORG'): 1, ('Christiansborg', 'B-LOC'): 1, ('Faaborg', 'B-LOC'): 1, ('Lyngby', 'B-LOC'): 1, ('Gudme', 'B-ORG'): 1, ('Østergaard', 'I-PER'): 1, ('Paul', 'B-PER'): 1, ('Steffensen', 'I-PER'): 1, ('Monrovia', 'B-LOC'): 1, ('Sankt', 'B-MISC'): 1, ('Markus', 'I-MISC'): 1, ('Nat', 'I-MISC'): 1, ('Peder', 'B-PER'): 1, ('Vestunionen', 'B-ORG'): 1, ('Horsens', 'B-ORG'): 1, ('Association', 'I-ORG'): 1, ('HOPKINS', 'B-PER'): 1, ('Joachim', 'B-PER'): 1})\n",
      "Number of sentences with overlapping entities: 1029 out of: 4383\n"
     ]
    }
   ],
   "source": [
    "count_overlap_entities(train_data, overlap_train_dev_labeled)"
   ]
  },
  {
   "cell_type": "code",
   "execution_count": 29,
   "id": "c60748bc",
   "metadata": {},
   "outputs": [
    {
     "name": "stdout",
     "output_type": "stream",
     "text": [
      "Counter({('Danmark', 'B-LOC'): 46, ('København', 'B-LOC'): 39, ('Lars', 'B-PER'): 29, ('Poul', 'B-PER'): 27, ('Nielsen', 'I-PER'): 25, ('Peter', 'B-PER'): 19, ('Det', 'B-ORG'): 19, ('Jens', 'B-PER'): 19, ('Den', 'B-ORG'): 18, ('Henrik', 'B-PER'): 18, ('USA', 'B-LOC'): 16, ('Hansen', 'I-PER'): 16, ('B.T.', 'B-ORG'): 15, ('John', 'B-PER'): 15, ('Christensen', 'I-PER'): 12, ('Jensen', 'I-PER'): 12, ('Steen', 'B-PER'): 11, ('Jesper', 'B-PER'): 11, ('Ole', 'B-PER'): 11, ('Århus', 'B-LOC'): 11, ('SF', 'B-ORG'): 10, ('Jørgensen', 'I-PER'): 10, ('Per', 'B-PER'): 10, ('Michael', 'B-PER'): 10, ('Erik', 'B-PER'): 10, ('Dansk', 'B-ORG'): 10, ('Socialdemokratiet', 'B-ORG'): 9, ('Danmarks', 'B-LOC'): 9, ('Paris', 'B-LOC'): 9, ('Tyskland', 'B-LOC'): 9, ('Danske', 'I-ORG'): 9, ('Palle', 'B-PER'): 9, ('Henning', 'B-PER'): 8, ('Erik', 'I-PER'): 8, ('Larsen', 'I-PER'): 8, ('Pedersen', 'I-PER'): 8, ('Sverige', 'B-LOC'): 8, ('Olsen', 'I-PER'): 7, ('Hans', 'B-PER'): 7, ('Madsen', 'I-PER'): 7, ('Bosnien-Hercegovina', 'B-LOC'): 7, ('Stiftstidende', 'I-ORG'): 6, ('Frank', 'B-PER'): 6, ('Københavns', 'B-LOC'): 6, ('Østersøen', 'B-LOC'): 6, ('kr.', 'B-MISC'): 6, ('Københavns', 'B-ORG'): 6, ('Bank', 'I-ORG'): 6, ('Anne', 'B-PER'): 6, ('Brøndby', 'B-ORG'): 6, ('Mogens', 'B-PER'): 5, ('Berlingske', 'B-ORG'): 5, ('Odense', 'B-LOC'): 5, ('og', 'I-MISC'): 5, ('Helle', 'B-PER'): 5, ('Kgl.', 'I-ORG'): 5, ('Teater', 'I-ORG'): 5, ('Danmarks', 'B-ORG'): 5, ('Kommune', 'I-ORG'): 5, ('Folketinget', 'B-ORG'): 5, ('Kirsten', 'B-PER'): 5, ('B.', 'I-PER'): 5, ('Schlüter', 'I-PER'): 4, ('Christiania', 'B-LOC'): 4, ('Møller', 'I-PER'): 4, ('London', 'B-LOC'): 4, ('Brian', 'B-PER'): 4, ('Brøndbys', 'B-ORG'): 4, ('Aalborg', 'B-ORG'): 4, ('Christiansen', 'I-PER'): 4, ('Torben', 'B-PER'): 4, ('Polen', 'B-LOC'): 4, ('Gorky', 'B-ORG'): 4, ('Irak', 'B-LOC'): 4, ('Park', 'I-ORG'): 4, ('Ove', 'B-PER'): 4, ('Jørn', 'B-PER'): 4, ('DSBs', 'B-ORG'): 3, ('Århus', 'B-ORG'): 3, ('Kim', 'B-PER'): 3, ('Erling', 'B-PER'): 3, ('Ivan', 'B-PER'): 3, ('H.', 'B-PER'): 3, ('Susanne', 'B-PER'): 3, ('Berlin', 'B-LOC'): 3, ('Tidende', 'I-ORG'): 3, ('Jacobsen', 'I-PER'): 3, ('Svend', 'B-PER'): 3, ('Flemming', 'B-PER'): 3, ('Jyllands-Posten', 'B-ORG'): 2, ('Bjarne', 'B-PER'): 2, ('Karl', 'B-PER'): 2, ('Landsret', 'I-ORG'): 2, ('-', 'I-MISC'): 2, ('Gren', 'I-PER'): 2, ('Fyn', 'B-LOC'): 2, ('EFs', 'B-ORG'): 2, ('Forening', 'I-ORG'): 2, ('Fanø', 'B-LOC'): 2, ('Nanna', 'B-PER'): 2, ('Morten', 'B-PER'): 2, ('Nils', 'B-PER'): 2, ('Depeche', 'B-ORG'): 2, ('Lotte', 'B-PER'): 2, ('Kreiberg', 'I-PER'): 2, ('Accumulator', 'B-ORG'): 2, ('Leif', 'B-PER'): 2, ('Anders', 'B-PER'): 2, ('Odense', 'B-ORG'): 2, ('ODENSE', 'B-LOC'): 2, ('EBRD', 'B-ORG'): 2, ('Verdensbanken', 'B-ORG'): 2, ('Birte', 'B-PER'): 2, ('Bruxelles', 'B-LOC'): 2, ('Køge', 'B-LOC'): 2, ('Annette', 'B-PER'): 2, ('Italiens', 'B-LOC'): 2, ('OB', 'B-ORG'): 2, ('Ninn-Hansens', 'B-PER'): 2, ('Storebælt', 'B-LOC'): 2, ('Lykketoft', 'I-PER'): 1, ('Annemette', 'B-PER'): 1, ('Færøerne', 'B-LOC'): 1, ('BMS', 'B-ORG'): 1, ('Ørsted', 'B-ORG'): 1, ('Wiese', 'I-PER'): 1, ('Villy', 'B-PER'): 1, ('anden', 'B-MISC'): 1, ('verdenskrig', 'I-MISC'): 1, ('Boldklub', 'I-ORG'): 1, ('Barcelona', 'B-LOC'): 1, ('Sejersen', 'I-PER'): 1, ('E.', 'I-PER'): 1, ('opus', 'B-MISC'): 1, ('De', 'B-MISC'): 1, ('Østre', 'B-ORG'): 1, ('Rushdie', 'B-PER'): 1, ('Lee', 'B-PER'): 1, ('The', 'B-ORG'): 1, ('Birgitte', 'I-PER'): 1, ('Lundholt', 'I-PER'): 1, ('Jane', 'B-PER'): 1, ('de', 'B-MISC'): 1, ('fire', 'I-MISC'): 1, ('årstider', 'I-MISC'): 1, ('det', 'B-ORG'): 1, ('Fupz', 'I-PER'): 1, ('Ulla', 'B-PER'): 1, ('kgl.', 'I-ORG'): 1, (',', 'I-MISC'): 1, ('Joe', 'B-PER'): 1, ('Cocker', 'I-PER'): 1, ('Grammy', 'B-MISC'): 1, ('Steffen', 'B-PER'): 1, ('B.T.s', 'B-ORG'): 1, ('Bernard', 'B-PER'): 1, ('Teaters', 'I-ORG'): 1, ('Dannebrog', 'B-MISC'): 1, ('Niels', 'B-ORG'): 1, ('Dolly', 'B-PER'): 1, ('af', 'I-MISC'): 1, ('Simon', 'B-PER'): 1, ('Pforzheim', 'B-LOC'): 1, ('Johnny', 'B-PER'): 1, ('kommune', 'I-ORG'): 1, ('Oluf', 'B-PER'): 1, ('Terp', 'I-PER'): 1, ('Gunnar', 'B-PER'): 1, ('Schlüter', 'B-PER'): 1, ('Radios', 'I-ORG'): 1, ('Mogensen', 'I-PER'): 1, ('Kolding', 'B-ORG'): 1, ('Serbiens', 'B-LOC'): 1, ('Lau', 'I-PER'): 1, ('Elvis', 'B-PER'): 1, ('Black', 'B-MISC'): 1, ('Celebration', 'I-MISC'): 1, ('Peter', 'I-PER'): 1, ('Tuborg', 'B-ORG'): 1, ('Marilyn', 'B-PER'): 1, ('Martin', 'B-PER'): 1, ('Staalby', 'I-PER'): 1, ('Hjorth', 'I-PER'): 1, ('Papin', 'B-PER'): 1, ('Lyngby', 'B-LOC'): 1, ('Paul', 'B-PER'): 1, ('Berg', 'I-PER'): 1, ('Steffensen', 'I-PER'): 1, ('Trangeled', 'I-PER'): 1, ('Lund', 'I-PER'): 1, ('Venstres', 'B-ORG'): 1, ('K', 'B-ORG'): 1, ('DSB', 'B-ORG'): 1, ('Club', 'B-ORG'): 1, ('Øresund', 'B-LOC'): 1, ('mod', 'I-ORG'): 1})\n",
      "Number of sentences with overlapping entities: 919 out of: 4383\n"
     ]
    }
   ],
   "source": [
    "count_overlap_entities(train_data, overlap_train_test_labeled)"
   ]
  },
  {
   "cell_type": "code",
   "execution_count": 30,
   "id": "da0d7618",
   "metadata": {},
   "outputs": [
    {
     "name": "stdout",
     "output_type": "stream",
     "text": [
      "Counter({('Henrik', 'B-PER'): 5, ('Danmark', 'B-LOC'): 5, ('Poul', 'B-PER'): 5, ('Hansen', 'I-PER'): 4, ('Nielsen', 'I-PER'): 4, ('Lars', 'B-PER'): 4, ('USA', 'B-LOC'): 4, ('Andersen', 'I-PER'): 3, ('Søren', 'B-PER'): 3, ('Larsen', 'I-PER'): 3, ('Den', 'B-ORG'): 3, ('Holding', 'I-ORG'): 3, ('Hafnia', 'B-ORG'): 3, ('B.T.', 'B-ORG'): 3, ('Europa', 'B-LOC'): 3, ('H.', 'B-PER'): 2, ('C.', 'I-PER'): 2, ('Rudbjerg', 'B-ORG'): 2, (\"TEBA's\", 'B-ORG'): 2, ('København', 'B-LOC'): 2, ('Peter', 'B-PER'): 2, ('Kosan', 'B-ORG'): 2, ('Østeuropa', 'B-LOC'): 2, ('Bent', 'B-PER'): 2, ('John', 'B-PER'): 2, ('Jensen', 'I-PER'): 2, ('Flemming', 'B-PER'): 2, ('Tom', 'B-PER'): 2, ('Jens', 'B-PER'): 2, ('Paris', 'B-LOC'): 2, ('Prag', 'B-LOC'): 2, ('Bjarne', 'B-PER'): 2, ('Parken', 'B-LOC'): 2, ('Lise', 'B-PER'): 2, ('Paul', 'B-PER'): 2, ('Horsens', 'B-ORG'): 2, ('NATO', 'B-ORG'): 2, ('Clinton', 'B-PER'): 2, ('SF', 'B-ORG'): 2, ('Mucomyst', 'B-MISC'): 2, ('Knud', 'B-PER'): 2, ('Nakskov', 'B-LOC'): 2, ('Cole', 'I-PER'): 2, ('Susan', 'B-PER'): 1, ('Mackensie', 'I-PER'): 1, ('H.L.', 'B-PER'): 1, ('Frederik', 'B-PER'): 1, ('Joachim', 'B-PER'): 1, ('Malaysia', 'B-LOC'): 1, ('Bente', 'B-PER'): 1, ('De', 'B-MISC'): 1, ('Trabzonspor', 'B-ORG'): 1, ('Kim', 'B-PER'): 1, ('Anne', 'B-PER'): 1, ('Stefan', 'B-PER'): 1, ('Unibank', 'B-ORG'): 1, ('Danske', 'I-ORG'): 1, ('Bank', 'I-ORG'): 1, ('Land', 'B-MISC'): 1, ('Nanna', 'B-PER'): 1, ('SAS', 'B-ORG'): 1, ('Spejldans', 'B-MISC'): 1, ('Ivan', 'B-PER'): 1, ('USAs', 'B-LOC'): 1, ('Silius', 'B-PER'): 1, ('Hamburg', 'B-LOC'): 1, ('Per', 'B-PER'): 1, ('Danish', 'B-ORG'): 1, ('Paper', 'I-ORG'): 1, ('Packaging', 'I-ORG'): 1, ('Morten', 'B-PER'): 1, ('Nissen', 'I-PER'): 1, ('Peder', 'B-PER'): 1, ('Mette', 'B-PER'): 1, ('Jytte', 'B-PER'): 1, ('Hilden', 'I-PER'): 1, ('Lone', 'B-PER'): 1, ('Dybkjær', 'I-PER'): 1, ('Nyrup', 'I-PER'): 1, ('Rasmussen', 'I-PER'): 1, ('Mogens', 'B-PER'): 1, ('Lykketoft', 'I-PER'): 1, ('Jan', 'B-PER'): 1, ('Christensen', 'I-PER'): 1, ('Olsen', 'I-PER'): 1, ('HOPKINS', 'B-PER'): 1, ('Viborg', 'B-LOC'): 1, ('Christoffersen', 'I-PER'): 1, ('Elise', 'B-PER'): 1, ('Gug', 'I-PER'): 1, ('Kitt', 'B-PER'): 1, ('Imelda', 'B-PER'): 1, ('Marcos', 'I-PER'): 1, ('Inge', 'B-PER'): 1, ('Sine', 'B-PER'): 1, ('Diemar', 'I-PER'): 1, ('Ebbe', 'I-PER'): 1, ('Mortensen', 'I-PER'): 1, ('Eddie', 'B-PER'): 1, ('New', 'B-LOC'): 1, ('York', 'I-LOC'): 1, ('Vejle', 'B-LOC'): 1, ('Det', 'B-ORG'): 1, ('Konservative', 'I-ORG'): 1, ('Folkeparti', 'I-ORG'): 1, ('Berlingske', 'B-ORG'): 1, ('Tidendes', 'I-ORG'): 1, ('Tyskland', 'B-LOC'): 1, ('Ib', 'B-PER'): 1, ('Oustrup', 'I-PER'): 1, ('Moving', 'B-MISC'): 1, ('Folketinget', 'B-ORG'): 1, ('Østergaard', 'I-PER'): 1, ('Jyderup', 'B-LOC'): 1, ('Christiansen', 'I-PER'): 1, ('Valby', 'B-LOC'): 1, ('Århus', 'B-ORG'): 1, ('Universitet', 'I-ORG'): 1, ('Makedonien', 'B-LOC'): 1, ('Brian', 'B-PER'): 1, ('CBC', 'B-MISC'): 1, ('Lene', 'B-PER'): 1, ('Petersen', 'I-PER'): 1, ('Ungarn', 'B-LOC'): 1, ('Budapest', 'B-LOC'): 1, ('Johnny', 'B-PER'): 1, ('Elstrup', 'I-PER'): 1, (\"FN's\", 'B-ORG'): 1, ('Winther', 'I-PER'): 1, ('Svend', 'B-PER'): 1, ('Monrovia', 'B-LOC'): 1, ('Ørestaden', 'B-LOC'): 1, ('Kurt', 'B-PER'): 1, ('Dahlfelt', 'B-PER'): 1, ('Jugoslavien', 'B-LOC'): 1, ('Gotland', 'B-LOC'): 1, ('Gudme', 'B-ORG'): 1, ('Jersey', 'B-LOC'): 1, ('Anden', 'B-MISC'): 1, ('Verdenskrig', 'I-MISC'): 1, ('B.', 'I-PER'): 1, ('Steffensen', 'I-PER'): 1, ('of', 'I-ORG'): 1, ('Dannebrog', 'B-MISC'): 1, ('Karin', 'B-PER'): 1, ('Lotte', 'B-PER'): 1, ('Roar', 'B-PER'): 1, ('Jeltsin', 'B-PER'): 1, ('Ole', 'B-PER'): 1, ('Fergie', 'B-PER'): 1, ('Diana', 'B-PER'): 1, ('Harremoës', 'B-PER'): 1, ('AALBORG', 'B-LOC'): 1, ('KTAS', 'B-ORG'): 1, ('Lundbæk', 'B-PER'): 1, ('Socialdemokratiet', 'B-ORG'): 1, ('ODENSE', 'B-LOC'): 1, ('Pjuske', 'B-PER'): 1, ('Stewart', 'B-PER'): 1, ('Falck', 'B-ORG'): 1, ('Vestunionen', 'B-ORG'): 1, ('Association', 'I-ORG'): 1, ('Indien', 'B-LOC'): 1, ('Pakistan', 'B-LOC'): 1, ('Storbritannien', 'B-LOC'): 1, ('Christiansborg', 'B-LOC'): 1, ('Allan', 'B-PER'): 1, ('Crescent', 'B-ORG'): 1, ('Erhard', 'B-PER'): 1, ('of', 'I-MISC'): 1, ('Finn', 'B-PER'): 1, ('Nordkalotten', 'B-LOC'): 1, ('Pedersen', 'I-PER'): 1, ('Vladimir', 'B-PER'): 1, ('Pimonov', 'I-PER'): 1, ('Justitsministeriet', 'B-ORG'): 1, ('Faaborg', 'B-LOC'): 1, ('Cambodia', 'B-LOC'): 1, ('Torben', 'B-PER'): 1, ('No', 'B-MISC'): 1, ('Fuel', 'I-MISC'): 1, ('Left', 'I-MISC'): 1, ('For', 'I-MISC'): 1, ('The', 'I-MISC'): 1, ('Pilgrims', 'I-MISC'): 1, ('Lis', 'B-PER'): 1, ('Bosnien', 'B-LOC'): 1, ('Kristiansen', 'I-PER'): 1, ('Schlüters', 'I-PER'): 1, ('Lyngby', 'B-LOC'): 1, ('Stadion', 'I-LOC'): 1, ('Claus', 'B-PER'): 1, ('Odense', 'B-LOC'): 1, ('Anna', 'B-PER'): 1, ('Dolly', 'B-PER'): 1, ('Mellemfolkeligt', 'B-ORG'): 1, ('Vilby', 'I-PER'): 1, ('ACO', 'B-ORG'): 1, ('Danmarks', 'B-LOC'): 1, ('Odense', 'B-ORG'): 1, ('Miljøklagenævnet', 'B-ORG'): 1, ('Wiese', 'I-PER'): 1, ('Lundbæk', 'I-PER'): 1, ('Schlüter', 'I-PER'): 1, ('Gerner', 'B-PER'): 1, ('Jørgensen', 'I-PER'): 1, ('Sankt', 'B-MISC'): 1, ('Markus', 'I-MISC'): 1, ('Nat', 'I-MISC'): 1, ('Henning', 'B-PER'): 1, ('Camre', 'I-PER'): 1, ('England', 'B-LOC'): 1, ('Japan', 'B-LOC'): 1, ('Nat', 'B-PER'): 1, ('King', 'I-PER'): 1, ('Natalie', 'B-PER'): 1, ('Danmark', 'B-ORG'): 1, ('Nils', 'B-PER'): 1, ('Unibanks', 'B-ORG'): 1, ('Elvis', 'B-PER'): 1, ('Victor', 'B-PER'): 1, ('Borge', 'I-PER'): 1, ('Mai', 'B-PER'): 1, ('vivaldi', 'B-PER'): 1, ('Maja', 'B-PER'): 1, ('Halifax', 'B-LOC'): 1, ('J.', 'I-PER'): 1})\n",
      "Number of sentences with overlapping entities: 295 out of: 564\n"
     ]
    }
   ],
   "source": [
    "count_overlap_entities(dev_data, overlap_train_dev_labeled)"
   ]
  },
  {
   "cell_type": "code",
   "execution_count": 31,
   "id": "0c58c72a",
   "metadata": {},
   "outputs": [
    {
     "name": "stdout",
     "output_type": "stream",
     "text": [
      "Counter({('Henrik', 'B-PER'): 5, ('Danmark', 'B-LOC'): 5, ('Poul', 'B-PER'): 5, ('Hansen', 'I-PER'): 4, ('Nielsen', 'I-PER'): 4, ('Lars', 'B-PER'): 4, ('USA', 'B-LOC'): 4, ('Larsen', 'I-PER'): 3, ('Den', 'B-ORG'): 3, ('B.T.', 'B-ORG'): 3, ('H.', 'B-PER'): 2, ('København', 'B-LOC'): 2, ('Peter', 'B-PER'): 2, ('John', 'B-PER'): 2, ('Jensen', 'I-PER'): 2, ('Flemming', 'B-PER'): 2, ('Jens', 'B-PER'): 2, ('Paris', 'B-LOC'): 2, ('Bjarne', 'B-PER'): 2, ('Paul', 'B-PER'): 2, ('SF', 'B-ORG'): 2, ('Divisionsforeningen', 'B-ORG'): 2, ('De', 'B-MISC'): 1, ('Kim', 'B-PER'): 1, ('Anne', 'B-PER'): 1, ('Linnet', 'I-PER'): 1, ('Danske', 'I-ORG'): 1, ('Bank', 'I-ORG'): 1, ('Nanna', 'B-PER'): 1, ('Ivan', 'B-PER'): 1, ('Per', 'B-PER'): 1, ('Morten', 'B-PER'): 1, ('Mogens', 'B-PER'): 1, ('Lykketoft', 'I-PER'): 1, ('Christensen', 'I-PER'): 1, ('Olsen', 'I-PER'): 1, ('Det', 'B-ORG'): 1, ('Berlingske', 'B-ORG'): 1, ('Tyskland', 'B-LOC'): 1, ('Folketinget', 'B-ORG'): 1, ('Christiansen', 'I-PER'): 1, ('Århus', 'B-ORG'): 1, ('Brian', 'B-PER'): 1, ('Johnny', 'B-PER'): 1, ('Svend', 'B-PER'): 1, ('B.', 'I-PER'): 1, ('Steffensen', 'I-PER'): 1, ('Dannebrog', 'B-MISC'): 1, ('Lotte', 'B-PER'): 1, ('Ole', 'B-PER'): 1, ('Socialdemokratiet', 'B-ORG'): 1, ('ODENSE', 'B-LOC'): 1, ('The', 'B-MISC'): 1, ('Pedersen', 'I-PER'): 1, ('Torben', 'B-PER'): 1, ('Camel', 'B-ORG'): 1, ('Lyngby', 'B-LOC'): 1, ('Odense', 'B-LOC'): 1, ('Dolly', 'B-PER'): 1, ('Danmarks', 'B-LOC'): 1, ('Odense', 'B-ORG'): 1, ('dollar', 'B-MISC'): 1, ('Wiese', 'I-PER'): 1, ('Schlüter', 'I-PER'): 1, ('Jørgensen', 'I-PER'): 1, ('Henning', 'B-PER'): 1, ('Nils', 'B-PER'): 1, ('Lofgren', 'I-PER'): 1, ('Elvis', 'B-PER'): 1})\n",
      "Number of sentences with overlapping entities: 111 out of: 564\n"
     ]
    }
   ],
   "source": [
    "count_overlap_entities(dev_data, overlap_dev_test_labeled)"
   ]
  },
  {
   "cell_type": "code",
   "execution_count": 32,
   "id": "f49be7bd",
   "metadata": {},
   "outputs": [
    {
     "name": "stdout",
     "output_type": "stream",
     "text": [
      "Counter({('Danmark', 'B-LOC'): 8, ('Peter', 'B-PER'): 7, ('Nielsen', 'I-PER'): 7, ('Kim', 'B-PER'): 6, ('Bjarne', 'B-PER'): 5, ('Henning', 'B-PER'): 5, ('USA', 'B-LOC'): 4, ('John', 'B-PER'): 4, ('Brian', 'B-PER'): 4, ('Hans', 'B-PER'): 3, ('Socialdemokratiet', 'B-ORG'): 3, ('Anders', 'B-PER'): 3, ('Jensen', 'I-PER'): 3, ('Ove', 'B-PER'): 3, ('Det', 'B-ORG'): 3, ('kommune', 'I-ORG'): 3, ('Jens', 'B-PER'): 3, ('København', 'B-LOC'): 3, ('Birte', 'B-PER'): 2, ('Danmarks', 'B-ORG'): 2, ('Mogens', 'B-PER'): 2, ('Pedersen', 'I-PER'): 2, ('B.T.', 'B-ORG'): 2, ('Københavns', 'B-ORG'): 2, ('Brøndbys', 'B-ORG'): 2, ('Steen', 'B-PER'): 2, ('Palle', 'B-PER'): 2, ('Jane', 'B-PER'): 2, ('Madsen', 'I-PER'): 2, ('Paris', 'B-LOC'): 2, ('London', 'B-LOC'): 2, ('Marilyn', 'B-PER'): 2, ('Teaters', 'I-ORG'): 2, ('Kgl.', 'I-ORG'): 2, ('Anne', 'B-PER'): 2, ('Leif', 'B-PER'): 2, ('Odense', 'B-ORG'): 2, ('Schlüter', 'B-PER'): 2, ('Jesper', 'B-PER'): 2, ('DSB', 'B-ORG'): 2, ('Århus', 'B-LOC'): 2, ('Erik', 'B-PER'): 2, ('ODENSE', 'B-LOC'): 2, ('Henrik', 'B-PER'): 2, ('Kirsten', 'B-PER'): 2, ('Jacobsen', 'I-PER'): 2, ('Svend', 'B-PER'): 2, ('Erik', 'I-PER'): 2, ('Storebælt', 'B-LOC'): 2, ('Serbiens', 'B-LOC'): 2, ('Gunnar', 'B-PER'): 2, ('og', 'I-MISC'): 2, ('Folketinget', 'B-ORG'): 1, ('Tyskland', 'B-LOC'): 1, ('Steffen', 'B-PER'): 1, ('Wiese', 'I-PER'): 1, ('det', 'B-ORG'): 1, ('Dansk', 'B-ORG'): 1, ('E.', 'I-PER'): 1, ('Christensen', 'I-PER'): 1, ('Brøndby', 'B-ORG'): 1, ('Irak', 'B-LOC'): 1, ('Bernard', 'B-PER'): 1, ('Kommune', 'I-ORG'): 1, ('Lyngby', 'B-LOC'): 1, ('Hansen', 'I-PER'): 1, ('Villy', 'B-PER'): 1, ('Frank', 'B-PER'): 1, ('B.', 'I-PER'): 1, ('Københavns', 'B-LOC'): 1, ('Polen', 'B-LOC'): 1, ('Grammy', 'B-MISC'): 1, ('Johnny', 'B-PER'): 1, ('The', 'B-ORG'): 1, ('Lee', 'B-PER'): 1, ('kgl.', 'I-ORG'): 1, ('Jørgensen', 'I-PER'): 1, ('Ulla', 'B-PER'): 1, ('Kolding', 'B-ORG'): 1, ('Østre', 'B-ORG'): 1, ('Landsret', 'I-ORG'): 1, ('Fyn', 'B-LOC'): 1, ('Odense', 'B-LOC'): 1, ('Lykketoft', 'I-PER'): 1, ('Tuborg', 'B-ORG'): 1, ('Birgitte', 'I-PER'): 1, ('Lundholt', 'I-PER'): 1, ('Per', 'B-PER'): 1, ('De', 'B-MISC'): 1, (',', 'I-MISC'): 1, ('Ole', 'B-PER'): 1, ('DSBs', 'B-ORG'): 1, ('Ivan', 'B-PER'): 1, ('K', 'B-ORG'): 1, ('Venstres', 'B-ORG'): 1, ('Fanø', 'B-LOC'): 1, ('Bruxelles', 'B-LOC'): 1, ('Danmarks', 'B-LOC'): 1, ('EFs', 'B-ORG'): 1, ('B.T.s', 'B-ORG'): 1, ('Peter', 'I-PER'): 1, ('mod', 'I-ORG'): 1, ('Boldklub', 'I-ORG'): 1, ('Simon', 'B-PER'): 1, ('-', 'I-MISC'): 1, ('Torben', 'B-PER'): 1, ('Lund', 'I-PER'): 1, ('Annette', 'B-PER'): 1, ('Gren', 'I-PER'): 1, ('Larsen', 'I-PER'): 1, ('Nanna', 'B-PER'): 1, ('Susanne', 'B-PER'): 1, ('Italiens', 'B-LOC'): 1, ('Verdensbanken', 'B-ORG'): 1, ('EBRD', 'B-ORG'): 1, ('Staalby', 'I-PER'): 1, ('Trangeled', 'I-PER'): 1, ('Niels', 'B-ORG'): 1, ('Papin', 'B-PER'): 1, ('de', 'B-MISC'): 1, ('fire', 'I-MISC'): 1, ('årstider', 'I-MISC'): 1, ('opus', 'B-MISC'): 1, ('Sverige', 'B-LOC'): 1, ('Rushdie', 'B-PER'): 1, ('Olsen', 'I-PER'): 1, ('Morten', 'B-PER'): 1, ('Lotte', 'B-PER'): 1, ('Bosnien-Hercegovina', 'B-LOC'): 1, ('Oluf', 'B-PER'): 1, ('Terp', 'I-PER'): 1, ('Kreiberg', 'I-PER'): 1, ('Gorky', 'B-ORG'): 1, ('Park', 'I-ORG'): 1, ('Karl', 'B-PER'): 1, ('Færøerne', 'B-LOC'): 1, ('Hjorth', 'I-PER'): 1, ('Aalborg', 'B-ORG'): 1, ('Erling', 'B-PER'): 1, ('Pforzheim', 'B-LOC'): 1, ('Radios', 'I-ORG'): 1, ('Jyllands-Posten', 'B-ORG'): 1, ('Berlingske', 'B-ORG'): 1, ('Tidende', 'I-ORG'): 1, ('Århus', 'B-ORG'): 1, ('Stiftstidende', 'I-ORG'): 1, ('Christiania', 'B-LOC'): 1, ('Den', 'B-ORG'): 1, ('Danske', 'I-ORG'): 1, ('Forening', 'I-ORG'): 1, ('Sejersen', 'I-PER'): 1, ('Flemming', 'B-PER'): 1, ('Bank', 'I-ORG'): 1, ('Michael', 'B-PER'): 1, ('Christiansen', 'I-PER'): 1, ('Nils', 'B-PER'): 1, ('Poul', 'B-PER'): 1, ('Schlüter', 'I-PER'): 1, ('Dolly', 'B-PER'): 1, ('Depeche', 'B-ORG'): 1, ('Martin', 'B-PER'): 1, ('Club', 'B-ORG'): 1, ('Black', 'B-MISC'): 1, ('Celebration', 'I-MISC'): 1, ('Lars', 'B-PER'): 1, ('Teater', 'I-ORG'): 1, ('Barcelona', 'B-LOC'): 1, ('Lau', 'I-PER'): 1, ('H.', 'B-PER'): 1, ('Jørn', 'B-PER'): 1, ('Fupz', 'I-PER'): 1, ('Elvis', 'B-PER'): 1, ('Helle', 'B-PER'): 1, ('Køge', 'B-LOC'): 1, ('SF', 'B-ORG'): 1, ('Annemette', 'B-PER'): 1, ('Møller', 'I-PER'): 1, ('anden', 'B-MISC'): 1, ('verdenskrig', 'I-MISC'): 1, ('BMS', 'B-ORG'): 1, ('Ørsted', 'B-ORG'): 1, ('OB', 'B-ORG'): 1, ('Berlin', 'B-LOC'): 1, ('Paul', 'B-PER'): 1, ('Berg', 'I-PER'): 1, ('Steffensen', 'I-PER'): 1, ('Dannebrog', 'B-MISC'): 1, ('af', 'I-MISC'): 1, ('Øresund', 'B-LOC'): 1, ('Østersøen', 'B-LOC'): 1, ('kr.', 'B-MISC'): 1, ('Accumulator', 'B-ORG'): 1, ('Mogensen', 'I-PER'): 1, ('Joe', 'B-PER'): 1, ('Cocker', 'I-PER'): 1, ('Ninn-Hansens', 'B-PER'): 1})\n",
      "Number of sentences with overlapping entities: 289 out of: 565\n"
     ]
    }
   ],
   "source": [
    "count_overlap_entities(test_data, overlap_train_test_labeled)"
   ]
  },
  {
   "cell_type": "code",
   "execution_count": 33,
   "id": "f5afe078",
   "metadata": {},
   "outputs": [
    {
     "name": "stdout",
     "output_type": "stream",
     "text": [
      "Counter({('Danmark', 'B-LOC'): 8, ('Peter', 'B-PER'): 7, ('Nielsen', 'I-PER'): 7, ('Kim', 'B-PER'): 6, ('Bjarne', 'B-PER'): 5, ('Henning', 'B-PER'): 5, ('USA', 'B-LOC'): 4, ('John', 'B-PER'): 4, ('Brian', 'B-PER'): 4, ('Socialdemokratiet', 'B-ORG'): 3, ('Jensen', 'I-PER'): 3, ('Det', 'B-ORG'): 3, ('Jens', 'B-PER'): 3, ('København', 'B-LOC'): 3, ('Mogens', 'B-PER'): 2, ('Pedersen', 'I-PER'): 2, ('B.T.', 'B-ORG'): 2, ('Divisionsforeningen', 'B-ORG'): 2, ('Paris', 'B-LOC'): 2, ('The', 'B-MISC'): 2, ('Anne', 'B-PER'): 2, ('Odense', 'B-ORG'): 2, ('ODENSE', 'B-LOC'): 2, ('Henrik', 'B-PER'): 2, ('Svend', 'B-PER'): 2, ('dollar', 'B-MISC'): 2, ('Folketinget', 'B-ORG'): 1, ('Tyskland', 'B-LOC'): 1, ('Wiese', 'I-PER'): 1, ('Christensen', 'I-PER'): 1, ('Lyngby', 'B-LOC'): 1, ('Hansen', 'I-PER'): 1, ('B.', 'I-PER'): 1, ('Johnny', 'B-PER'): 1, ('Jørgensen', 'I-PER'): 1, ('Linnet', 'I-PER'): 1, ('Odense', 'B-LOC'): 1, ('Lykketoft', 'I-PER'): 1, ('Per', 'B-PER'): 1, ('De', 'B-MISC'): 1, ('Ole', 'B-PER'): 1, ('Ivan', 'B-PER'): 1, ('Danmarks', 'B-LOC'): 1, ('Torben', 'B-PER'): 1, ('Larsen', 'I-PER'): 1, ('Nanna', 'B-PER'): 1, ('Olsen', 'I-PER'): 1, ('Morten', 'B-PER'): 1, ('Lotte', 'B-PER'): 1, ('Camel', 'B-ORG'): 1, ('Berlingske', 'B-ORG'): 1, ('Århus', 'B-ORG'): 1, ('Den', 'B-ORG'): 1, ('Danske', 'I-ORG'): 1, ('Flemming', 'B-PER'): 1, ('Bank', 'I-ORG'): 1, ('Christiansen', 'I-PER'): 1, ('Nils', 'B-PER'): 1, ('Lofgren', 'I-PER'): 1, ('Poul', 'B-PER'): 1, ('Schlüter', 'I-PER'): 1, ('Dolly', 'B-PER'): 1, ('Lars', 'B-PER'): 1, ('H.', 'B-PER'): 1, ('Elvis', 'B-PER'): 1, ('SF', 'B-ORG'): 1, ('Paul', 'B-PER'): 1, ('Steffensen', 'I-PER'): 1, ('Dannebrog', 'B-MISC'): 1})\n",
      "Number of sentences with overlapping entities: 132 out of: 565\n"
     ]
    }
   ],
   "source": [
    "count_overlap_entities(test_data, overlap_dev_test_labeled)"
   ]
  }
 ],
 "metadata": {
  "kernelspec": {
   "display_name": "NLP",
   "language": "python",
   "name": "python3"
  },
  "language_info": {
   "codemirror_mode": {
    "name": "ipython",
    "version": 3
   },
   "file_extension": ".py",
   "mimetype": "text/x-python",
   "name": "python",
   "nbconvert_exporter": "python",
   "pygments_lexer": "ipython3",
   "version": "3.9.21"
  }
 },
 "nbformat": 4,
 "nbformat_minor": 5
}
