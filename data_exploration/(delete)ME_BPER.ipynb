{
 "cells": [
  {
   "cell_type": "code",
   "execution_count": 2,
   "metadata": {},
   "outputs": [
    {
     "name": "stdout",
     "output_type": "stream",
     "text": [
      "Collecting PyMuPDF\n",
      "  Obtaining dependency information for PyMuPDF from https://files.pythonhosted.org/packages/85/5f/153d6c338291448e182648844849d13938a62a82a3e4a9b0907d9b381148/pymupdf-1.25.5-cp39-abi3-macosx_10_9_x86_64.whl.metadata\n",
      "  Downloading pymupdf-1.25.5-cp39-abi3-macosx_10_9_x86_64.whl.metadata (3.4 kB)\n",
      "Downloading pymupdf-1.25.5-cp39-abi3-macosx_10_9_x86_64.whl (19.4 MB)\n",
      "\u001b[2K   \u001b[90m━━━━━━━━━━━━━━━━━━━━━━━━━━━━━━━━━━━━━━━━\u001b[0m \u001b[32m19.4/19.4 MB\u001b[0m \u001b[31m3.6 MB/s\u001b[0m eta \u001b[36m0:00:00\u001b[0m00:01\u001b[0m00:01\u001b[0m\n",
      "\u001b[?25hInstalling collected packages: PyMuPDF\n",
      "Successfully installed PyMuPDF-1.25.5\n"
     ]
    }
   ],
   "source": [
    "#!pip install PyMuPDF\n"
   ]
  },
  {
   "cell_type": "code",
   "execution_count": 24,
   "metadata": {},
   "outputs": [
    {
     "name": "stdout",
     "output_type": "stream",
     "text": [
      "['Ordbog over muslimske fornavne i Danmark', 'Aalim*', 'Aamer*', 'Aamir*', 'Abbas', 'Abd', '+', 'Abdalla', 'Abdallah', 'Abdel', '+', 'Abdelkrim*', 'Abdi', 'Abdilahi*', 'Abdimalik*', 'Abdiqani*', 'Abdirahman', '+', 'Abdirashid*', 'Abdo*', 'Abdou*', 'Abdul', 'Abdulahi', 'Abdulaziz', 'Abdulhakim*', 'Abdulhamid*', 'Abdulkadir', 'Abdulkarim', 'Abdullah', 'Abdullahi', 'Abdulqadir', '+', 'Abdulrahman', 'Abed', 'Abid', 'Abidin*', 'Abrar*', 'Abu', 'Abubakar*', 'Adam', 'Adeel', 'Adel', 'Adham', 'Adib*', 'Adil', 'Adnan', 'Afif*', 'Aftab', 'Afzal*', 'Agha*', 'Ahmad', '+', 'Ahmed', 'Ahmet', '+', 'Ahsan', 'Aiman', 'Ajmal', 'Akbar', 'Akhtar*', 'Akif', 'Akil*', 'Akram', 'Ala*', 'Alaa', 'Aladdin', 'Ali', 'Alim*', 'Altaf*', 'Aly*', 'Aman*', 'Amanullah*', 'Amar', 'Ameer*', 'Amin', 'Amir', 'Amjad', 'Ammar', 'Amr*', 'Amro*', 'Anas', '+', 'Anees*', 'Anis', 'Ansar*', 'Anwar', 'Aqil*', 'Aref*', 'Arif', 'Arkan*', 'Arshad', 'Arslan*', 'Asaad*', 'Asad', 'Asadullah*', 'Asaf*', 'Asem*', 'Asghar', 'Ashfaq*', 'Ashraf', 'Asim', 'Asir*', 'Aslan', 'Ata*', 'Atef', 'Atif', 'Awad*', 'Ayman', 'Ayoub', 'Ayub', 'Ayuub', 'Azad', 'Azam*', 'Azhar', 'Azim*', 'Aziz', 'Azmi*', 'B', 'Babar*', 'Bader', 'Badr*', 'Baha*', 'Bahaa*', 'Bahram', 'Baker*', 'Baki', 'Basel*', 'Basem*', 'Bashar', 'Bashir', '-', 'Basil', '+', 'Basim*', 'Basir*', 'Bassam', 'Bassem', 'Belal', 'Ben', 'Benyamin', 'Bilal', 'Billal*', 'Bin', 'Brahim', 'Burhan', 'Bünyamin', 'C', 'Cemal', '+', 'D', 'Dahir', 'Damir', 'Dana', 'Dani', 'Daoud*', 'Dara*', 'Daud', 'Dawood', 'E', 'Ebrahim', 'Ebrima*', 'Ehab*', 'Ehsan', 'Ejaz*', 'Elias', 'Emad', 'Emir', 'Emran*', 'Esa*', 'F', 'Fadel', 'Fadi', 'Fadil', 'Fadl*', 'Fahad', 'Fahd*', 'Fahim*', 'Fahmi*', 'Faik', 'Faisal', 'Faiz*', 'Falah*', 'Farah', 'Faraj*', 'Fares', '+', 'Farhad', 'Farhan', 'Farhat*', 'Farid', 'Faris', 'Farouk*', 'Farrukh*', 'Faruk', 'Fateh*', 'Fathi', 'Fatih', 'Fawaz*', 'Fawzi*', 'Fayez', 'Faysal', 'Fazil*', 'Fazli*', 'Feras', 'Ferhat', 'Fethi*', 'Fikri*', 'Firas', 'Fouad', 'Fuad', 'Furkan', '+', 'G', 'Gamal*', 'Gani', 'Ghaleb*', 'Ghanem*', 'Ghassan', 'Ghazanfar*', 'Ghazi', 'Ghulam', 'Gulzar*', 'H', 'Habib', 'Habibullah*', 'Hadi', 'Hafiz*', 'Haidar', 'Haider', 'Haim*', 'Haji*', 'Hakim', 'Halim', 'Hamad', 'Hamdi', 'Hamed', 'Hamid', 'Hammad*', 'Hamsa', 'Hamza', 'Hamzah', 'Hamze*', 'Hanad*', 'Hani', 'Haris', 'Harun', 'Hasan', 'Hashem', 'Hashim', 'Hasib', 'Hasim*', 'Hassan', 'Hatem*', 'Haydar', 'Haytham*', 'Hazem', 'Hazim', 'Hekmat*', 'Hesham*', 'Hicham', 'Hilal*', 'Hilmi', 'Hisham', 'Hossein', 'Husam', 'Husein', 'Husni*', 'Hussain', 'Hussam', 'Hussein', 'Hüseyin', 'I', 'Ibrahim', 'Idris', 'Idriz', 'Ihab', 'Ihsan', 'Ijaz*', 'Ilias', 'Ilyas', 'Imad', 'Imran', 'Iqbal*', 'Irfan', 'Isa', 'Isam', 'Ishaq*', 'Islam', 'Ismael', 'Ismail', 'Issa', 'Issam', 'Iyad*', 'J', 'Jaafar', 'Jabbar*', 'Jaber*', 'Jafar', 'Jalal', 'Jalil', 'Jamal', 'Jamil', 'Jamshed*', 'Jamshid', 'Jan', 'Jasem*', 'Jasim', 'Jasin*', 'Javed', 'Javid', 'Jawad', 'Jehad*', 'Jibril*', 'Jihad', 'Jul*', 'Junaid', 'Junes', 'K', 'Kadir', 'Kaled*', 'Kalid*', 'Kamal', 'Kamel', 'Kamil', 'Kamran', 'Karam', 'Karim', '+', 'Kashif', 'Kasim', 'Kassem', 'Kassim*', 'Kazem', 'Kazim', 'Kemal', 'Kerem', 'Kerim', 'Khadim*', 'Khaled', 'Khalid', 'Khalil', 'Khamis*', 'Khan', 'Khurram', 'L', 'Liban', 'Lotfi*', 'Luay*', 'Luqman*', 'Lutfi*', 'M', 'Mahad', 'Mahamed', 'Mahdi', 'Maher', 'Mahir', 'Mahmood.', 'Mahmoud', 'Mahmud', 'Majed', 'Majid', 'Malek', 'Malik', 'Mansoor', 'Mansour', 'Marwan', 'Masih*', 'Masoud', 'Matin', 'Mazen', 'Mazhar', 'Mehdi', 'Mehmed', 'Mehmet', 'Melih', 'Mervan', 'Metin', 'Midhat*', 'Mikail', 'Milad', 'Mir', 'Miran', 'Mirza', 'Mohamad', 'Mohamed', '-', 'Mohammad', 'Mohammed', 'Mohannad*', 'Mohsen', 'Mohsin*', 'Mokhtar', 'Monir*', 'Morad', 'Mostafa', 'Mostapha', 'Mounir', 'Mourad', 'Moussa', 'Mubarak*', 'Muhamad', 'Muhamed', 'Muhammad', 'Muhammed', 'Muhannad*', 'Muhsin', 'Mukhtar', 'Mulla*', 'Mumin*', 'Mumtaz*', 'Munawar*', 'Munib*', 'Munir', 'Murad', 'Murtadha*', 'Murtaza', 'Musa', 'Mushtaq', 'Muslim*', 'Mustafa', 'Mustapha', '-', 'N', 'Nabi*', 'Nabih*', 'Nabil', 'Nader', 'Nadim', 'Nadir', 'Nafi*', 'Nail', 'Naim', 'Naji*', 'Najib', 'Namir*', 'Naser*', 'Nashwan*', 'Nasim', 'Nasir', 'Nasser', 'Nassim', 'Naveed', 'Navid', 'Nawaf*', 'Nayef’', 'Nazif', 'Nazih’', 'Nazim', 'Nazir', 'Nazmi', 'Nidal', 'Nihad', 'Nima', 'Nizar', 'Noman*', 'Noor', 'Nuh*', 'Numan*', 'Nur*', 'Nuri', 'Nurullah*', 'O', 'Omar', 'Omer', 'Osama', 'Osman', 'Othman', 'Ousama*', 'Q', 'Qais*', 'Qaisar*', 'Qamar*', 'Qasim', 'R', 'Raad', 'Rabah*', 'Rabih', 'Rachid', 'Radwan*', 'Raed', 'Rafat*', 'Rafi*', 'Rafik*', 'Ragib*', 'Rahim', 'Rahman', 'Raid*', 'Raif*', 'Raja*', 'Rajab*', 'Ramadan', 'Ramazan', 'Rami', 'Ramin', 'Ramiz', 'Ramzi', 'Rani', 'Raouf*', 'Rauf*', 'Rashad*', 'Rashed*', 'Rashid', 'Rasim', 'Rasul*', 'Rayan*', 'Raza*', 'Recep', 'Reda*', 'Redha', 'Reza', 'Riad', 'Riaz*', 'Rida*', 'Ridha', 'Ridwan*', 'Rifat', 'Riyad*', 'Rizwan', 'Ruhi*', 'S', 'Saad', 'Sabah', 'Saber*', 'Sabir*', 'Sabit', 'Sabri', 'Sadek*', 'Sadi*', 'Sadik', 'Sadiq*', 'Saed*', 'Saeed', 'Safa*', 'Safaa*', 'Safdar*', 'Said', 'Saif', 'Saim', 'Sajid', 'Sajjad', 'Sakib*', 'Salah', 'Salam', 'Saleh', 'Salem', 'Saleem', 'Salih', 'Salik*', 'Salim', 'Salman', 'Samad', 'Saman', 'Samed', 'Sameh*', 'Samer', 'Sami', 'Samih*', 'Samim*', 'Samir', 'Saqib*', 'Sardar', 'Sattar*', 'Sayed', 'Selim', 'Seyed', 'Shaban*', 'Shabbar*', 'Shadi', 'Shafiq*', 'Shah', 'Shahid', 'Shahin', 'Shahzad', 'Shaker*', 'Shakil*', 'Shakir*', 'Shamal*', 'Sharif', 'Shaukat*', 'Shawkat*', 'Sheikh', 'Sherif*', 'Shoaib', 'Shuaib*', 'Shukri*', 'Sikandar*', 'Sina', 'Sinan', 'Sofian*', 'Sohrab*', 'Souheil*', 'Suad', 'Subhan*', 'Suhaib*', 'Suhail*', 'Sulaiman', 'Sulayman', 'Suleiman', 'Suleyman*', 'Sultan', 'Syed', 'Süleyman', 'T', 'Taha', 'Taher*', 'Tahir', 'Tahsin', 'Tai', 'Taj', 'Talal', 'Talat', 'Taleb*', 'Talha', 'Talib*', 'Tamer', 'Tamim*', 'Tarek', '+', 'Tareq*', 'Tarik', 'Tariq', 'Tawfik*', 'Tawfiq*', 'U', 'Umair', 'Umar', 'Usama', 'Usman', 'W', 'Wael', 'Wahib*', 'Wahid', 'Wail', 'Wajid*', 'Waleed', 'Wali*', 'Walid', 'Waqar', 'Waqas', 'Waseem', 'Wasim', 'Wassim', 'Wesam*', 'Wisam', 'Y', 'Yahya', 'Yakub', 'Yakup', 'Yasar', 'Yaser', 'Yasin', 'Yasir', 'Yasser', 'Yassin', 'Yassine', 'Yassir*', 'Yonas', 'Yonis', 'Younas*', 'Younes', 'Yousef', 'Yousif', '+', 'Youssef', 'Yunus', 'Yusef', 'Yusuf', 'Z', 'Zafar', 'Zaher', 'Zahid', 'Zahir', 'Zaid', 'Zaim*', 'Zain', 'Zakaria', 'Zakariya', 'Zaki', 'Zakir*', 'Zia*', 'Ziad', 'Ziyad*', 'Zubair*', 'Zuhair*', 'Zulfiqar*', 'Kvindenavne', 'Abida', 'Abir', 'Abrar*', 'Adela', 'Adiba*', 'Adila*', 'Afaf', 'Afifa*', 'Afnan*', 'Afrah', 'Ahlam', 'Aicha', 'Aida', 'Aisha', '+', 'Aishah', 'Akhtar*', 'Ala', 'Alaa', '+', 'Alia', 'Alisa', 'Alissa', 'Aliya', 'Almas*', 'Almasa*', 'Amaal', 'Amal', 'Amani', 'Amina', 'Aminah', 'Amira', 'Amna', 'Amra', 'Anika', 'Aniqa', 'Anisa', 'Anwar', 'Arifa*', 'Arwa', 'Arzu', 'Aseel*', 'Ashraf*', 'Asia', 'Asil*', 'Asima', 'Asiya', 'Asma', 'Asmaa', 'Asra', 'Assia', 'Atifa*', 'Atika*', 'Awatef*', 'Aya', 'Ayah', 'Ayat', 'Ayda*', 'Azhar', 'Aziza', 'Azra', 'Azza*', 'B', 'Bahar', 'Bahia*', 'Bahra*', 'Balsam*', 'Ban*', 'Banu*', 'Basima*', 'Basma*', 'Batoul', 'Batul*', 'Bayan', 'Begum*', 'Bibi', 'Bushra', 'D', 'Dahlia', 'Dalal', 'Dalia', 'Dalila', 'Dara*', 'Daria', 'Dima', 'Dinah', 'Duaa', 'Duha*', 'Dunia', 'Dunya*', 'F', 'Fadia', 'Fadila', 'Fadwa*', 'Fahima', 'Faisa', 'Faiza', 'Farah', 'Farha*', 'Farida', 'Farzana', 'Fatema', 'Fatemah*', 'Faten', 'Fathia*', 'Fatiha', 'Fatima', 'Fatimah*', 'Fatin*', 'Fatma', 'Fatuma', 'Fawzia', 'Fayza*', 'Fida*', 'G', 'Ghada', 'Ghadir*', 'Ghazal*', 'Ghazala', 'Gul', 'Gulistan*', 'Gulshan*', 'H', 'Habiba', 'Hadil', 'Hadia*', 'Hadiya*', 'Hafiza*', 'Hafsa', 'Hafsah*', 'Hagar*', 'Haifa', 'Hajar', 'Hakima', 'Hala', 'Halima', 'Hamda*', 'Hamida', 'Hana', 'Hanaa', 'Hanadi', 'Hanan', 'Hanane', 'Hanifa', 'Hanin', 'Hanna', 'Hannan*', 'Hasiba', 'Hasina', 'Hasna', 'Hatun', 'Hawa', 'Hawra', 'Hawraa', 'Hayat', 'Hayfa*', 'Heba', 'Hebah*', 'Hena', 'Hiba', 'Hilal', 'Hind', 'Hinna', 'Hiyam*', 'Hoda', 'Houda', 'Huda', '+', 'Humaira*', 'Husna*', 'I', 'Ibtihal*', 'Ibtisam', 'Ihsan*', 'Ikhlas*', 'Ikram', 'Ilham', 'Ilhan*', 'Iman', 'Imane', 'Inaam*', 'Inas', 'Insaf*', 'Intisar', 'Iqra', 'Isa', 'Ishrat*', 'Ismat*', 'Isra', 'Israa', 'Itaf*', 'J', 'Jahan*', 'Jamal*', 'Jamila', 'Jamilla', 'Jana', 'Janan*', 'Janna', 'Jasmin', 'Jasmina', 'Jasmine', 'Jawahir*', 'Jenan', 'Jihan', 'Jinan', 'Judi', 'Jun*', 'K', 'Kamila', 'Kamilia*', 'Kaniz*', 'Karima', 'Kausar', 'Kawthar', 'Khadija', 'Khadijah*', 'Khadra', 'Khalida', 'Kifah*', 'Kishwar*', 'L', 'Laila', 'Lama', 'Lamia', 'Lamis*', 'Lana', 'Latifa', 'Layla', 'Leila', 'Leyla', 'Lina', 'Lubna', 'Lulu', 'M', 'Madiha', 'Mah*', 'Maha', 'Mahira*', 'Mahnaz', 'Maimuna*', 'Maisa*', 'Majida', 'Malaika', 'Malak', 'Maliha', 'Malika', 'Manal', 'Manar', 'Manna', 'Maram*', 'Maria', 'Mariam', 'Mariem*', 'Marjan', 'Marwa', 'Maryam', 'May', 'Maysa', 'Maysaa*', 'Meriam', 'Mimouna*', 'Mina', 'Mirah*', 'Miriam', 'Mona', 'Mouna', 'Mounira', 'Mumtaz*', 'Muna', 'Munira', 'Muntaha*', 'N', 'Nabiha*', 'Nabila', 'Nada', 'Nadia', 'Nadira*', 'Nadiya', 'Nadja', 'Nadra*', 'Nafisa', 'Nagham', 'Nahed*', 'Nahid', 'Nahida*', 'Nahla', 'Naia', 'Naila', 'Naima', 'Naja', 'Najah', 'Najat', 'Najia', 'Najiba', 'Najla', 'Najma', 'Najwa', 'Nargis', 'Narjes*', 'Nariman', 'Nasim', 'Nasima', 'Nasira*', 'Nasreen', 'Nasrin', 'Nawal', 'Naz*', 'Nazanin', 'Nazifa*', 'Naziha', 'Nazik*', 'Nazira*', 'Nazli', 'Nejla', 'Nida', 'Nidal*', 'Nihal', 'Nima', 'Nisa', 'Nisrin', 'Noor', 'Nour', 'Nuha*', 'Nur', 'Nura', 'Nuran', 'Nusrat', 'Nuzhat*', 'O', 'Ola', 'Q', 'Qamar*', 'R', 'Rabab', 'Rabia', 'Rabiya*', 'Radia', 'Rafia*', 'Rafika*', 'Raghad*', 'Rahima', 'Raisa*', 'Raja', 'Rajaa', 'Ramla', 'Rana', 'Rand*', 'Randa', 'Rania', 'Ranya*', 'Rasha', 'Rashida', 'Rasima*', 'Rayan', 'Razan*', 'Razia', 'Reda*', 'Reem', 'Rehab*', 'Rehana', 'Rida*', 'Ridwan*', 'Rifat*', 'Rihab*', 'Riham*', 'Rihana*', 'Rim', 'Rima', 'Roya', 'S', 'Saada*', 'Saadia', 'Saba', 'Sabah', 'Sabiha', 'Sada*', 'Sadia', 'Sadika', 'Sadiya*', 'Saeeda', 'Safa', 'Safaa', 'Safia', 'Safiya', 'Sahar', 'Saida', 'Saima', 'Saja', 'Sajeda*', 'Sajida', 'Sakina', 'Salam*', 'Saleha*', 'Salha*', 'Saliha', 'Salima', 'Salma', 'Salwa', 'Sama*', 'Samah', 'Saman*', 'Samar', 'Samia', 'Samiha*', 'Samina', 'Samiya*', 'Samira', 'Samra', 'Sana', 'Sanaa', 'Sanah*', 'Sania', 'Sara', 'Sarah', 'Sawsan', 'Selima*', 'Shabnam', 'Shadia*', 'Shafiqa*', 'Shahida', 'Shahin', 'Shahla', 'Shahnaz', 'Shahrzad', 'Shaima', 'Shakila', 'Shama*', 'Shamim', 'Shams', 'Sharifa', 'Shatha*', 'Shayma*', 'Shazia', 'Shirin', 'Siddika*', 'Sidra', 'Siham', 'Simin*', 'Sirin', 'Sofia', 'Sonya', 'Soraya', 'Souad', 'Soumaya*', 'Suad', 'Suha*', 'Suhad*', 'Suhaila*', 'Suhair*', 'Sultan', 'Sultana*', 'Sumaira*', 'Sumaya', 'Sundus', 'Sura*', 'Surayya*', 'Susan', 'T', 'Taghrid', 'Tahani', 'Tahira', 'Tahmina*', 'Taiba*', 'Taj*', 'Talat*', 'Tanzila*', 'Tasnim', 'Tuba', 'U', 'Ubah', 'Uzma', 'W', 'Wadad*', 'Wafa', 'Wafaa', 'Wafika*', 'Wahida', 'Walaa', 'Warda', 'Widad', 'Y', 'Yamina', 'Yasamin*', 'Yasemin', 'Yasmin', 'Yasmina', 'Yasmine', 'Yousra', 'Yusra', 'Z', 'Zahia*', 'Zahida', 'Zahra', 'Zahraa', 'Zaina', 'Zainab', 'Zaineb', 'Zakia', 'Zamzam', 'Zarifa', 'Zarina', 'Zaynab', 'Zeba*', 'Zeina', 'Zeinab', 'Zeineb*', 'Ziba', 'Zinat*', 'Zohra', 'Zubaida*', 'Zuhra']\n"
     ]
    }
   ],
   "source": [
    "# Extracting Middle Eastern B-PER's from PDF\n",
    "import fitz\n",
    "\n",
    "B_PER = []\n",
    "with fitz.open(\"Ordbog_over_muslimske_fornavne_i_DK.pdf\") as doc:\n",
    "    for page in doc: # Iterating through all pages\n",
    "        blocks = page.get_text(\"dict\")[\"blocks\"] # Extracting text on each page\n",
    "        for block in blocks: \n",
    "            for line in block[\"lines\"]:  # iterate through the text lines\n",
    "                for span in line[\"spans\"]:  # iterate through the text spans\n",
    "                    if span[\"flags\"] & 16:  # 16 targets bold\n",
    "                        name = span[\"text\"].strip()\n",
    "                        if name:\n",
    "                            B_PER.append(name)\n",
    "\n",
    "print(B_PER)\n",
    "\n",
    "#https://stackoverflow.com/questions/68382847/extracting-text-using-flags-to-focus-on-bold-italic-font-using-pymupdf"
   ]
  },
  {
   "cell_type": "code",
   "execution_count": 27,
   "metadata": {},
   "outputs": [],
   "source": [
    "B_PER = ['Aalim', 'Aamer', 'Aamir', 'Abbas', 'Abdallah', 'Abdel', 'Abdelkrim', 'Abdi', 'Abdilahi', 'Abdimalik', 'Abdiqani', 'Abdirahman', 'Abdirashid', 'Abdou', 'Abdul', 'Abdulahi', 'Abdulaziz', 'Abdulhakim', 'Abdulhamid', 'Abdulkadir', 'Abdulkarim', 'Abdullah', 'Abdullahi', 'Abdulqadir', 'Abdulrahman', 'Abed', 'Abidin', 'Abrar', 'Abubakar', 'Adam', 'Adham', 'Adib', 'Adil', 'Adnan', 'Afif', 'Aftab', 'Afzal', 'Agha', 'Ahmad', 'Ahsan', 'Aiman', 'Ajmal', 'Akbar', 'Akhtar', 'Akif', 'Akram', 'Alaa', 'Aladdin', 'Ali', 'Altaf', 'Aman', 'Amanullah', 'Amin', 'Amir', 'Amjad', 'Ammar', 'Amro', 'Anas', 'Anis', 'Ansar', 'Anwar', 'Aqil', 'Arif', 'Arkan', 'Arshad', 'Arslan', 'Asad', 'Asadullah', 'Asaf', 'Asghar', 'Ashfaq', 'Ashraf', 'Asim', 'Asir', 'Aslan', 'Ata', 'Atif', 'Awad', 'Ayman', 'Ayub', 'Azad', 'Azam', 'Azhar', 'Azim', 'Aziz', 'Azmi', \n",
    "         'Babar', 'Bader', 'Baha', 'Bahram', 'Baker', 'Baki', 'Basem', 'Bashar', 'Bashir', 'Basil', 'Basim', 'Basir', 'Bassam', 'Bassem', 'Belal', 'Benyamin', 'Bilal', 'Brahim', 'Burhan', 'Bünyamin', \n",
    "         'Cemal', \n",
    "         'Dahir', 'Damir', 'Dana', 'Dani', 'Dara', 'Daud', 'Dawood', \n",
    "         'Ebrahim', 'Ebrima', 'Ehab', 'Ehsan', 'Ejaz', 'Elias', 'Emad', 'Emir', 'Emran', 'Esa', \n",
    "         'Fadel', 'Fadi', 'Fadil', 'Fadl', 'Fahad', 'Fahim', 'Fahmi', 'Faik', 'Faisal', 'Faiz', 'Falah', 'Farah', 'Faraj', 'Fares', 'Farhad', 'Farhan', 'Farhat', 'Farid', 'Faris', 'Faruk', 'Fateh', 'Fathi', 'Fatih', 'Fawaz', 'Fawzi', 'Fayez', 'Faysal', 'Fazil', 'Fazli', 'Feras', 'Ferhat', 'Fethi', 'Fikri', 'Firas', 'Fouad', 'Furkan', \n",
    "         'Gamal', 'Gani', 'Ghaleb', 'Ghanem', 'Ghassan', 'Ghazanfar', 'Ghazi', 'Ghulam', 'Gulzar', \n",
    "         'Habib', 'Habibullah', 'Hadi', 'Haidar', 'Haim', 'Hakim', 'Halim', 'Hamad', 'Hamdi', 'Hamed', 'Hamid', 'Hamza', 'Hamze', 'Hanad', 'Hani', 'Haris', 'Harun', 'Hashim', 'Hasib', 'Hasim', 'Hassan', 'Hatem', 'Haydar', 'Haytham', 'Hazem', 'Hazim', 'Hekmat', 'Hicham', 'Hilal', 'Hilmi', 'Hisham', 'Hossein', 'Husam', 'Husni', 'Hussam', 'Hussein', 'Hüseyin', \n",
    "         'Ibrahim', 'Idris', 'Ihab', 'Ihsan', 'Ijaz', 'Ilyas', 'Imad', 'Imran', 'Iqbal', 'Irfan', 'Isa', 'Isam', 'Ishaq', 'Islam', 'Ismail', 'Issam', 'Iyad', \n",
    "         'Jaafar', 'Jabbar', 'Jaber', 'Jafar', 'Jalal', 'Jalil', 'Jamal', 'Jamil', 'Jamshed', 'Jasem', 'Jasim', 'Jasin', 'Javid', 'Jawad', 'Jibril', 'Jihad', 'Jul', 'Junaid', 'Junes', \n",
    "         'Kadir', 'Kamal', 'Kamil', 'Kamran', 'Karam', 'Karim', 'Kashif', 'Kassem', 'Kazem', 'Kazim', 'Kemal', 'Kerem', 'Kerim', 'Khadim', 'Khalid', 'Khalil', 'Khamis', 'Khan', 'Khurram', \n",
    "         'Liban', 'Luay', 'Luqman', 'Lutfi', \n",
    "         'Mahad', 'Mahamed', 'Mahdi', 'Maher', 'Mahir', 'Mahmoud', 'Majid', 'Malik', 'Mansour', 'Marwan', 'Masih', 'Masoud', 'Matin', 'Mazen', 'Mazhar', 'Mehdi', 'Mehmet', 'Melih', 'Mervan', 'Metin', 'Midhat', 'Mikail', 'Milad', 'Mir', 'Miran', 'Mirza', 'Mohannad', 'Mohsin', 'Mokhtar', 'Moussa', 'Mubarak', 'Muhammad', 'Muhannad', 'Muhsin', 'Mukhtar', 'Mulla', 'Mumin', 'Mumtaz', 'Munawar', 'Munib', 'Munir', 'Murad', 'Murtadha', 'Murtaza', 'Musa', 'Mushtaq', 'Muslim', 'Mustafa', \n",
    "         'Nabil', 'Nader', 'Nadim', 'Nadir', 'Nafi', 'Nail', 'Naim', 'Naji', 'Najib', 'Namir', 'Nashwan', 'Nasir', 'Nasser', 'Nassim', 'Naveed', 'Navid', 'Nawaf', 'Nayef', 'Nazif', 'Nazih', 'Nazim', 'Nazir', 'Nazmi', 'Nidal', 'Nihad', 'Nima', 'Nizar', 'Noman', 'Noor', 'Nuh', 'Numan', 'Nur', 'Nuri', 'Nurullah', \n",
    "         'Omar', 'Omer', 'Osama', 'Osman', 'Othman', 'Ousama', \n",
    "         'Qais', 'Qaisar', 'Qamar', 'Qasim', \n",
    "         'Raad', 'Rabah', 'Rabih', 'Rachid', 'Radwan', 'Raed', 'Rafat', 'Rafi', 'Rafik', 'Ragib', 'Rahim', 'Rahman', 'Raid', 'Raif', 'Raja', 'Rajab', 'Ramadan', 'Ramazan', 'Rami', 'Ramin', 'Ramiz', 'Ramzi', 'Rani', 'Raouf', 'Rauf', 'Rashad', 'Rashed', 'Rashid', 'Rasim', 'Rasul', 'Rayan', 'Raza', 'Recep', 'Reda', 'Redha', 'Reza', 'Riad', 'Riaz', 'Rida', 'Ridha', 'Ridwan', 'Rifat', 'Riyad', 'Rizwan', 'Ruhi', \n",
    "         'Saad', 'Sabah', 'Saber', 'Sabir', 'Sabit', 'Sabri', 'Sadek', 'Sadi', 'Sadik', 'Sadiq', 'Saed', 'Saeed', 'Safa', 'Safaa', 'Safdar', 'Said', 'Saif', 'Saim', 'Sajid', 'Sajjad', 'Sakib', 'Salah', 'Salam', 'Saleh', 'Salem', 'Saleem', 'Salih', 'Salik', 'Salim', 'Salman', 'Samad', 'Saman', 'Samed', 'Sameh', 'Samer', 'Sami', 'Samih', 'Samim', 'Samir', 'Saqib', 'Sardar', 'Sattar', 'Sayed', 'Selim', 'Seyed', 'Shaban', 'Shabbar', 'Shadi', 'Shafiq', 'Shah', 'Shahid', 'Shahin', 'Shahzad', 'Shaker', 'Shakil', 'Shakir', 'Shamal', 'Sharif', 'Shaukat', 'Shawkat', 'Sheikh', 'Sherif', 'Shoaib', 'Shuaib', 'Shukri', 'Sikandar', 'Sina', 'Sinan', 'Sofian', 'Sohrab', 'Souheil', 'Suad', 'Subhan', 'Suhaib', 'Suhail', 'Sulaiman', 'Sulayman', 'Suleiman', 'Suleyman', 'Sultan', 'Syed', 'Süleyman', \n",
    "         'Taha', 'Taher', 'Tahir', 'Tahsin', 'Tai', 'Taj', 'Talal', 'Talat', 'Taleb', 'Talha', 'Talib', 'Tamer', 'Tamim', 'Tarek', 'Tareq', 'Tarik', 'Tariq', 'Tawfik', 'Tawfiq', \n",
    "         'Umair', 'Umar', 'Usama', 'Usman', \n",
    "         'Wael', 'Wahib', 'Wahid', 'Wail', 'Wajid', 'Waleed', 'Wali', 'Walid', 'Waqar', 'Waqas', 'Waseem', 'Wasim', 'Wassim', 'Wesam', 'Wisam', \n",
    "         'Yahya', 'Yakub', 'Yakup', 'Yasar', 'Yaser', 'Yasin', 'Yasir', 'Yasser', 'Yassin', 'Yassine', 'Yassir', 'Yonas', 'Yonis', 'Younas', 'Younes', 'Yousef', 'Yousif', 'Youssef', 'Yunus', 'Yusef', 'Yusuf', \n",
    "         'Zafar', 'Zaher', 'Zahid', 'Zahir', 'Zaid', 'Zaim', 'Zain', 'Zakaria', 'Zakariya', 'Zaki', 'Zakir', 'Zia', 'Ziad', 'Ziyad', 'Zubair', 'Zuhair', 'Zulfiqar', \n",
    "         \n",
    "         'Abida', 'Abir', 'Abrar', 'Adela', 'Adiba', 'Adila', 'Afaf', 'Afifa', 'Afnan', 'Afrah', 'Ahlam', 'Aicha', 'Aida', 'Aisha', 'Aishah', 'Akhtar', 'Ala', 'Alaa', 'Alia', 'Alisa', 'Alissa', 'Aliya', 'Almas', 'Almasa', 'Amaal', 'Amal', 'Amani', 'Amina', 'Aminah', 'Amira', 'Amna', 'Amra', 'Anika', 'Aniqa', 'Anisa', 'Anwar', 'Arifa', 'Arwa', 'Arzu', 'Aseel', 'Ashraf', 'Asia', 'Asil', 'Asima', 'Asiya', 'Asma', 'Asmaa', 'Asra', 'Assia', 'Atifa', 'Atika', 'Awatef', 'Aya', 'Ayah', 'Ayat', 'Ayda', 'Azhar', 'Aziza', 'Azra', 'Azza', \n",
    "         'Bahar', 'Bahia', 'Bahra', 'Balsam', 'Ban', 'Banu', 'Basima', 'Basma', 'Batoul', 'Batul', 'Bayan', 'Begum', 'Bibi', 'Bushra', \n",
    "         'Dahlia', 'Dalal', 'Dalia', 'Dalila', 'Dara', 'Daria', 'Dima', 'Dinah', 'Duaa', 'Duha', 'Dunia', 'Dunya', \n",
    "         'Fadia', 'Fadila', 'Fadwa', 'Fahima', 'Faisa', 'Faiza', 'Farah', 'Farha', 'Farida', 'Farzana', 'Fatema', 'Fatemah', 'Faten', 'Fathia', 'Fatiha', 'Fatima', 'Fatimah', 'Fatin', 'Fatma', 'Fatuma', 'Fawzia', 'Fayza', 'Fida', \n",
    "         'Ghada', 'Ghadir', 'Ghazal', 'Ghazala', 'Gul', 'Gulistan', 'Gulshan', \n",
    "         'Habiba', 'Hadil', 'Hadia', 'Hadiya', 'Hafiza', 'Hafsa', 'Hafsah', 'Hagar', 'Haifa', 'Hajar', 'Hakima', 'Hala', 'Halima', 'Hamda', 'Hamida', 'Hana', 'Hanaa', 'Hanadi', 'Hanan', 'Hanane', 'Hanifa', 'Hanin', 'Hanna', 'Hannan', 'Hasiba', 'Hasina', 'Hasna', 'Hatun', 'Hawa', 'Hawra', 'Hawraa', 'Hayat', 'Hayfa', 'Heba', 'Hebah', 'Hena', 'Hiba', 'Hilal', 'Hind', 'Hinna', 'Hiyam', 'Hoda', 'Houda', 'Huda', 'Humaira', 'Husna', \n",
    "         'Ibtihal', 'Ibtisam', 'Ihsan', 'Ikhlas', 'Ikram', 'Ilham', 'Ilhan', 'Iman', 'Imane', 'Inaam', 'Inas', 'Insaf', 'Intisar', 'Iqra', 'Isa', 'Ishrat', 'Ismat', 'Isra', 'Israa', 'Itaf', \n",
    "         'Jahan', 'Jamal', 'Jamila', 'Jamilla', 'Jana', 'Janan', 'Janna', 'Jasmin', 'Jasmina', 'Jasmine', 'Jawahir', 'Jenan', 'Jihan', 'Jinan', 'Judi', 'Jun', \n",
    "         'Kamila', 'Kamilia', 'Kaniz', 'Karima', 'Kausar', 'Kawthar', 'Khadija', 'Khadijah', 'Khadra', 'Khalida', 'Kifah', 'Kishwar', \n",
    "         'Laila', 'Lama', 'Lamia', 'Lamis', 'Lana', 'Latifa', 'Layla', 'Leila', 'Leyla', 'Lina', 'Lubna', 'Lulu', \n",
    "         'Madiha', 'Mah', 'Maha', 'Mahira', 'Mahnaz', 'Maimuna', 'Maisa', 'Majida', 'Malaika', 'Malak', 'Maliha', 'Malika', 'Manal', 'Manar', 'Manna', 'Maram', 'Maria', 'Mariam', 'Mariem', 'Marjan', 'Marwa', 'Maryam', 'May', 'Maysa', 'Maysaa', 'Meriam', 'Mimouna', 'Mina', 'Mirah', 'Miriam', 'Mona', 'Mouna', 'Mounira', 'Mumtaz', 'Muna', 'Munira', 'Muntaha', \n",
    "         'Nabiha', 'Nabila', 'Nada', 'Nadia', 'Nadira', 'Nadiya', 'Nadja', 'Nadra', 'Nafisa', 'Nagham', 'Nahed', 'Nahid', 'Nahida', 'Nahla', 'Naia', 'Naila', 'Naima', 'Naja', 'Najah', 'Najat', 'Najia', 'Najiba', 'Najla', 'Najma', 'Najwa', 'Nargis', 'Narjes', 'Nariman', 'Nasim', 'Nasima', 'Nasira', 'Nasreen', 'Nasrin', 'Nawal', 'Naz', 'Nazanin', 'Nazifa', 'Naziha', 'Nazik', 'Nazira', 'Nazli', 'Nejla', 'Nida', 'Nidal', 'Nihal', 'Nima', 'Nisa', 'Nisrin', 'Noor', 'Nour', 'Nuha', 'Nur', 'Nura', 'Nuran', 'Nusrat', 'Nuzhat', \n",
    "         'Ola', \n",
    "         'Qamar', \n",
    "         'Rabab', 'Rabia', 'Rabiya', 'Radia', 'Rafia', 'Rafika', 'Raghad', 'Rahima', 'Raisa', 'Raja', 'Rajaa', 'Ramla', 'Rana', 'Rand', 'Randa', 'Rania', 'Ranya', 'Rasha', 'Rashida', 'Rasima', 'Rayan', 'Razan', 'Razia', 'Reda', 'Reem', 'Rehab', 'Rehana', 'Rida', 'Ridwan', 'Rifat', 'Rihab', 'Riham', 'Rihana', 'Rim', 'Rima', 'Roya', \n",
    "         'Saada', 'Saadia', 'Saba', 'Sabah', 'Sabiha', 'Sada', 'Sadia', 'Sadika', 'Sadiya', 'Saeeda', 'Safa', 'Safaa', 'Safia', 'Safiya', 'Sahar', 'Saida', 'Saima', 'Saja', 'Sajeda', 'Sajida', 'Sakina', 'Salam', 'Saleha', 'Salha', 'Saliha', 'Salima', 'Salma', 'Salwa', 'Sama', 'Samah', 'Saman', 'Samar', 'Samia', 'Samiha', 'Samina', 'Samiya', 'Samira', 'Samra', 'Sana', 'Sanaa', 'Sanah', 'Sania', 'Sara', 'Sarah', 'Sawsan', 'Selima', 'Shabnam', 'Shadia', 'Shafiqa', 'Shahida', 'Shahin', 'Shahla', 'Shahnaz', 'Shahrzad', 'Shaima', 'Shakila', 'Shama', 'Shamim', 'Shams', 'Sharifa', 'Shatha', 'Shayma', 'Shazia', 'Shirin', 'Siddika', 'Sidra', 'Siham', 'Simin', 'Sirin', 'Sofia', 'Sonya', 'Soraya', 'Souad', 'Soumaya', 'Suad', 'Suha', 'Suhad', 'Suhaila', 'Suhair', 'Sultan', 'Sultana', 'Sumaira', 'Sumaya', 'Sundus', 'Sura', 'Surayya', 'Susan', \n",
    "         'Taghrid', 'Tahani', 'Tahira', 'Tahmina', 'Taiba', 'Taj', 'Talat', 'Tanzila', 'Tasnim', 'Tuba', \n",
    "         'Ubah', 'Uzma', \n",
    "         'Wadad', 'Wafa', 'Wafaa', 'Wafika', 'Wahida', 'Walaa', 'Warda', 'Widad', \n",
    "         'Yamina', 'Yasamin', 'Yasemin', 'Yasmin', 'Yasmina', 'Yasmine', 'Yousra', 'Yusra', \n",
    "         'Zahia', 'Zahida', 'Zahra', 'Zahraa', 'Zaina', 'Zainab', 'Zaineb', 'Zakia', 'Zamzam', 'Zarifa', 'Zarina', 'Zaynab', 'Zeba', 'Zeina', 'Zeinab', 'Zeineb', 'Ziba', 'Zinat', 'Zohra', 'Zubaida', 'Zuhra']"
   ]
  },
  {
   "cell_type": "code",
   "execution_count": 28,
   "metadata": {},
   "outputs": [
    {
     "data": {
      "text/plain": [
       "1049"
      ]
     },
     "execution_count": 28,
     "metadata": {},
     "output_type": "execute_result"
    }
   ],
   "source": [
    "len(B_PER)"
   ]
  },
  {
   "cell_type": "code",
   "execution_count": 30,
   "metadata": {},
   "outputs": [
    {
     "name": "stdout",
     "output_type": "stream",
     "text": [
      "['Zeba', 'Aseel', 'Shafiq', 'Yonas', 'Basim', 'Riyad', 'Bahra', 'Saeeda', 'Mounira', 'Nazira', 'Sama', 'Reda', 'Fadwa', 'Dunya', 'Shakila', 'Suhair', 'Ilyas', 'Ayat', 'Hakim', 'Syed', 'Taleb', 'Najma', 'Ibtihal', 'Dana', 'Rafia', 'Shayma', 'Hanane', 'Ala', 'Rasul', 'Maha', 'Faris', 'Jamila', 'Nuran', 'Gulshan', 'Hawra', 'Randa', 'Rima', 'Noor', 'Daud', 'Nazik', 'Hamda', 'Muslim', 'Ramzi', 'Agha', 'Selim', 'Shahid', 'Yonis', 'Amaal', 'Haidar', 'Mubarak', 'Mahira', 'Aliya', 'Rihab', 'Naila', 'Munawar', 'Luay', 'Mouna', 'Amani', 'Mah', 'Islam', 'Mirah', 'Shafiqa', 'Susan', 'Zarifa', 'Fadel', 'Maher', 'Zainab', 'Fahad', 'Faten', 'Kazim', 'Ismat', 'Abdallah', 'Humaira', 'Soumaya', 'Aqil', 'Mohsin', 'Karima', 'Samim', 'Afrah', 'Tahir', 'Yasmine', 'Ashraf', 'Babar', 'Hazem', 'Husna', 'Jibril', 'Ferhat', 'Hisham', 'Aya', 'Houda', 'Rashad', 'Ebrima', 'Fahmi', 'Abdirahman', 'Safia', 'Rafat', 'Naji', 'Tareq', 'Amna', 'Fawzi', 'Irfan', 'Jasin', 'Mona', 'Malika', 'Kishwar', 'Shabnam', 'Saadia', 'Banu', 'Yaser', 'Zahraa', 'Hasina', 'Lulu', 'Ehab', 'Suleiman', 'Bader', 'Sumaira', 'Safa', 'Suleyman', 'Lamia', 'Jana', 'Sidra', 'Sanaa', 'Nahed', 'Hind', 'Arif', 'Abdilahi', 'Raad', 'Amina', 'Ibtisam', 'Fatiha', 'Hiba', 'Ousama', 'Iqra', 'Nasim', 'Bassam', 'Redha', 'Fadil', 'Wafika', 'Moussa', 'Rauf', 'Shamal', 'Hamad', 'Waqas', 'Jihan', 'Fikri', 'Nidal', 'Rabiya', 'Shahla', 'Malik', 'Hatun', 'Zaina', 'Ayub', 'Saliha', 'Sumaya', 'Ishaq', 'Adiba', 'Heba', 'Jenan', 'Lama', 'Layla', 'Sharifa', 'Fayza', 'Naveed', 'Inaam', 'Baker', 'Azad', 'Nahla', 'Zaki', 'Hadia', 'Naim', 'Muhsin', 'Nasrin', 'Sina', 'Faisal', 'Ahsan', 'Adham', 'Aziz', 'Dani', 'Nur', 'Sultana', 'Süleyman', 'Jasim', 'Hassan', 'Sulaiman', 'Alissa', 'Najiba', 'Emir', 'Mariam', 'Anas', 'Yasmina', 'Raid', 'Salim', 'Fatema', 'Jalal', 'Abed', 'Sherif', 'Rahman', 'Rashed', 'Sinan', 'Nima', 'Fateh', 'Samih', 'Basir', 'Sadi', 'Tawfiq', 'Taiba', 'Raisa', 'Amir', 'Haris', 'Saad', 'Dima', 'Ramazan', 'Jasmine', 'Farzana', 'Mahmoud', 'Anisa', 'Kamil', 'Nura', 'Sania', 'Yamina', 'Nahid', 'Yasar', 'Abidin', 'Ola', 'Suhad', 'Shahzad', 'Nisrin', 'Ridha', 'Kamila', 'Recep', 'Lamis', 'Arkan', 'Ghazanfar', 'Kamran', 'Aziza', 'Ilhan', 'Samia', 'Suhaib', 'Radwan', 'Sameh', 'Souheil', 'Sirin', 'Afif', 'Sultan', 'Samar', 'Basem', 'Harun', 'Saleem', 'Asil', 'Arshad', 'Ziyad', 'Zahir', 'Ghazal', 'Tuba', 'Esa', 'Insaf', 'Farida', 'Rabah', 'Sakib', 'Bünyamin', 'Fazil', 'Haydar', 'Benyamin', 'Iman', 'Javid', 'Asiya', 'Aamir', 'Sadek', 'Abdirashid', 'Nazir', 'Shadi', 'Hajar', 'Khadija', 'Zeineb', 'Abdulhakim', 'Nazih', 'Bahar', 'Baki', 'Rizwan', 'Ghazala', 'Zubair', 'Samiya', 'Dara', 'Yusuf', 'Amira', 'Seyed', 'Akbar', 'Madiha', 'Hamida', 'Maliha', 'Muntaha', 'Altaf', 'Amanullah', 'Raouf', 'Shadia', 'Lubna', 'Nasir', 'Ghazi', 'Sheikh', 'Sohrab', 'Shatha', 'Sajid', 'Nariman', 'Murtadha', 'Khadra', 'Nafisa', 'Jinan', 'Omar', 'Sabiha', 'Mokhtar', 'Khalid', 'Haytham', 'Hena', 'Munira', 'Mirza', 'Shakir', 'Talha', 'Hanan', 'Sofia', 'Dalila', 'Gul', 'Khalil', 'Kawthar', 'Samah', 'Bibi', 'Sardar', 'Fadila', 'Ajmal', 'Mumtaz', 'Sabah', 'Ammar', 'Ahmad', 'Jaber', 'Walaa', 'Midhat', 'Maisa', 'Nisa', 'Sura', 'Ata', 'Yakup', 'Jihad', 'Reem', 'Amjad', 'Jawahir', 'Amin', 'Hawraa', 'Atika', 'Fethi', 'Raja', 'Damir', 'Asima', 'Imane', 'Aftab', 'Fahima', 'Fouad', 'Rania', 'Warda', 'Raghad', 'Safiya', 'Hawa', 'Nadia', 'Ayda', 'Habibullah', 'Cemal', 'Sadiq', 'Uzma', 'Hakima', 'Fatma', 'Hussein', 'Shahrzad', 'Yahya', 'Salah', 'Ali', 'Hossein', 'Huda', 'Mahnaz', 'Muna', 'Masih', 'Hicham', 'Zakaria', 'Zakir', 'Najla', 'Muhammad', 'Wesam', 'Younas', 'Wassim', 'Begum', 'Usman', 'Aminah', 'Mansour', 'Marjan', 'Sada', 'Judi', 'Nadiya', 'Tahani', 'Shaban', 'Ishrat', 'Hinna', 'Hashim', 'Munib', 'Gulzar', 'Namir', 'Hayfa', 'Halim', 'Fathia', 'Dunia', 'Naia', 'Adnan', 'Issam', 'Nawaf', 'Batoul', 'Shaukat', 'Samiha', 'Dalal', 'Sundus', 'Gani', 'Aishah', 'Suhaila', 'Mimouna', 'Mulla', 'Anwar', 'Jawad', 'Taj', 'Isam', 'Yousef', 'Abdulrahman', 'Wael', 'Hagar', 'Ayah', 'Dalia', 'Sadik', 'Aman', 'Hasib', 'Janan', 'Raed', 'Fatin', 'Shah', 'May', 'Shahnaz', 'Adam', 'Abdel', 'Razia', 'Rajab', 'Nazim', 'Khadim', 'Saleh', 'Intisar', 'Ansar', 'Qamar', 'Mikail', 'Abubakar', 'Ayman', 'Fares', 'Ghadir', 'Kerim', 'Suhail', 'Salam', 'Fadia', 'Rasima', 'Awad', 'Fida', 'Maria', 'Samir', 'Basil', 'Afnan', 'Maysa', 'Wahid', 'Riham', 'Afifa', 'Hamza', 'Haim', 'Iyad', 'Raif', 'Hanaa', 'Saja', 'Simin', 'Sara', 'Umar', 'Anis', 'Saeed', 'Tai', 'Hafsah', 'Saber', 'Yasser', 'Tarek', 'Haifa', 'Manal', 'Jafar', 'Majid', 'Shawkat', 'Sadika', 'Saim', 'Abida', 'Almas', 'Mahdi', 'Junaid', 'Salih', 'Ban', 'Waqar', 'Nadja', 'Zaid', 'Ihsan', 'Habiba', 'Tawfik', 'Hanadi', 'Sajida', 'Rabia', 'Asadullah', 'Baha', 'Saba', 'Iqbal', 'Kerem', 'Ramadan', 'Feras', 'Kemal', 'Zaim', 'Aslan', 'Mariem', 'Fadi', 'Taghrid', 'Nazif', 'Imran', 'Nahida', 'Zuhair', 'Leila', 'Nazifa', 'Brahim', 'Ibrahim', 'Numan', 'Hafsa', 'Maysaa', 'Faik', 'Rasha', 'Ghassan', 'Yassir', 'Laila', 'Abdulkarim', 'Husni', 'Nida', 'Qasim', 'Rida', 'Elias', 'Faiza', 'Murtaza', 'Abdullah', 'Rafika', 'Nuh', 'Nurullah', 'Maryam', 'Hanna', 'Saleha', 'Hani', 'Dinah', 'Nusrat', 'Taher', 'Wafaa', 'Duaa', 'Fawzia', 'Rehab', 'Shama', 'Hasim', 'Balsam', 'Shazia', 'Zahida', 'Hoda', 'Rahima', 'Razan', 'Waleed', 'Marwa', 'Reza', 'Nadra', 'Nazli', 'Salem', 'Rehana', 'Hamdi', 'Jul', 'Fazli', 'Riaz', 'Fadl', 'Sanah', 'Abdul', 'Rim', 'Zaineb', 'Rabab', 'Ikhlas', 'Sajjad', 'Shirin', 'Asim', 'Abdulahi', 'Arwa', 'Azza', 'Rami', 'Atif', 'Lana', 'Malaika', 'Daria', 'Sarah', 'Leyla', 'Aladdin', 'Hayat', 'Shuaib', 'Samra', 'Ramin', 'Fatemah', 'Mahad', 'Amal', 'Nader', 'Sana', 'Malak', 'Safdar', 'Mahamed', 'Najat', 'Firas', 'Nassim', 'Munir', 'Abdiqani', 'Nihad', 'Farah', 'Ridwan', 'Salman', 'Asia', 'Abdi', 'Fatuma', 'Habib', 'Ghada', 'Halima', 'Ikram', 'Kifah', 'Tahsin', 'Fathi', 'Shabbar', 'Zia', 'Khan', 'Basima', 'Latifa', 'Hatem', 'Qais', 'Jamil', 'Wisam', 'Bayan', 'Nihal', 'Zinat', 'Qaisar', 'Abdullahi', 'Fatih', 'Said', 'Hala', 'Ejaz', 'Safaa', 'Majida', 'Nadira', 'Talib', 'Assia', 'Samina', 'Farhan', 'Bashar', 'Kamilia', 'Mushtaq', 'Usama', 'Abdimalik', 'Sakina', 'Abdelkrim', 'Riad', 'Hasna', 'Kaniz', 'Hazim', 'Nashwan', 'Musa', 'Saqib', 'Miran', 'Sonya', 'Othman', 'Hilal', 'Azhar', 'Mohannad', 'Muhannad', 'Sulayman', 'Shahin', 'Samer', 'Shahida', 'Asghar', 'Nafi', 'Sadia', 'Kassem', 'Shoaib', 'Bahram', 'Naz', 'Tarik', 'Sabir', 'Ghaleb', 'Nayef', 'Rana', 'Jasmina', 'Rand', 'Khurram', 'Abdulkadir', 'Basma', 'Selima', 'Tamim', 'Ubah', 'Rachid', 'Tariq', 'Khalida', 'Siham', 'Azim', 'Awatef', 'Almasa', 'Sajeda', 'Amro', 'Salik', 'Bahia', 'Bassem', 'Sabri', 'Zamzam', 'Nasira', 'Rasim', 'Azam', 'Gulistan', 'Naja', 'Husam', 'Idris', 'Ihab', 'Karim', 'Luqman', 'Youssef', 'Rabih', 'Abbas', 'Taha', 'Saman', 'Nuzhat', 'Isra', 'Zarina', 'Asmaa', 'Atifa', 'Zulfiqar', 'Hebah', 'Hamid', 'Tasnim', 'Zaynab', 'Roya', 'Nadir', 'Lina', 'Milad', 'Salima', 'Bushra', 'Akram', 'Ahlam', 'Wahida', 'Jabbar', 'Abdulaziz', 'Adila', 'Faruk', 'Kazem', 'Arzu', 'Khadijah', 'Sharif', 'Bashir', 'Duha', 'Arifa', 'Hamed', 'Wafa', 'Waseem', 'Kamal', 'Fatima', 'Aalim', 'Fahim', 'Manar', 'Zohra', 'Nasima', 'Azra', 'Akif', 'Ilham', 'Hamze', 'Mazen', 'Faisa', 'Najah', 'Hadil', 'Nargis', 'Zakia', 'Nabila', 'Rihana', 'Aida', 'Zahra', 'Nuha', 'Abdulhamid', 'Meriam', 'Abir', 'Jasem', 'Mumin', 'Tamer', 'Najwa', 'Rajaa', 'Hanifa', 'Ziad', 'Khamis', 'Rani', 'Sattar', 'Alaa', 'Wail', 'Salma', 'Suha', 'Kadir', 'Lutfi', 'Yasmin', 'Azmi', 'Faiz', 'Junes', 'Hadiya', 'Belal', 'Mervan', 'Hafiza', 'Metin', 'Asaf', 'Aisha', 'Saif', 'Jamilla', 'Ziba', 'Aiman', 'Asir', 'Aniqa', 'Maimuna', 'Yousra', 'Ijaz', 'Mahir', 'Afaf', 'Masoud', 'Narjes', 'Rifat', 'Aamer', 'Nazanin', 'Yasemin', 'Rashid', 'Zakariya', 'Zubaida', 'Walid', 'Jahan', 'Fatimah', 'Miriam', 'Imad', 'Janna', 'Amra', 'Nazmi', 'Hiyam', 'Sayed', 'Suad', 'Yunus', 'Adela', 'Anika', 'Ebrahim', 'Mina', 'Navid', 'Shaker', 'Kashif', 'Adil', 'Furkan', 'Sahar', 'Emad', 'Farhat', 'Nada', 'Karam', 'Hadi', 'Samad', 'Alia', 'Hanad', 'Dahir', 'Abrar', 'Najia', 'Talal', 'Zahid', 'Sami', 'Siddika', 'Faysal', 'Gamal', 'Wali', 'Shukri', 'Zafar', 'Fawaz', 'Shakil', 'Burhan', 'Saed', 'Aicha', 'Kausar', 'Asma', 'Hannan', 'Hanin', 'Ghulam', 'Rashida', 'Widad', 'Zaher', 'Wadad', 'Wahib', 'Hasiba', 'Afzal', 'Ranya', 'Mehdi', 'Itaf', 'Maram', 'Sofian', 'Subhan', 'Yasamin', 'Nail', 'Souad', 'Jun', 'Rayan', 'Hussam', 'Yousif', 'Inas', 'Osman', 'Ashfaq', 'Hilmi', 'Sadiya', 'Hüseyin', 'Samed', 'Israa', 'Nadim', 'Arslan', 'Salwa', 'Samira', 'Mir', 'Umair', 'Mukhtar', 'Farhad', 'Abdou', 'Dawood', 'Batul', 'Ismail', 'Farid', 'Nasreen', 'Nawal', 'Noman', 'Yasin', 'Farha', 'Melih', 'Younes', 'Sabit', 'Yusef', 'Nizar', 'Akhtar', 'Raza', 'Bilal', 'Mustafa', 'Isa', 'Nabil', 'Ehsan', 'Alisa', 'Saada', 'Asra', 'Yusra', 'Faraj', 'Naima', 'Ramla', 'Osama', 'Wasim', 'Liban', 'Nabiha', 'Asad', 'Shams', 'Soraya', 'Tahira', 'Saida', 'Surayya', 'Zuhra', 'Zeina', 'Abdulqadir', 'Ghanem', 'Talat', 'Yakub', 'Rahim', 'Jalil', 'Yassin', 'Matin', 'Falah', 'Yasir', 'Jaafar', 'Mehmet', 'Sawsan', 'Hana', 'Naziha', 'Jamshed', 'Dahlia', 'Shamim', 'Hekmat', 'Ruhi', 'Mazhar', 'Fayez', 'Emran', 'Adib', 'Omer', 'Nejla', 'Marwan', 'Sikandar', 'Nour', 'Zahia', 'Rafik', 'Saima', 'Zain', 'Zeinab', 'Yassine', 'Ramiz', 'Tahmina', 'Murad', 'Ragib', 'Jasmin', 'Shaima', 'Rafi', 'Nasser', 'Nuri', 'Wajid', 'Manna', 'Salha', 'Radia', 'Najib', 'Tanzila', 'Nagham', 'Jamal']\n"
     ]
    }
   ],
   "source": [
    "unique_B_PER = list(set(B_PER))\n",
    "print(unique_B_PER)"
   ]
  },
  {
   "cell_type": "code",
   "execution_count": 31,
   "metadata": {},
   "outputs": [
    {
     "data": {
      "text/plain": [
       "1015"
      ]
     },
     "execution_count": 31,
     "metadata": {},
     "output_type": "execute_result"
    }
   ],
   "source": [
    "len(unique_B_PER)"
   ]
  },
  {
   "cell_type": "code",
   "execution_count": null,
   "metadata": {},
   "outputs": [],
   "source": []
  }
 ],
 "metadata": {
  "kernelspec": {
   "display_name": "base",
   "language": "python",
   "name": "python3"
  },
  "language_info": {
   "codemirror_mode": {
    "name": "ipython",
    "version": 3
   },
   "file_extension": ".py",
   "mimetype": "text/x-python",
   "name": "python",
   "nbconvert_exporter": "python",
   "pygments_lexer": "ipython3",
   "version": "3.11.5"
  }
 },
 "nbformat": 4,
 "nbformat_minor": 2
}
