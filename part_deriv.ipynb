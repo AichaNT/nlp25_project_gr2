{
 "cells": [
  {
   "cell_type": "code",
   "execution_count": 8,
   "metadata": {},
   "outputs": [],
   "source": [
    "# Import data \n",
    "import pandas as pd\n",
    "\n",
    "news_train = pd.read_csv(\"data/da_news_train.tsv\", sep=\"\\t\", header=None, names=[\"Token\", \"Tag\", \"Other\"])"
   ]
  },
  {
   "cell_type": "code",
   "execution_count": 18,
   "metadata": {},
   "outputs": [
    {
     "data": {
      "text/plain": [
       "40838"
      ]
     },
     "execution_count": 18,
     "metadata": {},
     "output_type": "execute_result"
    }
   ],
   "source": [
    "# Number of words in train\n",
    "(news_train[\"Token\"] != \"\").sum()"
   ]
  },
  {
   "cell_type": "code",
   "execution_count": 19,
   "metadata": {},
   "outputs": [
    {
     "data": {
      "text/plain": [
       "2692"
      ]
     },
     "execution_count": 19,
     "metadata": {},
     "output_type": "execute_result"
    }
   ],
   "source": [
    "(news_train[\"Tag\"] != \"O\").sum()"
   ]
  },
  {
   "cell_type": "code",
   "execution_count": 10,
   "metadata": {},
   "outputs": [
    {
     "data": {
      "text/plain": [
       "326"
      ]
     },
     "execution_count": 10,
     "metadata": {},
     "output_type": "execute_result"
    }
   ],
   "source": [
    "# Number of total part/deriv\n",
    "news_train[\"Tag\"].str.contains(\"part|deriv\").sum()"
   ]
  },
  {
   "cell_type": "code",
   "execution_count": 11,
   "metadata": {},
   "outputs": [
    {
     "name": "stdout",
     "output_type": "stream",
     "text": [
      "B-LOCpart: 17\n",
      "B-LOCderiv: 232\n",
      "B-ORGpart: 51\n",
      "B-ORGderiv: 4\n",
      "B-PERpart: 6\n",
      "B-PERderiv: 1\n",
      "B-MISCpart: 13\n",
      "B-MISCderiv: 2\n",
      "I-LOCpart: 0\n",
      "I-LOCderiv: 0\n",
      "I-ORGpart: 0\n",
      "I-ORGderiv: 0\n",
      "I-PERpart: 0\n",
      "I-PERderiv: 0\n",
      "I-MISCpart: 0\n",
      "I-MISCderiv: 0\n"
     ]
    }
   ],
   "source": [
    "# Number of part/deriv divided by type\n",
    "tags = [\"B-LOCpart\", \"B-LOCderiv\", \"B-ORGpart\", \"B-ORGderiv\", \"B-PERpart\", \"B-PERderiv\", \"B-MISCpart\", \"B-MISCderiv\",\n",
    "        \"I-LOCpart\", \"I-LOCderiv\", \"I-ORGpart\", \"I-ORGderiv\", \"I-PERpart\", \"I-PERderiv\", \"I-MISCpart\", \"I-MISCderiv\"]\n",
    "\n",
    "for tag in tags:\n",
    "    count = (news_train[\"Tag\"]==tag).sum()\n",
    "    print(f\"{tag}: {count}\")"
   ]
  },
  {
   "cell_type": "code",
   "execution_count": null,
   "metadata": {},
   "outputs": [],
   "source": []
  }
 ],
 "metadata": {
  "kernelspec": {
   "display_name": "base",
   "language": "python",
   "name": "python3"
  },
  "language_info": {
   "codemirror_mode": {
    "name": "ipython",
    "version": 3
   },
   "file_extension": ".py",
   "mimetype": "text/x-python",
   "name": "python",
   "nbconvert_exporter": "python",
   "pygments_lexer": "ipython3",
   "version": "3.11.5"
  }
 },
 "nbformat": 4,
 "nbformat_minor": 2
}
