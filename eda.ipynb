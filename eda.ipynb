{
 "cells": [
  {
   "cell_type": "code",
   "execution_count": 31,
   "id": "ef410018",
   "metadata": {},
   "outputs": [],
   "source": [
    "import pandas as pd\n",
    "from collections import Counter\n",
    "from scripts.load_data import extract_labeled_tokens, label_mapping, read_tsv_file"
   ]
  },
  {
   "cell_type": "code",
   "execution_count": 32,
   "id": "f4a97c5b",
   "metadata": {},
   "outputs": [],
   "source": [
    "# loading data sets with Pandas\n",
    "news_train = pd.read_csv(\"data/da_news/da_news_train.tsv\", sep=\"\\t\", header=None, names=[\"Token\", \"Tag\", \"Nested\"], usecols=[\"Token\", \"Tag\"])\n",
    "news_test = pd.read_csv(\"data/da_news/da_news_test.tsv\", sep=\"\\t\", header=None, names=[\"Token\", \"Tag\", \"Nested\"], usecols=[\"Token\", \"Tag\"])\n",
    "news_dev = pd.read_csv(\"data/da_news/da_news_dev.tsv\", sep=\"\\t\", header=None, names=[\"Token\", \"Tag\", \"Nested\"], usecols=[\"Token\", \"Tag\"], engine=\"python\", on_bad_lines=\"skip\")"
   ]
  },
  {
   "cell_type": "code",
   "execution_count": 35,
   "id": "e4fc0ea9",
   "metadata": {},
   "outputs": [],
   "source": [
    "# loading data sets as tsv\n",
    "path_train = \"data/da_news/da_news_train.tsv\"\n",
    "path_dev = \"data/da_news/da_news_dev.tsv\"\n",
    "path_test = \"data/da_news/da_news_test.tsv\"\n",
    "\n",
    "# create mapping\n",
    "label2id, id2label = label_mapping(path_train)\n",
    "\n",
    "# read in the DaN+ data\n",
    "train_data = read_tsv_file(path_train, label2id)\n",
    "dev_data = read_tsv_file(path_dev, label2id)\n",
    "test_data = read_tsv_file(path_test, label2id)"
   ]
  },
  {
   "cell_type": "markdown",
   "id": "0aa556c4",
   "metadata": {},
   "source": [
    "# Size and Token Overlap of Original Data"
   ]
  },
  {
   "cell_type": "code",
   "execution_count": 36,
   "id": "b90540b0",
   "metadata": {},
   "outputs": [
    {
     "name": "stdout",
     "output_type": "stream",
     "text": [
      "train size: 4383\n",
      "dev size: 564\n",
      "test size: 565\n",
      "total dataset size: 5512\n",
      "overlap between train and dev: 256\n",
      "overlap between dev and test: 78\n",
      "overlap between train and test: 219\n"
     ]
    }
   ],
   "source": [
    "# dataset sizes\n",
    "def check_dataset_sizes(train_data, dev_data, test_data):\n",
    "    total = len(train_data) + len(dev_data) + len(test_data)\n",
    "    print(\"train size:\", len(train_data))\n",
    "    print(\"dev size:\", len(dev_data))\n",
    "    print(\"test size:\", len(test_data))\n",
    "    print(\"total dataset size:\", total)\n",
    "\n",
    "# token overlap\n",
    "def check_token_overlap(train_data, dev_data, test_data):\n",
    "    train_tokens = extract_labeled_tokens(train_data)\n",
    "    dev_tokens = extract_labeled_tokens(dev_data)\n",
    "    test_tokens = extract_labeled_tokens(test_data)\n",
    "\n",
    "    print('overlap between train and dev:', len(train_tokens & dev_tokens))\n",
    "    print('overlap between dev and test:', len(dev_tokens & test_tokens))\n",
    "    print('overlap between train and test:', len(train_tokens & test_tokens))\n",
    "\n",
    "check_dataset_sizes(train_data, dev_data, test_data)\n",
    "check_token_overlap(train_data, dev_data, test_data)"
   ]
  },
  {
   "cell_type": "markdown",
   "id": "5a56a892",
   "metadata": {},
   "source": [
    "# Checking for Part and Deriv"
   ]
  },
  {
   "cell_type": "code",
   "execution_count": 13,
   "id": "5cf5f7c7",
   "metadata": {},
   "outputs": [
    {
     "name": "stdout",
     "output_type": "stream",
     "text": [
      "12.109955423476968\n"
     ]
    }
   ],
   "source": [
    "# frequency of part/deriv tags in training data\n",
    "part_deriv = news_train[\"Tag\"].str.contains(\"part|deriv\").sum()\n",
    "\n",
    "non_O_tag = (news_train[\"Tag\"] != \"O\").sum()\n",
    "\n",
    "print(part_deriv/non_O_tag*100)"
   ]
  },
  {
   "cell_type": "code",
   "execution_count": 14,
   "id": "0be1e062",
   "metadata": {},
   "outputs": [
    {
     "name": "stdout",
     "output_type": "stream",
     "text": [
      "B-LOCpart: 17\n",
      "B-LOCderiv: 232\n",
      "B-ORGpart: 51\n",
      "B-ORGderiv: 4\n",
      "B-PERpart: 6\n",
      "B-PERderiv: 1\n",
      "B-MISCpart: 13\n",
      "B-MISCderiv: 2\n",
      "I-LOCpart: 0\n",
      "I-LOCderiv: 0\n",
      "I-ORGpart: 0\n",
      "I-ORGderiv: 0\n",
      "I-PERpart: 0\n",
      "I-PERderiv: 0\n",
      "I-MISCpart: 0\n",
      "I-MISCderiv: 0\n"
     ]
    }
   ],
   "source": [
    "# number of part/deriv by type in training data\n",
    "tags = [\"B-LOCpart\", \"B-LOCderiv\", \"B-ORGpart\", \"B-ORGderiv\", \"B-PERpart\", \"B-PERderiv\", \"B-MISCpart\", \"B-MISCderiv\",\n",
    "        \"I-LOCpart\", \"I-LOCderiv\", \"I-ORGpart\", \"I-ORGderiv\", \"I-PERpart\", \"I-PERderiv\", \"I-MISCpart\", \"I-MISCderiv\"]\n",
    "\n",
    "for tag in tags:\n",
    "    count = (news_train[\"Tag\"]==tag).sum()\n",
    "    print(f\"{tag}: {count}\")"
   ]
  },
  {
   "cell_type": "markdown",
   "id": "c677b4b0",
   "metadata": {},
   "source": [
    "# Named Entity Distribution in Danish News Data"
   ]
  },
  {
   "cell_type": "code",
   "execution_count": 15,
   "id": "640fc4fb",
   "metadata": {},
   "outputs": [
    {
     "data": {
      "text/plain": [
       "747"
      ]
     },
     "execution_count": 15,
     "metadata": {},
     "output_type": "execute_result"
    }
   ],
   "source": [
    "# counting for B-PER\n",
    "((news_train[\"Tag\"] == 'B-PER').sum()+(news_test[\"Tag\"] == 'B-PER').sum()+(news_dev[\"Tag\"] == 'B-PER').sum())"
   ]
  },
  {
   "cell_type": "code",
   "execution_count": 16,
   "id": "a4cd8ef4",
   "metadata": {},
   "outputs": [
    {
     "data": {
      "text/plain": [
       "526"
      ]
     },
     "execution_count": 16,
     "metadata": {},
     "output_type": "execute_result"
    }
   ],
   "source": [
    "# counting for I-PER\n",
    "((news_train[\"Tag\"] == 'I-PER').sum()+(news_test[\"Tag\"] == 'I-PER').sum()+(news_dev[\"Tag\"] == 'I-PER').sum())"
   ]
  },
  {
   "cell_type": "code",
   "execution_count": 18,
   "id": "4dd8437e",
   "metadata": {},
   "outputs": [],
   "source": [
    "# counting the token length of locations\n",
    "def count_loc(tags):\n",
    "    i = 0\n",
    "    LOC_length = []\n",
    "\n",
    "    while i < len(tags):\n",
    "        if tags[i] == 'B-LOC':\n",
    "            length = 1  \n",
    "            i += 1\n",
    "            while i < len(tags) and tags[i] == 'I-LOC':\n",
    "                length += 1\n",
    "                i += 1\n",
    "            LOC_length.append(length)\n",
    "        else:\n",
    "            i += 1\n",
    "\n",
    "    return Counter(LOC_length)"
   ]
  },
  {
   "cell_type": "code",
   "execution_count": 19,
   "id": "f8c2d4f4",
   "metadata": {},
   "outputs": [
    {
     "data": {
      "text/plain": [
       "Counter({1: 388, 2: 27, 3: 3, 4: 2})"
      ]
     },
     "execution_count": 19,
     "metadata": {},
     "output_type": "execute_result"
    }
   ],
   "source": [
    "# length of tokens in train\n",
    "count_loc(news_train[\"Tag\"].tolist())"
   ]
  },
  {
   "cell_type": "code",
   "execution_count": 21,
   "id": "312830ca",
   "metadata": {},
   "outputs": [
    {
     "data": {
      "text/plain": [
       "Counter({1: 52, 2: 4})"
      ]
     },
     "execution_count": 21,
     "metadata": {},
     "output_type": "execute_result"
    }
   ],
   "source": [
    "# length of tokens in dev\n",
    "count_loc(news_dev[\"Tag\"].tolist())"
   ]
  },
  {
   "cell_type": "code",
   "execution_count": 20,
   "id": "cffaf2ce",
   "metadata": {},
   "outputs": [
    {
     "data": {
      "text/plain": [
       "Counter({1: 47})"
      ]
     },
     "execution_count": 20,
     "metadata": {},
     "output_type": "execute_result"
    }
   ],
   "source": [
    "# length of tokens in test\n",
    "count_loc(news_test[\"Tag\"].tolist())"
   ]
  },
  {
   "cell_type": "code",
   "execution_count": 22,
   "id": "d0eb8d67",
   "metadata": {},
   "outputs": [],
   "source": [
    "# counting the token length of locations\n",
    "def count_org(tags):\n",
    "    i = 0\n",
    "    ORG_length = []\n",
    "\n",
    "    while i < len(tags):\n",
    "        if tags[i] == 'B-ORG':\n",
    "            length = 1  \n",
    "            i += 1\n",
    "            while i < len(tags) and tags[i] == 'I-ORG':\n",
    "                length += 1\n",
    "                i += 1\n",
    "            ORG_length.append(length)\n",
    "        else:\n",
    "            i += 1\n",
    "\n",
    "    return Counter(ORG_length)"
   ]
  },
  {
   "cell_type": "code",
   "execution_count": 23,
   "id": "80584872",
   "metadata": {},
   "outputs": [
    {
     "data": {
      "text/plain": [
       "Counter({1: 260, 2: 102, 3: 48, 4: 6, 5: 1})"
      ]
     },
     "execution_count": 23,
     "metadata": {},
     "output_type": "execute_result"
    }
   ],
   "source": [
    "# length of tokens in train\n",
    "count_org(news_train[\"Tag\"].tolist())"
   ]
  },
  {
   "cell_type": "code",
   "execution_count": 24,
   "id": "53a27940",
   "metadata": {},
   "outputs": [
    {
     "data": {
      "text/plain": [
       "Counter({1: 36, 2: 7, 3: 4})"
      ]
     },
     "execution_count": 24,
     "metadata": {},
     "output_type": "execute_result"
    }
   ],
   "source": [
    "# length of tokens in dev\n",
    "count_org(news_dev[\"Tag\"].tolist())"
   ]
  },
  {
   "cell_type": "code",
   "execution_count": 25,
   "id": "c2937e9a",
   "metadata": {},
   "outputs": [
    {
     "data": {
      "text/plain": [
       "Counter({1: 35, 2: 21, 3: 5})"
      ]
     },
     "execution_count": 25,
     "metadata": {},
     "output_type": "execute_result"
    }
   ],
   "source": [
    "# length of tokens in test\n",
    "count_org(news_test[\"Tag\"].tolist())"
   ]
  }
 ],
 "metadata": {
  "kernelspec": {
   "display_name": "base",
   "language": "python",
   "name": "python3"
  },
  "language_info": {
   "codemirror_mode": {
    "name": "ipython",
    "version": 3
   },
   "file_extension": ".py",
   "mimetype": "text/x-python",
   "name": "python",
   "nbconvert_exporter": "python",
   "pygments_lexer": "ipython3",
   "version": "3.11.5"
  }
 },
 "nbformat": 4,
 "nbformat_minor": 5
}
