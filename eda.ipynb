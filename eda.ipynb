{
 "cells": [
  {
   "cell_type": "code",
   "execution_count": null,
   "id": "b90540b0",
   "metadata": {},
   "outputs": [],
   "source": [
    "\n",
    "# dataset sizes\n",
    "def check_dataset_sizes(train_data, dev_data, test_data):\n",
    "    total = len(train_data) + len(dev_data) + len(test_data)\n",
    "    print(\"train size:\", len(train_data))\n",
    "    print(\"dev size:\", len(dev_data))\n",
    "    print(\"test size:\", len(test_data))\n",
    "    print(\"total dataset size:\", total)\n",
    "\n",
    "# token overlap\n",
    "def check_token_overlap(train_data, dev_data, test_data):\n",
    "    train_tokens = extract_labeled_tokens(train_data)\n",
    "    dev_tokens = extract_labeled_tokens(dev_data)\n",
    "    test_tokens = extract_labeled_tokens(test_data)\n",
    "\n",
    "    print('overlap between train and dev:', len(train_tokens & dev_tokens))\n",
    "    print('overlap between dev and test:', len(dev_tokens & test_tokens))\n",
    "    print('overlap between train and test:', len(train_tokens & test_tokens))\n",
    "\n"
   ]
  }
 ],
 "metadata": {
  "language_info": {
   "name": "python"
  }
 },
 "nbformat": 4,
 "nbformat_minor": 5
}
