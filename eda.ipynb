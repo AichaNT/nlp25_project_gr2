{
 "cells": [
  {
   "cell_type": "code",
   "execution_count": 23,
   "id": "ef410018",
   "metadata": {},
   "outputs": [],
   "source": [
    "# imports\n",
    "import pandas as pd\n",
    "from collections import Counter\n",
    "from scripts.load_data import extract_labeled_tokens, label_mapping, read_tsv_file"
   ]
  },
  {
   "cell_type": "markdown",
   "id": "7df67e95",
   "metadata": {},
   "source": [
    "## Loading in the data"
   ]
  },
  {
   "cell_type": "code",
   "execution_count": 24,
   "id": "e281bacc",
   "metadata": {},
   "outputs": [],
   "source": [
    "# paths to the data\n",
    "path_train_original = \"data/da_news/da_news_train.tsv\"\n",
    "path_dev_original = \"data/da_news/da_news_dev.tsv\"\n",
    "path_test_original = \"data/da_news/da_news_test.tsv\"\n",
    "\n",
    "path_train_emerging = \"data/no_overlap_da_news/da_news_train.tsv\"\n",
    "path_dev_emerging = \"data/no_overlap_da_news/da_news_dev.tsv\"\n",
    "path_test_emerging = \"data/no_overlap_da_news/da_news_test.tsv\""
   ]
  },
  {
   "cell_type": "code",
   "execution_count": 25,
   "id": "52f53ebe",
   "metadata": {},
   "outputs": [],
   "source": [
    "# create mapping\n",
    "label2id, id2label = label_mapping(path_train_original)"
   ]
  },
  {
   "cell_type": "code",
   "execution_count": 26,
   "id": "adf3bd95",
   "metadata": {},
   "outputs": [],
   "source": [
    "# read in the datasets\n",
    "train_data_original = read_tsv_file(path_train_original, label2id)\n",
    "dev_data_original = read_tsv_file(path_dev_original, label2id)\n",
    "test_data_original = read_tsv_file(path_test_original, label2id)\n",
    "\n",
    "train_data_emerging = read_tsv_file(path_train_emerging, label2id)\n",
    "dev_data_emerging = read_tsv_file(path_dev_emerging, label2id)\n",
    "test_data_emerging = read_tsv_file(path_test_emerging, label2id)"
   ]
  },
  {
   "cell_type": "markdown",
   "id": "0aa556c4",
   "metadata": {},
   "source": [
    "# Exploration of token overlap of original data"
   ]
  },
  {
   "cell_type": "code",
   "execution_count": 28,
   "id": "b90540b0",
   "metadata": {},
   "outputs": [
    {
     "name": "stdout",
     "output_type": "stream",
     "text": [
      "overlap between train and dev: 256\n",
      "overlap between dev and test: 78\n",
      "overlap between train and test: 219\n"
     ]
    }
   ],
   "source": [
    "# checking for token overlap between the train, dev and test sets\n",
    "def check_token_overlap(train_data, dev_data, test_data):\n",
    "    train_tokens = extract_labeled_tokens(train_data)\n",
    "    dev_tokens = extract_labeled_tokens(dev_data)\n",
    "    test_tokens = extract_labeled_tokens(test_data)\n",
    "\n",
    "    print('overlap between train and dev:', len(train_tokens & dev_tokens))\n",
    "    print('overlap between dev and test:', len(dev_tokens & test_tokens))\n",
    "    print('overlap between train and test:', len(train_tokens & test_tokens))\n",
    "\n",
    "check_token_overlap(train_data_original, dev_data_original, test_data_original)"
   ]
  },
  {
   "cell_type": "markdown",
   "id": "3ed9fe35",
   "metadata": {},
   "source": [
    "# Sizes of the datasets before and after removing overlap"
   ]
  },
  {
   "cell_type": "code",
   "execution_count": 27,
   "id": "07440a49",
   "metadata": {},
   "outputs": [
    {
     "name": "stdout",
     "output_type": "stream",
     "text": [
      "Before emerging entities\n",
      "\tSize of training set: 4383\n",
      "\tSize of dev set: 564\n",
      "\tSize of test set: 565\n",
      "\n",
      "After emerging entities\n",
      "\tSize of training set: 4411\n",
      "\tSize of dev set: 549\n",
      "\tSize of test set: 552\n"
     ]
    }
   ],
   "source": [
    "print(\"Before removing overlap\")\n",
    "print('\\tSize of training set:', len(train_data_original))\n",
    "print('\\tSize of dev set:', len(dev_data_original))\n",
    "print('\\tSize of test set:', len(test_data_original))\n",
    "\n",
    "print(\"\\nAfter fixing overlap\")\n",
    "print('\\tSize of training set:', len(train_data_emerging))\n",
    "print('\\tSize of dev set:', len(dev_data_emerging))\n",
    "print('\\tSize of test set:', len(test_data_emerging))"
   ]
  },
  {
   "cell_type": "markdown",
   "id": "5a56a892",
   "metadata": {},
   "source": [
    "# Exploring occurence of -part and -deriv in original data"
   ]
  },
  {
   "cell_type": "code",
   "execution_count": 29,
   "id": "263b11a5",
   "metadata": {},
   "outputs": [],
   "source": [
    "# loading data sets with Pandas\n",
    "news_train = pd.read_csv(\"data/da_news/da_news_train.tsv\", sep=\"\\t\", header=None, names=[\"Token\", \"Tag\", \"Nested\"], usecols=[\"Token\", \"Tag\"])\n",
    "news_test = pd.read_csv(\"data/da_news/da_news_test.tsv\", sep=\"\\t\", header=None, names=[\"Token\", \"Tag\", \"Nested\"], usecols=[\"Token\", \"Tag\"])\n",
    "news_dev = pd.read_csv(\"data/da_news/da_news_dev.tsv\", sep=\"\\t\", header=None, names=[\"Token\", \"Tag\", \"Nested\"], usecols=[\"Token\", \"Tag\"], engine=\"python\", on_bad_lines=\"skip\")"
   ]
  },
  {
   "cell_type": "code",
   "execution_count": 30,
   "id": "5cf5f7c7",
   "metadata": {},
   "outputs": [
    {
     "name": "stdout",
     "output_type": "stream",
     "text": [
      "12.109955423476968\n"
     ]
    }
   ],
   "source": [
    "# percentage of part/deriv tags in original training data\n",
    "part_deriv = news_train[\"Tag\"].str.contains(\"part|deriv\").sum()\n",
    "\n",
    "non_O_tag = (news_train[\"Tag\"] != \"O\").sum()\n",
    "\n",
    "print(part_deriv/non_O_tag*100)"
   ]
  },
  {
   "cell_type": "code",
   "execution_count": 31,
   "id": "0be1e062",
   "metadata": {},
   "outputs": [
    {
     "name": "stdout",
     "output_type": "stream",
     "text": [
      "B-LOCpart: 17\n",
      "B-LOCderiv: 232\n",
      "B-ORGpart: 51\n",
      "B-ORGderiv: 4\n",
      "B-PERpart: 6\n",
      "B-PERderiv: 1\n",
      "B-MISCpart: 13\n",
      "B-MISCderiv: 2\n",
      "I-LOCpart: 0\n",
      "I-LOCderiv: 0\n",
      "I-ORGpart: 0\n",
      "I-ORGderiv: 0\n",
      "I-PERpart: 0\n",
      "I-PERderiv: 0\n",
      "I-MISCpart: 0\n",
      "I-MISCderiv: 0\n"
     ]
    }
   ],
   "source": [
    "# number of part/deriv by type in training data\n",
    "tags = [\"B-LOCpart\", \"B-LOCderiv\", \"B-ORGpart\", \"B-ORGderiv\", \"B-PERpart\", \"B-PERderiv\", \"B-MISCpart\", \"B-MISCderiv\",\n",
    "        \"I-LOCpart\", \"I-LOCderiv\", \"I-ORGpart\", \"I-ORGderiv\", \"I-PERpart\", \"I-PERderiv\", \"I-MISCpart\", \"I-MISCderiv\"]\n",
    "\n",
    "for tag in tags:\n",
    "    count = (news_train[\"Tag\"]==tag).sum()\n",
    "    print(f\"{tag}: {count}\")"
   ]
  },
  {
   "cell_type": "markdown",
   "id": "c677b4b0",
   "metadata": {},
   "source": [
    "# Counting length of LOC and ORG named entities in original data"
   ]
  },
  {
   "cell_type": "markdown",
   "id": "aafdc3f8",
   "metadata": {},
   "source": [
    "### Counting LOC"
   ]
  },
  {
   "cell_type": "code",
   "execution_count": 32,
   "id": "4dd8437e",
   "metadata": {},
   "outputs": [],
   "source": [
    "# counting the token length of locations\n",
    "def count_loc(tags):\n",
    "    '''\n",
    "    This function counts span lengths for named entities with -LOC tags\n",
    "    '''\n",
    "    i = 0\n",
    "    LOC_length = []\n",
    "\n",
    "    while i < len(tags):\n",
    "        if tags[i] == 'B-LOC':\n",
    "            length = 1  \n",
    "            i += 1\n",
    "            while i < len(tags) and tags[i] == 'I-LOC':\n",
    "                length += 1\n",
    "                i += 1\n",
    "            LOC_length.append(length)\n",
    "        else:\n",
    "            i += 1\n",
    "\n",
    "    return Counter(LOC_length)"
   ]
  },
  {
   "cell_type": "code",
   "execution_count": 33,
   "id": "f8c2d4f4",
   "metadata": {},
   "outputs": [
    {
     "data": {
      "text/plain": [
       "Counter({1: 388, 2: 27, 3: 3, 4: 2})"
      ]
     },
     "execution_count": 33,
     "metadata": {},
     "output_type": "execute_result"
    }
   ],
   "source": [
    "# length of tokens in train\n",
    "count_loc(news_train[\"Tag\"].tolist())"
   ]
  },
  {
   "cell_type": "code",
   "execution_count": 34,
   "id": "312830ca",
   "metadata": {},
   "outputs": [
    {
     "data": {
      "text/plain": [
       "Counter({1: 52, 2: 4})"
      ]
     },
     "execution_count": 34,
     "metadata": {},
     "output_type": "execute_result"
    }
   ],
   "source": [
    "# length of tokens in dev\n",
    "count_loc(news_dev[\"Tag\"].tolist())"
   ]
  },
  {
   "cell_type": "code",
   "execution_count": 35,
   "id": "cffaf2ce",
   "metadata": {},
   "outputs": [
    {
     "data": {
      "text/plain": [
       "Counter({1: 47})"
      ]
     },
     "execution_count": 35,
     "metadata": {},
     "output_type": "execute_result"
    }
   ],
   "source": [
    "# length of tokens in test\n",
    "count_loc(news_test[\"Tag\"].tolist())"
   ]
  },
  {
   "cell_type": "markdown",
   "id": "62939a18",
   "metadata": {},
   "source": [
    "### Counting ORG"
   ]
  },
  {
   "cell_type": "code",
   "execution_count": 36,
   "id": "d0eb8d67",
   "metadata": {},
   "outputs": [],
   "source": [
    "# counting the token length of organizations\n",
    "def count_org(tags):\n",
    "    '''\n",
    "    This function counts span lengths for named entities with -ORG tags\n",
    "    '''\n",
    "    i = 0\n",
    "    ORG_length = []\n",
    "\n",
    "    while i < len(tags):\n",
    "        if tags[i] == 'B-ORG':\n",
    "            length = 1  \n",
    "            i += 1\n",
    "            while i < len(tags) and tags[i] == 'I-ORG':\n",
    "                length += 1\n",
    "                i += 1\n",
    "            ORG_length.append(length)\n",
    "        else:\n",
    "            i += 1\n",
    "\n",
    "    return Counter(ORG_length)"
   ]
  },
  {
   "cell_type": "code",
   "execution_count": 37,
   "id": "80584872",
   "metadata": {},
   "outputs": [
    {
     "data": {
      "text/plain": [
       "Counter({1: 260, 2: 102, 3: 48, 4: 6, 5: 1})"
      ]
     },
     "execution_count": 37,
     "metadata": {},
     "output_type": "execute_result"
    }
   ],
   "source": [
    "# length of tokens in train\n",
    "count_org(news_train[\"Tag\"].tolist())"
   ]
  },
  {
   "cell_type": "code",
   "execution_count": 38,
   "id": "53a27940",
   "metadata": {},
   "outputs": [
    {
     "data": {
      "text/plain": [
       "Counter({1: 36, 2: 7, 3: 4})"
      ]
     },
     "execution_count": 38,
     "metadata": {},
     "output_type": "execute_result"
    }
   ],
   "source": [
    "# length of tokens in dev\n",
    "count_org(news_dev[\"Tag\"].tolist())"
   ]
  },
  {
   "cell_type": "code",
   "execution_count": 39,
   "id": "c2937e9a",
   "metadata": {},
   "outputs": [
    {
     "data": {
      "text/plain": [
       "Counter({1: 35, 2: 21, 3: 5})"
      ]
     },
     "execution_count": 39,
     "metadata": {},
     "output_type": "execute_result"
    }
   ],
   "source": [
    "# length of tokens in test\n",
    "count_org(news_test[\"Tag\"].tolist())"
   ]
  },
  {
   "cell_type": "markdown",
   "id": "bce2111c",
   "metadata": {},
   "source": [
    "# Named Entity Distribution in Original Data"
   ]
  },
  {
   "cell_type": "code",
   "execution_count": 46,
   "id": "690c67da",
   "metadata": {},
   "outputs": [],
   "source": [
    "# counting the occurence of a specific NER tag in the data\n",
    "def count_tag(data, specific_tag):\n",
    "    '''\n",
    "    This function counts the number of times a specific NER tag appears in the data.\n",
    "    '''\n",
    "    return sum(tag == specific_tag for sentence in data for tag in sentence[\"ner_tags\"])\n",
    "\n",
    "# counting the total number of NER tags\n",
    "def total_tags(data):\n",
    "    '''\n",
    "    This function counts the total number of NER tags in the data.\n",
    "    '''\n",
    "    return sum(len(sentence[\"ner_tags\"]) for sentence in data)\n",
    "\n",
    "# defining the NER tags\n",
    "NER_tags = [\"B-PER\", \"I-PER\", \"B-ORG\", \"I-ORG\", \"B-LOC\", \"I-LOC\", \"B-MISC\", \"I-MISC\", \"O\"]\n",
    "\n",
    "# printing count and percentage of each NER tag in the dataset\n",
    "def counts_and_percentages(data):\n",
    "    '''\n",
    "    This function counts and prints the occurence of each NER tag and calculates the percentage of each tag relative to the total number of tags in the dataset.\n",
    "    '''\n",
    "    total = total_tags(data)\n",
    "    for tag in NER_tags:\n",
    "        count = count_tag(data, tag)\n",
    "        percentage = (count / total) * 100 \n",
    "        print(f\"{tag}: {count} ({percentage:.2f}%)\")\n",
    "\n",
    "# printing results for overlapping data\n",
    "counts_and_percentages(train_data_original)\n",
    "counts_and_percentages(dev_data_original)\n",
    "counts_and_percentages(test_data_original)"
   ]
  },
  {
   "cell_type": "markdown",
   "id": "51a1ba99",
   "metadata": {},
   "source": [
    "# Named Entity Distribution in Non-Overlapping Data"
   ]
  },
  {
   "cell_type": "code",
   "execution_count": 48,
   "id": "2d561897",
   "metadata": {},
   "outputs": [
    {
     "name": "stdout",
     "output_type": "stream",
     "text": [
      "B-PER: 1353 (1.65%)\n",
      "I-PER: 1039 (1.27%)\n",
      "B-ORG: 891 (1.09%)\n",
      "I-ORG: 507 (0.62%)\n",
      "B-LOC: 898 (1.10%)\n",
      "I-LOC: 78 (0.10%)\n",
      "B-MISC: 260 (0.32%)\n",
      "I-MISC: 285 (0.35%)\n",
      "O: 76593 (93.52%)\n",
      "B-PER: 94 (0.99%)\n",
      "I-PER: 30 (0.32%)\n",
      "B-ORG: 85 (0.90%)\n",
      "I-ORG: 21 (0.22%)\n",
      "B-LOC: 70 (0.74%)\n",
      "I-LOC: 8 (0.08%)\n",
      "B-MISC: 60 (0.63%)\n",
      "I-MISC: 17 (0.18%)\n",
      "O: 9094 (95.94%)\n",
      "B-PER: 117 (1.25%)\n",
      "I-PER: 53 (0.57%)\n",
      "B-ORG: 82 (0.88%)\n",
      "I-ORG: 28 (0.30%)\n",
      "B-LOC: 58 (0.62%)\n",
      "I-LOC: 6 (0.06%)\n",
      "B-MISC: 35 (0.37%)\n",
      "I-MISC: 13 (0.14%)\n",
      "O: 8958 (95.81%)\n"
     ]
    }
   ],
   "source": [
    "# printing results for non-overlapping data\n",
    "counts_and_percentages(train_data_emerging)\n",
    "counts_and_percentages(dev_data_emerging)\n",
    "counts_and_percentages(test_data_emerging)"
   ]
  }
 ],
 "metadata": {
  "kernelspec": {
   "display_name": "NLP",
   "language": "python",
   "name": "python3"
  },
  "language_info": {
   "codemirror_mode": {
    "name": "ipython",
    "version": 3
   },
   "file_extension": ".py",
   "mimetype": "text/x-python",
   "name": "python",
   "nbconvert_exporter": "python",
   "pygments_lexer": "ipython3",
   "version": "3.11.5"
  }
 },
 "nbformat": 4,
 "nbformat_minor": 5
}
